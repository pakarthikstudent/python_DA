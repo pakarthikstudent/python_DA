{
 "cells": [
  {
   "cell_type": "code",
   "execution_count": null,
   "id": "715b93f7",
   "metadata": {},
   "outputs": [],
   "source": [
    "\n",
    "list/tuple - collection of ordered items - index based \n",
    "\n",
    "L=['D1','D2',10,1.3]  =>   | D1  |  D2  | 10  | 1.3  |\n",
    "                           |  0  |   1  |  2  |  3   | <== Index\n",
    "dict - like Hash \n",
    "\\__ Collection of unordered item(key:value)\n",
    "\n",
    "Syntax:-\n",
    "--------\n",
    "dictName = {'Key1':Value,'Key2':Value,...'Kn':Vn} \n",
    "\n",
    "    +-------------------------------+\n",
    "    |   Key       |     Value       |\n",
    "    +-------------|-----------------+\n",
    "    |   Key1      |     Value1      |\n",
    "    +-------------|-----------------|\n",
    "    |   Key2      |     Value2      |\n",
    "    +-------------|-----------------|\n",
    "       ..                 .\n",
    "    |   KeyN      |      ValueN     |\n",
    "    +-------------------------------+"
   ]
  },
  {
   "cell_type": "code",
   "execution_count": 9,
   "id": "01282a18",
   "metadata": {},
   "outputs": [
    {
     "name": "stdout",
     "output_type": "stream",
     "text": [
      "<class 'dict'>\n",
      "4\n",
      "{'pID': 101, 'pName': 'prodA', 'pCost': 4500, 'pStatus': True}\n"
     ]
    }
   ],
   "source": [
    "prod_info = {'pID':101,'pName':'prodA','pCost':4500,'pStatus':True}\n",
    "print(type(prod_info))\n",
    "print(len(prod_info))\n",
    "print(prod_info)"
   ]
  },
  {
   "cell_type": "code",
   "execution_count": 4,
   "id": "7ee77f20",
   "metadata": {},
   "outputs": [
    {
     "name": "stdout",
     "output_type": "stream",
     "text": [
      "101\n"
     ]
    },
    {
     "ename": "KeyError",
     "evalue": "'pid'",
     "output_type": "error",
     "traceback": [
      "\u001b[1;31m---------------------------------------------------------------------------\u001b[0m",
      "\u001b[1;31mKeyError\u001b[0m                                  Traceback (most recent call last)",
      "Cell \u001b[1;32mIn[4], line 5\u001b[0m\n\u001b[0;32m      1\u001b[0m \u001b[38;5;66;03m# how to get single value from dict\u001b[39;00m\n\u001b[0;32m      2\u001b[0m \u001b[38;5;66;03m#  dictName['Key'] ->Value / KeyError\u001b[39;00m\n\u001b[0;32m      4\u001b[0m \u001b[38;5;28mprint\u001b[39m(prod_info[\u001b[38;5;124m'\u001b[39m\u001b[38;5;124mpID\u001b[39m\u001b[38;5;124m'\u001b[39m])\n\u001b[1;32m----> 5\u001b[0m \u001b[38;5;28mprint\u001b[39m(prod_info[\u001b[38;5;124m'\u001b[39m\u001b[38;5;124mpid\u001b[39m\u001b[38;5;124m'\u001b[39m])\n",
      "\u001b[1;31mKeyError\u001b[0m: 'pid'"
     ]
    }
   ],
   "source": [
    "# how to get single value from dict\n",
    "#  dictName['Key'] ->Value / KeyError\n",
    "\n",
    "print(prod_info['pID'])\n",
    "print(prod_info['pid'])"
   ]
  },
  {
   "cell_type": "code",
   "execution_count": 5,
   "id": "2f6301d4",
   "metadata": {},
   "outputs": [
    {
     "name": "stdout",
     "output_type": "stream",
     "text": [
      "{10: 'V1', 1.0: 'V2', (): 'V3'}\n"
     ]
    }
   ],
   "source": [
    "d={10:'V1',1.0:50,True:'V2',():'V3'}\n",
    "print(d)"
   ]
  },
  {
   "cell_type": "code",
   "execution_count": 10,
   "id": "ca9ec953",
   "metadata": {},
   "outputs": [
    {
     "name": "stdout",
     "output_type": "stream",
     "text": [
      "{'pID': 101, 'pName': 'prodA', 'pCost': 4500, 'pStatus': True}\n"
     ]
    }
   ],
   "source": [
    "print(prod_info)"
   ]
  },
  {
   "cell_type": "code",
   "execution_count": 11,
   "id": "395b6adc",
   "metadata": {},
   "outputs": [
    {
     "name": "stdout",
     "output_type": "stream",
     "text": [
      "4500\n",
      "{'pID': 101, 'pName': 'prodA', 'pCost': 5600, 'pStatus': True}\n"
     ]
    }
   ],
   "source": [
    "print(prod_info['pCost'])\n",
    "prod_info['pCost']=5600 # we can modify dict value - using existing key\n",
    "print(prod_info)"
   ]
  },
  {
   "cell_type": "code",
   "execution_count": 14,
   "id": "49b4c79c",
   "metadata": {},
   "outputs": [
    {
     "name": "stdout",
     "output_type": "stream",
     "text": [
      "<class 'int'> <class 'list'> <class 'dict'>\n"
     ]
    }
   ],
   "source": [
    "# python supports multiple initialization\n",
    "v1,v2,v3 = 10,[],{}\n",
    "print(type(v1),type(v2),type(v3))"
   ]
  },
  {
   "cell_type": "code",
   "execution_count": 15,
   "id": "6115bf04",
   "metadata": {},
   "outputs": [
    {
     "name": "stdout",
     "output_type": "stream",
     "text": [
      "D1\n",
      "D2\n",
      "D3\n"
     ]
    }
   ],
   "source": [
    "L=['D1','D2','D3']\n",
    "va,vb,vc = L  # multiple initialization\n",
    "print(va)\n",
    "print(vb)\n",
    "print(vc)"
   ]
  },
  {
   "cell_type": "code",
   "execution_count": 17,
   "id": "d173d650",
   "metadata": {},
   "outputs": [
    {
     "ename": "ValueError",
     "evalue": "not enough values to unpack (expected 4, got 3)",
     "output_type": "error",
     "traceback": [
      "\u001b[1;31m---------------------------------------------------------------------------\u001b[0m",
      "\u001b[1;31mValueError\u001b[0m                                Traceback (most recent call last)",
      "Cell \u001b[1;32mIn[17], line 1\u001b[0m\n\u001b[1;32m----> 1\u001b[0m v1,v2,v3,v4\u001b[38;5;241m=\u001b[39m\u001b[38;5;241m10\u001b[39m,\u001b[38;5;241m20\u001b[39m,\u001b[38;5;241m30\u001b[39m\n",
      "\u001b[1;31mValueError\u001b[0m: not enough values to unpack (expected 4, got 3)"
     ]
    }
   ],
   "source": [
    "v1,v2,v3,v4=10,20,30"
   ]
  },
  {
   "cell_type": "code",
   "execution_count": 12,
   "id": "fd9bd387",
   "metadata": {},
   "outputs": [],
   "source": [
    "prod_info['pName'],prod_info['pCost'] = 'prodB',6000"
   ]
  },
  {
   "cell_type": "code",
   "execution_count": 13,
   "id": "91a010e0",
   "metadata": {},
   "outputs": [
    {
     "name": "stdout",
     "output_type": "stream",
     "text": [
      "{'pID': 101, 'pName': 'prodB', 'pCost': 6000, 'pStatus': True}\n"
     ]
    }
   ],
   "source": [
    "print(prod_info)"
   ]
  },
  {
   "cell_type": "code",
   "execution_count": null,
   "id": "51969a59",
   "metadata": {},
   "outputs": [],
   "source": [
    "# To add new data(key:value) to an existing dict\n",
    "dictName['newKey'] = value\n",
    "\n",
    "# To modify an existing value from dict\n",
    "dictName['oldKey'] = updatedValue"
   ]
  },
  {
   "cell_type": "code",
   "execution_count": 18,
   "id": "05f412ac",
   "metadata": {},
   "outputs": [
    {
     "name": "stdout",
     "output_type": "stream",
     "text": [
      "{'pID': 101, 'pName': 'prodB', 'pCost': 6000, 'pStatus': True}\n"
     ]
    }
   ],
   "source": [
    "print(prod_info)"
   ]
  },
  {
   "cell_type": "code",
   "execution_count": 19,
   "id": "c6f6b82d",
   "metadata": {},
   "outputs": [],
   "source": [
    "prod_info['pVendor'] = 'Klabs' # adding new data\n",
    "prod_info['pCost']  = 5467     # modifing an existing value"
   ]
  },
  {
   "cell_type": "code",
   "execution_count": 20,
   "id": "e870130a",
   "metadata": {},
   "outputs": [
    {
     "name": "stdout",
     "output_type": "stream",
     "text": [
      "{'pID': 101, 'pName': 'prodB', 'pCost': 5467, 'pStatus': True, 'pVendor': 'Klabs'}\n"
     ]
    }
   ],
   "source": [
    "print(prod_info)"
   ]
  },
  {
   "cell_type": "code",
   "execution_count": 21,
   "id": "a5073a91",
   "metadata": {},
   "outputs": [
    {
     "name": "stdout",
     "output_type": "stream",
     "text": [
      "D1\n",
      "10\n",
      "20\n",
      "30\n"
     ]
    }
   ],
   "source": [
    "L=['D1',10,20,30]\n",
    "for var in L:\n",
    "    print(var)"
   ]
  },
  {
   "cell_type": "code",
   "execution_count": 22,
   "id": "881cfab6",
   "metadata": {},
   "outputs": [
    {
     "name": "stdout",
     "output_type": "stream",
     "text": [
      "pID\n",
      "pName\n",
      "pCost\n",
      "pStatus\n",
      "pVendor\n"
     ]
    }
   ],
   "source": [
    "for var in prod_info:\n",
    "    print(var)"
   ]
  },
  {
   "cell_type": "code",
   "execution_count": 23,
   "id": "ac2f49cb",
   "metadata": {},
   "outputs": [
    {
     "name": "stdout",
     "output_type": "stream",
     "text": [
      "101\n"
     ]
    }
   ],
   "source": [
    "print(prod_info['pID'])"
   ]
  },
  {
   "cell_type": "code",
   "execution_count": 24,
   "id": "bbf8f80d",
   "metadata": {},
   "outputs": [
    {
     "name": "stdout",
     "output_type": "stream",
     "text": [
      "101\n",
      "prodB\n",
      "5467\n",
      "True\n",
      "Klabs\n"
     ]
    }
   ],
   "source": [
    "for var in prod_info:\n",
    "    print(prod_info[var])"
   ]
  },
  {
   "cell_type": "code",
   "execution_count": 26,
   "id": "d96e0dc1",
   "metadata": {},
   "outputs": [
    {
     "name": "stdout",
     "output_type": "stream",
     "text": [
      "pID - 101\n",
      "pName - prodB\n",
      "pCost - 5467\n",
      "pStatus - True\n",
      "pVendor - Klabs\n"
     ]
    }
   ],
   "source": [
    "for var in prod_info:\n",
    "    print(f'{var} - {prod_info[var]}')"
   ]
  },
  {
   "cell_type": "code",
   "execution_count": null,
   "id": "3c5c0d2d",
   "metadata": {},
   "outputs": [],
   "source": [
    "# To get single data from dict\n",
    "\n",
    "#dictName['oldKey'] ->Value / KeyError <or> dictName.get('oldKey') ->Value/None"
   ]
  },
  {
   "cell_type": "code",
   "execution_count": 27,
   "id": "e3ccd740",
   "metadata": {},
   "outputs": [
    {
     "ename": "KeyError",
     "evalue": "'pid'",
     "output_type": "error",
     "traceback": [
      "\u001b[1;31m---------------------------------------------------------------------------\u001b[0m",
      "\u001b[1;31mKeyError\u001b[0m                                  Traceback (most recent call last)",
      "Cell \u001b[1;32mIn[27], line 1\u001b[0m\n\u001b[1;32m----> 1\u001b[0m \u001b[38;5;28mprint\u001b[39m(prod_info[\u001b[38;5;124m'\u001b[39m\u001b[38;5;124mpid\u001b[39m\u001b[38;5;124m'\u001b[39m])\n",
      "\u001b[1;31mKeyError\u001b[0m: 'pid'"
     ]
    }
   ],
   "source": [
    "print(prod_info['pid'])"
   ]
  },
  {
   "cell_type": "code",
   "execution_count": 28,
   "id": "9c89ce65",
   "metadata": {},
   "outputs": [
    {
     "name": "stdout",
     "output_type": "stream",
     "text": [
      "None\n"
     ]
    }
   ],
   "source": [
    "print(prod_info.get('pid'))"
   ]
  },
  {
   "cell_type": "code",
   "execution_count": 29,
   "id": "5342b825",
   "metadata": {},
   "outputs": [
    {
     "name": "stdout",
     "output_type": "stream",
     "text": [
      "101\n"
     ]
    }
   ],
   "source": [
    "print(prod_info.get('pID'))"
   ]
  },
  {
   "cell_type": "code",
   "execution_count": 30,
   "id": "8e294198",
   "metadata": {},
   "outputs": [
    {
     "name": "stdout",
     "output_type": "stream",
     "text": [
      "{'K1': 'V1', 'K2': 10, 'K3': 45.23, 'K4': True}\n"
     ]
    }
   ],
   "source": [
    "d={} # empty dict\n",
    "\n",
    "# To add new data to an existing dict\n",
    "#\n",
    "# dictName['newKey']=value <or> dictName.setdefault('newKey',Value)\n",
    "\n",
    "d['K1']='V1' # adding new data\n",
    "d['K2']=10   # adding new data\n",
    "\n",
    "d.setdefault('K3',45.23) # adding new data\n",
    "d.setdefault('K4',True)  # adding new data\n",
    "print(d)\n"
   ]
  },
  {
   "cell_type": "code",
   "execution_count": 31,
   "id": "69818820",
   "metadata": {},
   "outputs": [
    {
     "name": "stdout",
     "output_type": "stream",
     "text": [
      "{'K1': 'index.html', 'K2': 10, 'K3': 'network.conf', 'K4': True}\n"
     ]
    }
   ],
   "source": [
    "d['K1']='index.html'\n",
    "d['K3']='network.conf'\n",
    "print(d)"
   ]
  },
  {
   "cell_type": "code",
   "execution_count": 32,
   "id": "f3f3fa5c",
   "metadata": {},
   "outputs": [
    {
     "name": "stdout",
     "output_type": "stream",
     "text": [
      "K1\n",
      "K2\n",
      "K3\n",
      "K4\n"
     ]
    }
   ],
   "source": [
    "# to get list of keys from dict\n",
    "for var in d:\n",
    "    print(var)"
   ]
  },
  {
   "cell_type": "code",
   "execution_count": 33,
   "id": "188e5d71",
   "metadata": {},
   "outputs": [
    {
     "data": {
      "text/plain": [
       "dict_keys(['K1', 'K2', 'K3', 'K4'])"
      ]
     },
     "execution_count": 33,
     "metadata": {},
     "output_type": "execute_result"
    }
   ],
   "source": [
    "d.keys() # to get list of keys from dict"
   ]
  },
  {
   "cell_type": "code",
   "execution_count": 34,
   "id": "f48df989",
   "metadata": {},
   "outputs": [
    {
     "name": "stdout",
     "output_type": "stream",
     "text": [
      "K1\n",
      "K2\n",
      "K3\n",
      "K4\n"
     ]
    }
   ],
   "source": [
    "for var in d.keys():\n",
    "    print(var)"
   ]
  },
  {
   "cell_type": "code",
   "execution_count": null,
   "id": "2243620d",
   "metadata": {},
   "outputs": [],
   "source": [
    "d.get() d.setdefault() d.keys()"
   ]
  },
  {
   "cell_type": "code",
   "execution_count": 35,
   "id": "02e306e4",
   "metadata": {},
   "outputs": [
    {
     "data": {
      "text/plain": [
       "'index.html'"
      ]
     },
     "execution_count": 35,
     "metadata": {},
     "output_type": "execute_result"
    }
   ],
   "source": [
    "# how to delete nth item from dict\n",
    "# dictname.pop('oldKey') ->removed_Value\n",
    "d.pop('K1')"
   ]
  },
  {
   "cell_type": "code",
   "execution_count": 36,
   "id": "cfe9346c",
   "metadata": {},
   "outputs": [
    {
     "name": "stdout",
     "output_type": "stream",
     "text": [
      "{'K2': 10, 'K3': 'network.conf', 'K4': True}\n"
     ]
    }
   ],
   "source": [
    "print(d)"
   ]
  },
  {
   "cell_type": "code",
   "execution_count": null,
   "id": "909b391c",
   "metadata": {},
   "outputs": [],
   "source": [
    "# membership operators(inputs: str,bytes,list,tuple,dict,set) ->output_bool\n",
    "#  in not in                                                   (True False)\n",
    "#\n",
    "# 'search_Pattern_string' in input_Collection ->bool"
   ]
  },
  {
   "cell_type": "code",
   "execution_count": 37,
   "id": "578f71d8",
   "metadata": {},
   "outputs": [
    {
     "data": {
      "text/plain": [
       "True"
      ]
     },
     "execution_count": 37,
     "metadata": {},
     "output_type": "execute_result"
    }
   ],
   "source": [
    "s='root:x:bin'\n",
    "'bin' in s"
   ]
  },
  {
   "cell_type": "code",
   "execution_count": 38,
   "id": "849b0f90",
   "metadata": {},
   "outputs": [
    {
     "data": {
      "text/plain": [
       "True"
      ]
     },
     "execution_count": 38,
     "metadata": {},
     "output_type": "execute_result"
    }
   ],
   "source": [
    "'x' in s"
   ]
  },
  {
   "cell_type": "code",
   "execution_count": 40,
   "id": "04465719",
   "metadata": {},
   "outputs": [
    {
     "data": {
      "text/plain": [
       "False"
      ]
     },
     "execution_count": 40,
     "metadata": {},
     "output_type": "execute_result"
    }
   ],
   "source": [
    "'X' in s"
   ]
  },
  {
   "cell_type": "code",
   "execution_count": 41,
   "id": "a3102939",
   "metadata": {},
   "outputs": [
    {
     "data": {
      "text/plain": [
       "True"
      ]
     },
     "execution_count": 41,
     "metadata": {},
     "output_type": "execute_result"
    }
   ],
   "source": [
    "'sales' == 'sales'"
   ]
  },
  {
   "cell_type": "code",
   "execution_count": 42,
   "id": "5da8e387",
   "metadata": {},
   "outputs": [
    {
     "data": {
      "text/plain": [
       "True"
      ]
     },
     "execution_count": 42,
     "metadata": {},
     "output_type": "execute_result"
    }
   ],
   "source": [
    "'sales' in 'sales'"
   ]
  },
  {
   "cell_type": "code",
   "execution_count": 43,
   "id": "535acf82",
   "metadata": {},
   "outputs": [
    {
     "data": {
      "text/plain": [
       "False"
      ]
     },
     "execution_count": 43,
     "metadata": {},
     "output_type": "execute_result"
    }
   ],
   "source": [
    "'sales,' == 'sales'"
   ]
  },
  {
   "cell_type": "code",
   "execution_count": 44,
   "id": "155cb412",
   "metadata": {},
   "outputs": [
    {
     "data": {
      "text/plain": [
       "True"
      ]
     },
     "execution_count": 44,
     "metadata": {},
     "output_type": "execute_result"
    }
   ],
   "source": [
    "'sales' in 'raj,sales,pune,1234'"
   ]
  },
  {
   "cell_type": "code",
   "execution_count": 45,
   "id": "43489e72",
   "metadata": {},
   "outputs": [
    {
     "data": {
      "text/plain": [
       "['D1', 10, 20, 30]"
      ]
     },
     "execution_count": 45,
     "metadata": {},
     "output_type": "execute_result"
    }
   ],
   "source": [
    "L"
   ]
  },
  {
   "cell_type": "code",
   "execution_count": 46,
   "id": "409cce3a",
   "metadata": {},
   "outputs": [
    {
     "data": {
      "text/plain": [
       "True"
      ]
     },
     "execution_count": 46,
     "metadata": {},
     "output_type": "execute_result"
    }
   ],
   "source": [
    "'D1' in L"
   ]
  },
  {
   "cell_type": "code",
   "execution_count": 47,
   "id": "816f2e92",
   "metadata": {},
   "outputs": [
    {
     "data": {
      "text/plain": [
       "False"
      ]
     },
     "execution_count": 47,
     "metadata": {},
     "output_type": "execute_result"
    }
   ],
   "source": [
    "'Dx' in L"
   ]
  },
  {
   "cell_type": "code",
   "execution_count": 48,
   "id": "d7b3d861",
   "metadata": {},
   "outputs": [
    {
     "data": {
      "text/plain": [
       "{'K2': 10, 'K3': 'network.conf', 'K4': True}"
      ]
     },
     "execution_count": 48,
     "metadata": {},
     "output_type": "execute_result"
    }
   ],
   "source": [
    "d"
   ]
  },
  {
   "cell_type": "code",
   "execution_count": 49,
   "id": "dd8b6218",
   "metadata": {},
   "outputs": [
    {
     "data": {
      "text/plain": [
       "True"
      ]
     },
     "execution_count": 49,
     "metadata": {},
     "output_type": "execute_result"
    }
   ],
   "source": [
    "'K2' in d"
   ]
  },
  {
   "cell_type": "code",
   "execution_count": 50,
   "id": "d2623ee6",
   "metadata": {},
   "outputs": [
    {
     "data": {
      "text/plain": [
       "False"
      ]
     },
     "execution_count": 50,
     "metadata": {},
     "output_type": "execute_result"
    }
   ],
   "source": [
    "'K1' in d"
   ]
  },
  {
   "cell_type": "code",
   "execution_count": 51,
   "id": "69efdb3a",
   "metadata": {},
   "outputs": [
    {
     "name": "stdout",
     "output_type": "stream",
     "text": [
      "Yes D1 is exists\n"
     ]
    }
   ],
   "source": [
    "if('D1' in L):\n",
    "    print('Yes D1 is exists')\n",
    "else:\n",
    "    print('Sorry D1 is not exists')"
   ]
  },
  {
   "cell_type": "code",
   "execution_count": 52,
   "id": "9235a933",
   "metadata": {},
   "outputs": [
    {
     "data": {
      "text/plain": [
       "{'K2': 10, 'K3': 'network.conf', 'K4': True}"
      ]
     },
     "execution_count": 52,
     "metadata": {},
     "output_type": "execute_result"
    }
   ],
   "source": [
    "d"
   ]
  },
  {
   "cell_type": "code",
   "execution_count": 54,
   "id": "1b2dc563",
   "metadata": {},
   "outputs": [
    {
     "name": "stdout",
     "output_type": "stream",
     "text": [
      "None\n"
     ]
    }
   ],
   "source": [
    "print(d.get('K1'))"
   ]
  },
  {
   "cell_type": "code",
   "execution_count": 55,
   "id": "379343a0",
   "metadata": {},
   "outputs": [
    {
     "data": {
      "text/plain": [
       "False"
      ]
     },
     "execution_count": 55,
     "metadata": {},
     "output_type": "execute_result"
    }
   ],
   "source": [
    "'K1' in d"
   ]
  },
  {
   "cell_type": "code",
   "execution_count": 56,
   "id": "164a8a74",
   "metadata": {},
   "outputs": [
    {
     "name": "stdout",
     "output_type": "stream",
     "text": [
      "False False False False False False False\n"
     ]
    }
   ],
   "source": [
    "print(bool(0),bool(0.0),bool(''),bool([]),bool(()),bool({}),bool(None))"
   ]
  },
  {
   "cell_type": "code",
   "execution_count": 57,
   "id": "ddeeb6d6",
   "metadata": {},
   "outputs": [
    {
     "name": "stdout",
     "output_type": "stream",
     "text": [
      "No\n"
     ]
    }
   ],
   "source": [
    "n=0\n",
    "if(n):\n",
    "    print('Yes')\n",
    "else:\n",
    "    print('No')"
   ]
  },
  {
   "cell_type": "code",
   "execution_count": 58,
   "id": "215fb3b1",
   "metadata": {},
   "outputs": [
    {
     "name": "stdout",
     "output_type": "stream",
     "text": [
      "True True True\n"
     ]
    }
   ],
   "source": [
    "print(bool(-1),bool(1),bool(342342423423))"
   ]
  },
  {
   "cell_type": "code",
   "execution_count": 59,
   "id": "6b2305c9",
   "metadata": {},
   "outputs": [
    {
     "name": "stdout",
     "output_type": "stream",
     "text": [
      "Yes\n"
     ]
    }
   ],
   "source": [
    "n=1\n",
    "if(n):\n",
    "    print('Yes')\n",
    "else:\n",
    "    print('No')"
   ]
  },
  {
   "cell_type": "code",
   "execution_count": 60,
   "id": "7f75f73a",
   "metadata": {},
   "outputs": [
    {
     "name": "stdout",
     "output_type": "stream",
     "text": [
      "Sorry Key K1 is not exists from d\n"
     ]
    }
   ],
   "source": [
    "if(d.get('K1')):\n",
    "    print('Yes given key K1 is exists')\n",
    "    print(d['K1'])\n",
    "    d['K1']='updated_value'\n",
    "else:\n",
    "    print('Sorry Key K1 is not exists from d')"
   ]
  },
  {
   "cell_type": "code",
   "execution_count": 61,
   "id": "b7428e8c",
   "metadata": {},
   "outputs": [
    {
     "name": "stdout",
     "output_type": "stream",
     "text": [
      "Sorry Key K1 is not exists from d\n"
     ]
    }
   ],
   "source": [
    "if('K1' in d):\n",
    "    print('Yes given key K1 is exists')\n",
    "    print(d['K1'])\n",
    "    d['K1']='updated_value'\n",
    "else:\n",
    "    print('Sorry Key K1 is not exists from d')    "
   ]
  },
  {
   "cell_type": "code",
   "execution_count": null,
   "id": "de681c63",
   "metadata": {},
   "outputs": [],
   "source": [
    "Write a python program:\n",
    "    create an emp dict -> net_property = {}\n",
    "    |\n",
    "    using while loop - limit 3 \n",
    "         -> read network property key from <STDIN>(ex: Type,IP,boot_proto)\n",
    "         -> read network property value from <STDIN>(ex: Ethernet,10.20.30.40,yes)\n",
    "         -> add input data to dict\n",
    "             property_key ->dict_key ; property_value ->dict_value\n",
    "\n",
    "    |\n",
    "    using for loop - display list of key - value from dict\n",
    "    |\n",
    "    test Key 'IP' is exists or not\n",
    "                      |         \\___ key is not exists\n",
    "                  update IP Address and display updated dict details to monitor"
   ]
  },
  {
   "cell_type": "code",
   "execution_count": 62,
   "id": "a449e2dc",
   "metadata": {},
   "outputs": [
    {
     "name": "stdout",
     "output_type": "stream",
     "text": [
      "{'Type': 'Ethernet'}\n"
     ]
    }
   ],
   "source": [
    "d={}\n",
    "s1='Type'\n",
    "s2='Ethernet'\n",
    "\n",
    "d[s1] = s2 # d.setdefault(s1,s2)\n",
    "print(d)"
   ]
  },
  {
   "cell_type": "code",
   "execution_count": 63,
   "id": "f51b517d",
   "metadata": {},
   "outputs": [
    {
     "name": "stdout",
     "output_type": "stream",
     "text": [
      "Enter a network property key:Type\n",
      "Enter Type value:Ethernet\n",
      "Enter a network property key:IP\n",
      "Enter IP value:192.168.1.100\n",
      "Enter a network property key:onboot\n",
      "Enter onboot value:yes\n",
      "\n",
      "Network property details:-\n",
      "-------------------------------------\n",
      "Type - Ethernet\n",
      "IP - 192.168.1.100\n",
      "onboot - yes\n",
      "Updated network details:-\n",
      "Type - Ethernet\n",
      "IP - 127.0.0.1\n",
      "onboot - yes\n"
     ]
    }
   ],
   "source": [
    "net_property = {} # empty dict\n",
    "c=0\n",
    "while(c < 3): # limit \n",
    "    K = input('Enter a network property key:')\n",
    "    V = input(f'Enter {K} value:')\n",
    "    net_property[K] = V # adding data to an existing dict\n",
    "    c=c+1\n",
    "print('') # empty line\n",
    "print('''Network property details:-\n",
    "-------------------------------------''')\n",
    "for var in net_property: # iterate list of keys from dict\n",
    "    print(f'{var} - {net_property[var]}')\n",
    "\n",
    "if('IP' in net_property): # test input Key IP is existing or not\n",
    "    net_property['IP'] = '127.0.0.1' # updating dict value\n",
    "    print('Updated network details:-')\n",
    "    for var in net_property:\n",
    "        print(f'{var} - {net_property[var]}')\n",
    "else:\n",
    "    print('Sorry Key: IP is not exists')     "
   ]
  },
  {
   "cell_type": "code",
   "execution_count": null,
   "id": "f2a0f14a",
   "metadata": {},
   "outputs": [],
   "source": [
    "list,tuple,dict -> 1D\n",
    "\n",
    "List of list/tuple/dict \n",
    "\n",
    "L=[[10,20,30],('D1','D2'),{'K1':'V1','K2':'V2'}]\n",
    "|  ==========|===========|====================\n",
    "|     0           1                2\n",
    "type(L) -><class 'list'>"
   ]
  },
  {
   "cell_type": "code",
   "execution_count": 71,
   "id": "58fbb59c",
   "metadata": {},
   "outputs": [
    {
     "name": "stdout",
     "output_type": "stream",
     "text": [
      "<class 'list'> 3\n",
      "<class 'list'> <class 'tuple'> <class 'dict'>\n",
      "[10, 20, 30]\n",
      "10\n",
      "('D1', 'D2')\n",
      "D1\n",
      "{'K1': 'V1', 'K2': 'V2'}\n",
      "V1\n"
     ]
    }
   ],
   "source": [
    "L=[[10,20,30],('D1','D2'),{'K1':'V1','K2':'V2'}]\n",
    "print(type(L),len(L))\n",
    "print(type(L[0]),type(L[1]),type(L[2]))\n",
    "print(L[0])\n",
    "print(L[0][0])\n",
    "print(L[1])\n",
    "print(L[1][0])\n",
    "print(L[-1])\n",
    "print(L[-1]['K1'])"
   ]
  },
  {
   "cell_type": "code",
   "execution_count": null,
   "id": "c6180942",
   "metadata": {},
   "outputs": [],
   "source": [
    "records = [('A101','itemA',1000),('A102','itemB',2000)]\n",
    "# records[0]='D1' # OK\n",
    "records[0][0]='D1' # Error"
   ]
  },
  {
   "cell_type": "code",
   "execution_count": 72,
   "id": "a8338fd6",
   "metadata": {},
   "outputs": [
    {
     "name": "stdout",
     "output_type": "stream",
     "text": [
      "2\n",
      "<class 'tuple'>\n",
      "<class 'list'>\n"
     ]
    }
   ],
   "source": [
    "T=([],[]) # tuple of list\n",
    "print(len(T))\n",
    "print(type(T))\n",
    "print(type(T[0]))"
   ]
  },
  {
   "cell_type": "code",
   "execution_count": 73,
   "id": "82c5f525",
   "metadata": {},
   "outputs": [
    {
     "name": "stdout",
     "output_type": "stream",
     "text": [
      "2\n"
     ]
    }
   ],
   "source": [
    "T[0].append('D1')\n",
    "T[0].append('D2')\n",
    "T[0].append('D3')\n",
    "T[0].append('D4')\n",
    "T[0].append('D4')\n",
    "print(len(T))"
   ]
  },
  {
   "cell_type": "code",
   "execution_count": 74,
   "id": "40e7f955",
   "metadata": {},
   "outputs": [
    {
     "name": "stdout",
     "output_type": "stream",
     "text": [
      "(['D1', 'D2', 'D3', 'D4', 'D4'], [])\n"
     ]
    }
   ],
   "source": [
    "print(T)"
   ]
  },
  {
   "cell_type": "code",
   "execution_count": 75,
   "id": "385b745c",
   "metadata": {},
   "outputs": [
    {
     "ename": "TypeError",
     "evalue": "'tuple' object does not support item assignment",
     "output_type": "error",
     "traceback": [
      "\u001b[1;31m---------------------------------------------------------------------------\u001b[0m",
      "\u001b[1;31mTypeError\u001b[0m                                 Traceback (most recent call last)",
      "Cell \u001b[1;32mIn[75], line 1\u001b[0m\n\u001b[1;32m----> 1\u001b[0m T[\u001b[38;5;241m0\u001b[39m]\u001b[38;5;241m=\u001b[39m\u001b[38;5;124m'\u001b[39m\u001b[38;5;124mDx\u001b[39m\u001b[38;5;124m'\u001b[39m\n",
      "\u001b[1;31mTypeError\u001b[0m: 'tuple' object does not support item assignment"
     ]
    }
   ],
   "source": [
    "T[0]='Dx'"
   ]
  },
  {
   "cell_type": "code",
   "execution_count": 76,
   "id": "bae31271",
   "metadata": {},
   "outputs": [
    {
     "data": {
      "text/plain": [
       "(['Dx', 'D2', 'D3', 'D4', 'D4', 'Dy'], [])"
      ]
     },
     "execution_count": 76,
     "metadata": {},
     "output_type": "execute_result"
    }
   ],
   "source": [
    "T[0][0]='Dx'\n",
    "T[0].append('Dy')\n",
    "T"
   ]
  },
  {
   "cell_type": "code",
   "execution_count": null,
   "id": "d28cf5cb",
   "metadata": {},
   "outputs": [],
   "source": [
    "tuple of list/tuple/dict\n",
    "##########################"
   ]
  },
  {
   "cell_type": "code",
   "execution_count": null,
   "id": "20f02427",
   "metadata": {},
   "outputs": [],
   "source": [
    "dict of list/tuple/dict"
   ]
  },
  {
   "cell_type": "code",
   "execution_count": 83,
   "id": "34cae22f",
   "metadata": {},
   "outputs": [
    {
     "name": "stdout",
     "output_type": "stream",
     "text": [
      "<class 'dict'> <class 'list'>\n",
      "[101, 102, 103]\n",
      "101\n",
      "('prodA', 'prodB', 'prodC')\n",
      "prodA\n"
     ]
    }
   ],
   "source": [
    "prod_IDs = {'pid':[101,102,103]} # dict of list\n",
    "prod_Names = {'pNames':('prodA','prodB','prodC')} # dict of tuple\n",
    "\n",
    "print(type(prod_IDs),type(prod_IDs['pid']))\n",
    "print(prod_IDs['pid'])\n",
    "print(prod_IDs['pid'][0])\n",
    "print(prod_Names['pNames'])\n",
    "print(prod_Names['pNames'][0])"
   ]
  },
  {
   "cell_type": "code",
   "execution_count": 84,
   "id": "b45e9cdc",
   "metadata": {},
   "outputs": [],
   "source": [
    "products={'pNames':['prodA','prodB','prodC'],'pCosts':[1000,2000,3000]}\n",
    "# dict of list\n",
    "# Key:[]\n",
    "\n",
    "# dict of tuple\n",
    "# Key:()\n",
    "\n",
    "# dict of dict\n",
    "# d={Key:{...}}"
   ]
  },
  {
   "cell_type": "code",
   "execution_count": 85,
   "id": "e7bc9d2c",
   "metadata": {},
   "outputs": [
    {
     "data": {
      "text/html": [
       "<div>\n",
       "<style scoped>\n",
       "    .dataframe tbody tr th:only-of-type {\n",
       "        vertical-align: middle;\n",
       "    }\n",
       "\n",
       "    .dataframe tbody tr th {\n",
       "        vertical-align: top;\n",
       "    }\n",
       "\n",
       "    .dataframe thead th {\n",
       "        text-align: right;\n",
       "    }\n",
       "</style>\n",
       "<table border=\"1\" class=\"dataframe\">\n",
       "  <thead>\n",
       "    <tr style=\"text-align: right;\">\n",
       "      <th></th>\n",
       "      <th>pNames</th>\n",
       "      <th>pCosts</th>\n",
       "    </tr>\n",
       "  </thead>\n",
       "  <tbody>\n",
       "    <tr>\n",
       "      <th>0</th>\n",
       "      <td>prodA</td>\n",
       "      <td>1000</td>\n",
       "    </tr>\n",
       "    <tr>\n",
       "      <th>1</th>\n",
       "      <td>prodB</td>\n",
       "      <td>2000</td>\n",
       "    </tr>\n",
       "    <tr>\n",
       "      <th>2</th>\n",
       "      <td>prodC</td>\n",
       "      <td>3000</td>\n",
       "    </tr>\n",
       "  </tbody>\n",
       "</table>\n",
       "</div>"
      ],
      "text/plain": [
       "  pNames  pCosts\n",
       "0  prodA    1000\n",
       "1  prodB    2000\n",
       "2  prodC    3000"
      ]
     },
     "execution_count": 85,
     "metadata": {},
     "output_type": "execute_result"
    }
   ],
   "source": [
    "import pandas\n",
    "pandas.DataFrame(products)"
   ]
  },
  {
   "cell_type": "code",
   "execution_count": 86,
   "id": "eef9cce5",
   "metadata": {},
   "outputs": [
    {
     "data": {
      "text/plain": [
       "{'K1': 10, 'K2': 'V2', 'K3': 'V2'}"
      ]
     },
     "execution_count": 86,
     "metadata": {},
     "output_type": "execute_result"
    }
   ],
   "source": [
    "d={'K1':'V1','K2':'V2','K1':10,'K3':'V2'}\n",
    "d"
   ]
  },
  {
   "cell_type": "code",
   "execution_count": 91,
   "id": "243ad921",
   "metadata": {},
   "outputs": [
    {
     "name": "stdout",
     "output_type": "stream",
     "text": [
      "{'K1': {'K1': 'V1', 'K2': 'V2'}, 'K2': {'K1': 10, 'K2': 20}}\n",
      "{'K1': 'V1', 'K2': 'V2'}\n",
      "V1\n",
      "V2\n",
      "10\n"
     ]
    }
   ],
   "source": [
    "d={'K1':{'K1':'V1','K2':'V2'},'K2':{'K1':10,'K2':20}}\n",
    "print(d)\n",
    "print(d['K1'])\n",
    "print(d['K1']['K1'])\n",
    "print(d['K1']['K2'])\n",
    "print(d['K2']['K1'])"
   ]
  },
  {
   "cell_type": "code",
   "execution_count": 95,
   "id": "9737c04a",
   "metadata": {},
   "outputs": [
    {
     "name": "stdout",
     "output_type": "stream",
     "text": [
      "{'K1': [{'url': 'urlA', 'port': 8080, 'others': ['D1', 'D2', {'K1': 'V1'}]}], 'K2': {'K1': {'K1': [1, 2, 3]}}, 'K3': [10, 20, 30, 40, 50], 'K4': {'K1': 'DB1', 'K2': 'DB2'}, 'K5': {'K1': [{'server': 'googleApis', 'port': 9090}, {'K1': 'Vx'}]}}\n"
     ]
    }
   ],
   "source": [
    "d={'K1':[{'url':'urlA','port':8080,'others':['D1','D2',{'K1':'V1'}]}],'K2':{'K1':{'K1':[1,2,3]}}}\n",
    "d['K3']=[10,20,30,40,50]\n",
    "d['K4']={'K1':'DB1','K2':'DB2'}\n",
    "d['K5']={'K1':[{'server':'googleApis','port':9090},{'K1':'Vx'}]}\n",
    "print(d)"
   ]
  },
  {
   "cell_type": "code",
   "execution_count": 96,
   "id": "a9680698",
   "metadata": {},
   "outputs": [
    {
     "name": "stdout",
     "output_type": "stream",
     "text": [
      "{'K1': [{'others': ['D1', 'D2', {'K1': 'V1'}], 'port': 8080, 'url': 'urlA'}],\n",
      " 'K2': {'K1': {'K1': [1, 2, 3]}},\n",
      " 'K3': [10, 20, 30, 40, 50],\n",
      " 'K4': {'K1': 'DB1', 'K2': 'DB2'},\n",
      " 'K5': {'K1': [{'port': 9090, 'server': 'googleApis'}, {'K1': 'Vx'}]}}\n"
     ]
    }
   ],
   "source": [
    "import pprint\n",
    "pprint.pprint(d)"
   ]
  },
  {
   "cell_type": "code",
   "execution_count": 98,
   "id": "75511d68",
   "metadata": {},
   "outputs": [
    {
     "data": {
      "text/plain": [
       "'V1'"
      ]
     },
     "execution_count": 98,
     "metadata": {},
     "output_type": "execute_result"
    }
   ],
   "source": [
    "d['K1'][0]['others'][2]['K1']"
   ]
  },
  {
   "cell_type": "code",
   "execution_count": 99,
   "id": "e443a09f",
   "metadata": {},
   "outputs": [],
   "source": [
    "d['K1'][0]['others'][2]['K1']='Updated_Value' # modification"
   ]
  },
  {
   "cell_type": "code",
   "execution_count": 100,
   "id": "9037cc94",
   "metadata": {},
   "outputs": [
    {
     "name": "stdout",
     "output_type": "stream",
     "text": [
      "{'K1': [{'others': ['D1', 'D2', {'K1': 'Updated_Value'}],\n",
      "         'port': 8080,\n",
      "         'url': 'urlA'}],\n",
      " 'K2': {'K1': {'K1': [1, 2, 3]}},\n",
      " 'K3': [10, 20, 30, 40, 50],\n",
      " 'K4': {'K1': 'DB1', 'K2': 'DB2'},\n",
      " 'K5': {'K1': [{'port': 9090, 'server': 'googleApis'}, {'K1': 'Vx'}]}}\n"
     ]
    }
   ],
   "source": [
    "pprint.pprint(d)"
   ]
  },
  {
   "cell_type": "code",
   "execution_count": 97,
   "id": "f91ee02a",
   "metadata": {},
   "outputs": [
    {
     "name": "stdout",
     "output_type": "stream",
     "text": [
      "{'K1': [{'port': 9090, 'server': 'googleApis'}, {'K1': 'Vx'}]}\n"
     ]
    }
   ],
   "source": [
    "pprint.pprint(d['K5'])"
   ]
  },
  {
   "cell_type": "code",
   "execution_count": null,
   "id": "5b7d6cae",
   "metadata": {},
   "outputs": [],
   "source": [
    "collection\n",
    " |->str ->Collection of chars - index - immutable \n",
    " |->bytes->Collection of chars ASCII - index - immutable \n",
    " |\n",
    " |->list ->Collection of different types of items - index - mutable - []\n",
    " |->tuple ->Collection of different types of items - index - immutable - ()\n",
    " |\n",
    " |->dict -> Collection of different types of items(key:value) - key-mutable-{}\n",
    "              # unordered \n",
    " Vs\n",
    " |\n",
    " |->set ->  Collection of different types of items (not index; not key:value)\n",
    "            set not allows duplicate value\n",
    "             # unordered "
   ]
  },
  {
   "cell_type": "code",
   "execution_count": 102,
   "id": "c75b3394",
   "metadata": {},
   "outputs": [
    {
     "name": "stdout",
     "output_type": "stream",
     "text": [
      "<class 'set'> 5\n",
      "{'K1', 20, 'V1', 10, 30}\n"
     ]
    }
   ],
   "source": [
    "s={10,20,30,10,20,30,10,20,'K1','V1','K1','V1'}\n",
    "print(type(s),len(s))\n",
    "print(s)"
   ]
  },
  {
   "cell_type": "code",
   "execution_count": 104,
   "id": "05d7f916",
   "metadata": {},
   "outputs": [
    {
     "name": "stdout",
     "output_type": "stream",
     "text": [
      "9 <class 'list'> ['D1', 'D2', 'D1', 'D2', 'D3', 'D1', 'D2', 'D1', 'D2']\n"
     ]
    }
   ],
   "source": [
    "L=['D1','D2','D1','D2','D3','D1','D2']\n",
    "L.append('D1')\n",
    "L.append('D2')\n",
    "print(len(L),type(L),L)"
   ]
  },
  {
   "cell_type": "code",
   "execution_count": 105,
   "id": "bf7a7672",
   "metadata": {},
   "outputs": [
    {
     "data": {
      "text/plain": [
       "{'D1', 'D2', 'D3'}"
      ]
     },
     "execution_count": 105,
     "metadata": {},
     "output_type": "execute_result"
    }
   ],
   "source": [
    "set(L) # typecast to set "
   ]
  },
  {
   "cell_type": "code",
   "execution_count": 106,
   "id": "51a3d65d",
   "metadata": {},
   "outputs": [
    {
     "data": {
      "text/plain": [
       "['D2', 'D3', 'D1']"
      ]
     },
     "execution_count": 106,
     "metadata": {},
     "output_type": "execute_result"
    }
   ],
   "source": [
    "L=list(set(L)) # typecast to set ->type cast to list\n",
    "L # unique value"
   ]
  },
  {
   "cell_type": "code",
   "execution_count": null,
   "id": "cbc4387b",
   "metadata": {},
   "outputs": [],
   "source": [
    "Function\n",
    " - definition - code block \n",
    " - function Call - To invoke a definition"
   ]
  },
  {
   "cell_type": "code",
   "execution_count": 112,
   "id": "b066b6b7",
   "metadata": {},
   "outputs": [
    {
     "name": "stdout",
     "output_type": "stream",
     "text": [
      "List of files\n",
      "p1.log\n",
      "p2.log\n",
      "p3.java\n",
      "Exit from f1 block\n"
     ]
    }
   ],
   "source": [
    "def f1():\n",
    "    print('List of files')\n",
    "    L=['p1.log','p2.log','p3.java']\n",
    "    for var in L:\n",
    "        print(var)\n",
    "    print(\"Exit from f1 block\")\n",
    "    \n",
    "f1()"
   ]
  },
  {
   "cell_type": "code",
   "execution_count": 113,
   "id": "cbf57bd0",
   "metadata": {},
   "outputs": [
    {
     "name": "stdout",
     "output_type": "stream",
     "text": [
      "List of files\n",
      "p1.log\n",
      "p2.log\n",
      "p3.java\n",
      "Exit from f1 block\n",
      "\n",
      "List of files\n",
      "p1.log\n",
      "p2.log\n",
      "p3.java\n",
      "Exit from f1 block\n",
      "\n",
      "List of files\n",
      "p1.log\n",
      "p2.log\n",
      "p3.java\n",
      "Exit from f1 block\n",
      "\n"
     ]
    }
   ],
   "source": [
    "for v in [1,2,3]:\n",
    "    f1()\n",
    "    print('')"
   ]
  },
  {
   "cell_type": "code",
   "execution_count": 119,
   "id": "670d501b",
   "metadata": {},
   "outputs": [
    {
     "name": "stdout",
     "output_type": "stream",
     "text": [
      "a1 value: 10 a2 value: 20\n",
      "a1 value: [] a2 value: ()\n",
      "a1 value: {} a2 value: True\n"
     ]
    }
   ],
   "source": [
    "def f1(a1,a2): # Required arguments\n",
    "    print(\"a1 value:\",a1,\"a2 value:\",a2)\n",
    "    \n",
    "# f1() TypeError: f1() missing 2 required positional arguments: 'a1' and 'a2'\n",
    "\n",
    "# f1(10) TypeError: f1() missing 1 required positional argument: 'a2'\n",
    "\n",
    "# f1(10,20,30) TypeError: f1() takes 2 positional arguments but 3 were given\n",
    "\n",
    "f1(10,20)\n",
    "f1([],())\n",
    "f1({},True)"
   ]
  },
  {
   "cell_type": "code",
   "execution_count": 124,
   "id": "214d2a73",
   "metadata": {},
   "outputs": [
    {
     "name": "stdout",
     "output_type": "stream",
     "text": [
      "a1 value: 10 a2 value: True\n",
      "a1 value: Data1 a2 value: True\n",
      "a1 value: D1 a2 value: D2\n"
     ]
    }
   ],
   "source": [
    "def f2(a1=10,a2=True): # default args\n",
    "    print(\"a1 value:\",a1,\"a2 value:\",a2)\n",
    "    \n",
    "f2()\n",
    "f2('Data1')\n",
    "f2('D1','D2')\n",
    "# f2(100,200,300) TypeError: f2() takes from 0 to 2 positional arguments \n",
    "#                           but 3 were given\n"
   ]
  },
  {
   "cell_type": "code",
   "execution_count": 125,
   "id": "f43fc356",
   "metadata": {},
   "outputs": [],
   "source": [
    "def mylogin(name,password,host=\"devserver\",connection=\"ssh\"):\n",
    "    print('Login name:',name)\n",
    "    print('hostname:',host,\"connection Type:\",connection)\n",
    "    print('-'*50)"
   ]
  },
  {
   "cell_type": "code",
   "execution_count": 130,
   "id": "b02662c3",
   "metadata": {},
   "outputs": [
    {
     "name": "stdout",
     "output_type": "stream",
     "text": [
      "Login name: UserA\n",
      "hostname: devserver connection Type: ssh\n",
      "--------------------------------------------------\n",
      "\n",
      "Login name: UserB\n",
      "hostname: QAServer connection Type: ssh\n",
      "--------------------------------------------------\n",
      "\n",
      "Login name: UserC\n",
      "hostname: TestServer connection Type: ftp\n",
      "--------------------------------------------------\n"
     ]
    }
   ],
   "source": [
    "# mylogin()\n",
    "# TypeError: mylogin() missing 2 required positional arguments: \n",
    "# 'name' and 'password'\n",
    "      \n",
    "mylogin('UserA','abc@123')\n",
    "print('')\n",
    "mylogin('UserB','abc@455','QAServer')\n",
    "print('')\n",
    "mylogin('UserC','Ta@455','TestServer','ftp')"
   ]
  },
  {
   "cell_type": "code",
   "execution_count": 131,
   "id": "8418125d",
   "metadata": {},
   "outputs": [
    {
     "data": {
      "text/plain": [
       "{'K1': 'V1', 'K2': None}"
      ]
     },
     "execution_count": 131,
     "metadata": {},
     "output_type": "execute_result"
    }
   ],
   "source": [
    "d={}\n",
    "d.setdefault('K1','V1')\n",
    "d.setdefault('K2')\n",
    "d"
   ]
  },
  {
   "cell_type": "code",
   "execution_count": 135,
   "id": "ceb3d384",
   "metadata": {},
   "outputs": [],
   "source": [
    "#d.setdefault()  ->Error\n",
    "#d.setdefault('Kx','Vx','Vy') ->Error\n",
    "\n",
    "# def setdefault(Key,value=None):\n",
    "#    pass"
   ]
  },
  {
   "cell_type": "code",
   "execution_count": 136,
   "id": "33544e18",
   "metadata": {},
   "outputs": [
    {
     "ename": "SyntaxError",
     "evalue": "non-default argument follows default argument (3842966326.py, line 1)",
     "output_type": "error",
     "traceback": [
      "\u001b[1;36m  Cell \u001b[1;32mIn[136], line 1\u001b[1;36m\u001b[0m\n\u001b[1;33m    def fx(a1,a2,a3,a4,a5=True,a6=100,a7):\u001b[0m\n\u001b[1;37m                                      ^\u001b[0m\n\u001b[1;31mSyntaxError\u001b[0m\u001b[1;31m:\u001b[0m non-default argument follows default argument\n"
     ]
    }
   ],
   "source": [
    "def fx(a1,a2,a3,a4,a5=True,a6=100,a7):\n",
    "    print(\"OK\")"
   ]
  },
  {
   "cell_type": "code",
   "execution_count": 139,
   "id": "a9c89c3c",
   "metadata": {},
   "outputs": [],
   "source": [
    "def f3(*args): # variable length\n",
    "    print(type(args))\n",
    "    print(args)"
   ]
  },
  {
   "cell_type": "code",
   "execution_count": 142,
   "id": "5aa1f09b",
   "metadata": {},
   "outputs": [
    {
     "name": "stdout",
     "output_type": "stream",
     "text": [
      "<class 'tuple'>\n",
      "()\n",
      "\n",
      "<class 'tuple'>\n",
      "('D1',)\n",
      "\n",
      "<class 'tuple'>\n",
      "(10, 20, 30, 40, 2.434, 'D1', 'D2')\n"
     ]
    }
   ],
   "source": [
    "f3()\n",
    "print('')\n",
    "f3(\"D1\")\n",
    "print('')\n",
    "f3(10,20,30,40,2.434,'D1','D2')"
   ]
  },
  {
   "cell_type": "code",
   "execution_count": 144,
   "id": "55f0374a",
   "metadata": {},
   "outputs": [
    {
     "name": "stdout",
     "output_type": "stream",
     "text": [
      "()\n",
      "(1, 2, 3)\n"
     ]
    },
    {
     "ename": "TypeError",
     "evalue": "fx() got an unexpected keyword argument 'user'",
     "output_type": "error",
     "traceback": [
      "\u001b[1;31m---------------------------------------------------------------------------\u001b[0m",
      "\u001b[1;31mTypeError\u001b[0m                                 Traceback (most recent call last)",
      "Cell \u001b[1;32mIn[144], line 6\u001b[0m\n\u001b[0;32m      4\u001b[0m fx()\n\u001b[0;32m      5\u001b[0m fx(\u001b[38;5;241m1\u001b[39m,\u001b[38;5;241m2\u001b[39m,\u001b[38;5;241m3\u001b[39m)\n\u001b[1;32m----> 6\u001b[0m fx(user\u001b[38;5;241m=\u001b[39m\u001b[38;5;124m'\u001b[39m\u001b[38;5;124mroot\u001b[39m\u001b[38;5;124m'\u001b[39m,password\u001b[38;5;241m=\u001b[39m\u001b[38;5;124m'\u001b[39m\u001b[38;5;124mabc@123\u001b[39m\u001b[38;5;124m'\u001b[39m)\n",
      "\u001b[1;31mTypeError\u001b[0m: fx() got an unexpected keyword argument 'user'"
     ]
    }
   ],
   "source": [
    "def fx(*args):\n",
    "    print(args)\n",
    "    \n",
    "fx()\n",
    "fx(1,2,3)\n",
    "fx(user='root',password='abc@123')"
   ]
  },
  {
   "cell_type": "code",
   "execution_count": 145,
   "id": "121ed7da",
   "metadata": {},
   "outputs": [
    {
     "name": "stdout",
     "output_type": "stream",
     "text": [
      "<class 'dict'>\n",
      "{}\n",
      "<class 'dict'>\n",
      "{'user': 'root', 'shell': '/bin/bash', 'IP': '127.0.0.1'}\n"
     ]
    }
   ],
   "source": [
    "def fx(**kwargs): # keyword args\n",
    "    print(type(kwargs))\n",
    "    print(kwargs)\n",
    "    \n",
    "fx()\n",
    "fx(user='root',shell='/bin/bash',IP='127.0.0.1')"
   ]
  },
  {
   "cell_type": "code",
   "execution_count": 146,
   "id": "df7f8fc6",
   "metadata": {},
   "outputs": [
    {
     "ename": "SyntaxError",
     "evalue": "arguments cannot follow var-keyword argument (1919669061.py, line 1)",
     "output_type": "error",
     "traceback": [
      "\u001b[1;36m  Cell \u001b[1;32mIn[146], line 1\u001b[1;36m\u001b[0m\n\u001b[1;33m    def fx(**kwargs,*args):\u001b[0m\n\u001b[1;37m                    ^\u001b[0m\n\u001b[1;31mSyntaxError\u001b[0m\u001b[1;31m:\u001b[0m arguments cannot follow var-keyword argument\n"
     ]
    }
   ],
   "source": [
    "def fx(**kwargs,*args):\n",
    "    print(\"OK\")"
   ]
  },
  {
   "cell_type": "code",
   "execution_count": 148,
   "id": "587b9e9b",
   "metadata": {},
   "outputs": [
    {
     "name": "stdout",
     "output_type": "stream",
     "text": [
      "{}\n",
      "{'Va': 10, 'Vb': 20}\n"
     ]
    }
   ],
   "source": [
    "def fx(**a):\n",
    "    print(a)\n",
    "    \n",
    "fx()\n",
    "fx(Va=10,Vb=20)\n",
    "# fx(1,2,3) # Error"
   ]
  },
  {
   "cell_type": "code",
   "execution_count": 149,
   "id": "7cda14ac",
   "metadata": {},
   "outputs": [],
   "source": [
    "def fdisplay():\n",
    "    global Vx,Vy\n",
    "    Vx = \"data1.csv\"\n",
    "    Vy = \"prod1.csv\"\n",
    "    myvar1 = 100\n",
    "    myvar2 = 200\n",
    "    print(Vx,Vy,myvar1,myvar2)\n",
    "    print('Exit from fdisplay block')"
   ]
  },
  {
   "cell_type": "code",
   "execution_count": 150,
   "id": "227eae76",
   "metadata": {},
   "outputs": [
    {
     "name": "stdout",
     "output_type": "stream",
     "text": [
      "data1.csv prod1.csv 100 200\n",
      "Exit from fdisplay block\n"
     ]
    }
   ],
   "source": [
    "fdisplay()"
   ]
  },
  {
   "cell_type": "code",
   "execution_count": 154,
   "id": "d03910ff",
   "metadata": {},
   "outputs": [
    {
     "name": "stdout",
     "output_type": "stream",
     "text": [
      "data1.csv prod1.csv\n"
     ]
    }
   ],
   "source": [
    "print(Vx,Vy)\n",
    "# print(myvar1) # NameError: name 'myvar1' is not defined"
   ]
  },
  {
   "cell_type": "code",
   "execution_count": 158,
   "id": "b87324a2",
   "metadata": {},
   "outputs": [
    {
     "name": "stdout",
     "output_type": "stream",
     "text": [
      "10\n",
      "None\n"
     ]
    }
   ],
   "source": [
    "def fA():\n",
    "    return 10\n",
    "def fB():\n",
    "    v=100\n",
    "    \n",
    "r1 = fA()\n",
    "r2 = fB()\n",
    "print(r1)\n",
    "print(r2)"
   ]
  },
  {
   "cell_type": "code",
   "execution_count": 155,
   "id": "eaf9f257",
   "metadata": {},
   "outputs": [
    {
     "name": "stdout",
     "output_type": "stream",
     "text": [
      "[115, 135, 125, None, None, None]\n"
     ]
    }
   ],
   "source": [
    "L = []\n",
    "\n",
    "def fx(a):\n",
    "    if( a > 10):\n",
    "        return a+100\n",
    "    \n",
    "for var in [15,35,25,1,2,3]:\n",
    "    r = fx(var)\n",
    "    L.append(r)\n",
    "    \n",
    "print(L)"
   ]
  },
  {
   "cell_type": "code",
   "execution_count": null,
   "id": "e5111e40",
   "metadata": {},
   "outputs": [],
   "source": [
    "Write a python program\n",
    "  - define function1 ->nameTest def nameTest():\n",
    "              \\__args: login name and login shell\n",
    "                       test login name is root and login shell name bash\n",
    "                       both condition is matched - return message - Success\n",
    "                                           |_ not matched - Failed.\n",
    "                        \n",
    "  - modify -> login shell name is /bin/bash (default shell)\n",
    "  |\n",
    "  - modify ->variable length - any number args\n",
    "  |\n",
    "  - modify -> login name and login shell name as keyword args "
   ]
  },
  {
   "cell_type": "code",
   "execution_count": 162,
   "id": "0732223b",
   "metadata": {},
   "outputs": [
    {
     "name": "stdout",
     "output_type": "stream",
     "text": [
      "Login is Not matched\n"
     ]
    }
   ],
   "source": [
    "def f1(a1,a2): # required arguments\n",
    "    if(a1 == 'root' and a2 == 'bash'):\n",
    "        return True\n",
    "    else:\n",
    "        return False\n",
    "    \n",
    "r = f1('root','ksh')\n",
    "if(r):\n",
    "    print('Login is matched')\n",
    "else:\n",
    "    print('Login is Not matched')"
   ]
  },
  {
   "cell_type": "code",
   "execution_count": 163,
   "id": "b4f00f10",
   "metadata": {},
   "outputs": [
    {
     "name": "stdout",
     "output_type": "stream",
     "text": [
      "Login is matched\n"
     ]
    }
   ],
   "source": [
    "if(f1('root','bash')):\n",
    "    print('Login is matched')\n",
    "else:\n",
    "    print('Login is not matched')"
   ]
  },
  {
   "cell_type": "code",
   "execution_count": 166,
   "id": "5793fab7",
   "metadata": {},
   "outputs": [],
   "source": [
    "def f2(a1,a2=\"bash\"):\n",
    "    if(a1 == 'root' and a2 == \"bash\"):\n",
    "        return True\n",
    "    else:\n",
    "        return False"
   ]
  },
  {
   "cell_type": "code",
   "execution_count": 168,
   "id": "5ac11381",
   "metadata": {},
   "outputs": [
    {
     "name": "stdout",
     "output_type": "stream",
     "text": [
      "Login is matched\n"
     ]
    }
   ],
   "source": [
    "if(f2('root','bash')):\n",
    "    print('Login is matched')\n",
    "else:\n",
    "    print('Login is not matched')"
   ]
  },
  {
   "cell_type": "code",
   "execution_count": 169,
   "id": "26cc3853",
   "metadata": {},
   "outputs": [
    {
     "name": "stdout",
     "output_type": "stream",
     "text": [
      "Login is matched\n"
     ]
    }
   ],
   "source": [
    "if(f2('root')):\n",
    "    print('Login is matched')\n",
    "else:\n",
    "    print('Login is not matched')"
   ]
  },
  {
   "cell_type": "code",
   "execution_count": 170,
   "id": "1f5e2132",
   "metadata": {},
   "outputs": [
    {
     "name": "stdout",
     "output_type": "stream",
     "text": [
      "Login is not matched\n"
     ]
    }
   ],
   "source": [
    "if(f2('root','csh')):\n",
    "    print('Login is matched')\n",
    "else:\n",
    "    print('Login is not matched')"
   ]
  },
  {
   "cell_type": "code",
   "execution_count": 174,
   "id": "cc984b81",
   "metadata": {},
   "outputs": [
    {
     "name": "stdout",
     "output_type": "stream",
     "text": [
      "Empty arguments\n"
     ]
    },
    {
     "data": {
      "text/plain": [
       "0"
      ]
     },
     "execution_count": 174,
     "metadata": {},
     "output_type": "execute_result"
    }
   ],
   "source": [
    "def f3(*args):\n",
    "    if(args):\n",
    "        print(args)\n",
    "    else:\n",
    "        print(\"Empty arguments\")\n",
    "        return 0\n",
    "    \n",
    "f3()"
   ]
  },
  {
   "cell_type": "code",
   "execution_count": 173,
   "id": "3c47230c",
   "metadata": {},
   "outputs": [
    {
     "name": "stdout",
     "output_type": "stream",
     "text": [
      "False False False False False False False\n"
     ]
    }
   ],
   "source": [
    "print(bool(()),bool([]),bool({}),bool(''),bool(0),bool(0.0),bool(None))"
   ]
  },
  {
   "cell_type": "code",
   "execution_count": 179,
   "id": "0a0238cb",
   "metadata": {},
   "outputs": [],
   "source": [
    "def f3(*args):\n",
    "    if not(args):\n",
    "        return 0\n",
    "    user_name,shell_name = args # multiple initialization\n",
    "    if(user_name == 'root' and shell_name == 'bash'):\n",
    "        return True\n",
    "    else:\n",
    "        return False"
   ]
  },
  {
   "cell_type": "code",
   "execution_count": 182,
   "id": "aa051623",
   "metadata": {},
   "outputs": [
    {
     "name": "stdout",
     "output_type": "stream",
     "text": [
      "Empty arguments\n",
      "\n",
      "Login is matched\n"
     ]
    }
   ],
   "source": [
    "if(f3() == 0):\n",
    "    print('Empty arguments')\n",
    " \n",
    "print('')\n",
    "if(f3('root','bash')):\n",
    "    print('Login is matched')\n",
    "else:\n",
    "    print('Login is not matched')"
   ]
  },
  {
   "cell_type": "code",
   "execution_count": 184,
   "id": "936f1ba1",
   "metadata": {},
   "outputs": [
    {
     "name": "stdout",
     "output_type": "stream",
     "text": [
      "D1 D2\n"
     ]
    },
    {
     "ename": "IndexError",
     "evalue": "tuple index out of range",
     "output_type": "error",
     "traceback": [
      "\u001b[1;31m---------------------------------------------------------------------------\u001b[0m",
      "\u001b[1;31mIndexError\u001b[0m                                Traceback (most recent call last)",
      "Cell \u001b[1;32mIn[184], line 5\u001b[0m\n\u001b[0;32m      2\u001b[0m     \u001b[38;5;28mprint\u001b[39m(args[\u001b[38;5;241m0\u001b[39m],args[\u001b[38;5;241m1\u001b[39m])\n\u001b[0;32m      4\u001b[0m fx(\u001b[38;5;124m'\u001b[39m\u001b[38;5;124mD1\u001b[39m\u001b[38;5;124m'\u001b[39m,\u001b[38;5;124m'\u001b[39m\u001b[38;5;124mD2\u001b[39m\u001b[38;5;124m'\u001b[39m)\n\u001b[1;32m----> 5\u001b[0m fx(\u001b[38;5;124m'\u001b[39m\u001b[38;5;124mD3\u001b[39m\u001b[38;5;124m'\u001b[39m)\n",
      "Cell \u001b[1;32mIn[184], line 2\u001b[0m, in \u001b[0;36mfx\u001b[1;34m(*args)\u001b[0m\n\u001b[0;32m      1\u001b[0m \u001b[38;5;28;01mdef\u001b[39;00m \u001b[38;5;21mfx\u001b[39m(\u001b[38;5;241m*\u001b[39margs):\n\u001b[1;32m----> 2\u001b[0m     \u001b[38;5;28mprint\u001b[39m(args[\u001b[38;5;241m0\u001b[39m],args[\u001b[38;5;241m1\u001b[39m])\n",
      "\u001b[1;31mIndexError\u001b[0m: tuple index out of range"
     ]
    }
   ],
   "source": [
    "def fx(*args):\n",
    "    print(args[0],args[1])\n",
    "    \n",
    "fx('D1','D2')\n",
    "fx('D3')"
   ]
  },
  {
   "cell_type": "code",
   "execution_count": 190,
   "id": "7fe3d678",
   "metadata": {},
   "outputs": [],
   "source": [
    "def f34(**kwargs): \n",
    "    if not(kwargs):\n",
    "        return 0\n",
    "    user_name = kwargs['name']\n",
    "    shell_name = kwargs['sh']\n",
    "    if(user_name == 'root' and shell_name == 'bash'):\n",
    "        return True\n",
    "    else:\n",
    "        return False"
   ]
  },
  {
   "cell_type": "code",
   "execution_count": 191,
   "id": "bb35e4c9",
   "metadata": {},
   "outputs": [
    {
     "name": "stdout",
     "output_type": "stream",
     "text": [
      "Empty args\n"
     ]
    }
   ],
   "source": [
    "if(f34() == 0):\n",
    "    print('Empty args')"
   ]
  },
  {
   "cell_type": "code",
   "execution_count": 187,
   "id": "9981bcff",
   "metadata": {},
   "outputs": [
    {
     "name": "stdout",
     "output_type": "stream",
     "text": [
      "Login is matched\n"
     ]
    }
   ],
   "source": [
    "if(f34(name='root',sh='bash')):  # keyword args call \n",
    "    print('Login is matched')\n",
    "else:\n",
    "    print('Login is not-matched')"
   ]
  },
  {
   "cell_type": "code",
   "execution_count": 193,
   "id": "2d29c181",
   "metadata": {},
   "outputs": [
    {
     "name": "stdout",
     "output_type": "stream",
     "text": [
      "<class 'str'> 20\n"
     ]
    },
    {
     "data": {
      "text/plain": [
       "['usrA', 'sales', 'pune', '1000']"
      ]
     },
     "execution_count": 193,
     "metadata": {},
     "output_type": "execute_result"
    }
   ],
   "source": [
    "s='usrA,sales,pune,1000'\n",
    "print(type(s),len(s))\n",
    "\n",
    "# split single data ->multiple values -> input_stringName.split() ->output_list\n",
    "\n",
    "s.split(\",\")"
   ]
  },
  {
   "cell_type": "code",
   "execution_count": 195,
   "id": "98312bb1",
   "metadata": {},
   "outputs": [
    {
     "name": "stdout",
     "output_type": "stream",
     "text": [
      "<class 'list'> 4\n",
      "usrA 1000\n"
     ]
    }
   ],
   "source": [
    "L = s.split(\",\")\n",
    "print(type(L),len(L))\n",
    "print(L[0],L[-1])"
   ]
  },
  {
   "cell_type": "code",
   "execution_count": 209,
   "id": "91322e63",
   "metadata": {},
   "outputs": [
    {
     "name": "stdout",
     "output_type": "stream",
     "text": [
      "20.0\n",
      "     K1\n",
      "0  10.0\n",
      "1  20.0\n",
      "2  30.0\n",
      "3   NaN\n",
      "     K1\n",
      "0  10.0\n",
      "1  20.0\n",
      "2  30.0\n",
      "3    OK\n"
     ]
    }
   ],
   "source": [
    "def fx(a):\n",
    "    print(a.loc[1]['K1'])\n",
    "    print(a)\n",
    "    a.fillna(value='OK',inplace=True)\n",
    "    print(a)\n",
    "    \n",
    "df = pandas.DataFrame({'K1':[10,20,30,None]})\n",
    "fx(df)"
   ]
  },
  {
   "cell_type": "code",
   "execution_count": 210,
   "id": "c741aad0",
   "metadata": {},
   "outputs": [
    {
     "data": {
      "text/html": [
       "<div>\n",
       "<style scoped>\n",
       "    .dataframe tbody tr th:only-of-type {\n",
       "        vertical-align: middle;\n",
       "    }\n",
       "\n",
       "    .dataframe tbody tr th {\n",
       "        vertical-align: top;\n",
       "    }\n",
       "\n",
       "    .dataframe thead th {\n",
       "        text-align: right;\n",
       "    }\n",
       "</style>\n",
       "<table border=\"1\" class=\"dataframe\">\n",
       "  <thead>\n",
       "    <tr style=\"text-align: right;\">\n",
       "      <th></th>\n",
       "      <th>K1</th>\n",
       "    </tr>\n",
       "  </thead>\n",
       "  <tbody>\n",
       "    <tr>\n",
       "      <th>0</th>\n",
       "      <td>10.0</td>\n",
       "    </tr>\n",
       "    <tr>\n",
       "      <th>1</th>\n",
       "      <td>20.0</td>\n",
       "    </tr>\n",
       "    <tr>\n",
       "      <th>2</th>\n",
       "      <td>30.0</td>\n",
       "    </tr>\n",
       "    <tr>\n",
       "      <th>3</th>\n",
       "      <td>OK</td>\n",
       "    </tr>\n",
       "  </tbody>\n",
       "</table>\n",
       "</div>"
      ],
      "text/plain": [
       "     K1\n",
       "0  10.0\n",
       "1  20.0\n",
       "2  30.0\n",
       "3    OK"
      ]
     },
     "execution_count": 210,
     "metadata": {},
     "output_type": "execute_result"
    }
   ],
   "source": [
    "df"
   ]
  },
  {
   "cell_type": "code",
   "execution_count": null,
   "id": "190a696e",
   "metadata": {},
   "outputs": [],
   "source": []
  },
  {
   "cell_type": "code",
   "execution_count": 211,
   "id": "a84c0e03",
   "metadata": {},
   "outputs": [
    {
     "data": {
      "text/plain": [
       "<_io.TextIOWrapper name='E:\\\\emp.csv' mode='r' encoding='cp1252'>"
      ]
     },
     "execution_count": 211,
     "metadata": {},
     "output_type": "execute_result"
    }
   ],
   "source": [
    "open('E:\\\\emp.csv')"
   ]
  },
  {
   "cell_type": "code",
   "execution_count": 212,
   "id": "1419bd2a",
   "metadata": {},
   "outputs": [
    {
     "data": {
      "text/plain": [
       "'eid,ename,edept,eplace,ecost\\n101,raj,sales,pune,1000\\n102,leo,prod,bglore,2000\\n103,paul,HR,chennai,3000\\n104,anu,hr,hyderabad,4000\\n456,kumar,sales,bglore,3000\\n105,zion,Hr,mumbai,5000\\n106,bibu,sales,bglore,1450\\n107,theeb,sales,noida,4590\\n108,bibu,sales,bglore,5000'"
      ]
     },
     "execution_count": 212,
     "metadata": {},
     "output_type": "execute_result"
    }
   ],
   "source": [
    "fobj = open('E:\\\\emp.csv')\n",
    "fobj.read()"
   ]
  },
  {
   "cell_type": "code",
   "execution_count": 213,
   "id": "a0a2c78e",
   "metadata": {},
   "outputs": [
    {
     "data": {
      "text/plain": [
       "['eid,ename,edept,eplace,ecost\\n',\n",
       " '101,raj,sales,pune,1000\\n',\n",
       " '102,leo,prod,bglore,2000\\n',\n",
       " '103,paul,HR,chennai,3000\\n',\n",
       " '104,anu,hr,hyderabad,4000\\n',\n",
       " '456,kumar,sales,bglore,3000\\n',\n",
       " '105,zion,Hr,mumbai,5000\\n',\n",
       " '106,bibu,sales,bglore,1450\\n',\n",
       " '107,theeb,sales,noida,4590\\n',\n",
       " '108,bibu,sales,bglore,5000']"
      ]
     },
     "execution_count": 213,
     "metadata": {},
     "output_type": "execute_result"
    }
   ],
   "source": [
    "fobj = open('E:\\\\emp.csv')\n",
    "fobj.readlines()"
   ]
  },
  {
   "cell_type": "code",
   "execution_count": 215,
   "id": "9ed657b9",
   "metadata": {},
   "outputs": [
    {
     "name": "stdout",
     "output_type": "stream",
     "text": [
      "<class 'str'> 261 \n",
      "\n",
      "eid,ename,edept,eplace,ecost\n",
      "101,raj,sales,pune,1000\n",
      "102,leo,prod,bglore,2000\n",
      "103,paul,HR,chennai,3000\n",
      "104,anu,hr,hyderabad,4000\n",
      "456,kumar,sales,bglore,3000\n",
      "105,zion,Hr,mumbai,5000\n",
      "106,bibu,sales,bglore,1450\n",
      "107,theeb,sales,noida,4590\n",
      "108,bibu,sales,bglore,5000\n",
      "\n",
      "EID,ENAME,EDEPT,EPLACE,ECOST\n",
      "101,RAJ,SALES,PUNE,1000\n",
      "102,LEO,PROD,BGLORE,2000\n",
      "103,PAUL,HR,CHENNAI,3000\n",
      "104,ANU,HR,HYDERABAD,4000\n",
      "456,KUMAR,SALES,BGLORE,3000\n",
      "105,ZION,HR,MUMBAI,5000\n",
      "106,BIBU,SALES,BGLORE,1450\n",
      "107,THEEB,SALES,NOIDA,4590\n",
      "108,BIBU,SALES,BGLORE,5000\n"
     ]
    }
   ],
   "source": [
    "fobj = open('E:\\\\emp.csv') # fobj=open('C:\\\\Users\\\\Downloads\\\\emp.csv')\n",
    "s = fobj.read()\n",
    "fobj.close()\n",
    "print(type(s),len(s),'\\n')\n",
    "print(s)\n",
    "print('')\n",
    "print(s.upper())"
   ]
  },
  {
   "cell_type": "code",
   "execution_count": 216,
   "id": "e35e40a1",
   "metadata": {},
   "outputs": [
    {
     "name": "stdout",
     "output_type": "stream",
     "text": [
      "<class 'list'> 10\n"
     ]
    }
   ],
   "source": [
    "fobj = open('E:\\\\emp.csv')\n",
    "L = fobj.readlines()\n",
    "fobj.close()\n",
    "print(type(L),len(L))"
   ]
  },
  {
   "cell_type": "code",
   "execution_count": 217,
   "id": "a2b2b604",
   "metadata": {},
   "outputs": [
    {
     "data": {
      "text/plain": [
       "'eid,ename,edept,eplace,ecost\\n'"
      ]
     },
     "execution_count": 217,
     "metadata": {},
     "output_type": "execute_result"
    }
   ],
   "source": [
    "L[0]"
   ]
  },
  {
   "cell_type": "code",
   "execution_count": 218,
   "id": "5386f38c",
   "metadata": {},
   "outputs": [
    {
     "data": {
      "text/plain": [
       "['106,bibu,sales,bglore,1450\\n',\n",
       " '107,theeb,sales,noida,4590\\n',\n",
       " '108,bibu,sales,bglore,5000']"
      ]
     },
     "execution_count": 218,
     "metadata": {},
     "output_type": "execute_result"
    }
   ],
   "source": [
    "L[-3:] # last 3 lines"
   ]
  },
  {
   "cell_type": "code",
   "execution_count": 219,
   "id": "d74382a5",
   "metadata": {},
   "outputs": [],
   "source": [
    "fobj = open('E:\\\\emp.csv')\n",
    "L = fobj.readlines()\n",
    "fobj.close()"
   ]
  },
  {
   "cell_type": "code",
   "execution_count": 220,
   "id": "bcf38f62",
   "metadata": {},
   "outputs": [
    {
     "name": "stdout",
     "output_type": "stream",
     "text": [
      "eid,ename,edept,eplace,ecost\n",
      "\n",
      "101,raj,sales,pune,1000\n",
      "\n",
      "102,leo,prod,bglore,2000\n",
      "\n",
      "103,paul,HR,chennai,3000\n",
      "\n",
      "104,anu,hr,hyderabad,4000\n",
      "\n",
      "456,kumar,sales,bglore,3000\n",
      "\n",
      "105,zion,Hr,mumbai,5000\n",
      "\n",
      "106,bibu,sales,bglore,1450\n",
      "\n",
      "107,theeb,sales,noida,4590\n",
      "\n",
      "108,bibu,sales,bglore,5000\n",
      "\n",
      "113,kumar,prod,hyderabad,5423\n"
     ]
    }
   ],
   "source": [
    "for var in L:\n",
    "    print(var)"
   ]
  },
  {
   "cell_type": "code",
   "execution_count": 221,
   "id": "149a17eb",
   "metadata": {},
   "outputs": [
    {
     "data": {
      "text/plain": [
       "'data'"
      ]
     },
     "execution_count": 221,
     "metadata": {},
     "output_type": "execute_result"
    }
   ],
   "source": [
    "s=\"data\\n\"\n",
    "s.strip()"
   ]
  },
  {
   "cell_type": "code",
   "execution_count": 222,
   "id": "142b6839",
   "metadata": {},
   "outputs": [
    {
     "name": "stdout",
     "output_type": "stream",
     "text": [
      "eid,ename,edept,eplace,ecost\n",
      "101,raj,sales,pune,1000\n",
      "102,leo,prod,bglore,2000\n",
      "103,paul,HR,chennai,3000\n",
      "104,anu,hr,hyderabad,4000\n",
      "456,kumar,sales,bglore,3000\n",
      "105,zion,Hr,mumbai,5000\n",
      "106,bibu,sales,bglore,1450\n",
      "107,theeb,sales,noida,4590\n",
      "108,bibu,sales,bglore,5000\n",
      "113,kumar,prod,hyderabad,5423\n"
     ]
    }
   ],
   "source": [
    "for var in L:\n",
    "    var=var.strip() # remove \\n chars\n",
    "    print(var)"
   ]
  },
  {
   "cell_type": "code",
   "execution_count": 223,
   "id": "e6dbfe9a",
   "metadata": {},
   "outputs": [],
   "source": [
    "def file_read(fname):\n",
    "    fobj = open(fname)\n",
    "    L = fobj.readlines()\n",
    "    fobj.close()\n",
    "    for var in L:\n",
    "        var=var.strip() # remove \\n chars\n",
    "        print(var)     # display file content to monitor"
   ]
  },
  {
   "cell_type": "code",
   "execution_count": 224,
   "id": "82b4917e",
   "metadata": {},
   "outputs": [
    {
     "name": "stdout",
     "output_type": "stream",
     "text": [
      "eid,ename,edept,eplace,ecost\n",
      "101,raj,sales,pune,1000\n",
      "102,leo,prod,bglore,2000\n",
      "103,paul,HR,chennai,3000\n",
      "104,anu,hr,hyderabad,4000\n",
      "456,kumar,sales,bglore,3000\n",
      "105,zion,Hr,mumbai,5000\n",
      "106,bibu,sales,bglore,1450\n",
      "107,theeb,sales,noida,4590\n",
      "108,bibu,sales,bglore,5000\n",
      "113,kumar,prod,hyderabad,5423\n"
     ]
    }
   ],
   "source": [
    "file_read('e:\\\\emp.csv')"
   ]
  },
  {
   "cell_type": "code",
   "execution_count": null,
   "id": "4b2f73f6",
   "metadata": {},
   "outputs": [],
   "source": [
    "# findstr <pattern> inputFile\n",
    "\n",
    "read a inputFile content -line by line   - File Handling\n",
    "search a pattern from <inputLine>        - use membership 'sales' in ...\n",
    "print matched pattern line only          - if only style"
   ]
  },
  {
   "cell_type": "code",
   "execution_count": 225,
   "id": "c6706b18",
   "metadata": {},
   "outputs": [
    {
     "name": "stdout",
     "output_type": "stream",
     "text": [
      "101,raj,sales,pune,1000\n",
      "456,kumar,sales,bglore,3000\n",
      "106,bibu,sales,bglore,1450\n",
      "107,theeb,sales,noida,4590\n",
      "108,bibu,sales,bglore,5000\n"
     ]
    }
   ],
   "source": [
    "fobj = open('E:\\\\emp.csv')\n",
    "L = fobj.readlines()\n",
    "fobj.close()\n",
    "\n",
    "for var in L:\n",
    "    var=var.strip()\n",
    "    if('sales' in var):\n",
    "        print(var)"
   ]
  },
  {
   "cell_type": "code",
   "execution_count": 227,
   "id": "4a9bbe89",
   "metadata": {},
   "outputs": [],
   "source": [
    "def myfind_str(arg1,arg2='E:\\\\emp.csv'):\n",
    "    fobj = open(arg2)\n",
    "    L = fobj.readlines()\n",
    "    fobj.close()\n",
    "    for var in L:\n",
    "        var=var.strip()\n",
    "        if(arg1 in var):\n",
    "            print(var)"
   ]
  },
  {
   "cell_type": "code",
   "execution_count": 228,
   "id": "f19fe6b9",
   "metadata": {},
   "outputs": [
    {
     "name": "stdout",
     "output_type": "stream",
     "text": [
      "102,leo,prod,bglore,2000\n",
      "113,kumar,prod,hyderabad,5423\n"
     ]
    }
   ],
   "source": [
    "myfind_str('prod')"
   ]
  },
  {
   "cell_type": "code",
   "execution_count": 226,
   "id": "88043ea4",
   "metadata": {},
   "outputs": [
    {
     "data": {
      "text/plain": [
       "{'CSV': ['eid,ename,edept,eplace,ecost\\n',\n",
       "  '101,raj,sales,pune,1000\\n',\n",
       "  '102,leo,prod,bglore,2000\\n',\n",
       "  '103,paul,HR,chennai,3000\\n',\n",
       "  '104,anu,hr,hyderabad,4000\\n',\n",
       "  '456,kumar,sales,bglore,3000\\n',\n",
       "  '105,zion,Hr,mumbai,5000\\n',\n",
       "  '106,bibu,sales,bglore,1450\\n',\n",
       "  '107,theeb,sales,noida,4590\\n',\n",
       "  '108,bibu,sales,bglore,5000\\n',\n",
       "  '113,kumar,prod,hyderabad,5423']}"
      ]
     },
     "execution_count": 226,
     "metadata": {},
     "output_type": "execute_result"
    }
   ],
   "source": [
    "d={}\n",
    "d['CSV']=L # adding new data to an existing dict\n",
    "d # dict of list"
   ]
  },
  {
   "cell_type": "code",
   "execution_count": 229,
   "id": "1e9f3eea",
   "metadata": {},
   "outputs": [
    {
     "data": {
      "text/plain": [
       "'456,kumar,sales,bglore,3000\\n'"
      ]
     },
     "execution_count": 229,
     "metadata": {},
     "output_type": "execute_result"
    }
   ],
   "source": [
    "d['CSV'][5]"
   ]
  },
  {
   "cell_type": "code",
   "execution_count": 230,
   "id": "3050ecf2",
   "metadata": {},
   "outputs": [
    {
     "name": "stdout",
     "output_type": "stream",
     "text": [
      "['101', 'raj', 'sales', 'pune', '1000']\n",
      "['456', 'kumar', 'sales', 'bglore', '3000']\n",
      "['106', 'bibu', 'sales', 'bglore', '1450']\n",
      "['107', 'theeb', 'sales', 'noida', '4590']\n",
      "['108', 'bibu', 'sales', 'bglore', '5000']\n"
     ]
    }
   ],
   "source": [
    "fobj = open('E:\\\\emp.csv')\n",
    "L = fobj.readlines()\n",
    "fobj.close()\n",
    "\n",
    "for var in L:\n",
    "    var=var.strip()\n",
    "    if('sales' in var):\n",
    "        print(var.split(\",\"))"
   ]
  },
  {
   "cell_type": "code",
   "execution_count": 231,
   "id": "24de80cf",
   "metadata": {},
   "outputs": [
    {
     "name": "stdout",
     "output_type": "stream",
     "text": [
      "Raj\tPUNE\n",
      "Kumar\tBGLORE\n",
      "Bibu\tBGLORE\n",
      "Theeb\tNOIDA\n",
      "Bibu\tBGLORE\n"
     ]
    }
   ],
   "source": [
    "fobj = open('E:\\\\emp.csv')\n",
    "L = fobj.readlines()\n",
    "fobj.close()\n",
    "\n",
    "for var in L:\n",
    "    var=var.strip() # remove \\n chars\n",
    "    if('sales' in var):\n",
    "        eid,ename,edept,eplace,ecost = var.split(\",\") # split single data to multiple values\n",
    "        print(f'{ename.title()}\\t{eplace.upper()}')"
   ]
  },
  {
   "cell_type": "code",
   "execution_count": 234,
   "id": "e9792fdb",
   "metadata": {},
   "outputs": [
    {
     "name": "stdout",
     "output_type": "stream",
     "text": [
      "\tRaj\tPUNE\n",
      "\tKumar\tBGLORE\n",
      "\tBibu\tBGLORE\n",
      "\tTheeb\tNOIDA\n",
      "\tBibu\tBGLORE\n",
      "---------------------------------------------\n",
      "\tSum of sales Emp's Cost:15040\n",
      "---------------------------------------------\n"
     ]
    }
   ],
   "source": [
    "fobj = open('E:\\\\emp.csv')\n",
    "L = fobj.readlines()\n",
    "fobj.close()\n",
    "\n",
    "total = 0\n",
    "for var in L:\n",
    "    var=var.strip() # remove \\n chars\n",
    "    if('sales' in var):\n",
    "        eid,ename,edept,eplace,ecost = var.split(\",\") # split single data to multiple values\n",
    "        print(f'\\t{ename.title()}\\t{eplace.upper()}')\n",
    "        total = total + int(ecost)\n",
    "        \n",
    "print('-'*45)\n",
    "print(f\"\\tSum of sales Emp's Cost:{total}\")\n",
    "print('-'*45)"
   ]
  },
  {
   "cell_type": "code",
   "execution_count": 238,
   "id": "0f281f96",
   "metadata": {},
   "outputs": [],
   "source": [
    "# To create a new file and write data to file\n",
    "pid=101\n",
    "pName='prodA'\n",
    "pcost=456.23\n",
    "\n",
    "wobj = open('E:\\\\DAY2\\\\r1.log','w')\n",
    "wobj.write(\"test data1\\n\")\n",
    "wobj.write(str(pid)+\"\\n\")\n",
    "wobj.write(\"prod Name:\"+pName+\"\\n\")\n",
    "wobj.write(str(pid)+\",\"+pName+\",\"+str(pcost)+\",\"+str(pcost * 0.18)+\"\\n\")\n",
    "wobj.close()"
   ]
  },
  {
   "cell_type": "code",
   "execution_count": 239,
   "id": "393c4bba",
   "metadata": {},
   "outputs": [],
   "source": [
    "emp={}\n",
    "emp['eid']=101\n",
    "emp['ename']='Arun'\n",
    "emp['ecity']='bglore'\n",
    "emp['Cost']=243423.32"
   ]
  },
  {
   "cell_type": "code",
   "execution_count": 241,
   "id": "e08169a3",
   "metadata": {},
   "outputs": [],
   "source": [
    "wobj = open('E:\\\\DAY2\\\\r2.log','w')\n",
    "for var in emp:\n",
    "    wobj.write(f'{var}:{emp[var]}\\n')\n",
    "wobj.close()"
   ]
  },
  {
   "cell_type": "code",
   "execution_count": 242,
   "id": "1295b4b2",
   "metadata": {},
   "outputs": [],
   "source": [
    "wobj = open('E:\\\\DAY2\\\\r2.log','a') # a - append\n",
    "wobj.write('-'*50+'\\n')\n",
    "wobj.close()"
   ]
  },
  {
   "cell_type": "code",
   "execution_count": null,
   "id": "42a5e2af",
   "metadata": {},
   "outputs": [],
   "source": [
    "# Reading data from InputFile ->python ->create and write data to ResultFile\n",
    "fobj = open('InputFile')\n",
    "wobj = open('ResultFile','w')\n",
    "s = fobj.read()\n",
    "wobj.write(s)\n",
    "fobj.close()\n",
    "wobj.close()"
   ]
  },
  {
   "cell_type": "code",
   "execution_count": 245,
   "id": "8dea8d17",
   "metadata": {},
   "outputs": [
    {
     "data": {
      "text/plain": [
       "False"
      ]
     },
     "execution_count": 245,
     "metadata": {},
     "output_type": "execute_result"
    }
   ],
   "source": [
    "# Test IP.log file is existing or not\n",
    "import os\n",
    "\"IP.log\" in os.listdir(\".\")"
   ]
  },
  {
   "cell_type": "code",
   "execution_count": 246,
   "id": "bbb3c7bf",
   "metadata": {},
   "outputs": [
    {
     "data": {
      "text/plain": [
       "True"
      ]
     },
     "execution_count": 246,
     "metadata": {},
     "output_type": "execute_result"
    }
   ],
   "source": [
    "# Test emp.csv file is existing or not\n",
    "\"emp.csv\" in os.listdir(\".\")"
   ]
  },
  {
   "cell_type": "code",
   "execution_count": 247,
   "id": "be26cde2",
   "metadata": {},
   "outputs": [
    {
     "name": "stdout",
     "output_type": "stream",
     "text": [
      "3.11.5 | packaged by Anaconda, Inc. | (main, Sep 11 2023, 13:26:23) [MSC v.1916 64 bit (AMD64)]\n"
     ]
    }
   ],
   "source": [
    "import sys\n",
    "print(sys.version)"
   ]
  },
  {
   "cell_type": "code",
   "execution_count": null,
   "id": "89388d4b",
   "metadata": {},
   "outputs": [],
   "source": [
    "help(sys)"
   ]
  },
  {
   "cell_type": "code",
   "execution_count": 248,
   "id": "45325a06",
   "metadata": {},
   "outputs": [
    {
     "name": "stdout",
     "output_type": "stream",
     "text": [
      "win32\n"
     ]
    }
   ],
   "source": [
    "print(sys.platform)"
   ]
  },
  {
   "cell_type": "code",
   "execution_count": 249,
   "id": "7e828c51",
   "metadata": {},
   "outputs": [
    {
     "name": "stdout",
     "output_type": "stream",
     "text": [
      "['C:\\\\Users\\\\Raja', 'E:\\\\project', 'C:\\\\ProgramData\\\\anaconda3\\\\python311.zip', 'C:\\\\ProgramData\\\\anaconda3\\\\DLLs', 'C:\\\\ProgramData\\\\anaconda3\\\\Lib', 'C:\\\\ProgramData\\\\anaconda3', '', 'C:\\\\Users\\\\Raja\\\\AppData\\\\Roaming\\\\Python\\\\Python311\\\\site-packages', 'C:\\\\ProgramData\\\\anaconda3\\\\Lib\\\\site-packages', 'C:\\\\ProgramData\\\\anaconda3\\\\Lib\\\\site-packages\\\\vboxapi-1.0-py3.11.egg', 'C:\\\\ProgramData\\\\anaconda3\\\\Lib\\\\site-packages\\\\win32', 'C:\\\\ProgramData\\\\anaconda3\\\\Lib\\\\site-packages\\\\win32\\\\lib', 'C:\\\\ProgramData\\\\anaconda3\\\\Lib\\\\site-packages\\\\Pythonwin']\n"
     ]
    }
   ],
   "source": [
    "print(sys.path)"
   ]
  },
  {
   "cell_type": "code",
   "execution_count": 251,
   "id": "a854a8f3",
   "metadata": {},
   "outputs": [
    {
     "ename": "ModuleNotFoundError",
     "evalue": "No module named 'mytestab'",
     "output_type": "error",
     "traceback": [
      "\u001b[1;31m---------------------------------------------------------------------------\u001b[0m",
      "\u001b[1;31mModuleNotFoundError\u001b[0m                       Traceback (most recent call last)",
      "Cell \u001b[1;32mIn[251], line 5\u001b[0m\n\u001b[0;32m      3\u001b[0m \u001b[38;5;28;01mimport\u001b[39;00m \u001b[38;5;21;01mpprint\u001b[39;00m\n\u001b[0;32m      4\u001b[0m \u001b[38;5;28;01mimport\u001b[39;00m \u001b[38;5;21;01mos\u001b[39;00m\n\u001b[1;32m----> 5\u001b[0m \u001b[38;5;28;01mimport\u001b[39;00m \u001b[38;5;21;01mmytestab\u001b[39;00m\n",
      "\u001b[1;31mModuleNotFoundError\u001b[0m: No module named 'mytestab'"
     ]
    }
   ],
   "source": [
    "import json\n",
    "import re\n",
    "import pprint\n",
    "import os\n",
    "import mytestab"
   ]
  }
 ],
 "metadata": {
  "kernelspec": {
   "display_name": "Python 3 (ipykernel)",
   "language": "python",
   "name": "python3"
  },
  "language_info": {
   "codemirror_mode": {
    "name": "ipython",
    "version": 3
   },
   "file_extension": ".py",
   "mimetype": "text/x-python",
   "name": "python",
   "nbconvert_exporter": "python",
   "pygments_lexer": "ipython3",
   "version": "3.11.5"
  }
 },
 "nbformat": 4,
 "nbformat_minor": 5
}
