{
 "cells": [
  {
   "cell_type": "code",
   "execution_count": null,
   "id": "3291429c",
   "metadata": {},
   "outputs": [],
   "source": [
    "Regular Expression - Regx\n",
    "-------------------  -----\n",
    " |->search\n",
    " |->substitute\n",
    " |->split\n",
    "    \n",
    "In python\n",
    "-----------\n",
    "module => re  --->  import re \n",
    "\n",
    "search \n",
    "--> re.search('input_pattern_string','input_string',re.I)  -> <ack>/None\n",
    "--> re.findall('input_pattern_string','input_string',re.I) -> [result]/[]"
   ]
  },
  {
   "cell_type": "code",
   "execution_count": 1,
   "id": "49c6bded",
   "metadata": {},
   "outputs": [
    {
     "name": "stdout",
     "output_type": "stream",
     "text": [
      "Matched\n"
     ]
    }
   ],
   "source": [
    "s='101,leo,sales,pune,1000'\n",
    "\n",
    "if('sales' in s):\n",
    "    print('Matched')\n",
    "else:\n",
    "    print('Not-Matched')"
   ]
  },
  {
   "cell_type": "code",
   "execution_count": 2,
   "id": "6622fa77",
   "metadata": {},
   "outputs": [
    {
     "data": {
      "text/plain": [
       "<re.Match object; span=(8, 13), match='sales'>"
      ]
     },
     "execution_count": 2,
     "metadata": {},
     "output_type": "execute_result"
    }
   ],
   "source": [
    "import re\n",
    "re.search('sales',s)"
   ]
  },
  {
   "cell_type": "code",
   "execution_count": 3,
   "id": "f791468c",
   "metadata": {},
   "outputs": [],
   "source": [
    "re.search('QA',s)"
   ]
  },
  {
   "cell_type": "code",
   "execution_count": 4,
   "id": "a82731ab",
   "metadata": {},
   "outputs": [
    {
     "data": {
      "text/plain": [
       "True"
      ]
     },
     "execution_count": 4,
     "metadata": {},
     "output_type": "execute_result"
    }
   ],
   "source": [
    "re.search('QA',s) == None"
   ]
  },
  {
   "cell_type": "code",
   "execution_count": 6,
   "id": "933a13fa",
   "metadata": {},
   "outputs": [
    {
     "name": "stdout",
     "output_type": "stream",
     "text": [
      "True\n",
      "False\n"
     ]
    }
   ],
   "source": [
    "print(bool(re.search('sales',s)))\n",
    "print(bool(re.search('QA',s)))"
   ]
  },
  {
   "cell_type": "code",
   "execution_count": 7,
   "id": "e886cc4f",
   "metadata": {},
   "outputs": [
    {
     "name": "stdout",
     "output_type": "stream",
     "text": [
      "101,leo,sales,pune,1000\n"
     ]
    }
   ],
   "source": [
    "if(re.search('sales',s)): # like if('sales' in s):\n",
    "    print(s)\n",
    "else:\n",
    "    print('Notmatched')"
   ]
  },
  {
   "cell_type": "code",
   "execution_count": 8,
   "id": "d4d55cd0",
   "metadata": {},
   "outputs": [
    {
     "name": "stdout",
     "output_type": "stream",
     "text": [
      "Help on function search in module re:\n",
      "\n",
      "search(pattern, string, flags=0)\n",
      "    Scan through string looking for a match to the pattern, returning\n",
      "    a Match object, or None if no match was found.\n",
      "\n"
     ]
    }
   ],
   "source": [
    "help(re.search)"
   ]
  },
  {
   "cell_type": "code",
   "execution_count": 11,
   "id": "a7174f54",
   "metadata": {},
   "outputs": [
    {
     "name": "stdout",
     "output_type": "stream",
     "text": [
      "Not-Matched\n",
      "101,leo,sales,pune,1000\n"
     ]
    }
   ],
   "source": [
    "if(re.search('SALES',s)):\n",
    "    print('Matched')\n",
    "    print(s)\n",
    "else:\n",
    "    print('Not-Matched')\n",
    "    print(s)"
   ]
  },
  {
   "cell_type": "code",
   "execution_count": 12,
   "id": "92f67ac1",
   "metadata": {},
   "outputs": [
    {
     "name": "stdout",
     "output_type": "stream",
     "text": [
      "Matched\n",
      "101,leo,sales,pune,1000\n"
     ]
    }
   ],
   "source": [
    "if(re.search('SALES',s,re.I)):\n",
    "    print('Matched')\n",
    "    print(s)\n",
    "else:\n",
    "    print('Not-Matched')"
   ]
  },
  {
   "cell_type": "code",
   "execution_count": 13,
   "id": "88614eba",
   "metadata": {},
   "outputs": [
    {
     "name": "stdout",
     "output_type": "stream",
     "text": [
      "103,paul,HR,chennai,3000\n",
      "104,anu,hr,hyderabad,4000\n",
      "105,zion,Hr,mumbai,5000\n"
     ]
    }
   ],
   "source": [
    "fobj = open('E:\\\\emp.csv')\n",
    "L = fobj.readlines()\n",
    "fobj.close()\n",
    "\n",
    "for var in L:\n",
    "    var=var.strip() # remove \\n\n",
    "    if(re.search('hr',var,re.I)):\n",
    "        print(var)"
   ]
  },
  {
   "cell_type": "code",
   "execution_count": 14,
   "id": "239809d1",
   "metadata": {},
   "outputs": [
    {
     "ename": "TypeError",
     "evalue": "first argument must be string or compiled pattern",
     "output_type": "error",
     "traceback": [
      "\u001b[1;31m---------------------------------------------------------------------------\u001b[0m",
      "\u001b[1;31mTypeError\u001b[0m                                 Traceback (most recent call last)",
      "Cell \u001b[1;32mIn[14], line 7\u001b[0m\n\u001b[0;32m      5\u001b[0m \u001b[38;5;28;01mfor\u001b[39;00m var \u001b[38;5;129;01min\u001b[39;00m L:\n\u001b[0;32m      6\u001b[0m     var\u001b[38;5;241m=\u001b[39mvar\u001b[38;5;241m.\u001b[39mstrip() \u001b[38;5;66;03m# remove \\n\u001b[39;00m\n\u001b[1;32m----> 7\u001b[0m     \u001b[38;5;28;01mif\u001b[39;00m(re\u001b[38;5;241m.\u001b[39msearch(\u001b[38;5;241m4000\u001b[39m,var)):\n\u001b[0;32m      8\u001b[0m         \u001b[38;5;28mprint\u001b[39m(var)\n",
      "File \u001b[1;32mC:\\ProgramData\\anaconda3\\Lib\\re\\__init__.py:176\u001b[0m, in \u001b[0;36msearch\u001b[1;34m(pattern, string, flags)\u001b[0m\n\u001b[0;32m    173\u001b[0m \u001b[38;5;28;01mdef\u001b[39;00m \u001b[38;5;21msearch\u001b[39m(pattern, string, flags\u001b[38;5;241m=\u001b[39m\u001b[38;5;241m0\u001b[39m):\n\u001b[0;32m    174\u001b[0m \u001b[38;5;250m    \u001b[39m\u001b[38;5;124;03m\"\"\"Scan through string looking for a match to the pattern, returning\u001b[39;00m\n\u001b[0;32m    175\u001b[0m \u001b[38;5;124;03m    a Match object, or None if no match was found.\"\"\"\u001b[39;00m\n\u001b[1;32m--> 176\u001b[0m     \u001b[38;5;28;01mreturn\u001b[39;00m _compile(pattern, flags)\u001b[38;5;241m.\u001b[39msearch(string)\n",
      "File \u001b[1;32mC:\\ProgramData\\anaconda3\\Lib\\re\\__init__.py:286\u001b[0m, in \u001b[0;36m_compile\u001b[1;34m(pattern, flags)\u001b[0m\n\u001b[0;32m    284\u001b[0m     \u001b[38;5;28;01mreturn\u001b[39;00m pattern\n\u001b[0;32m    285\u001b[0m \u001b[38;5;28;01mif\u001b[39;00m \u001b[38;5;129;01mnot\u001b[39;00m _compiler\u001b[38;5;241m.\u001b[39misstring(pattern):\n\u001b[1;32m--> 286\u001b[0m     \u001b[38;5;28;01mraise\u001b[39;00m \u001b[38;5;167;01mTypeError\u001b[39;00m(\u001b[38;5;124m\"\u001b[39m\u001b[38;5;124mfirst argument must be string or compiled pattern\u001b[39m\u001b[38;5;124m\"\u001b[39m)\n\u001b[0;32m    287\u001b[0m \u001b[38;5;28;01mif\u001b[39;00m flags \u001b[38;5;241m&\u001b[39m T:\n\u001b[0;32m    288\u001b[0m     \u001b[38;5;28;01mimport\u001b[39;00m \u001b[38;5;21;01mwarnings\u001b[39;00m\n",
      "\u001b[1;31mTypeError\u001b[0m: first argument must be string or compiled pattern"
     ]
    }
   ],
   "source": [
    "fobj = open('E:\\\\emp.csv')\n",
    "L = fobj.readlines()\n",
    "fobj.close()\n",
    "\n",
    "for var in L:\n",
    "    var=var.strip() # remove \\n\n",
    "    if(re.search(4000,var)):\n",
    "        print(var)"
   ]
  },
  {
   "cell_type": "code",
   "execution_count": 15,
   "id": "c71c03fe",
   "metadata": {},
   "outputs": [
    {
     "name": "stdout",
     "output_type": "stream",
     "text": [
      "104,anu,hr,hyderabad,4000\n"
     ]
    }
   ],
   "source": [
    "fobj = open('E:\\\\emp.csv')\n",
    "L = fobj.readlines()\n",
    "fobj.close()\n",
    "\n",
    "for var in L:\n",
    "    var=var.strip() # remove \\n\n",
    "    if(re.search(str(4000),var)):\n",
    "        print(var)"
   ]
  },
  {
   "cell_type": "code",
   "execution_count": 16,
   "id": "00379e3f",
   "metadata": {},
   "outputs": [
    {
     "data": {
      "text/plain": [
       "['sales']"
      ]
     },
     "execution_count": 16,
     "metadata": {},
     "output_type": "execute_result"
    }
   ],
   "source": [
    "re.findall('sales',s,re.I)"
   ]
  },
  {
   "cell_type": "code",
   "execution_count": 17,
   "id": "56ad64ec",
   "metadata": {},
   "outputs": [
    {
     "data": {
      "text/plain": [
       "[]"
      ]
     },
     "execution_count": 17,
     "metadata": {},
     "output_type": "execute_result"
    }
   ],
   "source": [
    "re.findall('QA',s,re.I)"
   ]
  },
  {
   "cell_type": "code",
   "execution_count": 18,
   "id": "515ab25b",
   "metadata": {},
   "outputs": [
    {
     "data": {
      "text/plain": [
       "<re.Match object; span=(4, 9), match='sales'>"
      ]
     },
     "execution_count": 18,
     "metadata": {},
     "output_type": "execute_result"
    }
   ],
   "source": [
    "s='101,sales,arun,sales,pune,sales'\n",
    "re.search('sales',s)"
   ]
  },
  {
   "cell_type": "code",
   "execution_count": 19,
   "id": "94380c77",
   "metadata": {},
   "outputs": [
    {
     "data": {
      "text/plain": [
       "['sales', 'sales', 'sales']"
      ]
     },
     "execution_count": 19,
     "metadata": {},
     "output_type": "execute_result"
    }
   ],
   "source": [
    "re.findall('sales',s)"
   ]
  },
  {
   "cell_type": "code",
   "execution_count": 21,
   "id": "8ad3ca88",
   "metadata": {},
   "outputs": [
    {
     "data": {
      "text/plain": [
       "(4, 9)"
      ]
     },
     "execution_count": 21,
     "metadata": {},
     "output_type": "execute_result"
    }
   ],
   "source": [
    "obj = re.search('sales',s)\n",
    "obj.span()"
   ]
  },
  {
   "cell_type": "code",
   "execution_count": 23,
   "id": "6c561cb3",
   "metadata": {},
   "outputs": [
    {
     "data": {
      "text/plain": [
       "'sales'"
      ]
     },
     "execution_count": 23,
     "metadata": {},
     "output_type": "execute_result"
    }
   ],
   "source": [
    "obj.group()"
   ]
  },
  {
   "cell_type": "code",
   "execution_count": null,
   "id": "3106087b",
   "metadata": {},
   "outputs": [],
   "source": [
    "Regx \n",
    " |-----> Basic Regular Expression (BRE) - Single Pattern\n",
    " |\n",
    " |-----> Extended Regular Expression (ERE) - Multiple Patterns\n",
    "    \n",
    "Pattern - str type\n",
    " |->A-Za-z0-9space specialchars \n",
    "    \n",
    "BRE - symbols\n",
    "====  ========\n",
    "^ $ ^pattern$ . .* [ ] ^[ ] [^ ] [ ]$   ^$\n",
    "\n",
    "\\s <== matching space chars\n",
    "\n",
    "^pattern\n",
    "\n",
    "pattern$\n",
    "\n",
    "^pattern$ - pattern only style\n",
    "\n",
    ". (dot) - match any char except \\n\n",
    "\n",
    ".* - list of all\n",
    "\n",
    "[] - character class \n",
    "\n",
    "[Aak]run  -> Arun arun krun //OK\n",
    "\n",
    "[Aa][Rr]un -> ARun Arun aRun arun //OK\n",
    "\n",
    "[a-z]\n",
    "\n",
    "[A-Z]\n",
    "\n",
    "[a-zA-Z]\n",
    "\n",
    "[0-9] \n",
    "\n",
    "[a-zA-Z0-9]\n",
    "\n",
    "^[a-zA-Z] <== line starts with any alpha \n",
    "\n",
    "[a-z]$ <== line ends with anylowercase char\n",
    "\n",
    "[c-e] ==>[cde] \n",
    "[5-9] ==>[56789]\n",
    "\n",
    "\n",
    "[a5T] ->bash  Vs   ^[a5T]         Vs    [^a5T]\n",
    "         -                               ===== NOT matching a\n",
    "        OL5                                    NOT matching 5\n",
    "          -                                    NOT matching T\n",
    "        Temp            Temp\n",
    "        -               -\n",
    "        aT              aT\n",
    "        --              -\n",
    "        \n",
    "[^a-z]  - Notmatching any lowercase chars\n",
    "[^A-Z]  - Notmatching any uppercase chars\n",
    "[^a-zA-Z] - Not matching any alpha\n",
    "[^0-9] - Not matching any digits         \n",
    "\n",
    "[^a-zA-Z0-9] - Not matching alpha numeric  - match space and specialchars\n",
    "\n",
    "[^a-zA-Z0-9\\s] - Matching any specialchars <-- [^\\w\\s]\n",
    "---------------\n",
    "\n",
    "[0-9] same as --> \\d\n",
    "\n",
    "[a-zA-Z0-9] same as ---> \\w\n",
    "\n",
    "^$ -> empty line\n",
    " \n",
    "Extended Regular Expression (ERE) - Multiple Patterns\n",
    "=====================================================\n",
    " | () + {}\n",
    "    \n",
    "pattern1|pattern2 - any one pattern is matched ->OK \n",
    "\n",
    "(pattern1)(pattern2) - both pattern should match ->OK \n",
    "\n",
    "<pattern>+  -> 1 or more times\n",
    "----------\n",
    "ab+c --->abc abbbbbbbbbbbbbbbbbbbbc //OK   abbbbbbbb,bbbbbbbc //Not-OK\n",
    "\n",
    "^\\s+ <== line starts with 1 or more space \n",
    "\n",
    "<pattern>{n} - n times  => ab{3}c => abbbc //OK    abc abbc abbbbc //Not-OK\n",
    "\n",
    "^[A-Z][A-Z][A-Z][0-9][0-9][0-9][0-9][0-9][a-z][a-z]$ <== BRE\n",
    "\n",
    "^[A-Z]{3}[0-9]{5}[a-z]{2}$ <== ERE\n",
    "\n",
    "<pattern>{n,} - minimum n times - maximum nolimit\n",
    "ab{3,}c -->abbbc abbbbbbbbbbbbbbbbbbbbbbbc //OK\n",
    "\n",
    "ab{1,}c same as ab+c \n",
    "----------------------\n",
    "\n",
    "^\\s+[0-9]{4,}.*(net|dbus|system).*[a-e]$\n",
    " ---=========___ .............. __ ____\n",
    "    \n",
    "<pattern>{n,m} - minimum n times - maximum m times\n",
    "\n",
    "ab{3,5}c ==>abbbc abbbbc abbbbbc //OK\n",
    "\n",
    "abc\n",
    "abbc\n",
    "abbbbbbc\n",
    "--------------//Not-ok"
   ]
  },
  {
   "cell_type": "code",
   "execution_count": 24,
   "id": "ef782ab0",
   "metadata": {},
   "outputs": [],
   "source": [
    "re.search('^sales','101,sales')"
   ]
  },
  {
   "cell_type": "code",
   "execution_count": 25,
   "id": "192c4c59",
   "metadata": {},
   "outputs": [
    {
     "data": {
      "text/plain": [
       "<re.Match object; span=(0, 5), match='sales'>"
      ]
     },
     "execution_count": 25,
     "metadata": {},
     "output_type": "execute_result"
    }
   ],
   "source": [
    "re.search('^sales','sales safsadfdsafsadfsdafsad')"
   ]
  },
  {
   "cell_type": "code",
   "execution_count": 26,
   "id": "dc3387e9",
   "metadata": {},
   "outputs": [],
   "source": [
    "re.search('^5','RHL5')"
   ]
  },
  {
   "cell_type": "code",
   "execution_count": 27,
   "id": "33704e32",
   "metadata": {},
   "outputs": [
    {
     "data": {
      "text/plain": [
       "<re.Match object; span=(0, 1), match='5'>"
      ]
     },
     "execution_count": 27,
     "metadata": {},
     "output_type": "execute_result"
    }
   ],
   "source": [
    "re.search('^5','5list')"
   ]
  },
  {
   "cell_type": "code",
   "execution_count": 28,
   "id": "41dcbcff",
   "metadata": {},
   "outputs": [],
   "source": [
    "re.search('^5',' 5list')"
   ]
  },
  {
   "cell_type": "code",
   "execution_count": 29,
   "id": "39cbbf02",
   "metadata": {},
   "outputs": [
    {
     "data": {
      "text/plain": [
       "<re.Match object; span=(0, 1), match=' '>"
      ]
     },
     "execution_count": 29,
     "metadata": {},
     "output_type": "execute_result"
    }
   ],
   "source": [
    "re.search('^\\s',' 5list') # Input_ line starts with space chars"
   ]
  },
  {
   "cell_type": "code",
   "execution_count": 30,
   "id": "d5cda38a",
   "metadata": {},
   "outputs": [],
   "source": [
    "re.search('^\\s','python programming') # Input_ line starts with space chars"
   ]
  },
  {
   "cell_type": "code",
   "execution_count": 31,
   "id": "4c41ed0f",
   "metadata": {},
   "outputs": [
    {
     "name": "stdout",
     "output_type": "stream",
     "text": [
      "sales,bglore\n",
      "sales,\n",
      "sales\n"
     ]
    }
   ],
   "source": [
    "fobj = open('E:\\\\DA\\\\IP1.txt')\n",
    "L = fobj.readlines()\n",
    "fobj.close()\n",
    "\n",
    "for var in L:\n",
    "    if(re.search('^sales',var)):\n",
    "        print(var.strip())"
   ]
  },
  {
   "cell_type": "code",
   "execution_count": 33,
   "id": "3c4ccf3c",
   "metadata": {},
   "outputs": [
    {
     "data": {
      "text/plain": [
       "<re.Match object; span=(0, 5), match='sales'>"
      ]
     },
     "execution_count": 33,
     "metadata": {},
     "output_type": "execute_result"
    }
   ],
   "source": [
    "re.search('^sales','sales list')"
   ]
  },
  {
   "cell_type": "code",
   "execution_count": 34,
   "id": "1d6141c9",
   "metadata": {},
   "outputs": [],
   "source": [
    "re.search('sales$','sales list')"
   ]
  },
  {
   "cell_type": "code",
   "execution_count": 35,
   "id": "2bbaf725",
   "metadata": {},
   "outputs": [
    {
     "data": {
      "text/plain": [
       "<re.Match object; span=(21, 26), match='sales'>"
      ]
     },
     "execution_count": 35,
     "metadata": {},
     "output_type": "execute_result"
    }
   ],
   "source": [
    "re.search('sales$','asdfasdfdsa3434safas sales')"
   ]
  },
  {
   "cell_type": "code",
   "execution_count": 36,
   "id": "f772773d",
   "metadata": {},
   "outputs": [],
   "source": [
    "re.search('\\s$',' data')"
   ]
  },
  {
   "cell_type": "code",
   "execution_count": 37,
   "id": "a5ade7a9",
   "metadata": {},
   "outputs": [],
   "source": [
    "re.search('\\s$','python regx')"
   ]
  },
  {
   "cell_type": "code",
   "execution_count": 38,
   "id": "b1250870",
   "metadata": {},
   "outputs": [
    {
     "data": {
      "text/plain": [
       "<re.Match object; span=(10, 11), match=' '>"
      ]
     },
     "execution_count": 38,
     "metadata": {},
     "output_type": "execute_result"
    }
   ],
   "source": [
    "re.search('\\s$','pythonregx ')"
   ]
  },
  {
   "cell_type": "code",
   "execution_count": 39,
   "id": "336655cc",
   "metadata": {},
   "outputs": [
    {
     "name": "stdout",
     "output_type": "stream",
     "text": [
      "leo,sales\n",
      "sales\n",
      "345,anu,sales\n"
     ]
    }
   ],
   "source": [
    "fobj = open('E:\\\\DA\\\\IP1.txt')\n",
    "L = fobj.readlines()\n",
    "fobj.close()\n",
    "\n",
    "for var in L:\n",
    "    if(re.search('sales$',var)): # filter line ends with sales word\n",
    "        print(var.strip())"
   ]
  },
  {
   "cell_type": "code",
   "execution_count": 40,
   "id": "61618f85",
   "metadata": {},
   "outputs": [
    {
     "data": {
      "text/plain": [
       "<re.Match object; span=(0, 5), match='sales'>"
      ]
     },
     "execution_count": 40,
     "metadata": {},
     "output_type": "execute_result"
    }
   ],
   "source": [
    "re.search('^sales$','sales')"
   ]
  },
  {
   "cell_type": "code",
   "execution_count": 41,
   "id": "2859acfe",
   "metadata": {},
   "outputs": [],
   "source": [
    "re.search('^sales$','sales ')"
   ]
  },
  {
   "cell_type": "code",
   "execution_count": 42,
   "id": "8e1d7fd2",
   "metadata": {},
   "outputs": [],
   "source": [
    "re.search('^sales$','salessales')"
   ]
  },
  {
   "cell_type": "code",
   "execution_count": 43,
   "id": "aeedf853",
   "metadata": {},
   "outputs": [],
   "source": [
    "re.search('^sales$',' sales')"
   ]
  },
  {
   "cell_type": "code",
   "execution_count": 44,
   "id": "eb13a1ce",
   "metadata": {},
   "outputs": [],
   "source": [
    "re.search('^python programming$','pythonprogramming')"
   ]
  },
  {
   "cell_type": "code",
   "execution_count": 45,
   "id": "1bc4dd5d",
   "metadata": {},
   "outputs": [
    {
     "data": {
      "text/plain": [
       "<re.Match object; span=(0, 2), match='sa'>"
      ]
     },
     "execution_count": 45,
     "metadata": {},
     "output_type": "execute_result"
    }
   ],
   "source": [
    "re.search('^..','sample data set')"
   ]
  },
  {
   "cell_type": "code",
   "execution_count": 46,
   "id": "1d251d37",
   "metadata": {},
   "outputs": [
    {
     "data": {
      "text/plain": [
       "['sa']"
      ]
     },
     "execution_count": 46,
     "metadata": {},
     "output_type": "execute_result"
    }
   ],
   "source": [
    "re.findall('^..','sample data set')"
   ]
  },
  {
   "cell_type": "code",
   "execution_count": 47,
   "id": "17dbe483",
   "metadata": {},
   "outputs": [
    {
     "data": {
      "text/plain": [
       "['e data ']"
      ]
     },
     "execution_count": 47,
     "metadata": {},
     "output_type": "execute_result"
    }
   ],
   "source": [
    "re.findall('..data.','sample data set')"
   ]
  },
  {
   "cell_type": "code",
   "execution_count": 49,
   "id": "b789c0c0",
   "metadata": {},
   "outputs": [
    {
     "data": {
      "text/plain": [
       "<re.Match object; span=(4, 5), match='$'>"
      ]
     },
     "execution_count": 49,
     "metadata": {},
     "output_type": "execute_result"
    }
   ],
   "source": [
    "cost=\"4500$\"\n",
    "re.search(\"\\$$\",cost)"
   ]
  },
  {
   "cell_type": "code",
   "execution_count": 51,
   "id": "ca516a33",
   "metadata": {},
   "outputs": [
    {
     "data": {
      "text/plain": [
       "['.', '.', '.']"
      ]
     },
     "execution_count": 51,
     "metadata": {},
     "output_type": "execute_result"
    }
   ],
   "source": [
    "IP=\"10.20.30.40\"\n",
    "re.findall(\"\\.\",IP)"
   ]
  },
  {
   "cell_type": "code",
   "execution_count": 54,
   "id": "61f046d3",
   "metadata": {},
   "outputs": [
    {
     "name": "stdout",
     "output_type": "stream",
     "text": [
      "sales,\n",
      "sales\n",
      "sales:\n",
      "sales5\n"
     ]
    }
   ],
   "source": [
    "fobj = open('E:\\\\DA\\\\IP1.txt')\n",
    "L = fobj.readlines()\n",
    "fobj.close()\n",
    "\n",
    "for var in L:\n",
    "    if(re.search('^sales.$',var)): # filter line ends with sales word\n",
    "        print(var.strip())"
   ]
  },
  {
   "cell_type": "code",
   "execution_count": 56,
   "id": "7bf70ea9",
   "metadata": {},
   "outputs": [
    {
     "name": "stdout",
     "output_type": "stream",
     "text": [
      "cars.csv\n",
      "e1.csv\n",
      "emp.csv\n",
      "health.csv\n",
      "home.csv\n",
      "inventory.csv\n",
      "r1.csv\n",
      "sales.csv\n",
      "t1.csv\n",
      "t2.csv\n",
      "travels.csv\n"
     ]
    }
   ],
   "source": [
    "import os\n",
    "for var in os.listdir('E:\\\\'):\n",
    "    if(re.search('\\.csv$',var)):\n",
    "        print(var)"
   ]
  },
  {
   "cell_type": "code",
   "execution_count": 61,
   "id": "e72a97cf",
   "metadata": {},
   "outputs": [
    {
     "name": "stdout",
     "output_type": "stream",
     "text": [
      "106,bibu,sales,bglore,1450\n",
      "108,bibu,sales,bglore,5000\n"
     ]
    }
   ],
   "source": [
    "fobj = open('E:\\\\emp.csv')\n",
    "L = fobj.readlines()\n",
    "fobj.close()\n",
    "\n",
    "for var in L:\n",
    "    var=var.strip() # remove \\n\n",
    "    if(re.search('^1.*sales.*bglore',var)):\n",
    "        print(var)"
   ]
  },
  {
   "cell_type": "code",
   "execution_count": 59,
   "id": "a8694abe",
   "metadata": {},
   "outputs": [
    {
     "name": "stdout",
     "output_type": "stream",
     "text": [
      "108,bibu,sales,bglore,5000\n"
     ]
    }
   ],
   "source": [
    "fobj = open('E:\\\\emp.csv')\n",
    "L = fobj.readlines()\n",
    "fobj.close()\n",
    "\n",
    "for var in L:\n",
    "    var=var.strip() # remove \\n\n",
    "    if(re.search('^1.*sales.*bglore.*00$',var)):\n",
    "        print(var)"
   ]
  },
  {
   "cell_type": "code",
   "execution_count": 62,
   "id": "a6ffcc0c",
   "metadata": {},
   "outputs": [
    {
     "data": {
      "text/plain": [
       "<re.Match object; span=(4, 5), match=':'>"
      ]
     },
     "execution_count": 62,
     "metadata": {},
     "output_type": "execute_result"
    }
   ],
   "source": [
    "s=\"root:x-bin%bash\"\n",
    "\n",
    "re.search(\":\",s)"
   ]
  },
  {
   "cell_type": "code",
   "execution_count": 63,
   "id": "d773eac8",
   "metadata": {},
   "outputs": [
    {
     "data": {
      "text/plain": [
       "<re.Match object; span=(5, 6), match='x'>"
      ]
     },
     "execution_count": 63,
     "metadata": {},
     "output_type": "execute_result"
    }
   ],
   "source": [
    "re.search(\"x\",s)"
   ]
  },
  {
   "cell_type": "code",
   "execution_count": 64,
   "id": "28967a2c",
   "metadata": {},
   "outputs": [],
   "source": [
    "re.search(\"x:\",s)"
   ]
  },
  {
   "cell_type": "code",
   "execution_count": 65,
   "id": "297e6929",
   "metadata": {},
   "outputs": [
    {
     "data": {
      "text/plain": [
       "<re.Match object; span=(9, 10), match='a'>"
      ]
     },
     "execution_count": 65,
     "metadata": {},
     "output_type": "execute_result"
    }
   ],
   "source": [
    "s=\"101,leo,sales,pune\"\n",
    "re.search(\"a\",s)"
   ]
  },
  {
   "cell_type": "code",
   "execution_count": 66,
   "id": "53fa0c8f",
   "metadata": {},
   "outputs": [
    {
     "data": {
      "text/plain": [
       "<re.Match object; span=(8, 9), match='s'>"
      ]
     },
     "execution_count": 66,
     "metadata": {},
     "output_type": "execute_result"
    }
   ],
   "source": [
    "re.search(\"s\",s)"
   ]
  },
  {
   "cell_type": "code",
   "execution_count": 67,
   "id": "a810fef0",
   "metadata": {},
   "outputs": [],
   "source": [
    "re.search(\"as\",s)"
   ]
  },
  {
   "cell_type": "code",
   "execution_count": 69,
   "id": "0e161bb8",
   "metadata": {},
   "outputs": [
    {
     "data": {
      "text/plain": [
       "['s', 'a', 's']"
      ]
     },
     "execution_count": 69,
     "metadata": {},
     "output_type": "execute_result"
    }
   ],
   "source": [
    "re.findall('[as]',s)"
   ]
  },
  {
   "cell_type": "code",
   "execution_count": 70,
   "id": "6f167233",
   "metadata": {},
   "outputs": [
    {
     "data": {
      "text/plain": [
       "['al']"
      ]
     },
     "execution_count": 70,
     "metadata": {},
     "output_type": "execute_result"
    }
   ],
   "source": [
    "re.findall('[as]l',s) # al sl"
   ]
  },
  {
   "cell_type": "code",
   "execution_count": null,
   "id": "c60132db",
   "metadata": {},
   "outputs": [],
   "source": [
    "re.search('[nsh]$',Input_String)\n",
    "           ------\n",
    "               \\___single char n\n",
    "                               s\n",
    "                               h\n",
    "                \n",
    "re.search('^a.*daemon.*[ab5h]$',Input_string)\n",
    "           |_________________|\n",
    "               |\n",
    "              starts with 'a' followed by anyText anywhere word daemon \n",
    "              followedBy any Text endswith a\n",
    "                                           b\n",
    "                                           5\n",
    "                                           h"
   ]
  },
  {
   "cell_type": "code",
   "execution_count": 71,
   "id": "c67bf4b5",
   "metadata": {},
   "outputs": [
    {
     "name": "stdout",
     "output_type": "stream",
     "text": [
      "101,raj,sales,pune,1000\n",
      "102,leo,prod,bglore,2000\n",
      "456,kumar,sales,bglore,3000\n",
      "106,bibu,sales,bglore,1450\n",
      "107,theeb,sales,noida,4590\n",
      "108,bibu,sales,bglore,5000\n",
      "113,kumar,prod,hyderabad,5423\n"
     ]
    }
   ],
   "source": [
    "fobj = open('E:\\\\emp.csv')\n",
    "L = fobj.readlines()\n",
    "fobj.close()\n",
    "\n",
    "for var in L:\n",
    "    var=var.strip() # remove \\n\n",
    "    if(re.search('sales|prod|DBA|QA|CRM',var,re.I)):\n",
    "        print(var)"
   ]
  },
  {
   "cell_type": "code",
   "execution_count": 74,
   "id": "42f4c363",
   "metadata": {},
   "outputs": [
    {
     "name": "stdout",
     "output_type": "stream",
     "text": [
      "ansible_playbook_essentials.pdf\n",
      "cars.csv\n",
      "course.xlsx\n",
      "DAY-3.pdf\n",
      "e1.csv\n",
      "emp.csv\n",
      "health.csv\n",
      "home.csv\n",
      "inventory.csv\n",
      "r1.csv\n",
      "sales.csv\n",
      "t1.csv\n",
      "t1.xlsx\n",
      "t2.csv\n",
      "test1.xlsx\n",
      "travels.csv\n"
     ]
    }
   ],
   "source": [
    "for var in os.listdir('E:\\\\'):\n",
    "    if(re.search('\\.csv$|\\.pdf$|\\.xlsx$|\\.java$',var)):\n",
    "        print(var)"
   ]
  },
  {
   "cell_type": "code",
   "execution_count": 76,
   "id": "13e6e28a",
   "metadata": {},
   "outputs": [],
   "source": [
    "re.search('(sales)(pune)','raj,sales,pune,1000')"
   ]
  },
  {
   "cell_type": "code",
   "execution_count": 77,
   "id": "9935d0d4",
   "metadata": {},
   "outputs": [
    {
     "data": {
      "text/plain": [
       "<re.Match object; span=(4, 14), match='sales,pune'>"
      ]
     },
     "execution_count": 77,
     "metadata": {},
     "output_type": "execute_result"
    }
   ],
   "source": [
    "re.search('(sales).(pune)','raj,sales,pune,1000')"
   ]
  },
  {
   "cell_type": "code",
   "execution_count": 78,
   "id": "3b7686ea",
   "metadata": {},
   "outputs": [],
   "source": [
    "re.search('(pune).(sales)','raj,sales,pune,1000')"
   ]
  },
  {
   "cell_type": "code",
   "execution_count": null,
   "id": "1ce69bce",
   "metadata": {},
   "outputs": [],
   "source": [
    "Test url:\n",
    "    \n",
    "url name starts with http <or> https followed \n",
    "by any name ends with org <or> ends with com\n",
    "\n",
    "https://www.abc.com - OK\n",
    "https://www.abc.org - OK\n",
    "https://www.abc.edu - Not-OK\n",
    "http://www.python.org - OK\n",
    "http:/www.abc.com - OK\n",
    "ftp://www.abc.com - Not-OK"
   ]
  },
  {
   "cell_type": "code",
   "execution_count": null,
   "id": "f7177b44",
   "metadata": {},
   "outputs": [],
   "source": [
    "^(https|http).*(com|org)$"
   ]
  },
  {
   "cell_type": "code",
   "execution_count": 79,
   "id": "793104fb",
   "metadata": {},
   "outputs": [
    {
     "data": {
      "text/plain": [
       "['2', '4', '5', '1', '9', '4', '4', '1', '0', '2', '0', '2', '4']"
      ]
     },
     "execution_count": 79,
     "metadata": {},
     "output_type": "execute_result"
    }
   ],
   "source": [
    "s='sample DATA Content code:24%list(Test):#%@5th Sep 1944 and 10th Oct 2024'\n",
    "\n",
    "re.findall('[0-9]',s) # match any single chars"
   ]
  },
  {
   "cell_type": "code",
   "execution_count": 80,
   "id": "1d0dfb57",
   "metadata": {},
   "outputs": [
    {
     "data": {
      "text/plain": [
       "['24', '5', '1944', '10', '2024']"
      ]
     },
     "execution_count": 80,
     "metadata": {},
     "output_type": "execute_result"
    }
   ],
   "source": [
    "re.findall('[0-9]+',s) # match 1 or more digits"
   ]
  },
  {
   "cell_type": "code",
   "execution_count": 82,
   "id": "598b314f",
   "metadata": {},
   "outputs": [
    {
     "data": {
      "text/plain": [
       "['sample', 'ontent', 'code', 'list', 'est', 'th', 'ep', 'and', 'th', 'ct']"
      ]
     },
     "execution_count": 82,
     "metadata": {},
     "output_type": "execute_result"
    }
   ],
   "source": [
    "re.findall('[a-z]+',s)"
   ]
  },
  {
   "cell_type": "code",
   "execution_count": 83,
   "id": "699f8ef7",
   "metadata": {},
   "outputs": [
    {
     "data": {
      "text/plain": [
       "[':', '%', '(', ')', ':', '#', '%', '@']"
      ]
     },
     "execution_count": 83,
     "metadata": {},
     "output_type": "execute_result"
    }
   ],
   "source": [
    "re.findall('[^a-zA-Z0-9\\s]',s) # match all the specialchars"
   ]
  },
  {
   "cell_type": "code",
   "execution_count": 84,
   "id": "f4605588",
   "metadata": {},
   "outputs": [
    {
     "data": {
      "text/plain": [
       "[':', '%', '(', ')', ':', '#', '%', '@']"
      ]
     },
     "execution_count": 84,
     "metadata": {},
     "output_type": "execute_result"
    }
   ],
   "source": [
    "re.findall('[^\\w\\s]',s)"
   ]
  },
  {
   "cell_type": "code",
   "execution_count": 85,
   "id": "37d72377",
   "metadata": {},
   "outputs": [
    {
     "data": {
      "text/plain": [
       "[('sales', 'pune')]"
      ]
     },
     "execution_count": 85,
     "metadata": {},
     "output_type": "execute_result"
    }
   ],
   "source": [
    "re.findall('(sales).(pune)','101,raj,sales,pune,1000')"
   ]
  },
  {
   "cell_type": "code",
   "execution_count": null,
   "id": "cb170d49",
   "metadata": {},
   "outputs": [],
   "source": [
    "substitute operation\n",
    "------------------------\n",
    "re.sub('oldpattern_string','replace_string','input_string') ->output_string"
   ]
  },
  {
   "cell_type": "code",
   "execution_count": 87,
   "id": "d0f81996",
   "metadata": {},
   "outputs": [
    {
     "data": {
      "text/plain": [
       "'101,raj,QA,pune,1000'"
      ]
     },
     "execution_count": 87,
     "metadata": {},
     "output_type": "execute_result"
    }
   ],
   "source": [
    "s1 = '101,raj,sales,pune,1000'\n",
    "re.sub('sales','QA',s1)"
   ]
  },
  {
   "cell_type": "code",
   "execution_count": 88,
   "id": "67a1b945",
   "metadata": {},
   "outputs": [
    {
     "data": {
      "text/plain": [
       "'101,raj,sales,pune,1000'"
      ]
     },
     "execution_count": 88,
     "metadata": {},
     "output_type": "execute_result"
    }
   ],
   "source": [
    "re.sub('DBA','QA',s1)"
   ]
  },
  {
   "cell_type": "code",
   "execution_count": 90,
   "id": "d3058b31",
   "metadata": {},
   "outputs": [
    {
     "data": {
      "text/plain": [
       "'101,raj,,pune,1000'"
      ]
     },
     "execution_count": 90,
     "metadata": {},
     "output_type": "execute_result"
    }
   ],
   "source": [
    "re.sub('sales','',s1)"
   ]
  },
  {
   "cell_type": "code",
   "execution_count": 91,
   "id": "73d219b7",
   "metadata": {},
   "outputs": [
    {
     "data": {
      "text/plain": [
       "'101,raj,pune,1000'"
      ]
     },
     "execution_count": 91,
     "metadata": {},
     "output_type": "execute_result"
    }
   ],
   "source": [
    "re.sub('sales.','',s1) # sales<char> - remove "
   ]
  },
  {
   "cell_type": "code",
   "execution_count": 92,
   "id": "63efdef5",
   "metadata": {},
   "outputs": [
    {
     "data": {
      "text/plain": [
       "'101,QA,leo,QA,pune,QA'"
      ]
     },
     "execution_count": 92,
     "metadata": {},
     "output_type": "execute_result"
    }
   ],
   "source": [
    "re.sub('sales','QA','101,sales,leo,sales,pune,sales')"
   ]
  },
  {
   "cell_type": "code",
   "execution_count": 93,
   "id": "b99d8eed",
   "metadata": {},
   "outputs": [
    {
     "data": {
      "text/plain": [
       "'101,QA,leo,sales,pune,sales'"
      ]
     },
     "execution_count": 93,
     "metadata": {},
     "output_type": "execute_result"
    }
   ],
   "source": [
    "re.sub('sales','QA','101,sales,leo,sales,pune,sales',1)"
   ]
  },
  {
   "cell_type": "code",
   "execution_count": 95,
   "id": "cb1f3fae",
   "metadata": {},
   "outputs": [
    {
     "data": {
      "text/plain": [
       "'101,QA,leo,Sales,pune,sales'"
      ]
     },
     "execution_count": 95,
     "metadata": {},
     "output_type": "execute_result"
    }
   ],
   "source": [
    "re.sub('sales','QA','101,SALES,leo,Sales,pune,sales',1,re.I)"
   ]
  },
  {
   "cell_type": "code",
   "execution_count": 96,
   "id": "ac58032f",
   "metadata": {},
   "outputs": [
    {
     "data": {
      "text/plain": [
       "'sample DATA Content code\\t24\\tlist\\tTest\\t5th Sep 1944 and 10th Oct 2024'"
      ]
     },
     "execution_count": 96,
     "metadata": {},
     "output_type": "execute_result"
    }
   ],
   "source": [
    "s='sample DATA Content code:24%list(Test):#%@5th Sep 1944 and 10th Oct 2024'\n",
    "re.sub('[^\\w\\s]+','\\t',s)"
   ]
  },
  {
   "cell_type": "code",
   "execution_count": 97,
   "id": "f3994065",
   "metadata": {},
   "outputs": [
    {
     "name": "stdout",
     "output_type": "stream",
     "text": [
      "sample DATA Content code\t24\tlist\tTest\t5th Sep 1944 and 10th Oct 2024\n"
     ]
    }
   ],
   "source": [
    "print(re.sub('[^\\w\\s]+','\\t',s))"
   ]
  },
  {
   "cell_type": "code",
   "execution_count": 98,
   "id": "bf2c3b19",
   "metadata": {},
   "outputs": [
    {
     "name": "stdout",
     "output_type": "stream",
     "text": [
      "sample\tDATA\tContent\tcode\t24\tlist\tTest\t5th\tSep\t1944\tand\t10th\tOct\t2024\n"
     ]
    }
   ],
   "source": [
    "print(re.sub('[^\\w\\s]+|\\s+','\\t',s))"
   ]
  },
  {
   "cell_type": "code",
   "execution_count": 99,
   "id": "df0f0c6d",
   "metadata": {},
   "outputs": [
    {
     "name": "stdout",
     "output_type": "stream",
     "text": [
      "eid,ename,edept,eplace,ecost\n",
      "101,raj,QA,pune,1000\n",
      "102,leo,prod,bglore,2000\n",
      "103,paul,HR,chennai,3000\n",
      "104,anu,hr,hyderabad,4000\n",
      "456,kumar,QA,bglore,3000\n",
      "105,zion,Hr,mumbai,5000\n",
      "106,bibu,QA,bglore,1450\n",
      "107,theeb,QA,noida,4590\n",
      "108,bibu,QA,bglore,5000\n",
      "113,kumar,prod,hyderabad,5423\n"
     ]
    }
   ],
   "source": [
    "fobj = open('E:\\\\emp.csv')\n",
    "L = fobj.readlines()\n",
    "fobj.close()\n",
    "\n",
    "for var in L:\n",
    "    r=re.sub('sales','QA',var)\n",
    "    print(r.strip())"
   ]
  },
  {
   "cell_type": "code",
   "execution_count": 100,
   "id": "a6037ea3",
   "metadata": {},
   "outputs": [
    {
     "name": "stdout",
     "output_type": "stream",
     "text": [
      "101,raj,QA,pune,1000\n",
      "456,kumar,QA,bglore,3000\n",
      "106,bibu,QA,bglore,1450\n",
      "107,theeb,QA,noida,4590\n",
      "108,bibu,QA,bglore,5000\n"
     ]
    }
   ],
   "source": [
    "fobj = open('E:\\\\emp.csv')\n",
    "L = fobj.readlines()\n",
    "fobj.close()\n",
    "\n",
    "for var in L:\n",
    "    if(re.search('sales',var)):\n",
    "        r=re.sub('sales','QA',var)\n",
    "        print(r.strip())"
   ]
  },
  {
   "cell_type": "code",
   "execution_count": 101,
   "id": "6c108db1",
   "metadata": {},
   "outputs": [
    {
     "data": {
      "text/plain": [
       "['root', 'x', 'bin', 'bash']"
      ]
     },
     "execution_count": 101,
     "metadata": {},
     "output_type": "execute_result"
    }
   ],
   "source": [
    "s='root:x:bin:bash'\n",
    "s.split(':')"
   ]
  },
  {
   "cell_type": "code",
   "execution_count": null,
   "id": "0b8ef293",
   "metadata": {},
   "outputs": [],
   "source": [
    "re.split('RegxPattern','input_string') ->list_output"
   ]
  },
  {
   "cell_type": "code",
   "execution_count": 102,
   "id": "149a170a",
   "metadata": {},
   "outputs": [
    {
     "data": {
      "text/plain": [
       "['root', 'x', 'bin', 'bash']"
      ]
     },
     "execution_count": 102,
     "metadata": {},
     "output_type": "execute_result"
    }
   ],
   "source": [
    "re.split(':',s)"
   ]
  },
  {
   "cell_type": "code",
   "execution_count": 103,
   "id": "9aaa63ab",
   "metadata": {},
   "outputs": [
    {
     "data": {
      "text/plain": [
       "['101', 'raj,sales-405B~home(path', 'data1']"
      ]
     },
     "execution_count": 103,
     "metadata": {},
     "output_type": "execute_result"
    }
   ],
   "source": [
    "s=\"101:raj,sales-405B~home(path:data1\"\n",
    "s.split(\":\")"
   ]
  },
  {
   "cell_type": "code",
   "execution_count": 104,
   "id": "70aab2c7",
   "metadata": {},
   "outputs": [
    {
     "data": {
      "text/plain": [
       "['101', 'raj', 'sales', '405B', 'home', 'path', 'data1']"
      ]
     },
     "execution_count": 104,
     "metadata": {},
     "output_type": "execute_result"
    }
   ],
   "source": [
    "re.split('[^\\w\\s]+',s)"
   ]
  },
  {
   "cell_type": "code",
   "execution_count": null,
   "id": "de75b07f",
   "metadata": {},
   "outputs": [],
   "source": [
    "read emp.csv file\n",
    "|\n",
    "search - sales dept  <== re.search()\n",
    "            |\n",
    "            replace Current working City(pune|chennai) ->Hyderabad <== re.sub()\n",
    "            |\n",
    "            display - empName dept ecity <== re.split()"
   ]
  },
  {
   "cell_type": "code",
   "execution_count": 112,
   "id": "bdd9f118",
   "metadata": {},
   "outputs": [
    {
     "name": "stdout",
     "output_type": "stream",
     "text": [
      "101,raj,sales,pune,1000\n",
      "\n",
      "--> 101,raj,sales,HYDERABAD,1000\n",
      "\n",
      "['101', 'raj', 'sales', 'HYDERABAD', '1000\\n']\n",
      "456,kumar,sales,bglore,3000\n",
      "\n",
      "--> 456,kumar,sales,HYDERABAD,3000\n",
      "\n",
      "['456', 'kumar', 'sales', 'HYDERABAD', '3000\\n']\n",
      "106,bibu,sales,bglore,1450\n",
      "\n",
      "--> 106,bibu,sales,HYDERABAD,1450\n",
      "\n",
      "['106', 'bibu', 'sales', 'HYDERABAD', '1450\\n']\n",
      "107,theeb,sales,noida,4590\n",
      "\n",
      "--> 107,theeb,sales,noida,4590\n",
      "\n",
      "108,bibu,sales,bglore,5000\n",
      "\n",
      "--> 108,bibu,sales,HYDERABAD,5000\n",
      "\n",
      "['108', 'bibu', 'sales', 'HYDERABAD', '5000\\n']\n"
     ]
    }
   ],
   "source": [
    "Fobj = open('E:\\\\emp.csv')\n",
    "L = Fobj.readlines()\n",
    "Fobj.close()\n",
    "\n",
    "for var in L:\n",
    "    if(re.search('sales',var)):\n",
    "        print(var)\n",
    "        r = re.sub('pune|chennai|bglore','HYDERABAD',var)\n",
    "        print(\"-->\",r)\n",
    "        if(re.search('hyderabad',r,re.I)):\n",
    "            print(re.split(',',r))"
   ]
  },
  {
   "cell_type": "code",
   "execution_count": 113,
   "id": "bf284236",
   "metadata": {},
   "outputs": [
    {
     "name": "stdout",
     "output_type": "stream",
     "text": [
      "['101', 'raj', 'sales', 'HYDERABAD', '1000\\n']\n",
      "['456', 'kumar', 'sales', 'HYDERABAD', '3000\\n']\n",
      "['106', 'bibu', 'sales', 'HYDERABAD', '1450\\n']\n",
      "['108', 'bibu', 'sales', 'HYDERABAD', '5000\\n']\n"
     ]
    }
   ],
   "source": [
    "Fobj = open('E:\\\\emp.csv')\n",
    "L = Fobj.readlines()\n",
    "Fobj.close()\n",
    "\n",
    "for var in L:\n",
    "    if(re.search('sales',var)):\n",
    "        #print(var)\n",
    "        r = re.sub('pune|chennai|bglore','HYDERABAD',var)\n",
    "        #print(\"-->\",r)\n",
    "        if(re.search('hyderabad',r,re.I)):\n",
    "            print(re.split(',',r))"
   ]
  },
  {
   "cell_type": "code",
   "execution_count": 116,
   "id": "0ddb78c4",
   "metadata": {},
   "outputs": [
    {
     "name": "stdout",
     "output_type": "stream",
     "text": [
      "raj\tsales\tHYDERABAD\n",
      "kumar\tsales\tHYDERABAD\n",
      "bibu\tsales\tHYDERABAD\n",
      "bibu\tsales\tHYDERABAD\n"
     ]
    }
   ],
   "source": [
    "Fobj = open('E:\\\\emp.csv')\n",
    "L = Fobj.readlines()\n",
    "Fobj.close()\n",
    "\n",
    "for var in L:\n",
    "    if(re.search('sales',var)):\n",
    "        #print(var)\n",
    "        r = re.sub('pune|chennai|bglore','HYDERABAD',var)\n",
    "        #print(\"-->\",r)\n",
    "        if(re.search('hyderabad',r,re.I)):\n",
    "            L1=re.split(',',r)\n",
    "            print(f'{L1[1]}\\t{L1[2]}\\t{L1[3]}')"
   ]
  },
  {
   "cell_type": "code",
   "execution_count": null,
   "id": "6444e6f2",
   "metadata": {},
   "outputs": [],
   "source": [
    "oops style \n",
    "-----------\n",
    "class \n",
    "object\n",
    "|\n",
    "method\n",
    "|\n",
    "inheritance\n",
    "|\n",
    "decorator\n",
    " @classmethod\n",
    " @staticmethod\n",
    "\n",
    "class - type - set of attributes\n",
    "                      -----------(varibles,function etc.,)\n",
    "\n",
    "class <className>:\n",
    "    <attribute>\n",
    "\n",
    "python user defined class - mutable"
   ]
  },
  {
   "cell_type": "code",
   "execution_count": 120,
   "id": "5a23ab43",
   "metadata": {},
   "outputs": [
    {
     "name": "stdout",
     "output_type": "stream",
     "text": [
      "101 prodA\n"
     ]
    },
    {
     "ename": "AttributeError",
     "evalue": "type object 'products' has no attribute 'Pid'",
     "output_type": "error",
     "traceback": [
      "\u001b[1;31m---------------------------------------------------------------------------\u001b[0m",
      "\u001b[1;31mAttributeError\u001b[0m                            Traceback (most recent call last)",
      "Cell \u001b[1;32mIn[120], line 6\u001b[0m\n\u001b[0;32m      3\u001b[0m     pname\u001b[38;5;241m=\u001b[39m\u001b[38;5;124m'\u001b[39m\u001b[38;5;124mprodA\u001b[39m\u001b[38;5;124m'\u001b[39m\n\u001b[0;32m      5\u001b[0m \u001b[38;5;28mprint\u001b[39m(products\u001b[38;5;241m.\u001b[39mpid,products\u001b[38;5;241m.\u001b[39mpname)\n\u001b[1;32m----> 6\u001b[0m \u001b[38;5;28mprint\u001b[39m(products\u001b[38;5;241m.\u001b[39mPid)\n",
      "\u001b[1;31mAttributeError\u001b[0m: type object 'products' has no attribute 'Pid'"
     ]
    }
   ],
   "source": [
    "class products:\n",
    "    pid=101\n",
    "    pname='prodA'\n",
    "    \n",
    "print(products.pid,products.pname)\n",
    "print(products.Pid)"
   ]
  },
  {
   "cell_type": "code",
   "execution_count": 122,
   "id": "c5d46b7f",
   "metadata": {},
   "outputs": [
    {
     "name": "stdout",
     "output_type": "stream",
     "text": [
      "prodA\n",
      "HDD\n"
     ]
    }
   ],
   "source": [
    "print(products.pname)\n",
    "products.pname = \"HDD\" # we can modify an existing attribute\n",
    "print(products.pname)"
   ]
  },
  {
   "cell_type": "code",
   "execution_count": 123,
   "id": "68a9394d",
   "metadata": {},
   "outputs": [
    {
     "ename": "AttributeError",
     "evalue": "type object 'products' has no attribute 'pcost'",
     "output_type": "error",
     "traceback": [
      "\u001b[1;31m---------------------------------------------------------------------------\u001b[0m",
      "\u001b[1;31mAttributeError\u001b[0m                            Traceback (most recent call last)",
      "Cell \u001b[1;32mIn[123], line 1\u001b[0m\n\u001b[1;32m----> 1\u001b[0m \u001b[38;5;28mprint\u001b[39m(products\u001b[38;5;241m.\u001b[39mpcost)\n",
      "\u001b[1;31mAttributeError\u001b[0m: type object 'products' has no attribute 'pcost'"
     ]
    }
   ],
   "source": [
    "print(products.pcost)"
   ]
  },
  {
   "cell_type": "code",
   "execution_count": 124,
   "id": "39f5ce52",
   "metadata": {},
   "outputs": [],
   "source": [
    "products.pcost=1000 # we can add new attribute to an existing class"
   ]
  },
  {
   "cell_type": "code",
   "execution_count": 125,
   "id": "5c47b3dc",
   "metadata": {},
   "outputs": [
    {
     "name": "stdout",
     "output_type": "stream",
     "text": [
      "1000\n"
     ]
    }
   ],
   "source": [
    "print(products.pcost)"
   ]
  },
  {
   "cell_type": "code",
   "execution_count": 126,
   "id": "286c20dc",
   "metadata": {},
   "outputs": [
    {
     "name": "stdout",
     "output_type": "stream",
     "text": [
      "<class 'int'> <class 'float'> <class 'bool'>\n"
     ]
    }
   ],
   "source": [
    "print(type(10),type(10.0),type(True))"
   ]
  },
  {
   "cell_type": "code",
   "execution_count": 127,
   "id": "958c0da5",
   "metadata": {},
   "outputs": [
    {
     "name": "stdout",
     "output_type": "stream",
     "text": [
      "<class 'type'> <class 'type'> <class 'type'> <class 'type'>\n"
     ]
    }
   ],
   "source": [
    "print(type(int),type(float),type(bool),type(products))"
   ]
  },
  {
   "cell_type": "code",
   "execution_count": null,
   "id": "808a630e",
   "metadata": {},
   "outputs": [],
   "source": [
    " +-------------------+\n",
    " | []  []  (white)   |\n",
    " |                   |   <-- blueprint sheet - class\n",
    " +--------|   |------+\n",
    "\n",
    "\n",
    "+--------+\n",
    "|[][]    |\n",
    "|        |\n",
    "+----| |-|     ...\n",
    " Building1     Building2   Building3 ... BuildingN\n",
    "    |            |              |          ..\n",
    "    object       object       object      object\n",
    "    |\n",
    "   A block      B block       C block      ...\n",
    "   0x1223       0x4555         0x4223"
   ]
  },
  {
   "cell_type": "code",
   "execution_count": 128,
   "id": "4b1d9f0c",
   "metadata": {},
   "outputs": [
    {
     "name": "stdout",
     "output_type": "stream",
     "text": [
      "Arun 1st Jan\n",
      "Paul 2nd Feb\n"
     ]
    }
   ],
   "source": [
    "class Enrollment:\n",
    "    Name = ''\n",
    "    DOB = ''\n",
    "\n",
    "obj1 = Enrollment()\n",
    "obj1.Name = 'Arun'\n",
    "obj1.DOB  = '1st Jan'\n",
    "\n",
    "obj2 = Enrollment()\n",
    "obj2.Name = 'Paul'\n",
    "obj2.DOB = '2nd Feb'\n",
    "\n",
    "print(obj1.Name,obj1.DOB)\n",
    "print(obj2.Name,obj2.DOB)"
   ]
  },
  {
   "cell_type": "code",
   "execution_count": 129,
   "id": "be66cdba",
   "metadata": {},
   "outputs": [
    {
     "ename": "AttributeError",
     "evalue": "'Enrollment' object has no attribute 'Place'",
     "output_type": "error",
     "traceback": [
      "\u001b[1;31m---------------------------------------------------------------------------\u001b[0m",
      "\u001b[1;31mAttributeError\u001b[0m                            Traceback (most recent call last)",
      "Cell \u001b[1;32mIn[129], line 1\u001b[0m\n\u001b[1;32m----> 1\u001b[0m \u001b[38;5;28mprint\u001b[39m(obj1\u001b[38;5;241m.\u001b[39mPlace)\n",
      "\u001b[1;31mAttributeError\u001b[0m: 'Enrollment' object has no attribute 'Place'"
     ]
    }
   ],
   "source": [
    "print(obj1.Place)"
   ]
  },
  {
   "cell_type": "code",
   "execution_count": 130,
   "id": "3e292e19",
   "metadata": {},
   "outputs": [
    {
     "ename": "AttributeError",
     "evalue": "'Enrollment' object has no attribute 'Place'",
     "output_type": "error",
     "traceback": [
      "\u001b[1;31m---------------------------------------------------------------------------\u001b[0m",
      "\u001b[1;31mAttributeError\u001b[0m                            Traceback (most recent call last)",
      "Cell \u001b[1;32mIn[130], line 1\u001b[0m\n\u001b[1;32m----> 1\u001b[0m \u001b[38;5;28mprint\u001b[39m(obj2\u001b[38;5;241m.\u001b[39mPlace)\n",
      "\u001b[1;31mAttributeError\u001b[0m: 'Enrollment' object has no attribute 'Place'"
     ]
    }
   ],
   "source": [
    "print(obj2.Place)"
   ]
  },
  {
   "cell_type": "code",
   "execution_count": 131,
   "id": "c7e0838d",
   "metadata": {},
   "outputs": [],
   "source": [
    "Enrollment.Place='' # adding new attribute to an existing class"
   ]
  },
  {
   "cell_type": "code",
   "execution_count": 132,
   "id": "029e03e8",
   "metadata": {},
   "outputs": [
    {
     "data": {
      "text/plain": [
       "''"
      ]
     },
     "execution_count": 132,
     "metadata": {},
     "output_type": "execute_result"
    }
   ],
   "source": [
    "obj1.Place # note -there is no AttributeError"
   ]
  },
  {
   "cell_type": "code",
   "execution_count": 133,
   "id": "f891d982",
   "metadata": {},
   "outputs": [
    {
     "data": {
      "text/plain": [
       "''"
      ]
     },
     "execution_count": 133,
     "metadata": {},
     "output_type": "execute_result"
    }
   ],
   "source": [
    "obj2.Place # note - there is no AttributeError"
   ]
  },
  {
   "cell_type": "code",
   "execution_count": 134,
   "id": "f04db5ad",
   "metadata": {},
   "outputs": [],
   "source": [
    "obj1.Place='City1'  # object based initialization\n",
    "obj2.Place='City2'  # object based initialization"
   ]
  },
  {
   "cell_type": "code",
   "execution_count": 135,
   "id": "5a039b3f",
   "metadata": {},
   "outputs": [
    {
     "name": "stdout",
     "output_type": "stream",
     "text": [
      "Arun 1st Jan City1\n",
      "Paul 2nd Feb City2\n"
     ]
    }
   ],
   "source": [
    "print(obj1.Name,obj1.DOB,obj1.Place)\n",
    "print(obj2.Name,obj2.DOB,obj2.Place)"
   ]
  },
  {
   "cell_type": "code",
   "execution_count": 136,
   "id": "fc4c96be",
   "metadata": {},
   "outputs": [
    {
     "name": "stdout",
     "output_type": "stream",
     "text": [
      "Anu 3rd March City3\n"
     ]
    }
   ],
   "source": [
    "obj3 = Enrollment()\n",
    "obj3.Name = 'Anu'\n",
    "obj3.DOB = '3rd March'\n",
    "obj3.Place = 'City3'\n",
    "\n",
    "print(obj3.Name,obj3.DOB,obj3.Place)"
   ]
  },
  {
   "cell_type": "code",
   "execution_count": 137,
   "id": "a4c8652d",
   "metadata": {},
   "outputs": [],
   "source": [
    "obj2.Place='Pune' # object based modification"
   ]
  },
  {
   "cell_type": "code",
   "execution_count": 138,
   "id": "02a67eb0",
   "metadata": {},
   "outputs": [
    {
     "name": "stdout",
     "output_type": "stream",
     "text": [
      "Paul 2nd Feb Pune\n"
     ]
    }
   ],
   "source": [
    "print(obj2.Name,obj2.DOB,obj2.Place)"
   ]
  },
  {
   "cell_type": "code",
   "execution_count": 139,
   "id": "18324b30",
   "metadata": {},
   "outputs": [
    {
     "name": "stdout",
     "output_type": "stream",
     "text": [
      "Arun 1st Jan City1\n",
      "Paul 2nd Feb Pune\n",
      "Anu 3rd March City3\n"
     ]
    }
   ],
   "source": [
    "print(obj1.Name,obj1.DOB,obj1.Place)\n",
    "print(obj2.Name,obj2.DOB,obj2.Place)\n",
    "print(obj3.Name,obj3.DOB,obj3.Place)"
   ]
  },
  {
   "cell_type": "code",
   "execution_count": 140,
   "id": "74723f32",
   "metadata": {},
   "outputs": [
    {
     "data": {
      "text/plain": [
       "['DOB',\n",
       " 'Name',\n",
       " 'Place',\n",
       " '__class__',\n",
       " '__delattr__',\n",
       " '__dict__',\n",
       " '__dir__',\n",
       " '__doc__',\n",
       " '__eq__',\n",
       " '__format__',\n",
       " '__ge__',\n",
       " '__getattribute__',\n",
       " '__getstate__',\n",
       " '__gt__',\n",
       " '__hash__',\n",
       " '__init__',\n",
       " '__init_subclass__',\n",
       " '__le__',\n",
       " '__lt__',\n",
       " '__module__',\n",
       " '__ne__',\n",
       " '__new__',\n",
       " '__reduce__',\n",
       " '__reduce_ex__',\n",
       " '__repr__',\n",
       " '__setattr__',\n",
       " '__sizeof__',\n",
       " '__str__',\n",
       " '__subclasshook__',\n",
       " '__weakref__']"
      ]
     },
     "execution_count": 140,
     "metadata": {},
     "output_type": "execute_result"
    }
   ],
   "source": [
    "dir(Enrollment)"
   ]
  },
  {
   "cell_type": "code",
   "execution_count": 141,
   "id": "375d0d3f",
   "metadata": {},
   "outputs": [
    {
     "data": {
      "text/plain": [
       "mappingproxy({'__module__': '__main__',\n",
       "              'Name': '',\n",
       "              'DOB': '',\n",
       "              '__dict__': <attribute '__dict__' of 'Enrollment' objects>,\n",
       "              '__weakref__': <attribute '__weakref__' of 'Enrollment' objects>,\n",
       "              '__doc__': None,\n",
       "              'Place': ''})"
      ]
     },
     "execution_count": 141,
     "metadata": {},
     "output_type": "execute_result"
    }
   ],
   "source": [
    "Enrollment.__dict__"
   ]
  },
  {
   "cell_type": "code",
   "execution_count": 142,
   "id": "916e8889",
   "metadata": {},
   "outputs": [
    {
     "data": {
      "text/plain": [
       "{'Name': 'Arun', 'DOB': '1st Jan', 'Place': 'City1'}"
      ]
     },
     "execution_count": 142,
     "metadata": {},
     "output_type": "execute_result"
    }
   ],
   "source": [
    "obj1.__dict__"
   ]
  },
  {
   "cell_type": "code",
   "execution_count": 143,
   "id": "7d4d723c",
   "metadata": {},
   "outputs": [
    {
     "data": {
      "text/plain": [
       "['DOB',\n",
       " 'Name',\n",
       " 'Place',\n",
       " '__class__',\n",
       " '__delattr__',\n",
       " '__dict__',\n",
       " '__dir__',\n",
       " '__doc__',\n",
       " '__eq__',\n",
       " '__format__',\n",
       " '__ge__',\n",
       " '__getattribute__',\n",
       " '__getstate__',\n",
       " '__gt__',\n",
       " '__hash__',\n",
       " '__init__',\n",
       " '__init_subclass__',\n",
       " '__le__',\n",
       " '__lt__',\n",
       " '__module__',\n",
       " '__ne__',\n",
       " '__new__',\n",
       " '__reduce__',\n",
       " '__reduce_ex__',\n",
       " '__repr__',\n",
       " '__setattr__',\n",
       " '__sizeof__',\n",
       " '__str__',\n",
       " '__subclasshook__',\n",
       " '__weakref__']"
      ]
     },
     "execution_count": 143,
     "metadata": {},
     "output_type": "execute_result"
    }
   ],
   "source": [
    "dir(obj1)"
   ]
  },
  {
   "cell_type": "code",
   "execution_count": 144,
   "id": "3fe8a953",
   "metadata": {},
   "outputs": [
    {
     "name": "stdout",
     "output_type": "stream",
     "text": [
      "DOB\n",
      "Name\n",
      "Place\n"
     ]
    }
   ],
   "source": [
    "# ignore special attributes\n",
    "for var in dir(obj1):\n",
    "    if(re.search('^__.*__$',var)):\n",
    "        continue\n",
    "    else:\n",
    "        print(var)"
   ]
  },
  {
   "cell_type": "code",
   "execution_count": 145,
   "id": "bba45ccd",
   "metadata": {},
   "outputs": [
    {
     "name": "stdout",
     "output_type": "stream",
     "text": [
      "101 Box\n"
     ]
    }
   ],
   "source": [
    "class mybox:\n",
    "    bid=101\n",
    "    bname='Box'\n",
    "obj = mybox()\n",
    "print(obj.bid,obj.bname)"
   ]
  },
  {
   "cell_type": "code",
   "execution_count": 146,
   "id": "fea83304",
   "metadata": {},
   "outputs": [
    {
     "name": "stdout",
     "output_type": "stream",
     "text": [
      "Box\n",
      "\n"
     ]
    },
    {
     "ename": "AttributeError",
     "evalue": "'mybox' object has no attribute '__bid'",
     "output_type": "error",
     "traceback": [
      "\u001b[1;31m---------------------------------------------------------------------------\u001b[0m",
      "\u001b[1;31mAttributeError\u001b[0m                            Traceback (most recent call last)",
      "Cell \u001b[1;32mIn[146], line 7\u001b[0m\n\u001b[0;32m      5\u001b[0m \u001b[38;5;28mprint\u001b[39m(obj\u001b[38;5;241m.\u001b[39mbname)\n\u001b[0;32m      6\u001b[0m \u001b[38;5;28mprint\u001b[39m(\u001b[38;5;124m'\u001b[39m\u001b[38;5;124m'\u001b[39m)\n\u001b[1;32m----> 7\u001b[0m \u001b[38;5;28mprint\u001b[39m(obj\u001b[38;5;241m.\u001b[39m__bid)\n",
      "\u001b[1;31mAttributeError\u001b[0m: 'mybox' object has no attribute '__bid'"
     ]
    }
   ],
   "source": [
    "class mybox:\n",
    "    __bid=101 # user defined private attribute\n",
    "    bname='Box'\n",
    "    \n",
    "\n",
    "obj = mybox()\n",
    "print(obj.bname)\n",
    "print('')\n",
    "print(obj.__bid)"
   ]
  },
  {
   "cell_type": "code",
   "execution_count": 147,
   "id": "b79029b2",
   "metadata": {},
   "outputs": [
    {
     "data": {
      "text/plain": [
       "mappingproxy({'__module__': '__main__',\n",
       "              '_mybox__bid': 101,\n",
       "              'bname': 'Box',\n",
       "              '__dict__': <attribute '__dict__' of 'mybox' objects>,\n",
       "              '__weakref__': <attribute '__weakref__' of 'mybox' objects>,\n",
       "              '__doc__': None})"
      ]
     },
     "execution_count": 147,
     "metadata": {},
     "output_type": "execute_result"
    }
   ],
   "source": [
    "mybox.__dict__"
   ]
  },
  {
   "cell_type": "code",
   "execution_count": 148,
   "id": "27e1a3f4",
   "metadata": {},
   "outputs": [
    {
     "data": {
      "text/plain": [
       "101"
      ]
     },
     "execution_count": 148,
     "metadata": {},
     "output_type": "execute_result"
    }
   ],
   "source": [
    "obj._mybox__bid"
   ]
  },
  {
   "cell_type": "code",
   "execution_count": 151,
   "id": "4f0b4622",
   "metadata": {},
   "outputs": [
    {
     "name": "stdout",
     "output_type": "stream",
     "text": [
      "<class 'function'> <class 'method'>\n"
     ]
    }
   ],
   "source": [
    "def f1():\n",
    "    print('OK1')\n",
    "    \n",
    "class box:\n",
    "    var=120           # var - class attribute\n",
    "    def f2():         # f2  - class attribute\n",
    "        print('OK2')\n",
    "        \n",
    "obj=box()\n",
    "\n",
    "print(type(f1),type(obj.f2))"
   ]
  },
  {
   "cell_type": "code",
   "execution_count": 152,
   "id": "1a921f3a",
   "metadata": {},
   "outputs": [
    {
     "name": "stdout",
     "output_type": "stream",
     "text": [
      "OK1\n"
     ]
    }
   ],
   "source": [
    "f1()"
   ]
  },
  {
   "cell_type": "code",
   "execution_count": 153,
   "id": "2712c4b5",
   "metadata": {},
   "outputs": [
    {
     "data": {
      "text/plain": [
       "mappingproxy({'__module__': '__main__',\n",
       "              'var': 120,\n",
       "              'f2': <function __main__.box.f2()>,\n",
       "              '__dict__': <attribute '__dict__' of 'box' objects>,\n",
       "              '__weakref__': <attribute '__weakref__' of 'box' objects>,\n",
       "              '__doc__': None})"
      ]
     },
     "execution_count": 153,
     "metadata": {},
     "output_type": "execute_result"
    }
   ],
   "source": [
    "box.__dict__"
   ]
  },
  {
   "cell_type": "code",
   "execution_count": 154,
   "id": "6dd5b2df",
   "metadata": {},
   "outputs": [
    {
     "ename": "TypeError",
     "evalue": "box.f2() takes 0 positional arguments but 1 was given",
     "output_type": "error",
     "traceback": [
      "\u001b[1;31m---------------------------------------------------------------------------\u001b[0m",
      "\u001b[1;31mTypeError\u001b[0m                                 Traceback (most recent call last)",
      "Cell \u001b[1;32mIn[154], line 2\u001b[0m\n\u001b[0;32m      1\u001b[0m obj1 \u001b[38;5;241m=\u001b[39m box()\n\u001b[1;32m----> 2\u001b[0m obj1\u001b[38;5;241m.\u001b[39mf2()\n",
      "\u001b[1;31mTypeError\u001b[0m: box.f2() takes 0 positional arguments but 1 was given"
     ]
    }
   ],
   "source": [
    "obj1 = box()\n",
    "obj1.f2() ### f2(obj1)"
   ]
  },
  {
   "cell_type": "code",
   "execution_count": 156,
   "id": "31e778ad",
   "metadata": {},
   "outputs": [
    {
     "name": "stdout",
     "output_type": "stream",
     "text": [
      "Hello\n"
     ]
    },
    {
     "ename": "TypeError",
     "evalue": "fx() takes 0 positional arguments but 1 was given",
     "output_type": "error",
     "traceback": [
      "\u001b[1;31m---------------------------------------------------------------------------\u001b[0m",
      "\u001b[1;31mTypeError\u001b[0m                                 Traceback (most recent call last)",
      "Cell \u001b[1;32mIn[156], line 4\u001b[0m\n\u001b[0;32m      2\u001b[0m     \u001b[38;5;28mprint\u001b[39m(\u001b[38;5;124m'\u001b[39m\u001b[38;5;124mHello\u001b[39m\u001b[38;5;124m'\u001b[39m)\n\u001b[0;32m      3\u001b[0m fx()\n\u001b[1;32m----> 4\u001b[0m fx(\u001b[38;5;241m10\u001b[39m)\n",
      "\u001b[1;31mTypeError\u001b[0m: fx() takes 0 positional arguments but 1 was given"
     ]
    }
   ],
   "source": [
    "def fx():\n",
    "    print('Hello')\n",
    "fx()\n",
    "fx(10)"
   ]
  },
  {
   "cell_type": "code",
   "execution_count": 159,
   "id": "d93de557",
   "metadata": {},
   "outputs": [
    {
     "name": "stdout",
     "output_type": "stream",
     "text": [
      "obj1= <__main__.box object at 0x00000143DB842790>\n",
      "self =  <__main__.box object at 0x00000143DB842790>\n"
     ]
    }
   ],
   "source": [
    "class box:\n",
    "    def f1(self):\n",
    "        print(\"self = \",self)\n",
    "        \n",
    "obj1=box()\n",
    "print(\"obj1=\",obj1)\n",
    "obj1.f1() # f1(obj1)"
   ]
  },
  {
   "cell_type": "code",
   "execution_count": 169,
   "id": "7fb620f9",
   "metadata": {},
   "outputs": [
    {
     "name": "stdout",
     "output_type": "stream",
     "text": [
      "<class 'int'> 10\n",
      "<class 'float'> 10.0\n",
      "<class 'str'> abc\n",
      "<class 'list'> []\n"
     ]
    }
   ],
   "source": [
    "def f1(a):\n",
    "    print(type(a),a)\n",
    "    \n",
    "f1(10)\n",
    "f1(10.0)\n",
    "f1('abc')\n",
    "f1([])"
   ]
  },
  {
   "cell_type": "code",
   "execution_count": 160,
   "id": "63727e15",
   "metadata": {},
   "outputs": [
    {
     "name": "stdout",
     "output_type": "stream",
     "text": [
      "A: 120\n",
      "B: 120\n",
      "C: 500\n"
     ]
    }
   ],
   "source": [
    "class box:\n",
    "    var=120\n",
    "    def f1(self):\n",
    "        print(\"B:\",self.var) # 120\n",
    "        self.var=500 # object based initialization\n",
    "\n",
    "obj1 = box()\n",
    "print(\"A:\",obj1.var) # 120\n",
    "obj1.f1() # f1(obj1)\n",
    "print(\"C:\",obj1.var) # 500\n",
    "\n",
    "# obj1.f1() ->f1(obj1)\n",
    "# obj1.f1(10,20,30) --->f1(obj1,10,20,30)"
   ]
  },
  {
   "cell_type": "code",
   "execution_count": 161,
   "id": "8c00740e",
   "metadata": {},
   "outputs": [
    {
     "name": "stdout",
     "output_type": "stream",
     "text": [
      "Enrollment is done\n",
      "About Arun details:-\n",
      "---------------------------------------------\n",
      "Emp Name:Arun DOB:1st Jan Place:City1\n"
     ]
    }
   ],
   "source": [
    "class Enrollment:\n",
    "    Name = ''\n",
    "    DOB = ''\n",
    "    Place = ''\n",
    "    def f1(self,a1,a2,a3):\n",
    "        self.Name = a1\n",
    "        self.DOB = a2\n",
    "        self.Place = a3\n",
    "        print('Enrollment is done')\n",
    "    def f2(self):\n",
    "        print(f'About {self.Name} details:-')\n",
    "        print('-'*45)\n",
    "        print(f'Emp Name:{self.Name} DOB:{self.DOB} Place:{self.Place}')\n",
    "    \n",
    "obj1 = Enrollment()\n",
    "obj1.f1('Arun','1st Jan','City1') # f1(obj1,'Arun','1st Jan','City1')\n",
    "obj1.f2() # f2(obj1)"
   ]
  },
  {
   "cell_type": "code",
   "execution_count": 162,
   "id": "47210cbe",
   "metadata": {},
   "outputs": [
    {
     "name": "stdout",
     "output_type": "stream",
     "text": [
      "Enrollment is done\n"
     ]
    }
   ],
   "source": [
    "obj2 = Enrollment()\n",
    "obj2.f1('Paul','2nd Feb','City2') # f1(obj2,'Paul','2nd Feb','City2')"
   ]
  },
  {
   "cell_type": "code",
   "execution_count": 163,
   "id": "81c58477",
   "metadata": {},
   "outputs": [
    {
     "name": "stdout",
     "output_type": "stream",
     "text": [
      "Enrollment is done\n"
     ]
    }
   ],
   "source": [
    "obj3 = Enrollment()\n",
    "obj3.f1('Anu','3rd March','City3') # f1(obj3,'Anu','3rd March','City3')"
   ]
  },
  {
   "cell_type": "code",
   "execution_count": 166,
   "id": "99301399",
   "metadata": {},
   "outputs": [
    {
     "name": "stdout",
     "output_type": "stream",
     "text": [
      "About Arun details:-\n",
      "---------------------------------------------\n",
      "Emp Name:Arun DOB:1st Jan Place:City1\n",
      "About Paul details:-\n",
      "---------------------------------------------\n",
      "Emp Name:Paul DOB:2nd Feb Place:City2\n",
      "About Anu details:-\n",
      "---------------------------------------------\n",
      "Emp Name:Anu DOB:3rd March Place:City3\n"
     ]
    }
   ],
   "source": [
    "obj1.f2()\n",
    "obj2.f2()\n",
    "obj3.f2()"
   ]
  },
  {
   "cell_type": "code",
   "execution_count": 168,
   "id": "e3dbe3c1",
   "metadata": {},
   "outputs": [
    {
     "name": "stdout",
     "output_type": "stream",
     "text": [
      "About Arun details:-\n",
      "---------------------------------------------\n",
      "Emp Name:Arun DOB:1st Jan Place:City1\n",
      "\n",
      "About Paul details:-\n",
      "---------------------------------------------\n",
      "Emp Name:Paul DOB:2nd Feb Place:City2\n",
      "\n",
      "About Anu details:-\n",
      "---------------------------------------------\n",
      "Emp Name:Anu DOB:3rd March Place:City3\n",
      "\n"
     ]
    }
   ],
   "source": [
    "import time\n",
    "\n",
    "for var in [obj1,obj2,obj3]:\n",
    "    var.f2()\n",
    "    print('') # empty line\n",
    "    time.sleep(2) # delay 2secs"
   ]
  },
  {
   "cell_type": "code",
   "execution_count": 173,
   "id": "9efeae0d",
   "metadata": {},
   "outputs": [
    {
     "name": "stdout",
     "output_type": "stream",
     "text": [
      "obj1: <__main__.box object at 0x00000143DB91BD10>\n",
      "This is f1 method <__main__.box object at 0x00000143DB91BD10>\n",
      "\n",
      "obj2: <__main__.box object at 0x00000143DB90B810>\n",
      "This is f1 method <__main__.box object at 0x00000143DB90B810>\n"
     ]
    }
   ],
   "source": [
    "class box:\n",
    "    myvar=120\n",
    "    def f1(self):\n",
    "        print('This is f1 method',self)\n",
    "        \n",
    "obj1=box()\n",
    "obj1.myvar\n",
    "print(\"obj1:\",obj1)\n",
    "obj1.f1() # f1(obj1)\n",
    "\n",
    "print('')\n",
    "obj2=box()\n",
    "obj2.myvar\n",
    "print(\"obj2:\",obj2)\n",
    "obj2.f1() # f1(obj2)"
   ]
  },
  {
   "cell_type": "code",
   "execution_count": 174,
   "id": "37b8dc5e",
   "metadata": {},
   "outputs": [],
   "source": [
    "class product:\n",
    "    pname=''\n",
    "    pid=0\n",
    "    def f1(self,pa,pb):\n",
    "        self.pname = pa\n",
    "        self.pid = pb\n",
    "    def f2(self):\n",
    "        print(self.pname,self.pid)"
   ]
  },
  {
   "cell_type": "code",
   "execution_count": 175,
   "id": "608b44d0",
   "metadata": {},
   "outputs": [],
   "source": [
    "obj1 = product()\n",
    "obj1.f1('prodA',101)"
   ]
  },
  {
   "cell_type": "code",
   "execution_count": 176,
   "id": "d203d094",
   "metadata": {},
   "outputs": [],
   "source": [
    "obj2 = product()\n",
    "obj2.f1('prodB',102)"
   ]
  },
  {
   "cell_type": "code",
   "execution_count": 177,
   "id": "382304db",
   "metadata": {},
   "outputs": [
    {
     "name": "stdout",
     "output_type": "stream",
     "text": [
      "prodA 101\n"
     ]
    }
   ],
   "source": [
    "obj1.f2()"
   ]
  },
  {
   "cell_type": "code",
   "execution_count": 178,
   "id": "8cc897ec",
   "metadata": {},
   "outputs": [
    {
     "name": "stdout",
     "output_type": "stream",
     "text": [
      "prodB 102\n"
     ]
    }
   ],
   "source": [
    "obj2.f2()"
   ]
  },
  {
   "cell_type": "code",
   "execution_count": null,
   "id": "55434132",
   "metadata": {},
   "outputs": [],
   "source": [
    "DB \n",
    "  \\___ DB  -> connection -OK\n",
    "                          |_______Query\n",
    "        \n",
    "webscraping\n",
    "  \\_____download the webcontent\n",
    "                          |_______scrap data\n",
    "        \n",
    "SSHConnection\n",
    " \\_________________connect the remote m/c\n",
    "                               |___________open an application"
   ]
  },
  {
   "cell_type": "code",
   "execution_count": null,
   "id": "8d296a92",
   "metadata": {},
   "outputs": [],
   "source": [
    "class DB:\n",
    "    def connection(self):\n",
    "        '''\n",
    "        db connection establishment\n",
    "        '''\n",
    "    def query1(self):\n",
    "        '''query 1'''\n",
    "    def query2(self):\n",
    "        '''query 2'''\n",
    "        \n",
    "obj = DB()\n",
    "obj.connection() - (1st establish the connection)\n",
    "obj.query1()\n",
    "obj.query2()\n",
    "\n",
    "myobj = DB()\n",
    "myobj.query1() # Valid Call - But DB operation is failed "
   ]
  },
  {
   "cell_type": "code",
   "execution_count": 179,
   "id": "8a79aced",
   "metadata": {},
   "outputs": [
    {
     "name": "stdout",
     "output_type": "stream",
     "text": [
      "About  details:-\n",
      "---------------------------------------------\n",
      "Emp Name: DOB: Place:\n"
     ]
    }
   ],
   "source": [
    "class Enrollment:\n",
    "    Name = ''\n",
    "    DOB = ''\n",
    "    Place = ''\n",
    "    def f1(self,a1,a2,a3):\n",
    "        self.Name = a1\n",
    "        self.DOB = a2\n",
    "        self.Place = a3\n",
    "        print('Enrollment is done')\n",
    "    def f2(self):\n",
    "        print(f'About {self.Name} details:-')\n",
    "        print('-'*45)\n",
    "        print(f'Emp Name:{self.Name} DOB:{self.DOB} Place:{self.Place}')\n",
    "    \n",
    "obj1 = Enrollment()\n",
    "obj1.f2()"
   ]
  },
  {
   "cell_type": "code",
   "execution_count": 180,
   "id": "ebcf6b6d",
   "metadata": {},
   "outputs": [
    {
     "ename": "TypeError",
     "evalue": "Enrollment.__init__() missing 3 required positional arguments: 'a1', 'a2', and 'a3'",
     "output_type": "error",
     "traceback": [
      "\u001b[1;31m---------------------------------------------------------------------------\u001b[0m",
      "\u001b[1;31mTypeError\u001b[0m                                 Traceback (most recent call last)",
      "Cell \u001b[1;32mIn[180], line 15\u001b[0m\n\u001b[0;32m     12\u001b[0m         \u001b[38;5;28mprint\u001b[39m(\u001b[38;5;124m'\u001b[39m\u001b[38;5;124m-\u001b[39m\u001b[38;5;124m'\u001b[39m\u001b[38;5;241m*\u001b[39m\u001b[38;5;241m45\u001b[39m)\n\u001b[0;32m     13\u001b[0m         \u001b[38;5;28mprint\u001b[39m(\u001b[38;5;124mf\u001b[39m\u001b[38;5;124m'\u001b[39m\u001b[38;5;124mEmp Name:\u001b[39m\u001b[38;5;132;01m{\u001b[39;00m\u001b[38;5;28mself\u001b[39m\u001b[38;5;241m.\u001b[39mName\u001b[38;5;132;01m}\u001b[39;00m\u001b[38;5;124m DOB:\u001b[39m\u001b[38;5;132;01m{\u001b[39;00m\u001b[38;5;28mself\u001b[39m\u001b[38;5;241m.\u001b[39mDOB\u001b[38;5;132;01m}\u001b[39;00m\u001b[38;5;124m Place:\u001b[39m\u001b[38;5;132;01m{\u001b[39;00m\u001b[38;5;28mself\u001b[39m\u001b[38;5;241m.\u001b[39mPlace\u001b[38;5;132;01m}\u001b[39;00m\u001b[38;5;124m'\u001b[39m)\n\u001b[1;32m---> 15\u001b[0m myobj1 \u001b[38;5;241m=\u001b[39m Enrollment()\n\u001b[0;32m     16\u001b[0m myobj1\u001b[38;5;241m.\u001b[39mf2()\n",
      "\u001b[1;31mTypeError\u001b[0m: Enrollment.__init__() missing 3 required positional arguments: 'a1', 'a2', and 'a3'"
     ]
    }
   ],
   "source": [
    "class Enrollment:\n",
    "    def __init__(self,a1,a2,a3):\n",
    "        self.Name = a1\n",
    "        self.DOB = a2\n",
    "        self.Place = a3\n",
    "        print('Enrollment is done')\n",
    "    def f2(self):\n",
    "        print(f'About {self.Name} details:-')\n",
    "        print('-'*45)\n",
    "        print(f'Emp Name:{self.Name} DOB:{self.DOB} Place:{self.Place}')\n",
    "    \n",
    "myobj1 = Enrollment()\n",
    "myobj1.f2()"
   ]
  },
  {
   "cell_type": "code",
   "execution_count": 182,
   "id": "bdef946a",
   "metadata": {},
   "outputs": [
    {
     "name": "stdout",
     "output_type": "stream",
     "text": [
      "Enrollment is done\n",
      "About Arun details:-\n",
      "---------------------------------------------\n",
      "Emp Name:Arun DOB:1st Jan Place:City1\n"
     ]
    }
   ],
   "source": [
    "class Enrollment:\n",
    "    def __init__(self,a1,a2,a3):\n",
    "        self.Name = a1\n",
    "        self.DOB = a2\n",
    "        self.Place = a3\n",
    "        print('Enrollment is done')\n",
    "    def f2(self):\n",
    "        print(f'About {self.Name} details:-')\n",
    "        print('-'*45)\n",
    "        print(f'Emp Name:{self.Name} DOB:{self.DOB} Place:{self.Place}')\n",
    "    \n",
    "myobj1 = Enrollment('Arun','1st Jan','City1')\n",
    "myobj1.f2()"
   ]
  },
  {
   "cell_type": "code",
   "execution_count": 187,
   "id": "d4ba1cb9",
   "metadata": {},
   "outputs": [],
   "source": [
    "class box:\n",
    "    def __init__(self):\n",
    "        return 'abc'"
   ]
  },
  {
   "cell_type": "code",
   "execution_count": 188,
   "id": "cbe4b58f",
   "metadata": {},
   "outputs": [
    {
     "ename": "TypeError",
     "evalue": "__init__() should return None, not 'str'",
     "output_type": "error",
     "traceback": [
      "\u001b[1;31m---------------------------------------------------------------------------\u001b[0m",
      "\u001b[1;31mTypeError\u001b[0m                                 Traceback (most recent call last)",
      "Cell \u001b[1;32mIn[188], line 1\u001b[0m\n\u001b[1;32m----> 1\u001b[0m obj \u001b[38;5;241m=\u001b[39m box()\n",
      "\u001b[1;31mTypeError\u001b[0m: __init__() should return None, not 'str'"
     ]
    }
   ],
   "source": [
    "obj = box()"
   ]
  },
  {
   "cell_type": "code",
   "execution_count": 190,
   "id": "aa1b2d18",
   "metadata": {},
   "outputs": [
    {
     "name": "stdout",
     "output_type": "stream",
     "text": [
      "prodA cusA\n",
      "\n"
     ]
    },
    {
     "ename": "AttributeError",
     "evalue": "'Customer' object has no attribute 'pname'",
     "output_type": "error",
     "traceback": [
      "\u001b[1;31m---------------------------------------------------------------------------\u001b[0m",
      "\u001b[1;31mAttributeError\u001b[0m                            Traceback (most recent call last)",
      "Cell \u001b[1;32mIn[190], line 12\u001b[0m\n\u001b[0;32m     10\u001b[0m \u001b[38;5;28mprint\u001b[39m(objP\u001b[38;5;241m.\u001b[39mpname,objC\u001b[38;5;241m.\u001b[39mcname)\n\u001b[0;32m     11\u001b[0m \u001b[38;5;28mprint\u001b[39m(\u001b[38;5;124m'\u001b[39m\u001b[38;5;124m'\u001b[39m)\n\u001b[1;32m---> 12\u001b[0m \u001b[38;5;28mprint\u001b[39m(objC\u001b[38;5;241m.\u001b[39mpname)\n",
      "\u001b[1;31mAttributeError\u001b[0m: 'Customer' object has no attribute 'pname'"
     ]
    }
   ],
   "source": [
    "class Product:\n",
    "    pname = 'prodA'\n",
    "    \n",
    "class Customer:\n",
    "    cname = 'cusA'\n",
    "    \n",
    "objP = Product()\n",
    "objC = Customer()\n",
    "\n",
    "print(objP.pname,objC.cname)\n",
    "print('')\n",
    "print(objC.pname)"
   ]
  },
  {
   "cell_type": "code",
   "execution_count": null,
   "id": "05882c05",
   "metadata": {},
   "outputs": [],
   "source": [
    " Parent\n",
    " |IS-A\n",
    "Child -> Child_obj.<parentAttribute>\n",
    "\n",
    "\n",
    "class ChildClass(ParentClassName):\n",
    "    ..."
   ]
  },
  {
   "cell_type": "code",
   "execution_count": 191,
   "id": "35100f2d",
   "metadata": {},
   "outputs": [
    {
     "data": {
      "text/plain": [
       "'prodA'"
      ]
     },
     "execution_count": 191,
     "metadata": {},
     "output_type": "execute_result"
    }
   ],
   "source": [
    "class Product:\n",
    "    pname = 'prodA'\n",
    "    \n",
    "class Customer(Product): # Inheritance  Vs    def functionName(argument):\n",
    "    cname = 'cusA'\n",
    "    \n",
    "cobj = Customer()\n",
    "cobj.pname"
   ]
  },
  {
   "cell_type": "code",
   "execution_count": null,
   "id": "2b0d6fb0",
   "metadata": {},
   "outputs": [],
   "source": [
    "file: pa.py                 file: pb.py                    file: p1.py\n",
    "--------------              -------------                   -----------\n",
    "class Box:                  import pa                           import pb\n",
    "    def f1(self):           class Fax(pa.Box):                  obj = pb.Fax()\n",
    "        ...                      def f2(self):                  obj.f1()\n",
    "                                         ..                     obj.f2()"
   ]
  },
  {
   "cell_type": "code",
   "execution_count": null,
   "id": "32161acb",
   "metadata": {},
   "outputs": [],
   "source": [
    "import bs4\n",
    "obj = bs4.BeautifulSoup()\n",
    "obj.find()"
   ]
  },
  {
   "cell_type": "code",
   "execution_count": 192,
   "id": "9458bb8c",
   "metadata": {},
   "outputs": [
    {
     "name": "stdout",
     "output_type": "stream",
     "text": [
      "display - list of files\n",
      "display - list of files\n"
     ]
    }
   ],
   "source": [
    "class P1:\n",
    "    def display(self):\n",
    "        print('display - customer records')\n",
    "        \n",
    "class P2(P1):\n",
    "    def display(self):\n",
    "        print('display - list of files')\n",
    "        \n",
    "obj = P2()\n",
    "obj.display()\n",
    "obj.display()"
   ]
  },
  {
   "cell_type": "code",
   "execution_count": 193,
   "id": "39380ff8",
   "metadata": {},
   "outputs": [
    {
     "name": "stdout",
     "output_type": "stream",
     "text": [
      "display - list of files\n",
      "display - customer records\n"
     ]
    }
   ],
   "source": [
    "class P1:\n",
    "    def display(self):\n",
    "        print('display - customer records')\n",
    "        \n",
    "class P2(P1):\n",
    "    def display(self):\n",
    "        print('display - list of files')\n",
    "        super().display() # invoke parent class - display()\n",
    "        \n",
    "obj = P2()\n",
    "obj.display()"
   ]
  },
  {
   "cell_type": "code",
   "execution_count": 194,
   "id": "0b873cf5",
   "metadata": {},
   "outputs": [
    {
     "name": "stdout",
     "output_type": "stream",
     "text": [
      "display - list of files\n",
      "display - customer records\n"
     ]
    }
   ],
   "source": [
    "class P1:\n",
    "    def display(self):\n",
    "        print('display - customer records')\n",
    "        \n",
    "class P2(P1):\n",
    "    def display(self):\n",
    "        print('display - list of files')\n",
    "        P1.display(self) # invoke parent class - display()\n",
    "        \n",
    "obj = P2()\n",
    "obj.display()"
   ]
  },
  {
   "cell_type": "code",
   "execution_count": 196,
   "id": "945a6d3e",
   "metadata": {},
   "outputs": [
    {
     "name": "stdout",
     "output_type": "stream",
     "text": [
      "<class 'list'> <class 'tuple'>\n"
     ]
    }
   ],
   "source": [
    "L=[]\n",
    "T=()\n",
    "print(type(L),type(T))"
   ]
  },
  {
   "cell_type": "code",
   "execution_count": 197,
   "id": "85442a5e",
   "metadata": {},
   "outputs": [
    {
     "data": {
      "text/plain": [
       "True"
      ]
     },
     "execution_count": 197,
     "metadata": {},
     "output_type": "execute_result"
    }
   ],
   "source": [
    "isinstance(L,list)"
   ]
  },
  {
   "cell_type": "code",
   "execution_count": 198,
   "id": "5d620bea",
   "metadata": {},
   "outputs": [
    {
     "data": {
      "text/plain": [
       "False"
      ]
     },
     "execution_count": 198,
     "metadata": {},
     "output_type": "execute_result"
    }
   ],
   "source": [
    "isinstance(L,tuple)"
   ]
  },
  {
   "cell_type": "code",
   "execution_count": null,
   "id": "9b9b4b5a",
   "metadata": {},
   "outputs": [],
   "source": [
    "is\n",
    "is not"
   ]
  },
  {
   "cell_type": "code",
   "execution_count": 200,
   "id": "bacfea36",
   "metadata": {},
   "outputs": [
    {
     "data": {
      "text/plain": [
       "True"
      ]
     },
     "execution_count": 200,
     "metadata": {},
     "output_type": "execute_result"
    }
   ],
   "source": [
    "type(L) is list"
   ]
  },
  {
   "cell_type": "code",
   "execution_count": 201,
   "id": "e3fddd79",
   "metadata": {},
   "outputs": [
    {
     "data": {
      "text/plain": [
       "False"
      ]
     },
     "execution_count": 201,
     "metadata": {},
     "output_type": "execute_result"
    }
   ],
   "source": [
    "type(T) is list"
   ]
  },
  {
   "cell_type": "code",
   "execution_count": 202,
   "id": "a81b18e5",
   "metadata": {},
   "outputs": [
    {
     "data": {
      "text/plain": [
       "True"
      ]
     },
     "execution_count": 202,
     "metadata": {},
     "output_type": "execute_result"
    }
   ],
   "source": [
    "class box:\n",
    "    pass\n",
    "\n",
    "obj = box()\n",
    "isinstance(obj,box)"
   ]
  },
  {
   "cell_type": "code",
   "execution_count": 203,
   "id": "1452e5b9",
   "metadata": {},
   "outputs": [
    {
     "data": {
      "text/plain": [
       "True"
      ]
     },
     "execution_count": 203,
     "metadata": {},
     "output_type": "execute_result"
    }
   ],
   "source": [
    "type(obj) is box"
   ]
  },
  {
   "cell_type": "code",
   "execution_count": null,
   "id": "5e73886e",
   "metadata": {},
   "outputs": [],
   "source": []
  },
  {
   "cell_type": "code",
   "execution_count": null,
   "id": "1d2b27ba",
   "metadata": {},
   "outputs": [],
   "source": [
    "### decorator ###"
   ]
  },
  {
   "cell_type": "code",
   "execution_count": 204,
   "id": "e14035f6",
   "metadata": {},
   "outputs": [],
   "source": [
    "def f1(a): # decorator\n",
    "    def f2(): # wrapper \n",
    "        a()\n",
    "    return f2"
   ]
  },
  {
   "cell_type": "code",
   "execution_count": 209,
   "id": "b0f72c66",
   "metadata": {},
   "outputs": [
    {
     "name": "stdout",
     "output_type": "stream",
     "text": [
      "This fC Code\n"
     ]
    }
   ],
   "source": [
    "def fC():\n",
    "    print('This fC Code')\n",
    "    \n",
    "fC = f1(fC)\n",
    "fC()"
   ]
  },
  {
   "cell_type": "code",
   "execution_count": 205,
   "id": "07945424",
   "metadata": {},
   "outputs": [],
   "source": [
    "@f1\n",
    "def fA():\n",
    "    print('This is App1 version')\n",
    "    \n",
    "@f1\n",
    "def fB():\n",
    "    print('This is App2 version')"
   ]
  },
  {
   "cell_type": "code",
   "execution_count": 206,
   "id": "21aa4d0c",
   "metadata": {},
   "outputs": [
    {
     "name": "stdout",
     "output_type": "stream",
     "text": [
      "This is App1 version\n"
     ]
    }
   ],
   "source": [
    "fA()"
   ]
  },
  {
   "cell_type": "code",
   "execution_count": 207,
   "id": "8aee4aa0",
   "metadata": {},
   "outputs": [
    {
     "name": "stdout",
     "output_type": "stream",
     "text": [
      "This is App2 version\n"
     ]
    }
   ],
   "source": [
    "fB()"
   ]
  },
  {
   "cell_type": "code",
   "execution_count": null,
   "id": "ae9db304",
   "metadata": {},
   "outputs": [],
   "source": [
    "#######"
   ]
  },
  {
   "cell_type": "code",
   "execution_count": 212,
   "id": "dff888d1",
   "metadata": {},
   "outputs": [
    {
     "name": "stdout",
     "output_type": "stream",
     "text": [
      "120\n",
      "500\n"
     ]
    }
   ],
   "source": [
    "class box:\n",
    "    myvar = 120\n",
    "    \n",
    "print(box.myvar)\n",
    "box.myvar = 500\n",
    "print(box.myvar)"
   ]
  },
  {
   "cell_type": "code",
   "execution_count": 213,
   "id": "9baac959",
   "metadata": {},
   "outputs": [
    {
     "name": "stdout",
     "output_type": "stream",
     "text": [
      "120\n"
     ]
    }
   ],
   "source": [
    "class box:\n",
    "    myvar = 120\n",
    "    @classmethod\n",
    "    def f1(cls):\n",
    "        print(cls.myvar) # like box.myvar\n",
    "        cls.myvar = 500  # box.myvar = 500\n",
    "        \n",
    "\n",
    "box.f1() # f1(box)  Vs  obj = box() -> obj.f1() -> f1(obj) \n",
    "#             |__cls                                   |___self"
   ]
  },
  {
   "cell_type": "code",
   "execution_count": 211,
   "id": "5713a9a0",
   "metadata": {},
   "outputs": [
    {
     "name": "stdout",
     "output_type": "stream",
     "text": [
      "500\n"
     ]
    }
   ],
   "source": [
    "print(box.myvar)"
   ]
  },
  {
   "cell_type": "code",
   "execution_count": null,
   "id": "fdf892ca",
   "metadata": {},
   "outputs": [],
   "source": [
    "import <module>\n",
    "<module>.<member>\n",
    "\n",
    "import os\n",
    "os.listdir('.')\n",
    "\n",
    "listdir('.') ->Error\n",
    "\n",
    "from <module> import <member>\n",
    "<member>\n",
    "\n",
    "from os import listdir\n",
    "listdir(.) # OK"
   ]
  },
  {
   "cell_type": "code",
   "execution_count": 214,
   "id": "5d8bf4c0",
   "metadata": {},
   "outputs": [
    {
     "ename": "NameError",
     "evalue": "name 'getcwd' is not defined",
     "output_type": "error",
     "traceback": [
      "\u001b[1;31m---------------------------------------------------------------------------\u001b[0m",
      "\u001b[1;31mNameError\u001b[0m                                 Traceback (most recent call last)",
      "Cell \u001b[1;32mIn[214], line 2\u001b[0m\n\u001b[0;32m      1\u001b[0m \u001b[38;5;28;01mimport\u001b[39;00m \u001b[38;5;21;01mos\u001b[39;00m\n\u001b[1;32m----> 2\u001b[0m getcwd()\n",
      "\u001b[1;31mNameError\u001b[0m: name 'getcwd' is not defined"
     ]
    }
   ],
   "source": [
    "import os\n",
    "getcwd()"
   ]
  },
  {
   "cell_type": "code",
   "execution_count": 215,
   "id": "df0bbcee",
   "metadata": {},
   "outputs": [
    {
     "data": {
      "text/plain": [
       "'C:\\\\Users\\\\Raja'"
      ]
     },
     "execution_count": 215,
     "metadata": {},
     "output_type": "execute_result"
    }
   ],
   "source": [
    "os.getcwd()"
   ]
  },
  {
   "cell_type": "code",
   "execution_count": 216,
   "id": "5e4fcb92",
   "metadata": {},
   "outputs": [
    {
     "data": {
      "text/plain": [
       "'C:\\\\Users\\\\Raja'"
      ]
     },
     "execution_count": 216,
     "metadata": {},
     "output_type": "execute_result"
    }
   ],
   "source": [
    "from os import getcwd\n",
    "getcwd()"
   ]
  },
  {
   "cell_type": "code",
   "execution_count": 217,
   "id": "572716ff",
   "metadata": {},
   "outputs": [
    {
     "data": {
      "text/plain": [
       "'C:\\\\Users\\\\Raja'"
      ]
     },
     "execution_count": 217,
     "metadata": {},
     "output_type": "execute_result"
    }
   ],
   "source": [
    "pwd()"
   ]
  },
  {
   "cell_type": "code",
   "execution_count": 219,
   "id": "4515df48",
   "metadata": {},
   "outputs": [
    {
     "name": "stdout",
     "output_type": "stream",
     "text": [
      "Help on built-in function getcwd in module nt:\n",
      "\n",
      "getcwd()\n",
      "    Return a unicode string representing the current working directory.\n",
      "\n"
     ]
    }
   ],
   "source": [
    "help(getcwd)"
   ]
  },
  {
   "cell_type": "code",
   "execution_count": 224,
   "id": "6ec1f3c3",
   "metadata": {},
   "outputs": [
    {
     "data": {
      "text/plain": [
       "'C:\\\\Users\\\\Raja'"
      ]
     },
     "execution_count": 224,
     "metadata": {},
     "output_type": "execute_result"
    }
   ],
   "source": [
    "pwd!"
   ]
  },
  {
   "cell_type": "code",
   "execution_count": null,
   "id": "59a77309",
   "metadata": {},
   "outputs": [],
   "source": [
    "# pwd! <== magic command used in jupyter"
   ]
  }
 ],
 "metadata": {
  "kernelspec": {
   "display_name": "Python 3 (ipykernel)",
   "language": "python",
   "name": "python3"
  },
  "language_info": {
   "codemirror_mode": {
    "name": "ipython",
    "version": 3
   },
   "file_extension": ".py",
   "mimetype": "text/x-python",
   "name": "python",
   "nbconvert_exporter": "python",
   "pygments_lexer": "ipython3",
   "version": "3.11.5"
  }
 },
 "nbformat": 4,
 "nbformat_minor": 5
}
