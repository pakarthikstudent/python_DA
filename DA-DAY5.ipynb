{
 "cells": [
  {
   "cell_type": "code",
   "execution_count": null,
   "id": "8b8d1a29",
   "metadata": {},
   "outputs": [],
   "source": [
    "Recap \n",
    "---------                                                 1D      2D       \n",
    "numpy          -  numerical operations  - DataStructures(Vector;Matrix;Tensor(3D))\n",
    "pandas         -  DataStructures(Series;DataFrame) - Table(Row x Cols)\n",
    "                                                            |    |\n",
    "                                                    df.loc[] -> \n",
    "                                                    df['Cols']\n",
    "                   df.info , df.head,df.tail, df.isnull ...\n",
    "                \n",
    "matplotlib    -  Visualization \n",
    "                      - plot(line - style;marker;color..)\n",
    "                      - bar ; scatter; pie ; heatmap;histogram;boxplot\n",
    "                  "
   ]
  },
  {
   "cell_type": "code",
   "execution_count": null,
   "id": "f548437a",
   "metadata": {},
   "outputs": [],
   "source": [
    "1. Collect the data from various source - Raw Data\n",
    "2. Raw Data ->Structured Data (DataFrame)\n",
    "3. Data Preprocessing ->cleaned Data\n",
    "4. Exploration Data Analysis (EDA) ->data relationship\n",
    "5. Visualization \n",
    "--------------------------------------------//DataAnalysis\n",
    "|\n",
    "6. Model - ML"
   ]
  },
  {
   "cell_type": "code",
   "execution_count": null,
   "id": "3a499535",
   "metadata": {},
   "outputs": [],
   "source": [
    "statistics\n",
    "------------\n",
    " |\n",
    "Elements\n",
    " \\__ population - overall Data\n",
    " \\__ sample - from population - select certain part of data\n",
    " \\__ variables - describe characterstics of data\n",
    "         |\n",
    "         |-->numerical - Quantitative(Age,Height,Weight) Vs Continuos\n",
    "         |-->categorical - string                        \n",
    " \\__ Types\n",
    "        \\___ Descriptive - (A)\n",
    "        \\___ Inferential - (B)\n",
    "        \n",
    "(A) - Describe collected data (ex: df.describe())  -> Table ; Charts ; Grapgh\n",
    "(B) - Drawing Conclusing based on data collected from sample ->probability score\n",
    "\n",
    "mean - avg of all the values \n",
    "median - measure central value of sample set\n",
    "mode   - most recurrent value in sample\n",
    "\n",
    "ex:(1,2,3,4,5,4,10,9,12,8)\n",
    "    \n",
    "    mean = 1+2+3+4+5+4+10+9+12+8 = X / 10 = r_mean\n",
    "    |\n",
    "    median => 1 2 3 4 4 5 2 4 10 9 12 8\n",
    "    |\n",
    "    mode => 4\n",
    "    |\n",
    "    range=max(data) - min(data)\n",
    "    |\n",
    "    variance \n",
    "      \\__1. population \\__2. sample variance \n",
    "    standard deviation"
   ]
  },
  {
   "cell_type": "code",
   "execution_count": null,
   "id": "d937576c",
   "metadata": {},
   "outputs": [],
   "source": [
    "\n",
    "s1 = 90\n",
    "s2 = 92\n",
    "s3 = 95\n",
    "   ------\n",
    "mean = 92.33\n",
    "--------------\n",
    "mean absolute deviation\n",
    "  s1 = 90 - 92.33 = 2.33\n",
    "  s2 = 92 - 92.33 = 0.33\n",
    "  s3 = 95 - 92.33 = 2.67\n",
    "                  ---------\n",
    "                    5.33"
   ]
  },
  {
   "cell_type": "code",
   "execution_count": 3,
   "id": "ae0fadca",
   "metadata": {},
   "outputs": [
    {
     "data": {
      "text/plain": [
       "92.33333333333333"
      ]
     },
     "execution_count": 3,
     "metadata": {},
     "output_type": "execute_result"
    }
   ],
   "source": [
    "import numpy as np\n",
    "np.mean([90,92,95])"
   ]
  },
  {
   "cell_type": "code",
   "execution_count": null,
   "id": "ea18ebc2",
   "metadata": {},
   "outputs": [],
   "source": [
    "\n",
    "selecting sample data from population\n",
    " -> probability sampling\n",
    "     |->Sample random sampling  (df.sample(n=5))\n",
    "  \n",
    "    \n",
    "Sample random sampling  \n",
    "sample_ran = df.sample(n=5)\n",
    "\n",
    "sample_ran.sort_values(by='Key') (ex: 'prodID')\n",
    "\n",
    "sample_ran['salesprice'].mean() ->mean_value\n"
   ]
  },
  {
   "cell_type": "code",
   "execution_count": null,
   "id": "c8c2e005",
   "metadata": {},
   "outputs": [],
   "source": [
    "EDA\n",
    "->1. univariate analysis - take one variable at a time ->Visualiztion\n",
    "                          Visualization -> plot,bar,pie,boxplot\n",
    "                                           histogram\n",
    "->2. bivariate analysis - how variables are related to each other\n",
    "                          relationship between dependent and independent\n",
    "    \n",
    "                   Day | prodSalesCount | \n",
    "                   Sun | 1000\n",
    "                   mon |  500\n",
    "                   tue |  400\n",
    "                    ..\n",
    "                   Sat | 900 \n",
    "                   \n",
    "                   PlayTime | score\n",
    "                     5      |  60\n",
    "                     4      |  70\n",
    "                     3      | 90\n",
    "                     7      | 40\n",
    "                        \n",
    "                        Visualization: bar,pie,scatter,plot\n",
    "                            \n",
    "->3. Multivariate analysis\n",
    "            => more than 2 variables \n",
    "             Marketing | prod |salesCount\n",
    "                M+       | pA   | X\n",
    "                       | pB   | x\n",
    "                       | pc   | x-\n",
    "                M+       | pD   | X+\n",
    "                \n",
    "                Visualization : Heatmap"
   ]
  },
  {
   "cell_type": "code",
   "execution_count": null,
   "id": "8bd1e9c0",
   "metadata": {},
   "outputs": [],
   "source": [
    "1. Loading the data\n",
    "|\n",
    "2. Get info about data -> df.info();df.head();df.tail() \n",
    "|\n",
    "3. Data Cleaning\n",
    "          -> df.duplicated() ->df.drop_duplicates()\n",
    "          -> drop unwanted field(columns)\n",
    "          -> replace missing values\n",
    "          -> rename the field if field name is lengthy\n",
    "4. EDA\n",
    "     |-> Univariate (Visualization: hist;box;bar;pie)\n",
    "     |-> Bivariate (two variables) ->visualization: Scatter;bar;pie\n",
    "     |-> Multivariate (more than two variables) ->Heatmap\n",
    "\n",
    "5. statistics ->df.describe()"
   ]
  },
  {
   "cell_type": "code",
   "execution_count": 4,
   "id": "647ff7dd",
   "metadata": {},
   "outputs": [],
   "source": [
    "import numpy as np\n",
    "import pandas as pd\n",
    "import matplotlib.pyplot as plt"
   ]
  },
  {
   "cell_type": "code",
   "execution_count": 6,
   "id": "9c92a9f3",
   "metadata": {},
   "outputs": [],
   "source": [
    "df = pd.read_csv('E:\\\\DA\\\\used_cars_data.csv')"
   ]
  },
  {
   "cell_type": "code",
   "execution_count": 7,
   "id": "e833f42b",
   "metadata": {},
   "outputs": [
    {
     "data": {
      "text/plain": [
       "(7253, 14)"
      ]
     },
     "execution_count": 7,
     "metadata": {},
     "output_type": "execute_result"
    }
   ],
   "source": [
    "df.shape"
   ]
  },
  {
   "cell_type": "code",
   "execution_count": 8,
   "id": "01ab26c4",
   "metadata": {},
   "outputs": [
    {
     "name": "stdout",
     "output_type": "stream",
     "text": [
      "<class 'pandas.core.frame.DataFrame'>\n",
      "RangeIndex: 7253 entries, 0 to 7252\n",
      "Data columns (total 14 columns):\n",
      " #   Column             Non-Null Count  Dtype  \n",
      "---  ------             --------------  -----  \n",
      " 0   S.No.              7253 non-null   int64  \n",
      " 1   Name               7253 non-null   object \n",
      " 2   Location           7253 non-null   object \n",
      " 3   Year               7253 non-null   int64  \n",
      " 4   Kilometers_Driven  7253 non-null   int64  \n",
      " 5   Fuel_Type          7253 non-null   object \n",
      " 6   Transmission       7253 non-null   object \n",
      " 7   Owner_Type         7253 non-null   object \n",
      " 8   Mileage            7251 non-null   object \n",
      " 9   Engine             7207 non-null   object \n",
      " 10  Power              7207 non-null   object \n",
      " 11  Seats              7200 non-null   float64\n",
      " 12  New_Price          1006 non-null   object \n",
      " 13  Price              6019 non-null   float64\n",
      "dtypes: float64(2), int64(3), object(9)\n",
      "memory usage: 793.4+ KB\n"
     ]
    }
   ],
   "source": [
    "# 7253 - rows - observation\n",
    "# 14  - cols - variables \n",
    "df.info()"
   ]
  },
  {
   "cell_type": "code",
   "execution_count": 9,
   "id": "9a0ee697",
   "metadata": {},
   "outputs": [
    {
     "data": {
      "text/plain": [
       "0       False\n",
       "1       False\n",
       "2       False\n",
       "3       False\n",
       "4       False\n",
       "        ...  \n",
       "7248    False\n",
       "7249    False\n",
       "7250    False\n",
       "7251    False\n",
       "7252    False\n",
       "Length: 7253, dtype: bool"
      ]
     },
     "execution_count": 9,
     "metadata": {},
     "output_type": "execute_result"
    }
   ],
   "source": [
    "df.duplicated()"
   ]
  },
  {
   "cell_type": "code",
   "execution_count": 13,
   "id": "10623b7f",
   "metadata": {},
   "outputs": [
    {
     "data": {
      "text/plain": [
       "0"
      ]
     },
     "execution_count": 13,
     "metadata": {},
     "output_type": "execute_result"
    }
   ],
   "source": [
    "df.duplicated()\n",
    "df.duplicated().sum()"
   ]
  },
  {
   "cell_type": "code",
   "execution_count": 15,
   "id": "b430c30c",
   "metadata": {},
   "outputs": [
    {
     "data": {
      "text/plain": [
       "S.No.                   0\n",
       "Name                    0\n",
       "Location                0\n",
       "Year                    0\n",
       "Kilometers_Driven       0\n",
       "Fuel_Type               0\n",
       "Transmission            0\n",
       "Owner_Type              0\n",
       "Mileage                 2\n",
       "Engine                 46\n",
       "Power                  46\n",
       "Seats                  53\n",
       "New_Price            6247\n",
       "Price                1234\n",
       "dtype: int64"
      ]
     },
     "execution_count": 15,
     "metadata": {},
     "output_type": "execute_result"
    }
   ],
   "source": [
    "df.isnull()\n",
    "df.isnull().sum()"
   ]
  },
  {
   "cell_type": "code",
   "execution_count": null,
   "id": "5a258688",
   "metadata": {},
   "outputs": [],
   "source": [
    "# df.fillna(value=df.isnull().sum()/len(df)*100)\n",
    "# global ->replace"
   ]
  },
  {
   "cell_type": "code",
   "execution_count": 16,
   "id": "14e69dbc",
   "metadata": {},
   "outputs": [
    {
     "data": {
      "text/plain": [
       "Index(['S.No.', 'Name', 'Location', 'Year', 'Kilometers_Driven', 'Fuel_Type',\n",
       "       'Transmission', 'Owner_Type', 'Mileage', 'Engine', 'Power', 'Seats',\n",
       "       'New_Price', 'Price'],\n",
       "      dtype='object')"
      ]
     },
     "execution_count": 16,
     "metadata": {},
     "output_type": "execute_result"
    }
   ],
   "source": [
    "df.columns"
   ]
  },
  {
   "cell_type": "code",
   "execution_count": 20,
   "id": "b325d641",
   "metadata": {},
   "outputs": [
    {
     "data": {
      "text/plain": [
       "'26.6 km/kg'"
      ]
     },
     "execution_count": 20,
     "metadata": {},
     "output_type": "execute_result"
    }
   ],
   "source": [
    "df.loc[0]['Mileage']"
   ]
  },
  {
   "cell_type": "code",
   "execution_count": null,
   "id": "3609f299",
   "metadata": {},
   "outputs": [],
   "source": [
    "#df['Mileage'].fillna(value=np.mean(df['Mileage']),inplace=True)\n",
    "df['Engine'].fillna(value=np.mean(df['Engine']),inplace=True)\n",
    "df['Power'].fillna(value=np.mean(df['Power']),inplace=True)\n",
    "df['Seats'].fillna(value=np.mean(df['Seats']),inplace=True)\n",
    "df['New_Price'].fillna(value=np.mean(df['New_Price']),inplace=True)\n",
    "df['Price'].fillna(value=np.mean(df['Price']),inplace=True)"
   ]
  },
  {
   "cell_type": "code",
   "execution_count": 21,
   "id": "0780b50c",
   "metadata": {},
   "outputs": [
    {
     "data": {
      "text/plain": [
       "S.No.                 0.000000\n",
       "Name                  0.000000\n",
       "Location              0.000000\n",
       "Year                  0.000000\n",
       "Kilometers_Driven     0.000000\n",
       "Fuel_Type             0.000000\n",
       "Transmission          0.000000\n",
       "Owner_Type            0.000000\n",
       "Mileage               0.027575\n",
       "Engine                0.634220\n",
       "Power                 0.634220\n",
       "Seats                 0.730732\n",
       "New_Price            86.129877\n",
       "Price                17.013650\n",
       "dtype: float64"
      ]
     },
     "execution_count": 21,
     "metadata": {},
     "output_type": "execute_result"
    }
   ],
   "source": [
    "df.isnull().sum()/len(df)*100"
   ]
  },
  {
   "cell_type": "code",
   "execution_count": 22,
   "id": "5f9028eb",
   "metadata": {},
   "outputs": [],
   "source": [
    "df.fillna(value=df.isnull().sum()/len(df)*100,inplace=True)"
   ]
  },
  {
   "cell_type": "code",
   "execution_count": 23,
   "id": "61dabf64",
   "metadata": {},
   "outputs": [
    {
     "data": {
      "text/plain": [
       "S.No.                0\n",
       "Name                 0\n",
       "Location             0\n",
       "Year                 0\n",
       "Kilometers_Driven    0\n",
       "Fuel_Type            0\n",
       "Transmission         0\n",
       "Owner_Type           0\n",
       "Mileage              0\n",
       "Engine               0\n",
       "Power                0\n",
       "Seats                0\n",
       "New_Price            0\n",
       "Price                0\n",
       "dtype: int64"
      ]
     },
     "execution_count": 23,
     "metadata": {},
     "output_type": "execute_result"
    }
   ],
   "source": [
    "df.isnull().sum()"
   ]
  },
  {
   "cell_type": "code",
   "execution_count": 24,
   "id": "58cc7db0",
   "metadata": {},
   "outputs": [
    {
     "data": {
      "text/html": [
       "<div>\n",
       "<style scoped>\n",
       "    .dataframe tbody tr th:only-of-type {\n",
       "        vertical-align: middle;\n",
       "    }\n",
       "\n",
       "    .dataframe tbody tr th {\n",
       "        vertical-align: top;\n",
       "    }\n",
       "\n",
       "    .dataframe thead th {\n",
       "        text-align: right;\n",
       "    }\n",
       "</style>\n",
       "<table border=\"1\" class=\"dataframe\">\n",
       "  <thead>\n",
       "    <tr style=\"text-align: right;\">\n",
       "      <th></th>\n",
       "      <th>Name</th>\n",
       "      <th>Location</th>\n",
       "      <th>Year</th>\n",
       "      <th>Kilometers_Driven</th>\n",
       "      <th>Fuel_Type</th>\n",
       "      <th>Transmission</th>\n",
       "      <th>Owner_Type</th>\n",
       "      <th>Mileage</th>\n",
       "      <th>Engine</th>\n",
       "      <th>Power</th>\n",
       "      <th>Seats</th>\n",
       "      <th>New_Price</th>\n",
       "      <th>Price</th>\n",
       "    </tr>\n",
       "  </thead>\n",
       "  <tbody>\n",
       "    <tr>\n",
       "      <th>0</th>\n",
       "      <td>Maruti Wagon R LXI CNG</td>\n",
       "      <td>Mumbai</td>\n",
       "      <td>2010</td>\n",
       "      <td>72000</td>\n",
       "      <td>CNG</td>\n",
       "      <td>Manual</td>\n",
       "      <td>First</td>\n",
       "      <td>26.6 km/kg</td>\n",
       "      <td>998 CC</td>\n",
       "      <td>58.16 bhp</td>\n",
       "      <td>5.0</td>\n",
       "      <td>86.129877</td>\n",
       "      <td>1.75000</td>\n",
       "    </tr>\n",
       "    <tr>\n",
       "      <th>1</th>\n",
       "      <td>Hyundai Creta 1.6 CRDi SX Option</td>\n",
       "      <td>Pune</td>\n",
       "      <td>2015</td>\n",
       "      <td>41000</td>\n",
       "      <td>Diesel</td>\n",
       "      <td>Manual</td>\n",
       "      <td>First</td>\n",
       "      <td>19.67 kmpl</td>\n",
       "      <td>1582 CC</td>\n",
       "      <td>126.2 bhp</td>\n",
       "      <td>5.0</td>\n",
       "      <td>86.129877</td>\n",
       "      <td>12.50000</td>\n",
       "    </tr>\n",
       "    <tr>\n",
       "      <th>2</th>\n",
       "      <td>Honda Jazz V</td>\n",
       "      <td>Chennai</td>\n",
       "      <td>2011</td>\n",
       "      <td>46000</td>\n",
       "      <td>Petrol</td>\n",
       "      <td>Manual</td>\n",
       "      <td>First</td>\n",
       "      <td>18.2 kmpl</td>\n",
       "      <td>1199 CC</td>\n",
       "      <td>88.7 bhp</td>\n",
       "      <td>5.0</td>\n",
       "      <td>8.61 Lakh</td>\n",
       "      <td>4.50000</td>\n",
       "    </tr>\n",
       "    <tr>\n",
       "      <th>3</th>\n",
       "      <td>Maruti Ertiga VDI</td>\n",
       "      <td>Chennai</td>\n",
       "      <td>2012</td>\n",
       "      <td>87000</td>\n",
       "      <td>Diesel</td>\n",
       "      <td>Manual</td>\n",
       "      <td>First</td>\n",
       "      <td>20.77 kmpl</td>\n",
       "      <td>1248 CC</td>\n",
       "      <td>88.76 bhp</td>\n",
       "      <td>7.0</td>\n",
       "      <td>86.129877</td>\n",
       "      <td>6.00000</td>\n",
       "    </tr>\n",
       "    <tr>\n",
       "      <th>4</th>\n",
       "      <td>Audi A4 New 2.0 TDI Multitronic</td>\n",
       "      <td>Coimbatore</td>\n",
       "      <td>2013</td>\n",
       "      <td>40670</td>\n",
       "      <td>Diesel</td>\n",
       "      <td>Automatic</td>\n",
       "      <td>Second</td>\n",
       "      <td>15.2 kmpl</td>\n",
       "      <td>1968 CC</td>\n",
       "      <td>140.8 bhp</td>\n",
       "      <td>5.0</td>\n",
       "      <td>86.129877</td>\n",
       "      <td>17.74000</td>\n",
       "    </tr>\n",
       "    <tr>\n",
       "      <th>...</th>\n",
       "      <td>...</td>\n",
       "      <td>...</td>\n",
       "      <td>...</td>\n",
       "      <td>...</td>\n",
       "      <td>...</td>\n",
       "      <td>...</td>\n",
       "      <td>...</td>\n",
       "      <td>...</td>\n",
       "      <td>...</td>\n",
       "      <td>...</td>\n",
       "      <td>...</td>\n",
       "      <td>...</td>\n",
       "      <td>...</td>\n",
       "    </tr>\n",
       "    <tr>\n",
       "      <th>7248</th>\n",
       "      <td>Volkswagen Vento Diesel Trendline</td>\n",
       "      <td>Hyderabad</td>\n",
       "      <td>2011</td>\n",
       "      <td>89411</td>\n",
       "      <td>Diesel</td>\n",
       "      <td>Manual</td>\n",
       "      <td>First</td>\n",
       "      <td>20.54 kmpl</td>\n",
       "      <td>1598 CC</td>\n",
       "      <td>103.6 bhp</td>\n",
       "      <td>5.0</td>\n",
       "      <td>86.129877</td>\n",
       "      <td>17.01365</td>\n",
       "    </tr>\n",
       "    <tr>\n",
       "      <th>7249</th>\n",
       "      <td>Volkswagen Polo GT TSI</td>\n",
       "      <td>Mumbai</td>\n",
       "      <td>2015</td>\n",
       "      <td>59000</td>\n",
       "      <td>Petrol</td>\n",
       "      <td>Automatic</td>\n",
       "      <td>First</td>\n",
       "      <td>17.21 kmpl</td>\n",
       "      <td>1197 CC</td>\n",
       "      <td>103.6 bhp</td>\n",
       "      <td>5.0</td>\n",
       "      <td>86.129877</td>\n",
       "      <td>17.01365</td>\n",
       "    </tr>\n",
       "    <tr>\n",
       "      <th>7250</th>\n",
       "      <td>Nissan Micra Diesel XV</td>\n",
       "      <td>Kolkata</td>\n",
       "      <td>2012</td>\n",
       "      <td>28000</td>\n",
       "      <td>Diesel</td>\n",
       "      <td>Manual</td>\n",
       "      <td>First</td>\n",
       "      <td>23.08 kmpl</td>\n",
       "      <td>1461 CC</td>\n",
       "      <td>63.1 bhp</td>\n",
       "      <td>5.0</td>\n",
       "      <td>86.129877</td>\n",
       "      <td>17.01365</td>\n",
       "    </tr>\n",
       "    <tr>\n",
       "      <th>7251</th>\n",
       "      <td>Volkswagen Polo GT TSI</td>\n",
       "      <td>Pune</td>\n",
       "      <td>2013</td>\n",
       "      <td>52262</td>\n",
       "      <td>Petrol</td>\n",
       "      <td>Automatic</td>\n",
       "      <td>Third</td>\n",
       "      <td>17.2 kmpl</td>\n",
       "      <td>1197 CC</td>\n",
       "      <td>103.6 bhp</td>\n",
       "      <td>5.0</td>\n",
       "      <td>86.129877</td>\n",
       "      <td>17.01365</td>\n",
       "    </tr>\n",
       "    <tr>\n",
       "      <th>7252</th>\n",
       "      <td>Mercedes-Benz E-Class 2009-2013 E 220 CDI Avan...</td>\n",
       "      <td>Kochi</td>\n",
       "      <td>2014</td>\n",
       "      <td>72443</td>\n",
       "      <td>Diesel</td>\n",
       "      <td>Automatic</td>\n",
       "      <td>First</td>\n",
       "      <td>10.0 kmpl</td>\n",
       "      <td>2148 CC</td>\n",
       "      <td>170 bhp</td>\n",
       "      <td>5.0</td>\n",
       "      <td>86.129877</td>\n",
       "      <td>17.01365</td>\n",
       "    </tr>\n",
       "  </tbody>\n",
       "</table>\n",
       "<p>7253 rows × 13 columns</p>\n",
       "</div>"
      ],
      "text/plain": [
       "                                                   Name    Location  Year  \\\n",
       "0                                Maruti Wagon R LXI CNG      Mumbai  2010   \n",
       "1                      Hyundai Creta 1.6 CRDi SX Option        Pune  2015   \n",
       "2                                          Honda Jazz V     Chennai  2011   \n",
       "3                                     Maruti Ertiga VDI     Chennai  2012   \n",
       "4                       Audi A4 New 2.0 TDI Multitronic  Coimbatore  2013   \n",
       "...                                                 ...         ...   ...   \n",
       "7248                  Volkswagen Vento Diesel Trendline   Hyderabad  2011   \n",
       "7249                             Volkswagen Polo GT TSI      Mumbai  2015   \n",
       "7250                             Nissan Micra Diesel XV     Kolkata  2012   \n",
       "7251                             Volkswagen Polo GT TSI        Pune  2013   \n",
       "7252  Mercedes-Benz E-Class 2009-2013 E 220 CDI Avan...       Kochi  2014   \n",
       "\n",
       "      Kilometers_Driven Fuel_Type Transmission Owner_Type     Mileage  \\\n",
       "0                 72000       CNG       Manual      First  26.6 km/kg   \n",
       "1                 41000    Diesel       Manual      First  19.67 kmpl   \n",
       "2                 46000    Petrol       Manual      First   18.2 kmpl   \n",
       "3                 87000    Diesel       Manual      First  20.77 kmpl   \n",
       "4                 40670    Diesel    Automatic     Second   15.2 kmpl   \n",
       "...                 ...       ...          ...        ...         ...   \n",
       "7248              89411    Diesel       Manual      First  20.54 kmpl   \n",
       "7249              59000    Petrol    Automatic      First  17.21 kmpl   \n",
       "7250              28000    Diesel       Manual      First  23.08 kmpl   \n",
       "7251              52262    Petrol    Automatic      Third   17.2 kmpl   \n",
       "7252              72443    Diesel    Automatic      First   10.0 kmpl   \n",
       "\n",
       "       Engine      Power  Seats  New_Price     Price  \n",
       "0      998 CC  58.16 bhp    5.0  86.129877   1.75000  \n",
       "1     1582 CC  126.2 bhp    5.0  86.129877  12.50000  \n",
       "2     1199 CC   88.7 bhp    5.0  8.61 Lakh   4.50000  \n",
       "3     1248 CC  88.76 bhp    7.0  86.129877   6.00000  \n",
       "4     1968 CC  140.8 bhp    5.0  86.129877  17.74000  \n",
       "...       ...        ...    ...        ...       ...  \n",
       "7248  1598 CC  103.6 bhp    5.0  86.129877  17.01365  \n",
       "7249  1197 CC  103.6 bhp    5.0  86.129877  17.01365  \n",
       "7250  1461 CC   63.1 bhp    5.0  86.129877  17.01365  \n",
       "7251  1197 CC  103.6 bhp    5.0  86.129877  17.01365  \n",
       "7252  2148 CC    170 bhp    5.0  86.129877  17.01365  \n",
       "\n",
       "[7253 rows x 13 columns]"
      ]
     },
     "execution_count": 24,
     "metadata": {},
     "output_type": "execute_result"
    }
   ],
   "source": [
    "# drop unwanted cols\n",
    "df.drop(['S.No.'],axis=1)"
   ]
  },
  {
   "cell_type": "code",
   "execution_count": 26,
   "id": "a2d95a94",
   "metadata": {},
   "outputs": [],
   "source": [
    "df.drop(['S.No.'],axis=1,inplace=True)"
   ]
  },
  {
   "cell_type": "code",
   "execution_count": 27,
   "id": "73452281",
   "metadata": {},
   "outputs": [
    {
     "data": {
      "text/html": [
       "<div>\n",
       "<style scoped>\n",
       "    .dataframe tbody tr th:only-of-type {\n",
       "        vertical-align: middle;\n",
       "    }\n",
       "\n",
       "    .dataframe tbody tr th {\n",
       "        vertical-align: top;\n",
       "    }\n",
       "\n",
       "    .dataframe thead th {\n",
       "        text-align: right;\n",
       "    }\n",
       "</style>\n",
       "<table border=\"1\" class=\"dataframe\">\n",
       "  <thead>\n",
       "    <tr style=\"text-align: right;\">\n",
       "      <th></th>\n",
       "      <th>Year</th>\n",
       "      <th>Kilometers_Driven</th>\n",
       "      <th>Seats</th>\n",
       "      <th>Price</th>\n",
       "    </tr>\n",
       "  </thead>\n",
       "  <tbody>\n",
       "    <tr>\n",
       "      <th>count</th>\n",
       "      <td>7253.000000</td>\n",
       "      <td>7.253000e+03</td>\n",
       "      <td>7253.000000</td>\n",
       "      <td>7253.000000</td>\n",
       "    </tr>\n",
       "    <tr>\n",
       "      <th>mean</th>\n",
       "      <td>2013.365366</td>\n",
       "      <td>5.869906e+04</td>\n",
       "      <td>5.246481</td>\n",
       "      <td>10.761308</td>\n",
       "    </tr>\n",
       "    <tr>\n",
       "      <th>std</th>\n",
       "      <td>3.254421</td>\n",
       "      <td>8.442772e+04</td>\n",
       "      <td>0.896719</td>\n",
       "      <td>10.577630</td>\n",
       "    </tr>\n",
       "    <tr>\n",
       "      <th>min</th>\n",
       "      <td>1996.000000</td>\n",
       "      <td>1.710000e+02</td>\n",
       "      <td>0.000000</td>\n",
       "      <td>0.440000</td>\n",
       "    </tr>\n",
       "    <tr>\n",
       "      <th>25%</th>\n",
       "      <td>2011.000000</td>\n",
       "      <td>3.400000e+04</td>\n",
       "      <td>5.000000</td>\n",
       "      <td>3.850000</td>\n",
       "    </tr>\n",
       "    <tr>\n",
       "      <th>50%</th>\n",
       "      <td>2014.000000</td>\n",
       "      <td>5.341600e+04</td>\n",
       "      <td>5.000000</td>\n",
       "      <td>6.750000</td>\n",
       "    </tr>\n",
       "    <tr>\n",
       "      <th>75%</th>\n",
       "      <td>2016.000000</td>\n",
       "      <td>7.300000e+04</td>\n",
       "      <td>5.000000</td>\n",
       "      <td>17.013650</td>\n",
       "    </tr>\n",
       "    <tr>\n",
       "      <th>max</th>\n",
       "      <td>2019.000000</td>\n",
       "      <td>6.500000e+06</td>\n",
       "      <td>10.000000</td>\n",
       "      <td>160.000000</td>\n",
       "    </tr>\n",
       "  </tbody>\n",
       "</table>\n",
       "</div>"
      ],
      "text/plain": [
       "              Year  Kilometers_Driven        Seats        Price\n",
       "count  7253.000000       7.253000e+03  7253.000000  7253.000000\n",
       "mean   2013.365366       5.869906e+04     5.246481    10.761308\n",
       "std       3.254421       8.442772e+04     0.896719    10.577630\n",
       "min    1996.000000       1.710000e+02     0.000000     0.440000\n",
       "25%    2011.000000       3.400000e+04     5.000000     3.850000\n",
       "50%    2014.000000       5.341600e+04     5.000000     6.750000\n",
       "75%    2016.000000       7.300000e+04     5.000000    17.013650\n",
       "max    2019.000000       6.500000e+06    10.000000   160.000000"
      ]
     },
     "execution_count": 27,
     "metadata": {},
     "output_type": "execute_result"
    }
   ],
   "source": [
    "df.describe()"
   ]
  },
  {
   "cell_type": "code",
   "execution_count": 28,
   "id": "c59f0dfd",
   "metadata": {},
   "outputs": [
    {
     "data": {
      "text/plain": [
       "<BarContainer object of 7253 artists>"
      ]
     },
     "execution_count": 28,
     "metadata": {},
     "output_type": "execute_result"
    },
    {
     "data": {
      "image/png": "[encoded data removed]",
      "text/plain": [
       "<Figure size 640x480 with 1 Axes>"
      ]
     },
     "metadata": {},
     "output_type": "display_data"
    }
   ],
   "source": [
    "plt.bar(df['Fuel_Type'],df['Kilometers_Driven'])"
   ]
  },
  {
   "cell_type": "code",
   "execution_count": 29,
   "id": "03f9c13f",
   "metadata": {},
   "outputs": [
    {
     "data": {
      "text/plain": [
       "<BarContainer object of 7253 artists>"
      ]
     },
     "execution_count": 29,
     "metadata": {},
     "output_type": "execute_result"
    },
    {
     "data": {
      "image/png": "[encoded data removed]",
      "text/plain": [
       "<Figure size 640x480 with 1 Axes>"
      ]
     },
     "metadata": {},
     "output_type": "display_data"
    }
   ],
   "source": [
    "plt.bar(df['Fuel_Type'],df['Kilometers_Driven'],width=0.2)"
   ]
  },
  {
   "cell_type": "code",
   "execution_count": 33,
   "id": "a75a92ad",
   "metadata": {
    "scrolled": false
   },
   "outputs": [
    {
     "name": "stdout",
     "output_type": "stream",
     "text": [
      "<class 'pandas.core.frame.DataFrame'>\n",
      "Index: 15 entries, 7034 to 6435\n",
      "Data columns (total 13 columns):\n",
      " #   Column             Non-Null Count  Dtype  \n",
      "---  ------             --------------  -----  \n",
      " 0   Name               15 non-null     object \n",
      " 1   Location           15 non-null     object \n",
      " 2   Year               15 non-null     int64  \n",
      " 3   Kilometers_Driven  15 non-null     int64  \n",
      " 4   Fuel_Type          15 non-null     object \n",
      " 5   Transmission       15 non-null     object \n",
      " 6   Owner_Type         15 non-null     object \n",
      " 7   Mileage            15 non-null     object \n",
      " 8   Engine             15 non-null     object \n",
      " 9   Power              15 non-null     object \n",
      " 10  Seats              15 non-null     float64\n",
      " 11  New_Price          15 non-null     object \n",
      " 12  Price              15 non-null     float64\n",
      "dtypes: float64(2), int64(2), object(9)\n",
      "memory usage: 1.6+ KB\n"
     ]
    }
   ],
   "source": [
    "#plt.pie(df['Kilometers_Driven'],labels=df['Fuel_Type'])\n",
    "new_df = df.sample(n=15)\n",
    "new_df.info()"
   ]
  },
  {
   "cell_type": "code",
   "execution_count": 42,
   "id": "74c11874",
   "metadata": {},
   "outputs": [
    {
     "data": {
      "image/png": "[encoded data removed]",
      "text/plain": [
       "<Figure size 640x480 with 1 Axes>"
      ]
     },
     "metadata": {},
     "output_type": "display_data"
    }
   ],
   "source": [
    "plt.pie(new_df['Kilometers_Driven'],labels=new_df['Fuel_Type'])\n",
    "plt.legend(loc=1)\n",
    "plt.savefig('E:\\\\fuel_km.png')"
   ]
  },
  {
   "cell_type": "code",
   "execution_count": null,
   "id": "a2164adc",
   "metadata": {},
   "outputs": [],
   "source": [
    "ML\n",
    " |->Supervised Learning - labelled data\n",
    "     \\__ Regression \\__ Classification\n",
    "          |                      |_yes <or> No  ...\n",
    "         predict\n",
    "        \n",
    " |->Unsupervised Learning - unlabelled data\n",
    "    \\__ Clustering   \\___Association\n",
    "        \n",
    "        \n",
    " |->Reinforcement \n",
    "          | o      ||\n",
    "                   | - Hit .. reward ..\n",
    "                   | - Failed - learn from exp ..."
   ]
  },
  {
   "cell_type": "code",
   "execution_count": null,
   "id": "ccf1c4df",
   "metadata": {},
   "outputs": [],
   "source": [
    "Regression\n",
    " -> search relationship among the variables\n",
    "            |\n",
    "            observation & features\n",
    "            \n",
    "            dependent features ->output / response -y axis \n",
    "            independent feature -> inputs  -x     x axis\n",
    "            \n",
    "            x-y //pairs(input-output)\n",
    "            \n",
    "            x = [10,20,30,40......]\n",
    "            y = [15,25,35,45...depends_on X]\n",
    "            \n",
    "            "
   ]
  },
  {
   "cell_type": "code",
   "execution_count": 43,
   "id": "d6c86188",
   "metadata": {},
   "outputs": [
    {
     "data": {
      "text/html": [
       "<div>\n",
       "<style scoped>\n",
       "    .dataframe tbody tr th:only-of-type {\n",
       "        vertical-align: middle;\n",
       "    }\n",
       "\n",
       "    .dataframe tbody tr th {\n",
       "        vertical-align: top;\n",
       "    }\n",
       "\n",
       "    .dataframe thead th {\n",
       "        text-align: right;\n",
       "    }\n",
       "</style>\n",
       "<table border=\"1\" class=\"dataframe\">\n",
       "  <thead>\n",
       "    <tr style=\"text-align: right;\">\n",
       "      <th></th>\n",
       "      <th>sepal_length</th>\n",
       "      <th>sepal_width</th>\n",
       "      <th>petal_length</th>\n",
       "      <th>petal_width</th>\n",
       "      <th>species</th>\n",
       "    </tr>\n",
       "  </thead>\n",
       "  <tbody>\n",
       "    <tr>\n",
       "      <th>0</th>\n",
       "      <td>5.1</td>\n",
       "      <td>3.5</td>\n",
       "      <td>1.4</td>\n",
       "      <td>0.2</td>\n",
       "      <td>setosa</td>\n",
       "    </tr>\n",
       "    <tr>\n",
       "      <th>1</th>\n",
       "      <td>4.9</td>\n",
       "      <td>3.0</td>\n",
       "      <td>1.4</td>\n",
       "      <td>0.2</td>\n",
       "      <td>setosa</td>\n",
       "    </tr>\n",
       "    <tr>\n",
       "      <th>2</th>\n",
       "      <td>4.7</td>\n",
       "      <td>3.2</td>\n",
       "      <td>1.3</td>\n",
       "      <td>0.2</td>\n",
       "      <td>setosa</td>\n",
       "    </tr>\n",
       "    <tr>\n",
       "      <th>3</th>\n",
       "      <td>4.6</td>\n",
       "      <td>3.1</td>\n",
       "      <td>1.5</td>\n",
       "      <td>0.2</td>\n",
       "      <td>setosa</td>\n",
       "    </tr>\n",
       "    <tr>\n",
       "      <th>4</th>\n",
       "      <td>5.0</td>\n",
       "      <td>3.6</td>\n",
       "      <td>1.4</td>\n",
       "      <td>0.2</td>\n",
       "      <td>setosa</td>\n",
       "    </tr>\n",
       "    <tr>\n",
       "      <th>...</th>\n",
       "      <td>...</td>\n",
       "      <td>...</td>\n",
       "      <td>...</td>\n",
       "      <td>...</td>\n",
       "      <td>...</td>\n",
       "    </tr>\n",
       "    <tr>\n",
       "      <th>145</th>\n",
       "      <td>6.7</td>\n",
       "      <td>3.0</td>\n",
       "      <td>5.2</td>\n",
       "      <td>2.3</td>\n",
       "      <td>virginica</td>\n",
       "    </tr>\n",
       "    <tr>\n",
       "      <th>146</th>\n",
       "      <td>6.3</td>\n",
       "      <td>2.5</td>\n",
       "      <td>5.0</td>\n",
       "      <td>1.9</td>\n",
       "      <td>virginica</td>\n",
       "    </tr>\n",
       "    <tr>\n",
       "      <th>147</th>\n",
       "      <td>6.5</td>\n",
       "      <td>3.0</td>\n",
       "      <td>5.2</td>\n",
       "      <td>2.0</td>\n",
       "      <td>virginica</td>\n",
       "    </tr>\n",
       "    <tr>\n",
       "      <th>148</th>\n",
       "      <td>6.2</td>\n",
       "      <td>3.4</td>\n",
       "      <td>5.4</td>\n",
       "      <td>2.3</td>\n",
       "      <td>virginica</td>\n",
       "    </tr>\n",
       "    <tr>\n",
       "      <th>149</th>\n",
       "      <td>5.9</td>\n",
       "      <td>3.0</td>\n",
       "      <td>5.1</td>\n",
       "      <td>1.8</td>\n",
       "      <td>virginica</td>\n",
       "    </tr>\n",
       "  </tbody>\n",
       "</table>\n",
       "<p>150 rows × 5 columns</p>\n",
       "</div>"
      ],
      "text/plain": [
       "     sepal_length  sepal_width  petal_length  petal_width    species\n",
       "0             5.1          3.5           1.4          0.2     setosa\n",
       "1             4.9          3.0           1.4          0.2     setosa\n",
       "2             4.7          3.2           1.3          0.2     setosa\n",
       "3             4.6          3.1           1.5          0.2     setosa\n",
       "4             5.0          3.6           1.4          0.2     setosa\n",
       "..            ...          ...           ...          ...        ...\n",
       "145           6.7          3.0           5.2          2.3  virginica\n",
       "146           6.3          2.5           5.0          1.9  virginica\n",
       "147           6.5          3.0           5.2          2.0  virginica\n",
       "148           6.2          3.4           5.4          2.3  virginica\n",
       "149           5.9          3.0           5.1          1.8  virginica\n",
       "\n",
       "[150 rows x 5 columns]"
      ]
     },
     "execution_count": 43,
     "metadata": {},
     "output_type": "execute_result"
    }
   ],
   "source": [
    "import seaborn as sn\n",
    "iris = sn.load_dataset('iris')\n",
    "iris"
   ]
  },
  {
   "cell_type": "code",
   "execution_count": 44,
   "id": "6c8d09a5",
   "metadata": {},
   "outputs": [
    {
     "data": {
      "text/plain": [
       "Text(0, 0.5, 'petal width')"
      ]
     },
     "execution_count": 44,
     "metadata": {},
     "output_type": "execute_result"
    },
    {
     "data": {
      "image/png": "[encoded data removed]",
      "text/plain": [
       "<Figure size 640x480 with 1 Axes>"
      ]
     },
     "metadata": {},
     "output_type": "display_data"
    }
   ],
   "source": [
    "import seaborn as sn\n",
    "import matplotlib.pyplot as plt\n",
    "iris = sn.load_dataset('iris')\n",
    "iris = iris[['petal_length','petal_width']]\n",
    "x = iris['petal_length']\n",
    "y = iris['petal_width']\n",
    "\n",
    "from sklearn.model_selection import train_test_split\n",
    "x_train,x_test,y_train,y_test = train_test_split(x,y,test_size = 0.4,\n",
    "                                                 random_state=23)\n",
    "\n",
    "\n",
    "import numpy as np\n",
    "x_train = np.array(x_train).reshape(-1,1)\n",
    "x_test = np.array(x_test).reshape(-1,1)\n",
    "\n",
    "from sklearn.linear_model import LinearRegression\n",
    "obj = LinearRegression()\n",
    "#help(obj.fit)\n",
    "\n",
    "obj.fit(x_train,y_train)\n",
    "\n",
    "# y = mx+c\n",
    "c=obj.intercept_\n",
    "m=obj.coef_\n",
    "y_pred_train = m * x_train + c\n",
    "y_pred_train = obj.predict(x_train)\n",
    "y_pred_train\n",
    "plt.scatter(x_train,y_train)\n",
    "plt.scatter(x_train,y_pred_train,color='red')\n",
    "plt.xlabel('petal length')\n",
    "plt.ylabel('petal width')"
   ]
  },
  {
   "cell_type": "code",
   "execution_count": 45,
   "id": "277b54b4",
   "metadata": {},
   "outputs": [
    {
     "data": {
      "text/plain": [
       "0.9307444954156013"
      ]
     },
     "execution_count": 45,
     "metadata": {},
     "output_type": "execute_result"
    }
   ],
   "source": [
    "from sklearn.metrics import r2_score\n",
    "r2_score(y_train,y_pred_train)"
   ]
  },
  {
   "cell_type": "code",
   "execution_count": 49,
   "id": "c0fda615",
   "metadata": {},
   "outputs": [
    {
     "data": {
      "text/plain": [
       "Index(['Car', 'Unnamed: 1', 'Design ', 'Unnamed: 3', 'Vol', 'Weight',\n",
       "       'Unnamed: 6', 'Emission', 'Unnamed: 8'],\n",
       "      dtype='object')"
      ]
     },
     "execution_count": 49,
     "metadata": {},
     "output_type": "execute_result"
    }
   ],
   "source": [
    "df = pd.read_csv('E:\\\\cars.csv',sep=\"\\t\")\n",
    "df.columns"
   ]
  },
  {
   "cell_type": "code",
   "execution_count": 46,
   "id": "1b0bd2fc",
   "metadata": {},
   "outputs": [
    {
     "name": "stdout",
     "output_type": "stream",
     "text": [
      "Mean Squared Error: 37.83\n",
      "R2 Score: -38.40\n",
      "Coefficients: [0.01253314 0.00099655]\n",
      "Intercept: 80.42037763706044\n"
     ]
    },
    {
     "data": {
      "image/png": "[encoded data removed]",
      "text/plain": [
       "<Figure size 640x480 with 1 Axes>"
      ]
     },
     "metadata": {},
     "output_type": "display_data"
    }
   ],
   "source": [
    "import pandas as pd\n",
    "from sklearn.model_selection import train_test_split\n",
    "from sklearn.linear_model import LinearRegression\n",
    "from sklearn.metrics import mean_squared_error, r2_score\n",
    "import matplotlib.pyplot as plt\n",
    "\n",
    "'''\n",
    "data = {\n",
    "    'Car': ['Toyota Aygo', 'Mitsubishi SpaceStar', 'Skoda Citigo', 'Fiat 500', 'Mini Cooper', 'VW Up',\n",
    "            'Skoda Fabia', 'Mercedes A-Class', 'Ford Fiesta', 'Audi A1', 'Hyundai I20', 'Suzuki Swift',\n",
    "            'Ford Fiesta', 'Honda Civic', 'Hundai I30', 'Opel Astra', 'Mercedes C-Class', 'Skoda Octavia',\n",
    "            'Volvo S60', 'Mercedes CLA', 'Audi A4', 'Audi A6', 'Volvo V70', 'Mercedes SLK'],\n",
    "    'Volume': [1000, 1200, 1000, 900, 1500, 1000, 1400, 1500, 1500, 1600, 1100, 1300, 1000, \n",
    "               1600, 1600, 1600, 2100, 1600, 2000, 1500, 2000, 2000, 1600, 2500],\n",
    "    'Weight': [790, 1160, 929, 865, 1140, 929, 1109, 1365, 1112, 1150, 980, 990, 1112, \n",
    "               1252, 1326, 1330, 1365, 1415, 1415, 1465, 1490, 1725, 1523, 1395],\n",
    "    'Emission': [99, 95, 95, 90, 105, 105, 90, 92, 98, 99, 99, 101, 99, 94, 97, 97, \n",
    "                 99, 99, 99, 102, 104, 114, 109, 120]\n",
    "}\n",
    "'''\n",
    "pd.read_csv('E:\\\\cars.csv',sep=\"\\t\")\n",
    "\n",
    "df = pd.DataFrame(data)\n",
    "\n",
    "\n",
    "X = df[['Volume', 'Weight']]  # Iv\n",
    "y = df['Emission']            # Dv\n",
    "\n",
    "\n",
    "X_train, X_test, y_train, y_test = train_test_split(X, y, test_size=0.2, random_state=42)\n",
    "\n",
    "\n",
    "model = LinearRegression()\n",
    "model.fit(X_train, y_train)\n",
    "\n",
    "\n",
    "y_pred = model.predict(X_test)\n",
    "\n",
    "\n",
    "mse = mean_squared_error(y_test, y_pred)\n",
    "r2 = r2_score(y_test, y_pred)\n",
    "\n",
    "print(f'Mean Squared Error: {mse:.2f}')\n",
    "print(f'R2 Score: {r2:.2f}')\n",
    "\n",
    "\n",
    "coefficients = model.coef_\n",
    "intercept = model.intercept_\n",
    "\n",
    "print(f'Coefficients: {coefficients}')\n",
    "print(f'Intercept: {intercept}')\n",
    "\n",
    "\n",
    "plt.scatter(y_test, y_pred, color='blue', label='Predicted vs Actual Emission')\n",
    "plt.plot([y.min(), y.max()], [y.min(), y.max()], 'r',)  \n",
    "plt.title('Actual vs Predicted Emissions')\n",
    "plt.xlabel('Actual Emission')\n",
    "plt.ylabel('Predicted Emission')\n",
    "plt.legend()\n",
    "plt.show()\n"
   ]
  }
 ],
 "metadata": {
  "kernelspec": {
   "display_name": "Python 3 (ipykernel)",
   "language": "python",
   "name": "python3"
  },
  "language_info": {
   "codemirror_mode": {
    "name": "ipython",
    "version": 3
   },
   "file_extension": ".py",
   "mimetype": "text/x-python",
   "name": "python",
   "nbconvert_exporter": "python",
   "pygments_lexer": "ipython3",
   "version": "3.11.5"
  }
 },
 "nbformat": 4,
 "nbformat_minor": 5
}
