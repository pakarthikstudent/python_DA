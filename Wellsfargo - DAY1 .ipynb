{
 "cells": [
  {
   "cell_type": "code",
   "execution_count": 1,
   "id": "dfca19cd",
   "metadata": {},
   "outputs": [
    {
     "name": "stdout",
     "output_type": "stream",
     "text": [
      "Hello\n"
     ]
    }
   ],
   "source": [
    "print(\"Hello\")"
   ]
  },
  {
   "cell_type": "code",
   "execution_count": null,
   "id": "754f621a",
   "metadata": {},
   "outputs": [],
   "source": [
    "# python native types\n",
    "# numbers\n",
    "    |-->int float complex\n",
    " |-->bool ->True False\n",
    " |-->NoneType ->None\n",
    " |-->Collection\n",
    "         |\n",
    "    --------------\n",
    "    |             \\_____________________________unordered items\n",
    "    collection of orderd items(index based)           |->dict, set \n",
    "    \\__ str, bytes ,list, tuple\n",
    "        \n",
    "    str - collection of chars '' <or> \" \"\n",
    "    bytes - collection of chars ASCII b'' <or> b\" \"\n",
    "    |\n",
    "     list - collection of different types of item - mutable []\n",
    "     tuple - collection of different types of item - immutable ()\n"
   ]
  },
  {
   "cell_type": "code",
   "execution_count": null,
   "id": "6018d1af",
   "metadata": {},
   "outputs": [],
   "source": [
    "type() - determine python type\n",
    "|\n",
    "type(value)"
   ]
  },
  {
   "cell_type": "code",
   "execution_count": 7,
   "id": "3e177ad7",
   "metadata": {},
   "outputs": [
    {
     "name": "stdout",
     "output_type": "stream",
     "text": [
      "<class 'int'>\n",
      "<class 'float'>\n",
      "<class 'str'>\n"
     ]
    }
   ],
   "source": [
    "print(type(45))\n",
    "print(type(45.0))\n",
    "print(type('45'))"
   ]
  },
  {
   "cell_type": "code",
   "execution_count": 8,
   "id": "5c553629",
   "metadata": {},
   "outputs": [
    {
     "name": "stdout",
     "output_type": "stream",
     "text": [
      "Hello\n",
      "Hello\n"
     ]
    }
   ],
   "source": [
    "print(\"Hello\")\n",
    "print('Hello')\n",
    "#print(\"Hello') # Error      "
   ]
  },
  {
   "cell_type": "code",
   "execution_count": 9,
   "id": "7a162464",
   "metadata": {},
   "outputs": [
    {
     "name": "stdout",
     "output_type": "stream",
     "text": [
      "About prod.csv file\n",
      "--------------------\n",
      "File name:prod.csv\n",
      "prod.csv index number:4562\n",
      "prod.csv disk utilization:98.34\n",
      "prod.csv open status is True\n"
     ]
    }
   ],
   "source": [
    "# using print() - display following details\n",
    "#                 filename   (ex: prod.csv)\n",
    "#                 fileindex  (ex: 4562)\n",
    "#                 fileusage  (ex: 98.34)\n",
    "#                 fileopen status (ex: True)\n",
    "print(\"About prod.csv file\")\n",
    "print('--------------------')\n",
    "print('File name:prod.csv')\n",
    "print('prod.csv index number:4562')\n",
    "print('prod.csv disk utilization:98.34')\n",
    "print('prod.csv open status is True')"
   ]
  },
  {
   "cell_type": "code",
   "execution_count": 10,
   "id": "d606a4a4",
   "metadata": {},
   "outputs": [
    {
     "name": "stdout",
     "output_type": "stream",
     "text": [
      "Data1\n",
      "Data2\n",
      "Data3\n"
     ]
    }
   ],
   "source": [
    "print('Data1\\nData2\\nData3')"
   ]
  },
  {
   "cell_type": "code",
   "execution_count": 11,
   "id": "d29102bb",
   "metadata": {},
   "outputs": [
    {
     "name": "stdout",
     "output_type": "stream",
     "text": [
      "Data1\n",
      "Data2\n",
      "Data3\n"
     ]
    }
   ],
   "source": [
    "# multiline string <or> multiline statement\n",
    "print('''Data1\n",
    "Data2\n",
    "Data3''')"
   ]
  },
  {
   "cell_type": "code",
   "execution_count": 12,
   "id": "1074837a",
   "metadata": {},
   "outputs": [
    {
     "name": "stdout",
     "output_type": "stream",
     "text": [
      "Data1 Data2 Data3\n",
      "File name is: prod.csv File index: 456 Utilization: 98.45\n",
      "File open status: True\n"
     ]
    }
   ],
   "source": [
    "print(\"Data1\",\"Data2\",\"Data3\")\n",
    "print(\"File name is:\",\"prod.csv\",\"File index:\",456,\"Utilization:\",98.45)\n",
    "print(\"File open status:\",True)"
   ]
  },
  {
   "cell_type": "code",
   "execution_count": 13,
   "id": "cfe9d4ff",
   "metadata": {},
   "outputs": [
    {
     "name": "stdout",
     "output_type": "stream",
     "text": [
      "prod.csv 456 98.42\n"
     ]
    }
   ],
   "source": [
    "# Variable - placeholder - holding a value\n",
    "# |->user defined \n",
    "#    ------------\n",
    "# variableName = value <=== initialization \n",
    "\n",
    "Fname = \"prod.csv\"\n",
    "FINDX = 456\n",
    "futil = 98.42\n",
    "print(Fname,FINDX,futil)"
   ]
  },
  {
   "cell_type": "code",
   "execution_count": 16,
   "id": "8b906781",
   "metadata": {},
   "outputs": [
    {
     "name": "stdout",
     "output_type": "stream",
     "text": [
      "emp.csv\n",
      "Fname\n",
      "File name is: emp.csv\n"
     ]
    }
   ],
   "source": [
    "Fname = \"emp.csv\"\n",
    "print(Fname)\n",
    "print(\"Fname\")\n",
    "# File name is: emp.csv\n",
    "# ------------- _______\n",
    "#\n",
    "print(\"File name is:\",Fname)"
   ]
  },
  {
   "cell_type": "code",
   "execution_count": 19,
   "id": "866313e0",
   "metadata": {},
   "outputs": [
    {
     "name": "stdout",
     "output_type": "stream",
     "text": [
      "About sales.xlsx file\n",
      "--------------------\n",
      "File name: sales.xlsx\n",
      "sales.xlsx index number: 2345\n",
      "sales.xlsx disk utilization: 99.23\n",
      "sales.xlsx open status is: False\n"
     ]
    }
   ],
   "source": [
    "Fname = \"sales.xlsx\"\n",
    "Findex = 2345\n",
    "Futil = 99.23\n",
    "Fstatus = False\n",
    "print(\"About\",Fname,\"file\")\n",
    "print('--------------------')\n",
    "print('File name:',Fname)\n",
    "print(Fname,\"index number:\",Findex)\n",
    "print(Fname,\"disk utilization:\",Futil)\n",
    "print(Fname,'open status is:',Fstatus)"
   ]
  },
  {
   "cell_type": "code",
   "execution_count": 22,
   "id": "3fedf972",
   "metadata": {},
   "outputs": [
    {
     "name": "stdout",
     "output_type": "stream",
     "text": [
      "prod.csv\n"
     ]
    },
    {
     "ename": "NameError",
     "evalue": "name 'filename' is not defined",
     "output_type": "error",
     "traceback": [
      "\u001b[1;31m---------------------------------------------------------------------------\u001b[0m",
      "\u001b[1;31mNameError\u001b[0m                                 Traceback (most recent call last)",
      "Cell \u001b[1;32mIn[22], line 3\u001b[0m\n\u001b[0;32m      1\u001b[0m Fname \u001b[38;5;241m=\u001b[39m \u001b[38;5;124m\"\u001b[39m\u001b[38;5;124mprod.csv\u001b[39m\u001b[38;5;124m\"\u001b[39m\n\u001b[0;32m      2\u001b[0m \u001b[38;5;28mprint\u001b[39m(Fname)\n\u001b[1;32m----> 3\u001b[0m \u001b[38;5;28mprint\u001b[39m(filename)\n",
      "\u001b[1;31mNameError\u001b[0m: name 'filename' is not defined"
     ]
    }
   ],
   "source": [
    "Fname = \"prod.csv\"\n",
    "print(Fname)\n",
    "print(filename)"
   ]
  },
  {
   "cell_type": "code",
   "execution_count": 24,
   "id": "95bd6f9d",
   "metadata": {},
   "outputs": [
    {
     "name": "stdout",
     "output_type": "stream",
     "text": [
      "<class 'int'> <class 'float'> <class 'str'>\n",
      "va value: 45\n",
      "vb value is: 94.2\n",
      "vc value is: data\n"
     ]
    }
   ],
   "source": [
    "va = 45\n",
    "vb = 94.2\n",
    "vc = \"data\"\n",
    "print(type(va),type(vb),type(vc))\n",
    "print(\"va value:\",va)\n",
    "print(\"vb value is:\",vb)\n",
    "print(\"vc value is:\",vc)"
   ]
  },
  {
   "cell_type": "code",
   "execution_count": 25,
   "id": "cb57a94f",
   "metadata": {},
   "outputs": [
    {
     "name": "stdout",
     "output_type": "stream",
     "text": [
      "va value is:45 vb value is:94.200000 vc value is:data\n"
     ]
    }
   ],
   "source": [
    "# In C program\n",
    "# int va=10;\n",
    "# printf(\"%d\",va);\n",
    "print(\"va value is:%d vb value is:%f vc value is:%s\"%(va,vb,vc))"
   ]
  },
  {
   "cell_type": "code",
   "execution_count": 28,
   "id": "f779854a",
   "metadata": {},
   "outputs": [
    {
     "name": "stdout",
     "output_type": "stream",
     "text": [
      "n value is:56\n"
     ]
    },
    {
     "ename": "TypeError",
     "evalue": "%d format: a real number is required, not str",
     "output_type": "error",
     "traceback": [
      "\u001b[1;31m---------------------------------------------------------------------------\u001b[0m",
      "\u001b[1;31mTypeError\u001b[0m                                 Traceback (most recent call last)",
      "Cell \u001b[1;32mIn[28], line 4\u001b[0m\n\u001b[0;32m      2\u001b[0m \u001b[38;5;28mprint\u001b[39m(\u001b[38;5;124m'\u001b[39m\u001b[38;5;124mn value is:\u001b[39m\u001b[38;5;132;01m%d\u001b[39;00m\u001b[38;5;124m'\u001b[39m\u001b[38;5;241m%\u001b[39m(n))\n\u001b[0;32m      3\u001b[0m n\u001b[38;5;241m=\u001b[39m\u001b[38;5;124m\"\u001b[39m\u001b[38;5;124mHello\u001b[39m\u001b[38;5;124m\"\u001b[39m\n\u001b[1;32m----> 4\u001b[0m \u001b[38;5;28mprint\u001b[39m(\u001b[38;5;124m'\u001b[39m\u001b[38;5;124mn value is:\u001b[39m\u001b[38;5;132;01m%d\u001b[39;00m\u001b[38;5;124m'\u001b[39m\u001b[38;5;241m%\u001b[39m(n))\n",
      "\u001b[1;31mTypeError\u001b[0m: %d format: a real number is required, not str"
     ]
    }
   ],
   "source": [
    "n=56\n",
    "print('n value is:%d'%(n))\n",
    "n=\"Hello\"\n",
    "print('n value is:%d'%(n))"
   ]
  },
  {
   "cell_type": "code",
   "execution_count": 29,
   "id": "a5728058",
   "metadata": {},
   "outputs": [
    {
     "name": "stdout",
     "output_type": "stream",
     "text": [
      "n value is:56\n",
      "n value is:Hello\n",
      "n value is:4.12\n"
     ]
    }
   ],
   "source": [
    "n=56\n",
    "print(\"n value is:{}\".format(n))\n",
    "n=\"Hello\"\n",
    "print(\"n value is:{}\".format(n))\n",
    "n=4.12\n",
    "print(\"n value is:{}\".format(n))"
   ]
  },
  {
   "cell_type": "code",
   "execution_count": 31,
   "id": "fc569303",
   "metadata": {},
   "outputs": [
    {
     "name": "stdout",
     "output_type": "stream",
     "text": [
      "va value is: 45 vb value is: 94.2 vc value is: data\n",
      "va value is:45 vb value is:94.200000 vc value is:data\n",
      "va value is:45 vb value is:94.2 vc value is:data\n",
      "va value is:45 vb value is:94.2 vc value is:data\n"
     ]
    }
   ],
   "source": [
    "va = 45\n",
    "vb = 94.2\n",
    "vc = \"data\"\n",
    "print(\"va value is:\",va,\"vb value is:\",vb,\"vc value is:\",vc)     # (1)\n",
    "print(\"va value is:%d vb value is:%f vc value is:%s\"%(va,vb,vc)) # (2)\n",
    "print(\"va value is:{} vb value is:{} vc value is:{}\".format(va,vb,vc)) # (3)\n",
    "print(f\"va value is:{va} vb value is:{vb} vc value is:{vc}\") # (4)"
   ]
  },
  {
   "cell_type": "code",
   "execution_count": 39,
   "id": "7ff0017e",
   "metadata": {},
   "outputs": [
    {
     "name": "stdout",
     "output_type": "stream",
     "text": [
      "n value is:67.00\n",
      "n value is:67\n"
     ]
    }
   ],
   "source": [
    "n=67\n",
    "print(\"n value is:%0.2f\"%(n))\n",
    "print(f\"n value is:{n}\")"
   ]
  },
  {
   "cell_type": "code",
   "execution_count": 41,
   "id": "621152c1",
   "metadata": {},
   "outputs": [
    {
     "name": "stdout",
     "output_type": "stream",
     "text": [
      "About sales.xlsx file details\n",
      "--------------------------------------\n",
      "File name:sales.xlsx\n",
      "sales.xlsx index number:2345\n",
      "sales.xlsx disk utilization:99.23\n",
      "sales.xlsx open status is:False\n",
      "\n",
      "\n",
      "About sales.xlsx file details\n",
      "--------------------------------------\n",
      "File name:sales.xlsx\n",
      "sales.xlsx index number:2345\n",
      "sales.xlsx disk utilization:99.23\n",
      "sales.xlsx open status is:False\n"
     ]
    }
   ],
   "source": [
    "Fname = \"sales.xlsx\"\n",
    "Findex = 2345\n",
    "Futil = 99.23\n",
    "Fstatus = False\n",
    "print(f'''About {Fname} file details\n",
    "--------------------------------------\n",
    "File name:{Fname}\n",
    "{Fname} index number:{Findex}\n",
    "{Fname} disk utilization:{Futil}\n",
    "{Fname} open status is:{Fstatus}''')\n",
    "print(\"\\n\") # empty line\n",
    "print('''About {} file details\n",
    "--------------------------------------\n",
    "File name:{}\n",
    "{} index number:{}\n",
    "{} disk utilization:{}\n",
    "{} open status is:{}'''.format(Fname,Fname,Fname,Findex,Fname,\n",
    "                               Futil,Fname,Fstatus))"
   ]
  },
  {
   "cell_type": "code",
   "execution_count": 42,
   "id": "68c6a58f",
   "metadata": {},
   "outputs": [
    {
     "name": "stdout",
     "output_type": "stream",
     "text": [
      "<class 'int'>\n"
     ]
    }
   ],
   "source": [
    "# typecasting\n",
    "va = 45\n",
    "print(type(va))"
   ]
  },
  {
   "cell_type": "code",
   "execution_count": 43,
   "id": "87fa2113",
   "metadata": {},
   "outputs": [
    {
     "name": "stdout",
     "output_type": "stream",
     "text": [
      "45.0\n"
     ]
    },
    {
     "data": {
      "text/plain": [
       "'45'"
      ]
     },
     "execution_count": 43,
     "metadata": {},
     "output_type": "execute_result"
    }
   ],
   "source": [
    "print(float(va)) # convert to float\n",
    "str(va)   # convert to str"
   ]
  },
  {
   "cell_type": "code",
   "execution_count": 45,
   "id": "cc05904d",
   "metadata": {},
   "outputs": [
    {
     "name": "stdout",
     "output_type": "stream",
     "text": [
      "45 <class 'int'>\n"
     ]
    }
   ],
   "source": [
    "print(va,type(va))"
   ]
  },
  {
   "cell_type": "code",
   "execution_count": 50,
   "id": "0ef00fda",
   "metadata": {},
   "outputs": [
    {
     "name": "stdout",
     "output_type": "stream",
     "text": [
      "30\n",
      "30.0\n",
      "14.5\n",
      "14\n"
     ]
    }
   ],
   "source": [
    "print(10+20)\n",
    "print(float(10+20))\n",
    "print(10+4.5)\n",
    "print(int(10+4.5))"
   ]
  },
  {
   "cell_type": "code",
   "execution_count": 52,
   "id": "a10072f4",
   "metadata": {},
   "outputs": [
    {
     "name": "stdout",
     "output_type": "stream",
     "text": [
      "<class 'str'>\n"
     ]
    },
    {
     "ename": "TypeError",
     "evalue": "can't multiply sequence by non-int of type 'float'",
     "output_type": "error",
     "traceback": [
      "\u001b[1;31m---------------------------------------------------------------------------\u001b[0m",
      "\u001b[1;31mTypeError\u001b[0m                                 Traceback (most recent call last)",
      "Cell \u001b[1;32mIn[52], line 3\u001b[0m\n\u001b[0;32m      1\u001b[0m cost\u001b[38;5;241m=\u001b[39m\u001b[38;5;124m'\u001b[39m\u001b[38;5;124m4567.89\u001b[39m\u001b[38;5;124m'\u001b[39m\n\u001b[0;32m      2\u001b[0m \u001b[38;5;28mprint\u001b[39m(\u001b[38;5;28mtype\u001b[39m(cost))\n\u001b[1;32m----> 3\u001b[0m \u001b[38;5;28mprint\u001b[39m(cost \u001b[38;5;241m*\u001b[39m \u001b[38;5;241m0.18\u001b[39m)\n",
      "\u001b[1;31mTypeError\u001b[0m: can't multiply sequence by non-int of type 'float'"
     ]
    }
   ],
   "source": [
    "cost='4567.89'\n",
    "print(type(cost))\n",
    "print(cost * 0.18)"
   ]
  },
  {
   "cell_type": "code",
   "execution_count": 53,
   "id": "32f5f44c",
   "metadata": {},
   "outputs": [
    {
     "name": "stdout",
     "output_type": "stream",
     "text": [
      "822.2202\n"
     ]
    }
   ],
   "source": [
    "print(float(cost) * 0.18)"
   ]
  },
  {
   "cell_type": "code",
   "execution_count": 54,
   "id": "ca426f03",
   "metadata": {},
   "outputs": [
    {
     "data": {
      "text/plain": [
       "45"
      ]
     },
     "execution_count": 54,
     "metadata": {},
     "output_type": "execute_result"
    }
   ],
   "source": [
    "f=45.67\n",
    "int(f)"
   ]
  },
  {
   "cell_type": "code",
   "execution_count": 55,
   "id": "d455c5f7",
   "metadata": {},
   "outputs": [
    {
     "ename": "ValueError",
     "evalue": "invalid literal for int() with base 10: '45.67'",
     "output_type": "error",
     "traceback": [
      "\u001b[1;31m---------------------------------------------------------------------------\u001b[0m",
      "\u001b[1;31mValueError\u001b[0m                                Traceback (most recent call last)",
      "Cell \u001b[1;32mIn[55], line 2\u001b[0m\n\u001b[0;32m      1\u001b[0m f\u001b[38;5;241m=\u001b[39m\u001b[38;5;124m'\u001b[39m\u001b[38;5;124m45.67\u001b[39m\u001b[38;5;124m'\u001b[39m\n\u001b[1;32m----> 2\u001b[0m \u001b[38;5;28mint\u001b[39m(f)\n",
      "\u001b[1;31mValueError\u001b[0m: invalid literal for int() with base 10: '45.67'"
     ]
    }
   ],
   "source": [
    "f='45.67'\n",
    "int(f)"
   ]
  },
  {
   "cell_type": "code",
   "execution_count": 57,
   "id": "bb4efe36",
   "metadata": {},
   "outputs": [
    {
     "data": {
      "text/plain": [
       "45"
      ]
     },
     "execution_count": 57,
     "metadata": {},
     "output_type": "execute_result"
    }
   ],
   "source": [
    "int(float(f))"
   ]
  },
  {
   "cell_type": "code",
   "execution_count": 58,
   "id": "bce9a3ff",
   "metadata": {},
   "outputs": [
    {
     "name": "stdout",
     "output_type": "stream",
     "text": [
      "56.0 <class 'float'>\n"
     ]
    }
   ],
   "source": [
    "n=56\n",
    "n=float(n) # typecast to float ->then initialize to namedVariable\n",
    "print(n,type(n))"
   ]
  },
  {
   "cell_type": "code",
   "execution_count": null,
   "id": "34e96b7a",
   "metadata": {},
   "outputs": [],
   "source": [
    "Keyboard(<STDIN>)-----<-------python--------------->--Monitor\n",
    "                    input()           print()\n",
    "Syntax:-\n",
    "----------\n",
    "variable = input('user defined prompt message')\n",
    "#########       ##############################"
   ]
  },
  {
   "cell_type": "code",
   "execution_count": 59,
   "id": "774781fc",
   "metadata": {},
   "outputs": [
    {
     "name": "stdout",
     "output_type": "stream",
     "text": [
      "Enter a n value:78\n",
      "Input value is:78\n"
     ]
    }
   ],
   "source": [
    "n = input('Enter a n value:')\n",
    "print(f'Input value is:{n}')"
   ]
  },
  {
   "cell_type": "code",
   "execution_count": 60,
   "id": "ff363c36",
   "metadata": {},
   "outputs": [
    {
     "name": "stdout",
     "output_type": "stream",
     "text": [
      "Enter a n value:data1\n",
      "Input value is:data1\n"
     ]
    }
   ],
   "source": [
    "n = input('Enter a n value:')\n",
    "print(f'Input value is:{n}')"
   ]
  },
  {
   "cell_type": "code",
   "execution_count": 61,
   "id": "423c9cc7",
   "metadata": {},
   "outputs": [
    {
     "name": "stdout",
     "output_type": "stream",
     "text": [
      "Enter a n value:45\n",
      "<class 'str'>\n"
     ]
    },
    {
     "data": {
      "text/plain": [
       "'45'"
      ]
     },
     "execution_count": 61,
     "metadata": {},
     "output_type": "execute_result"
    }
   ],
   "source": [
    "n = input('Enter a n value:')\n",
    "print(type(n))\n",
    "n"
   ]
  },
  {
   "cell_type": "code",
   "execution_count": 62,
   "id": "4d3fb6bd",
   "metadata": {},
   "outputs": [
    {
     "name": "stdout",
     "output_type": "stream",
     "text": [
      "Enter a n value:45.67\n",
      "<class 'str'>\n"
     ]
    },
    {
     "data": {
      "text/plain": [
       "'45.67'"
      ]
     },
     "execution_count": 62,
     "metadata": {},
     "output_type": "execute_result"
    }
   ],
   "source": [
    "n = input('Enter a n value:')\n",
    "print(type(n))\n",
    "n"
   ]
  },
  {
   "cell_type": "code",
   "execution_count": 63,
   "id": "b947417a",
   "metadata": {},
   "outputs": [
    {
     "data": {
      "text/plain": [
       "145.67000000000002"
      ]
     },
     "execution_count": 63,
     "metadata": {},
     "output_type": "execute_result"
    }
   ],
   "source": [
    "float(n)+100"
   ]
  },
  {
   "cell_type": "code",
   "execution_count": 64,
   "id": "bd0d9396",
   "metadata": {},
   "outputs": [
    {
     "name": "stdout",
     "output_type": "stream",
     "text": [
      "Enter n value:45\n",
      "<class 'str'> 45\n"
     ]
    }
   ],
   "source": [
    "n=input('Enter n value:')\n",
    "print(type(n),n)"
   ]
  },
  {
   "cell_type": "code",
   "execution_count": 75,
   "id": "cfea05a8",
   "metadata": {},
   "outputs": [
    {
     "name": "stdout",
     "output_type": "stream",
     "text": [
      "n value is:45.00\n",
      "n value is:45.000\n"
     ]
    }
   ],
   "source": [
    "n=45\n",
    "print(f'n value is:{n:.2f}')\n",
    "print(f'n value is:{n:.3f}')"
   ]
  },
  {
   "cell_type": "code",
   "execution_count": null,
   "id": "52265598",
   "metadata": {},
   "outputs": [],
   "source": [
    "Q1. Write a python program:\n",
    "    read a product name,product Cost,vendor name from <STDIN>\n",
    "    calculate 18% of product Cost - initialize to new variable\n",
    "    calculate Sum of product Cost + 18% Tax \n",
    "    display - productName,VendorName,Cost,Tax,TotalAmount(includingTax)\n",
    "    Note: display each field separated by ,\n",
    "          use single print()\n",
    "            \n",
    "Enter a product name: prodA\n",
    "Enter prodA vendor name:Vabc\n",
    "Enter prodA cost:1000\n",
    "    ...\n",
    "    ...\n",
    "Results:-\n",
    "prodA,Vabc,1000,180,1180 "
   ]
  },
  {
   "cell_type": "code",
   "execution_count": 74,
   "id": "468336e6",
   "metadata": {},
   "outputs": [
    {
     "name": "stdout",
     "output_type": "stream",
     "text": [
      "Enter a product name:prodA\n",
      "Enter prodA vendor name:Vabc\n",
      "Enter prodA Cost:1000\n",
      "prodA Vabc 1000 180.0 1180.0\n",
      "\n",
      "\n",
      "prodName,Vendor,pCost,Tax,Total\n",
      "------------------------------------------\n",
      "prodA,Vabc,1000,180.0,1180.0\n",
      "------------------------------------------\n"
     ]
    }
   ],
   "source": [
    "pName = input('Enter a product name:')\n",
    "pVendor = input(f'Enter {pName} vendor name:')\n",
    "pCost = input('Enter {} Cost:'.format(pName))\n",
    "\n",
    "tax = int(float(pCost)) * 0.18\n",
    "gs = int(float(pCost)) + tax\n",
    "print(pName,pVendor,pCost,tax,gs)\n",
    "print('\\n') # empty line\n",
    "print(f'''prodName,Vendor,pCost,Tax,Total\n",
    "------------------------------------------\n",
    "{pName},{pVendor},{pCost},{tax},{gs}\n",
    "------------------------------------------''')"
   ]
  },
  {
   "cell_type": "code",
   "execution_count": 73,
   "id": "a9d3c059",
   "metadata": {},
   "outputs": [
    {
     "data": {
      "text/plain": [
       "1005"
      ]
     },
     "execution_count": 73,
     "metadata": {},
     "output_type": "execute_result"
    }
   ],
   "source": [
    "f='1005.4'\n",
    "int(float(f))"
   ]
  },
  {
   "cell_type": "code",
   "execution_count": null,
   "id": "433503ba",
   "metadata": {},
   "outputs": [],
   "source": [
    "Arithmetic operators\n",
    "+ - * / // ** <=== input_types(int,float) ->output_types(int,float)"
   ]
  },
  {
   "cell_type": "code",
   "execution_count": 76,
   "id": "c1cd9e6f",
   "metadata": {},
   "outputs": [
    {
     "name": "stdout",
     "output_type": "stream",
     "text": [
      "6\n",
      "6\n"
     ]
    }
   ],
   "source": [
    "n=5\n",
    "n=n+1\n",
    "print(n)\n",
    "n=5\n",
    "n+=1 # n = n + 1\n",
    "print(n)"
   ]
  },
  {
   "cell_type": "code",
   "execution_count": null,
   "id": "d3ac4662",
   "metadata": {},
   "outputs": [],
   "source": [
    "string operators \n",
    "+ *"
   ]
  },
  {
   "cell_type": "code",
   "execution_count": 78,
   "id": "0fb73dd2",
   "metadata": {},
   "outputs": [
    {
     "name": "stdout",
     "output_type": "stream",
     "text": [
      "30\n",
      "pythonprogramming\n"
     ]
    }
   ],
   "source": [
    "print(10 + 20) # addition\n",
    "print(\"python\" + \"programming\") # string concat"
   ]
  },
  {
   "cell_type": "code",
   "execution_count": 79,
   "id": "4c90e4a3",
   "metadata": {},
   "outputs": [
    {
     "name": "stdout",
     "output_type": "stream",
     "text": [
      "5060\n",
      "110\n",
      "<class 'float'>\n"
     ]
    }
   ],
   "source": [
    "va='50'\n",
    "vb='60'\n",
    "print(va+vb) ## (A)   5060\n",
    "print(int(va)+int(vb)) ##(B) 110\n",
    "print(type(int(va)+float(vb))) ## (C) <class 'float'>"
   ]
  },
  {
   "cell_type": "code",
   "execution_count": 81,
   "id": "f66f9829",
   "metadata": {},
   "outputs": [
    {
     "name": "stdout",
     "output_type": "stream",
     "text": [
      "Emp Name is:Leo\n",
      "Emp id is:456\n"
     ]
    }
   ],
   "source": [
    "Ename='Leo'\n",
    "empID=456\n",
    "print('Emp Name is:'+Ename)\n",
    "print('Emp id is:'+str(empID))"
   ]
  },
  {
   "cell_type": "code",
   "execution_count": 85,
   "id": "dba1923d",
   "metadata": {},
   "outputs": [
    {
     "name": "stdout",
     "output_type": "stream",
     "text": [
      "30\n",
      "HelloHelloHello\n",
      "--------------------------------------------------\n",
      "Test server\n",
      "Test server\n",
      "Test server\n",
      "Test server\n",
      "Test server\n",
      "\n"
     ]
    }
   ],
   "source": [
    "print(10*3)\n",
    "\n",
    "# input_String * int_n ->output_string\n",
    "# \n",
    "print(\"Hello\"*3)\n",
    "print(\"-\"*50)\n",
    "print(\"Test server\\n\"*5)"
   ]
  },
  {
   "cell_type": "code",
   "execution_count": 87,
   "id": "6289b354",
   "metadata": {},
   "outputs": [
    {
     "name": "stdout",
     "output_type": "stream",
     "text": [
      "Test Server\n",
      "Test Server\n",
      "Test Server\n",
      "Test Server\n",
      "Test Server\n",
      "\n",
      "Test Server\\nTest Server\\nTest Server\\nTest Server\\nTest Server\\n\n"
     ]
    }
   ],
   "source": [
    "server='Test Server\\n' * 5\n",
    "print(server)\n",
    "server='Test Server\\\\n' * 5\n",
    "print(server)"
   ]
  },
  {
   "cell_type": "code",
   "execution_count": null,
   "id": "13d2d014",
   "metadata": {},
   "outputs": [],
   "source": [
    "Relational operators (input_types: int,float,str ->output_type:bool)\n",
    "== != < <= > >=\n",
    "450 > 400\n",
    "450 < 400\n",
    "98.56 >98.64\n",
    "0.02 > 0.02\n",
    "'root' == 'root' ->True\n",
    "'root' == 'Root' ->False\n",
    "'abc' != 'ABC' ->True\n",
    "\n",
    "In python any expression <or> method <or> function ->bool(True/False)\n",
    "----------------------------------------------------------------------\n",
    " \\___ we use conditional statement \n",
    "                |\n",
    "               Code block - execute only one time.\n",
    "               if statement\n",
    "                \\__ 3 ways\n",
    "                    i. if only style \n",
    "                    ii. if else style\n",
    "                    iii. if elif elif elif .. else style"
   ]
  },
  {
   "cell_type": "code",
   "execution_count": 89,
   "id": "37606762",
   "metadata": {},
   "outputs": [
    {
     "name": "stdout",
     "output_type": "stream",
     "text": [
      "<class 'bool'> <class 'bool'>\n",
      "<class 'str'>\n"
     ]
    }
   ],
   "source": [
    "print(type(True),type(False))\n",
    "print(type('True'))"
   ]
  },
  {
   "cell_type": "code",
   "execution_count": 91,
   "id": "ddac136a",
   "metadata": {},
   "outputs": [
    {
     "ename": "IndentationError",
     "evalue": "unexpected indent (3525683467.py, line 2)",
     "output_type": "error",
     "traceback": [
      "\u001b[1;36m  Cell \u001b[1;32mIn[91], line 2\u001b[1;36m\u001b[0m\n\u001b[1;33m    vb = 20\u001b[0m\n\u001b[1;37m    ^\u001b[0m\n\u001b[1;31mIndentationError\u001b[0m\u001b[1;31m:\u001b[0m unexpected indent\n"
     ]
    }
   ],
   "source": [
    "va = 10\n",
    " vb = 20"
   ]
  },
  {
   "cell_type": "code",
   "execution_count": 92,
   "id": "c3def499",
   "metadata": {},
   "outputs": [
    {
     "data": {
      "text/plain": [
       "True"
      ]
     },
     "execution_count": 92,
     "metadata": {},
     "output_type": "execute_result"
    }
   ],
   "source": [
    "# if only style\n",
    "pName = 'prodA' # initialization\n",
    "\n",
    "pName == 'prodA' # condition1"
   ]
  },
  {
   "cell_type": "code",
   "execution_count": 94,
   "id": "6a9a272c",
   "metadata": {},
   "outputs": [
    {
     "name": "stdout",
     "output_type": "stream",
     "text": [
      "product name is matched\n",
      "product name:prodA pid:101\n"
     ]
    }
   ],
   "source": [
    "pName = 'prodA'\n",
    "if(pName == 'prodA'):\n",
    "    print('product name is matched')\n",
    "    pID = 101\n",
    "    print(f'product name:{pName} pid:{pID}')"
   ]
  },
  {
   "cell_type": "code",
   "execution_count": 97,
   "id": "ab52c88a",
   "metadata": {},
   "outputs": [
    {
     "name": "stdout",
     "output_type": "stream",
     "text": [
      "False\n"
     ]
    }
   ],
   "source": [
    "pName = 'prodB'\n",
    "\n",
    "print(pName == 'prodA')\n",
    "\n",
    "if(pName == 'prodA'):\n",
    "    print('-'*50)\n",
    "    print('product name is matched')\n",
    "    pID = 101\n",
    "    print(f'product name:{pName} pid:{pID}')\n",
    "    print('-'*50)"
   ]
  },
  {
   "cell_type": "code",
   "execution_count": null,
   "id": "34bf9a95",
   "metadata": {},
   "outputs": [],
   "source": [
    "if(condition):\n",
    "    True block\n",
    "else:\n",
    "    False block"
   ]
  },
  {
   "cell_type": "code",
   "execution_count": 99,
   "id": "9938adc0",
   "metadata": {},
   "outputs": [
    {
     "name": "stdout",
     "output_type": "stream",
     "text": [
      "--------------------------------------------------\n",
      "Sorry product prodB is not matched\n",
      "--------------------------------------------------\n"
     ]
    }
   ],
   "source": [
    "pName = 'prodB'\n",
    "\n",
    "if(pName == 'prodA'):\n",
    "    print('-'*50)\n",
    "    print('product name is matched')\n",
    "    pID = 101\n",
    "    print(f'product name:{pName} pid:{pID}')\n",
    "    print('-'*50)\n",
    "else:\n",
    "    print('-'*50)\n",
    "    print(f\"Sorry product {pName} is not matched\")\n",
    "    print('-'*50)"
   ]
  },
  {
   "cell_type": "code",
   "execution_count": null,
   "id": "8c61b0d6",
   "metadata": {},
   "outputs": [],
   "source": [
    "Write a python program:\n",
    "    read a port number from <STDIN>\n",
    "    test - input port number is above 500 - initialize an app name is TestApp\n",
    "                                below 500 - initialize an app name is DemoApp\n",
    "    use print() - display App name and running port number to monitor."
   ]
  },
  {
   "cell_type": "code",
   "execution_count": 100,
   "id": "2dfe75ca",
   "metadata": {},
   "outputs": [
    {
     "name": "stdout",
     "output_type": "stream",
     "text": [
      "Enter a port number:560\n",
      "App name is:TestApp running port number:560\n"
     ]
    }
   ],
   "source": [
    "port = input('Enter a port number:')\n",
    "if(int(port) > 500):\n",
    "    app = 'TestApp'\n",
    "else:\n",
    "    app = 'DemoApp'\n",
    "print(f'App name is:{app} running port number:{port}')"
   ]
  },
  {
   "cell_type": "code",
   "execution_count": 101,
   "id": "9ecaa1fa",
   "metadata": {},
   "outputs": [
    {
     "name": "stdout",
     "output_type": "stream",
     "text": [
      "Enter a port number:450\n",
      "App name is:DemoApp running port number:450\n"
     ]
    }
   ],
   "source": [
    "port = input('Enter a port number:')\n",
    "if(int(port) > 500):\n",
    "    app = 'TestApp'\n",
    "else:\n",
    "    app = 'DemoApp'\n",
    "print(f'App name is:{app} running port number:{port}')"
   ]
  },
  {
   "cell_type": "code",
   "execution_count": 103,
   "id": "51e428d6",
   "metadata": {},
   "outputs": [
    {
     "name": "stdout",
     "output_type": "stream",
     "text": [
      "0\n",
      "3\n"
     ]
    }
   ],
   "source": [
    "# len(input_string) ->output_int \n",
    "print(len(''))\n",
    "s='abc'\n",
    "print(len(s))"
   ]
  },
  {
   "cell_type": "code",
   "execution_count": 104,
   "id": "f8f0acb3",
   "metadata": {},
   "outputs": [
    {
     "name": "stdout",
     "output_type": "stream",
     "text": [
      "Enter your name:\n",
      "Sorry your input is empty\n"
     ]
    }
   ],
   "source": [
    "name = input('Enter your name:')\n",
    "if(len(name) == 0):\n",
    "    print('Sorry your input is empty')\n",
    "else:\n",
    "    print(f'Hello...{name}')\n",
    "    "
   ]
  },
  {
   "cell_type": "code",
   "execution_count": 106,
   "id": "e545102a",
   "metadata": {},
   "outputs": [
    {
     "name": "stdout",
     "output_type": "stream",
     "text": [
      "Enter your name:Abc\n",
      "Hello...Abc\n"
     ]
    }
   ],
   "source": [
    "name = input('Enter your name:')\n",
    "if(len(name) == 0):\n",
    "    print('Sorry your input is empty')\n",
    "else:\n",
    "    print(f'Hello...{name}')"
   ]
  },
  {
   "cell_type": "code",
   "execution_count": 110,
   "id": "5578555e",
   "metadata": {},
   "outputs": [
    {
     "name": "stdout",
     "output_type": "stream",
     "text": [
      "Enter a shell name:tcsh\n",
      "Shell name:/bin/nologin profile filename:/etc/profile\n"
     ]
    }
   ],
   "source": [
    "shell_var = input('Enter a shell name:')\n",
    "\n",
    "if(shell_var == 'bash'):\n",
    "    fname = 'bashrc'\n",
    "elif(shell_var == 'ksh'):\n",
    "    fname = 'kshrc'\n",
    "elif(shell_var == 'psh'):\n",
    "    fname = 'Winprofile'\n",
    "else:\n",
    "    shell_var = '/bin/nologin'\n",
    "    fname = '/etc/profile'\n",
    "\n",
    "print(f'Shell name:{shell_var} profile filename:{fname}')"
   ]
  },
  {
   "cell_type": "code",
   "execution_count": null,
   "id": "9a8e92d5",
   "metadata": {},
   "outputs": [],
   "source": [
    "In Single Conditional statement, test more than one condition \n",
    "                                 //use logical operators(keywords: and or not)"
   ]
  },
  {
   "cell_type": "code",
   "execution_count": 111,
   "id": "8e8a3411",
   "metadata": {},
   "outputs": [
    {
     "name": "stdout",
     "output_type": "stream",
     "text": [
      "Enter a shell name:sh\n",
      "Shell name:sh profile filename:bashrc\n"
     ]
    }
   ],
   "source": [
    "shell_var = input('Enter a shell name:')\n",
    "\n",
    "if(shell_var == 'bash' or shell_var == 'sh'):\n",
    "    fname = 'bashrc'\n",
    "elif(shell_var == 'ksh'):\n",
    "    fname = 'kshrc'\n",
    "elif(shell_var == 'psh'):\n",
    "    fname = 'Winprofile'\n",
    "else:\n",
    "    shell_var = '/bin/nologin'\n",
    "    fname = '/etc/profile'\n",
    "\n",
    "print(f'Shell name:{shell_var} profile filename:{fname}')"
   ]
  },
  {
   "cell_type": "code",
   "execution_count": 113,
   "id": "67a8f86a",
   "metadata": {},
   "outputs": [
    {
     "name": "stdout",
     "output_type": "stream",
     "text": [
      "Enter a port number:650\n",
      "App name is:DemoApp running port number:650\n"
     ]
    }
   ],
   "source": [
    "port = input('Enter a port number:')\n",
    "if(int(port) > 500 and int(port) < 600):\n",
    "    app = 'TestApp'\n",
    "else:\n",
    "    app = 'DemoApp'\n",
    "print(f'App name is:{app} running port number:{port}')"
   ]
  },
  {
   "cell_type": "code",
   "execution_count": 114,
   "id": "074cde46",
   "metadata": {},
   "outputs": [
    {
     "name": "stdout",
     "output_type": "stream",
     "text": [
      "i value is: 0\n",
      "i value is: 1\n",
      "i value is: 2\n",
      "i value is: 3\n",
      "i value is: 4\n"
     ]
    }
   ],
   "source": [
    "# Looping statements\n",
    "# ----------------------\n",
    "#   Code block - execute more than one time.\n",
    "#   ----------\n",
    "#       \\____1. Conditional style - based on the condition - while\n",
    "#       \\____2. Collection style - based on the data - for\n",
    "#\n",
    "\n",
    "# break - exit from loop ; continue - won't exit from loop\n",
    "# -----                    --------\n",
    "\n",
    "# conditional style code\n",
    "#  rule 1: start - initialization\n",
    "#  rule 2: stop  - condition\n",
    "#  rule 3: step  - arithmetic\n",
    "\n",
    "i=0\n",
    "while(i <5):\n",
    "    print('i value is:',i)\n",
    "    i=i+1"
   ]
  },
  {
   "cell_type": "markdown",
   "id": "d2138a51",
   "metadata": {},
   "source": [
    "Write a python program:\n",
    "    initialize a pin Number: (Ex: pin=4567)\n",
    "    use while loop - limit is 3\n",
    "          -> read a pinNumber from <STDIN>\n",
    "          -> test - inputpin with existing pin\n",
    "                     ->display message - pin is matched - count( 1 2 3)\n",
    "   pin is blocked if all 3 inputs are failed."
   ]
  },
  {
   "cell_type": "code",
   "execution_count": 119,
   "id": "87bcb23f",
   "metadata": {},
   "outputs": [
    {
     "name": "stdout",
     "output_type": "stream",
     "text": [
      "Enter a pin Number:4567\n",
      "Pin is matched - at 1\n"
     ]
    }
   ],
   "source": [
    "pin = 4567\n",
    "count = 0\n",
    "while(count < 3):\n",
    "    p = input('Enter a pin Number:')\n",
    "    count = count + 1\n",
    "    if(int(p) == pin):\n",
    "        print(f'Pin is matched - at {count}')\n",
    "        break\n",
    "\n",
    "if(int(p) != pin):\n",
    "    print('Sorry pin is blocked')"
   ]
  },
  {
   "cell_type": "code",
   "execution_count": 120,
   "id": "6fcdbf46",
   "metadata": {},
   "outputs": [
    {
     "name": "stdout",
     "output_type": "stream",
     "text": [
      "Always active\n"
     ]
    }
   ],
   "source": [
    "while(True):\n",
    "    print('Always active')\n",
    "    break"
   ]
  },
  {
   "cell_type": "code",
   "execution_count": null,
   "id": "9cd93857",
   "metadata": {},
   "outputs": [],
   "source": [
    "for variable in <Collection>:\n",
    "    <Code block>  \\__ str,bytes,list,tuple,dict,set\n",
    "    \n",
    "for in - keywords\n",
    "--------------------"
   ]
  },
  {
   "cell_type": "code",
   "execution_count": 121,
   "id": "036eca10",
   "metadata": {},
   "outputs": [
    {
     "name": "stdout",
     "output_type": "stream",
     "text": [
      "var value is: p\n",
      "---------------------------------------------\n",
      "var value is: y\n",
      "---------------------------------------------\n",
      "var value is: t\n",
      "---------------------------------------------\n",
      "var value is: h\n",
      "---------------------------------------------\n",
      "var value is: o\n",
      "---------------------------------------------\n",
      "var value is: n\n",
      "---------------------------------------------\n"
     ]
    }
   ],
   "source": [
    "s='python'     # s | p | y | t | h | o | n |\n",
    "for var in s:  #   | 0 | 1 | 2 | 3 | 4 | 5 | <== index \n",
    "    print('var value is:',var)\n",
    "    print('-'*45)"
   ]
  },
  {
   "cell_type": "code",
   "execution_count": 122,
   "id": "be99331d",
   "metadata": {},
   "outputs": [
    {
     "name": "stdout",
     "output_type": "stream",
     "text": [
      "var value is: p\n",
      "var value is: y\n",
      "var value is: t\n",
      "var value is: h\n",
      "var value is: o\n",
      "var value is: n\n"
     ]
    }
   ],
   "source": [
    "s='python'\n",
    "for var in s:\n",
    "    print('var value is:',var)"
   ]
  },
  {
   "cell_type": "code",
   "execution_count": 124,
   "id": "169d533a",
   "metadata": {},
   "outputs": [
    {
     "name": "stdout",
     "output_type": "stream",
     "text": [
      "p\n",
      "y\n",
      "n\n"
     ]
    },
    {
     "ename": "IndexError",
     "evalue": "string index out of range",
     "output_type": "error",
     "traceback": [
      "\u001b[1;31m---------------------------------------------------------------------------\u001b[0m",
      "\u001b[1;31mIndexError\u001b[0m                                Traceback (most recent call last)",
      "Cell \u001b[1;32mIn[124], line 11\u001b[0m\n\u001b[0;32m      9\u001b[0m \u001b[38;5;28mprint\u001b[39m(s[\u001b[38;5;241m1\u001b[39m])\n\u001b[0;32m     10\u001b[0m \u001b[38;5;28mprint\u001b[39m(s[\u001b[38;5;241m5\u001b[39m])\n\u001b[1;32m---> 11\u001b[0m \u001b[38;5;28mprint\u001b[39m(s[\u001b[38;5;241m6\u001b[39m])\n",
      "\u001b[1;31mIndexError\u001b[0m: string index out of range"
     ]
    }
   ],
   "source": [
    "s='python' \n",
    "\n",
    "# s -> | p | y | t | h | o | n | \n",
    "#      | 0 | 1 | 2 | 3 | 4 | 5 | <== index\n",
    "#       -6  -5  -4  -3  -2  -1   <== index \n",
    "# How to fetch single chars ?\n",
    "#  stringName[index]\n",
    "print(s[0])\n",
    "print(s[1])\n",
    "print(s[5])\n",
    "print(s[6])"
   ]
  },
  {
   "cell_type": "code",
   "execution_count": 125,
   "id": "da79201d",
   "metadata": {},
   "outputs": [
    {
     "name": "stdout",
     "output_type": "stream",
     "text": [
      "var value is: p\n",
      "var value is: y\n",
      "var value is: t\n",
      "var value is: h\n",
      "var value is: o\n",
      "var value is: n\n"
     ]
    }
   ],
   "source": [
    "s='python'\n",
    "c=0\n",
    "while(c <len(s)):\n",
    "    print('var value is:',s[c])\n",
    "    c=c+1"
   ]
  },
  {
   "cell_type": "code",
   "execution_count": 126,
   "id": "8c52f71f",
   "metadata": {},
   "outputs": [
    {
     "name": "stdout",
     "output_type": "stream",
     "text": [
      "var value: a\n",
      "\n",
      "var value: :\n",
      "\n",
      "var value: b\n",
      "\n",
      "var value: -\n",
      "\n",
      "var value: c\n",
      "\n"
     ]
    }
   ],
   "source": [
    "for var in 'a:b-c':           # |a|:|b|-|c|\n",
    "    print('var value:',var)   #  0 1 2 3 4 <== index\n",
    "    print('') # empty line"
   ]
  },
  {
   "cell_type": "code",
   "execution_count": null,
   "id": "9e302c7c",
   "metadata": {},
   "outputs": [],
   "source": [
    "for var in '121':         Vs  for var in 'AB':\n",
    "    print('Test')                     print('Hello')\n",
    "    \n",
    "# '121' ->|1|2|1|              |A|B|\n",
    "#\n",
    "\n",
    "for var in str(45):\n",
    "    print(\"OK\") \n"
   ]
  },
  {
   "cell_type": "code",
   "execution_count": 127,
   "id": "06d7030c",
   "metadata": {},
   "outputs": [
    {
     "ename": "TypeError",
     "evalue": "'int' object is not iterable",
     "output_type": "error",
     "traceback": [
      "\u001b[1;31m---------------------------------------------------------------------------\u001b[0m",
      "\u001b[1;31mTypeError\u001b[0m                                 Traceback (most recent call last)",
      "Cell \u001b[1;32mIn[127], line 1\u001b[0m\n\u001b[1;32m----> 1\u001b[0m \u001b[38;5;28;01mfor\u001b[39;00m var \u001b[38;5;129;01min\u001b[39;00m \u001b[38;5;241m45\u001b[39m:\n\u001b[0;32m      2\u001b[0m     \u001b[38;5;28mprint\u001b[39m(\u001b[38;5;124m'\u001b[39m\u001b[38;5;124mOK\u001b[39m\u001b[38;5;124m'\u001b[39m)\n",
      "\u001b[1;31mTypeError\u001b[0m: 'int' object is not iterable"
     ]
    }
   ],
   "source": [
    "for var in 45:\n",
    "    print('OK')"
   ]
  },
  {
   "cell_type": "code",
   "execution_count": 128,
   "id": "d1b661f1",
   "metadata": {},
   "outputs": [
    {
     "name": "stdout",
     "output_type": "stream",
     "text": [
      "OK\n",
      "OK\n"
     ]
    }
   ],
   "source": [
    "for var in str(45):\n",
    "    print('OK')"
   ]
  },
  {
   "cell_type": "code",
   "execution_count": 131,
   "id": "f43e9fe9",
   "metadata": {},
   "outputs": [
    {
     "name": "stdout",
     "output_type": "stream",
     "text": [
      "<class 'str'> 35\n",
      "t\n",
      "e\n",
      "s\n",
      "e\n"
     ]
    }
   ],
   "source": [
    "msg='test-python3.12 code in dev machine'\n",
    "print(type(msg),len(msg))\n",
    "print(msg[0])\n",
    "print(msg[1])\n",
    "print(msg[2])\n",
    "print(msg[-1])"
   ]
  },
  {
   "cell_type": "code",
   "execution_count": null,
   "id": "363b1e75",
   "metadata": {},
   "outputs": [],
   "source": [
    "# slicing group of chars \n",
    "s[n] ->nth index\n",
    "\n",
    "s[n:m] ->from nth index to m-1 index\n",
    "s[4:9] ->from 4th index to 8th index(9-1)\n",
    "\n",
    "s[n:] ->from nth index to ALL\n",
    "s[:n] ->from 0th index to n-1 \n",
    "\n",
    "print(s[n]) ->nth index\n",
    "print(s[n:]) ->from nth index to all"
   ]
  },
  {
   "cell_type": "code",
   "execution_count": 134,
   "id": "4d698bdd",
   "metadata": {},
   "outputs": [
    {
     "name": "stdout",
     "output_type": "stream",
     "text": [
      "test-python3.12 code in dev machine\n",
      "test-\n",
      " code\n"
     ]
    }
   ],
   "source": [
    "print(msg)\n",
    "print(msg[0:5]) # from 0th index to 4th index(5-1)\n",
    "print(msg[15:20]) # from 15th index to 19th index(20-1)"
   ]
  },
  {
   "cell_type": "code",
   "execution_count": 136,
   "id": "3aad3fe7",
   "metadata": {},
   "outputs": [
    {
     "name": "stdout",
     "output_type": "stream",
     "text": [
      " code in dev machine\n",
      "test-python3.12\n"
     ]
    }
   ],
   "source": [
    "print(msg[15:]) # from 15th index to list of all\n",
    "print(msg[:15]) # from 0th index to 14th "
   ]
  },
  {
   "cell_type": "code",
   "execution_count": 155,
   "id": "e5c695eb",
   "metadata": {},
   "outputs": [
    {
     "name": "stdout",
     "output_type": "stream",
     "text": [
      "d\n",
      "defg\n",
      "cde\n",
      "g\n"
     ]
    }
   ],
   "source": [
    "              #    0   1   2   3   4   5   6\n",
    "s='abcdefg'   #  | a | b | c | d | e | f | g \n",
    "              #   -7  -6  -5  -4   -3 -2  -1\n",
    "print(s[-4])\n",
    "print(s[-4:]) # last 4chars\n",
    "print(s[-5:-2])\n",
    "print(s[-1])"
   ]
  },
  {
   "cell_type": "code",
   "execution_count": 156,
   "id": "cd2635a6",
   "metadata": {},
   "outputs": [
    {
     "data": {
      "text/plain": [
       "'PYTHON'"
      ]
     },
     "execution_count": 156,
     "metadata": {},
     "output_type": "execute_result"
    }
   ],
   "source": [
    "s='python'\n",
    "s.upper()"
   ]
  },
  {
   "cell_type": "code",
   "execution_count": 157,
   "id": "e9f8575f",
   "metadata": {},
   "outputs": [
    {
     "name": "stdout",
     "output_type": "stream",
     "text": [
      "python\n"
     ]
    }
   ],
   "source": [
    "print(s)"
   ]
  },
  {
   "cell_type": "code",
   "execution_count": 159,
   "id": "220a241f",
   "metadata": {},
   "outputs": [
    {
     "name": "stdout",
     "output_type": "stream",
     "text": [
      "abc\n"
     ]
    }
   ],
   "source": [
    "print('ABC'.lower())"
   ]
  },
  {
   "cell_type": "code",
   "execution_count": 160,
   "id": "a5c748e4",
   "metadata": {},
   "outputs": [
    {
     "data": {
      "text/plain": [
       "False"
      ]
     },
     "execution_count": 160,
     "metadata": {},
     "output_type": "execute_result"
    }
   ],
   "source": [
    "s='python'\n",
    "s.isupper()"
   ]
  },
  {
   "cell_type": "code",
   "execution_count": 161,
   "id": "4357424d",
   "metadata": {},
   "outputs": [
    {
     "data": {
      "text/plain": [
       "True"
      ]
     },
     "execution_count": 161,
     "metadata": {},
     "output_type": "execute_result"
    }
   ],
   "source": [
    "s.islower()"
   ]
  },
  {
   "cell_type": "code",
   "execution_count": 162,
   "id": "c6361699",
   "metadata": {},
   "outputs": [
    {
     "name": "stdout",
     "output_type": "stream",
     "text": [
      "Yes Given string is lowercase chars\n"
     ]
    }
   ],
   "source": [
    "if(s.islower()):\n",
    "    print('Yes Given string is lowercase chars')\n",
    "else:\n",
    "    print('No given string is not a lowercase chars')"
   ]
  },
  {
   "cell_type": "code",
   "execution_count": null,
   "id": "ee46133c",
   "metadata": {},
   "outputs": [],
   "source": [
    "s.title()\n",
    "| -------\n",
    "|__1st step: determine the type => type(s) -><class 'str'>\n",
    "  |\n",
    "  |->2nd step: understand method definition\n",
    "               ============================\n",
    "                  help(str.title)"
   ]
  },
  {
   "cell_type": "code",
   "execution_count": 165,
   "id": "743d1051",
   "metadata": {},
   "outputs": [
    {
     "name": "stdout",
     "output_type": "stream",
     "text": [
      "Help on method_descriptor:\n",
      "\n",
      "title(self, /)\n",
      "    Return a version of the string where each word is titlecased.\n",
      "    \n",
      "    More specifically, words start with uppercased characters and all remaining\n",
      "    cased characters have lower case.\n",
      "\n"
     ]
    }
   ],
   "source": [
    "# help(str)\n",
    "#  Vs\n",
    "help(str.title)"
   ]
  },
  {
   "cell_type": "code",
   "execution_count": 166,
   "id": "9ea7b543",
   "metadata": {},
   "outputs": [
    {
     "data": {
      "text/plain": [
       "'Abc'"
      ]
     },
     "execution_count": 166,
     "metadata": {},
     "output_type": "execute_result"
    }
   ],
   "source": [
    "'abc'.title()"
   ]
  },
  {
   "cell_type": "code",
   "execution_count": 170,
   "id": "725afcb7",
   "metadata": {},
   "outputs": [
    {
     "name": "stdout",
     "output_type": "stream",
     "text": [
      "data1\n",
      "data2\n",
      "data3\n",
      "data:\n",
      "--> data\n"
     ]
    }
   ],
   "source": [
    "s1=\"data1\\n\"\n",
    "s2=\"data2\\t\"\n",
    "s3=\"data3 \"\n",
    "s4=\"data:\"\n",
    "print(s1.strip())\n",
    "print(s2.strip())\n",
    "print(s3.strip())\n",
    "print(s4.strip())\n",
    "print(\"-->\",s4.strip(':')) # remove ':'"
   ]
  },
  {
   "cell_type": "code",
   "execution_count": 174,
   "id": "3f1b2036",
   "metadata": {},
   "outputs": [
    {
     "name": "stdout",
     "output_type": "stream",
     "text": [
      "0.05 0.01 0.02LB\n",
      "0.05 0.01 0.02\n",
      "0.05 0.01 0.02LB\n"
     ]
    }
   ],
   "source": [
    "s=\"0.05 0.01 0.02LB\"\n",
    "print(s)\n",
    "print(s.strip('LB')) # remove LB \n",
    "print(s)"
   ]
  },
  {
   "cell_type": "code",
   "execution_count": 175,
   "id": "6a3429d5",
   "metadata": {},
   "outputs": [
    {
     "data": {
      "text/plain": [
       "'HELLO TEST USER'"
      ]
     },
     "execution_count": 175,
     "metadata": {},
     "output_type": "execute_result"
    }
   ],
   "source": [
    "msg=\"hello test user\"\n",
    "msg.upper()"
   ]
  },
  {
   "cell_type": "code",
   "execution_count": 176,
   "id": "b58285d0",
   "metadata": {},
   "outputs": [
    {
     "name": "stdout",
     "output_type": "stream",
     "text": [
      "hello test user\n"
     ]
    }
   ],
   "source": [
    "print(msg)"
   ]
  },
  {
   "cell_type": "code",
   "execution_count": 177,
   "id": "519b5c51",
   "metadata": {},
   "outputs": [
    {
     "name": "stdout",
     "output_type": "stream",
     "text": [
      "HELLO TEST USER\n"
     ]
    }
   ],
   "source": [
    "msg=msg.upper() # convert to uppercase then initialize to variable\n",
    "print(msg)      "
   ]
  },
  {
   "cell_type": "code",
   "execution_count": 183,
   "id": "ba06c0c8",
   "metadata": {},
   "outputs": [
    {
     "name": "stdout",
     "output_type": "stream",
     "text": [
      "<class 'str'> <class 'str'>\n",
      "True False\n"
     ]
    }
   ],
   "source": [
    "s1 = '45'\n",
    "\n",
    "s2 = 'ab'\n",
    "print(type(s1),type(s2))\n",
    "\n",
    "print(s1.isdigit(),s2.isdigit())"
   ]
  },
  {
   "cell_type": "code",
   "execution_count": null,
   "id": "9df6beda",
   "metadata": {},
   "outputs": [],
   "source": [
    "Write a python program:\n",
    "    read n value from <STDIN>\n",
    "    \\__ test - input n is digit or not\n",
    "                            |       ===>we can't typecast to int\n",
    "                            calculate n + 100 ->display updated n value"
   ]
  },
  {
   "cell_type": "code",
   "execution_count": 185,
   "id": "5b6dd9ba",
   "metadata": {},
   "outputs": [
    {
     "name": "stdout",
     "output_type": "stream",
     "text": [
      "Enter a n value:459ABC\n",
      "Sorry we can't type cast to int\n"
     ]
    }
   ],
   "source": [
    "n = input('Enter a n value:')\n",
    "if(n.isdigit()):\n",
    "    n=int(n)+100\n",
    "    print('updated n value is:',n)\n",
    "else:\n",
    "    print(\"Sorry we can't type cast to int\")"
   ]
  },
  {
   "cell_type": "code",
   "execution_count": 187,
   "id": "70f83a42",
   "metadata": {},
   "outputs": [
    {
     "name": "stdout",
     "output_type": "stream",
     "text": [
      "Enter a n value:500\n",
      "updated n value is: 600\n"
     ]
    }
   ],
   "source": [
    "n = input('Enter a n value:')\n",
    "if(n.isdigit()):\n",
    "    n=int(n)+100\n",
    "    print('updated n value is:',n)\n",
    "else:\n",
    "    print(\"Sorry we can't type cast to int\")"
   ]
  },
  {
   "cell_type": "code",
   "execution_count": 188,
   "id": "87c1d049",
   "metadata": {},
   "outputs": [
    {
     "name": "stdout",
     "output_type": "stream",
     "text": [
      "<class 'list'>\n",
      "4\n",
      "[456, 'Leo', 242434.23, True]\n"
     ]
    }
   ],
   "source": [
    "# int float bool str \n",
    "empID = 456\n",
    "empName = \"Leo\"\n",
    "ecost = 242434.23\n",
    "elogin = True\n",
    "\n",
    "emp_details=[empID,empName,ecost,elogin] # list \n",
    "\n",
    "# list - Collection of different types of values \n",
    "# ----                 ---------------\n",
    "#  \\______ index based \n",
    "# \\_______ supports - index,slicing \n",
    "\n",
    "print(type(emp_details))\n",
    "print(len(emp_details))\n",
    "print(emp_details)"
   ]
  },
  {
   "cell_type": "code",
   "execution_count": 189,
   "id": "a971d56c",
   "metadata": {},
   "outputs": [
    {
     "name": "stdout",
     "output_type": "stream",
     "text": [
      "var value: 456\n",
      "var value: Leo\n",
      "var value: 242434.23\n",
      "var value: True\n"
     ]
    }
   ],
   "source": [
    "for var in emp_details:\n",
    "    print(\"var value:\",var)"
   ]
  },
  {
   "cell_type": "code",
   "execution_count": 190,
   "id": "bb4511a0",
   "metadata": {},
   "outputs": [
    {
     "name": "stdout",
     "output_type": "stream",
     "text": [
      "Hello\n",
      "Hello\n",
      "Hello\n",
      "Hello\n",
      "Hello\n",
      "Hello\n",
      "\n",
      "OK\n"
     ]
    }
   ],
   "source": [
    "for var in 'abcdef':\n",
    "    print(\"Hello\")\n",
    "    \n",
    "print('')\n",
    "for var in ['abcdef']:\n",
    "    print(\"OK\")"
   ]
  },
  {
   "cell_type": "code",
   "execution_count": 194,
   "id": "1bdf368a",
   "metadata": {},
   "outputs": [
    {
     "name": "stdout",
     "output_type": "stream",
     "text": [
      "<class 'list'>\n",
      "<class 'str'>\n",
      "<class 'int'>\n",
      "<class 'float'>\n",
      "<class 'bool'>\n"
     ]
    }
   ],
   "source": [
    "fnames = ['p1.log',50,6.32,True]\n",
    "print(type(fnames))\n",
    "print(type(fnames[0]))\n",
    "print(type(fnames[1]))\n",
    "print(type(fnames[2]))\n",
    "print(type(fnames[-1]))"
   ]
  },
  {
   "cell_type": "code",
   "execution_count": null,
   "id": "cee25caf",
   "metadata": {},
   "outputs": [],
   "source": [
    "str - Collection of chars - index based - immutable - ''\n",
    "|\n",
    "list - Collection of items - index based - mutable - []"
   ]
  },
  {
   "cell_type": "code",
   "execution_count": 195,
   "id": "41fd73ac",
   "metadata": {},
   "outputs": [
    {
     "data": {
      "text/plain": [
       "'b'"
      ]
     },
     "execution_count": 195,
     "metadata": {},
     "output_type": "execute_result"
    }
   ],
   "source": [
    "s='abc'\n",
    "s[1]"
   ]
  },
  {
   "cell_type": "code",
   "execution_count": 196,
   "id": "0b78a5f1",
   "metadata": {},
   "outputs": [
    {
     "ename": "TypeError",
     "evalue": "'str' object does not support item assignment",
     "output_type": "error",
     "traceback": [
      "\u001b[1;31m---------------------------------------------------------------------------\u001b[0m",
      "\u001b[1;31mTypeError\u001b[0m                                 Traceback (most recent call last)",
      "Cell \u001b[1;32mIn[196], line 1\u001b[0m\n\u001b[1;32m----> 1\u001b[0m s[\u001b[38;5;241m1\u001b[39m]\u001b[38;5;241m=\u001b[39m\u001b[38;5;124m'\u001b[39m\u001b[38;5;124mx\u001b[39m\u001b[38;5;124m'\u001b[39m\n",
      "\u001b[1;31mTypeError\u001b[0m: 'str' object does not support item assignment"
     ]
    }
   ],
   "source": [
    "s[1]='x'"
   ]
  },
  {
   "cell_type": "code",
   "execution_count": 197,
   "id": "6f844d56",
   "metadata": {},
   "outputs": [
    {
     "data": {
      "text/plain": [
       "'D2'"
      ]
     },
     "execution_count": 197,
     "metadata": {},
     "output_type": "execute_result"
    }
   ],
   "source": [
    "L=['D1','D2',10,2.45]\n",
    "L[1]"
   ]
  },
  {
   "cell_type": "code",
   "execution_count": 198,
   "id": "ea6438f0",
   "metadata": {},
   "outputs": [
    {
     "data": {
      "text/plain": [
       "['D1', 'Data-2', 10, 2.45]"
      ]
     },
     "execution_count": 198,
     "metadata": {},
     "output_type": "execute_result"
    }
   ],
   "source": [
    "L[1]='Data-2' # we can modify an existing value - mutable\n",
    "L"
   ]
  },
  {
   "cell_type": "code",
   "execution_count": null,
   "id": "bb3cbb29",
   "metadata": {},
   "outputs": [],
   "source": [
    "List is mutable\n",
    "          \\__ we can add  new item to an existing list  \n",
    "                    ======\n",
    "                      \\__ Listname.append(Value) ->None\n",
    "                      \\__ Listname.insert(index,Value) ->None\n",
    "                \n",
    "         \\___ we can delete nth item from existing list\n",
    "                      \\___ Listname.pop() ->return removed_value (last index)\n",
    "                      \\___ Listname.pop(index) ->removed nth index value\n",
    "            \n",
    "         \\___ we can modify an existing item\n",
    "                     |\n",
    "                     \\___ Listname[oldIndex] = updatedValue"
   ]
  },
  {
   "cell_type": "code",
   "execution_count": 199,
   "id": "228b83af",
   "metadata": {},
   "outputs": [
    {
     "name": "stdout",
     "output_type": "stream",
     "text": [
      "['network.cfg', 'users.cfg']\n",
      "2\n"
     ]
    }
   ],
   "source": [
    "config_files=['network.cfg','users.cfg']\n",
    "\n",
    "print(config_files)\n",
    "print(len(config_files))"
   ]
  },
  {
   "cell_type": "code",
   "execution_count": 200,
   "id": "a26dbf1e",
   "metadata": {},
   "outputs": [
    {
     "name": "stdout",
     "output_type": "stream",
     "text": [
      "4 ['network.cfg', 'users.cfg', 'process.cfg', 'sys.confg']\n"
     ]
    }
   ],
   "source": [
    "config_files.append('process.cfg')\n",
    "config_files.append('sys.confg')\n",
    "print(len(config_files),config_files)"
   ]
  },
  {
   "cell_type": "code",
   "execution_count": 201,
   "id": "2b9fe7c8",
   "metadata": {},
   "outputs": [],
   "source": [
    "config_files.insert(1,\"device.cfg\")"
   ]
  },
  {
   "cell_type": "code",
   "execution_count": 202,
   "id": "f7f1504e",
   "metadata": {},
   "outputs": [
    {
     "name": "stdout",
     "output_type": "stream",
     "text": [
      "5 ['network.cfg', 'device.cfg', 'users.cfg', 'process.cfg', 'sys.confg']\n"
     ]
    }
   ],
   "source": [
    "print(len(config_files),config_files)"
   ]
  },
  {
   "cell_type": "code",
   "execution_count": 204,
   "id": "59d35a20",
   "metadata": {},
   "outputs": [
    {
     "name": "stdout",
     "output_type": "stream",
     "text": [
      "5 ['network.cfg', 'device.cfg', 'users.cfg', 'process.cfg', 'sys.confg']\n",
      "sys.confg\n"
     ]
    }
   ],
   "source": [
    "print(len(config_files),config_files)\n",
    "r = config_files.pop()\n",
    "print(r)"
   ]
  },
  {
   "cell_type": "code",
   "execution_count": 205,
   "id": "0d93582b",
   "metadata": {},
   "outputs": [
    {
     "name": "stdout",
     "output_type": "stream",
     "text": [
      "4 ['network.cfg', 'device.cfg', 'users.cfg', 'process.cfg']\n"
     ]
    }
   ],
   "source": [
    "print(len(config_files),config_files)"
   ]
  },
  {
   "cell_type": "code",
   "execution_count": 206,
   "id": "251d2b1b",
   "metadata": {},
   "outputs": [
    {
     "name": "stdout",
     "output_type": "stream",
     "text": [
      "removed value: users.cfg\n"
     ]
    }
   ],
   "source": [
    "r = config_files.pop(2)\n",
    "print('removed value:',r)"
   ]
  },
  {
   "cell_type": "code",
   "execution_count": 207,
   "id": "1b2d54b5",
   "metadata": {},
   "outputs": [
    {
     "name": "stdout",
     "output_type": "stream",
     "text": [
      "3 ['network.cfg', 'device.cfg', 'process.cfg']\n"
     ]
    }
   ],
   "source": [
    "print(len(config_files),config_files)"
   ]
  },
  {
   "cell_type": "code",
   "execution_count": 208,
   "id": "a4e35fbb",
   "metadata": {},
   "outputs": [
    {
     "name": "stdout",
     "output_type": "stream",
     "text": [
      "No.of hosts:0\n"
     ]
    }
   ],
   "source": [
    "hosts=[] # empty list\n",
    "print(\"No.of hosts:{}\".format(len(hosts)))"
   ]
  },
  {
   "cell_type": "code",
   "execution_count": 209,
   "id": "a6d65532",
   "metadata": {},
   "outputs": [
    {
     "name": "stdout",
     "output_type": "stream",
     "text": [
      "No.of hosts:0\n",
      "Enter a hostname:host01\n",
      "Enter a hostname:host02\n",
      "Enter a hostname:host03\n",
      "Enter a hostname:host04\n",
      "Enter a hostname:host05\n",
      "No.of hosts:5\n",
      "\n",
      "List of hostnames:\n",
      "host01\n",
      "host02\n",
      "host03\n",
      "host04\n",
      "host05\n",
      "--------------------------------------------------\n"
     ]
    }
   ],
   "source": [
    "hosts=[] # empty list\n",
    "print(\"No.of hosts:{}\".format(len(hosts)))\n",
    "c=0\n",
    "while(c <5):\n",
    "    h = input('Enter a hostname:')\n",
    "    hosts.append(h) # adding new data to an existing list\n",
    "    c=c+1\n",
    "    \n",
    "print('No.of hosts:{}'.format(len(hosts)))\n",
    "print('') # empty line\n",
    "print('List of hostnames:')\n",
    "for var in hosts:\n",
    "    print(var)\n",
    "print('-'*50)"
   ]
  },
  {
   "cell_type": "code",
   "execution_count": 210,
   "id": "fe5b7c83",
   "metadata": {},
   "outputs": [
    {
     "data": {
      "text/plain": [
       "['host01', 'host02', 'host03', 'host04', 'host05']"
      ]
     },
     "execution_count": 210,
     "metadata": {},
     "output_type": "execute_result"
    }
   ],
   "source": [
    "hosts"
   ]
  },
  {
   "cell_type": "code",
   "execution_count": null,
   "id": "83c89549",
   "metadata": {},
   "outputs": [],
   "source": [
    "list - collection of different types of items - mutable - index/slicing - []\n",
    "|\n",
    "tuple - collection of different types of items - immutable - index/slicing - ()\n"
   ]
  },
  {
   "cell_type": "code",
   "execution_count": 211,
   "id": "fb6a53fe",
   "metadata": {},
   "outputs": [
    {
     "name": "stdout",
     "output_type": "stream",
     "text": [
      "<class 'list'> <class 'tuple'>\n"
     ]
    }
   ],
   "source": [
    "print(type([]),type(()))"
   ]
  },
  {
   "cell_type": "code",
   "execution_count": 216,
   "id": "b4eed53b",
   "metadata": {},
   "outputs": [
    {
     "name": "stdout",
     "output_type": "stream",
     "text": [
      "10 10\n",
      "Data Data\n",
      "[1.5, 'Data'] (1.5, 'Data')\n",
      "3 3\n",
      "10\n",
      "1.5\n",
      "Data\n",
      "\n",
      "10\n",
      "1.5\n",
      "Data\n"
     ]
    }
   ],
   "source": [
    "L=[10,1.5,\"Data\"] # list \n",
    "T=(10,1.5,\"Data\") # tuple\n",
    "\n",
    "print(L[0],T[0])\n",
    "\n",
    "print(L[-1],T[-1])\n",
    "\n",
    "print(L[-2:],T[-2:]) # last 2 items\n",
    "\n",
    "print(len(L),len(T))\n",
    "\n",
    "for var in L:\n",
    "    print(var)\n",
    "    \n",
    "print('')\n",
    "for var in T:\n",
    "    print(var)"
   ]
  },
  {
   "cell_type": "code",
   "execution_count": 217,
   "id": "961b2e99",
   "metadata": {},
   "outputs": [
    {
     "name": "stdout",
     "output_type": "stream",
     "text": [
      "[10, 1.5, 'Data']\n"
     ]
    },
    {
     "data": {
      "text/plain": [
       "[10, 456, 'Data']"
      ]
     },
     "execution_count": 217,
     "metadata": {},
     "output_type": "execute_result"
    }
   ],
   "source": [
    "print(L)\n",
    "L[1]=456 # mutable\n",
    "L"
   ]
  },
  {
   "cell_type": "code",
   "execution_count": 219,
   "id": "d6c01407",
   "metadata": {},
   "outputs": [
    {
     "name": "stdout",
     "output_type": "stream",
     "text": [
      "(10, 1.5, 'Data')\n"
     ]
    },
    {
     "ename": "TypeError",
     "evalue": "'tuple' object does not support item assignment",
     "output_type": "error",
     "traceback": [
      "\u001b[1;31m---------------------------------------------------------------------------\u001b[0m",
      "\u001b[1;31mTypeError\u001b[0m                                 Traceback (most recent call last)",
      "Cell \u001b[1;32mIn[219], line 2\u001b[0m\n\u001b[0;32m      1\u001b[0m \u001b[38;5;28mprint\u001b[39m(T)\n\u001b[1;32m----> 2\u001b[0m T[\u001b[38;5;241m1\u001b[39m]\u001b[38;5;241m=\u001b[39m\u001b[38;5;241m456\u001b[39m\n",
      "\u001b[1;31mTypeError\u001b[0m: 'tuple' object does not support item assignment"
     ]
    }
   ],
   "source": [
    "print(T)\n",
    "T[1]=456 # Error - tuple is immutable "
   ]
  }
 ],
 "metadata": {
  "kernelspec": {
   "display_name": "Python 3 (ipykernel)",
   "language": "python",
   "name": "python3"
  },
  "language_info": {
   "codemirror_mode": {
    "name": "ipython",
    "version": 3
   },
   "file_extension": ".py",
   "mimetype": "text/x-python",
   "name": "python",
   "nbconvert_exporter": "python",
   "pygments_lexer": "ipython3",
   "version": "3.11.5"
  }
 },
 "nbformat": 4,
 "nbformat_minor": 5
}
