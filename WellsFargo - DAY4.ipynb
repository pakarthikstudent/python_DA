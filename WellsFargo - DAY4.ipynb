{
 "cells": [
  {
   "cell_type": "code",
   "execution_count": null,
   "id": "42f283bd",
   "metadata": {},
   "outputs": [],
   "source": [
    "Functional style programming - Single line code"
   ]
  },
  {
   "cell_type": "code",
   "execution_count": 1,
   "id": "2e17f647",
   "metadata": {},
   "outputs": [
    {
     "data": {
      "text/plain": [
       "[110, 120, 130, 140]"
      ]
     },
     "execution_count": 1,
     "metadata": {},
     "output_type": "execute_result"
    }
   ],
   "source": [
    "def f1(a):\n",
    "    return a+100\n",
    "\n",
    "L = []\n",
    "\n",
    "for var in [10,20,30,40]:\n",
    "    r = f1(var)\n",
    "    L.append(r)\n",
    "    \n",
    "print(L)"
   ]
  },
  {
   "cell_type": "code",
   "execution_count": 2,
   "id": "a3a90e47",
   "metadata": {},
   "outputs": [
    {
     "data": {
      "text/plain": [
       "[110, 120, 130, 140]"
      ]
     },
     "execution_count": 2,
     "metadata": {},
     "output_type": "execute_result"
    }
   ],
   "source": [
    "list(map(lambda a:a+100,[10,20,30,40]))"
   ]
  },
  {
   "cell_type": "code",
   "execution_count": null,
   "id": "3c00d9d5",
   "metadata": {},
   "outputs": [],
   "source": [
    "  (1)         (2)\n",
    "iterator ->generator \n",
    "list comprehension ->(3)\n",
    "lambda ->(4)\n",
    "map  ->(5)\n",
    "filter ->(6)\n",
    "reduce,enumerate ->(7)\n",
    "---------\n",
    "|\n",
    "|->Functional style programming"
   ]
  },
  {
   "cell_type": "code",
   "execution_count": null,
   "id": "7f622d0b",
   "metadata": {},
   "outputs": [],
   "source": [
    "iterator - address "
   ]
  },
  {
   "cell_type": "code",
   "execution_count": 8,
   "id": "63a21802",
   "metadata": {},
   "outputs": [
    {
     "name": "stdout",
     "output_type": "stream",
     "text": [
      "0x7ffb5cef9448\n",
      "0x7ffb5cef9448 0x7ffb5cef9448 0x7ffb5cef9448 0x7ffb5cef9448\n"
     ]
    }
   ],
   "source": [
    "print(hex(id(10)))\n",
    "\n",
    "a = 10\n",
    "b = 4+6\n",
    "c = 5+5\n",
    "d = 6+4\n",
    "print(hex(id(a)),hex(id(b)),hex(id(c)),hex(id(d)))"
   ]
  },
  {
   "cell_type": "code",
   "execution_count": 12,
   "id": "86ee241a",
   "metadata": {},
   "outputs": [
    {
     "name": "stdout",
     "output_type": "stream",
     "text": [
      "a 0x7ffb5cf04700\n",
      "b 0x7ffb5cf04738\n",
      "a 0x7ffb5cf04700\n",
      "\n",
      "<str_ascii_iterator object at 0x0000020E541FF460>\n"
     ]
    }
   ],
   "source": [
    "s='abcab'    #   s|  a |  b  | c  | a |  b  |\n",
    "             #    | 0  |  1  | 2  | 3 |  4  |<== index\n",
    "             #      0x1            0x1\n",
    "             #    [                           ] 0x12234 <---\n",
    "            \n",
    "print(s[0],hex(id(s[0])))\n",
    "print(s[1],hex(id(s[1])))\n",
    "print(s[3],hex(id(s[3])))\n",
    "print('')\n",
    "print(iter(s))"
   ]
  },
  {
   "cell_type": "code",
   "execution_count": null,
   "id": "0a92cb8b",
   "metadata": {},
   "outputs": [],
   "source": [
    "To open this address(iterator)\n",
    "  -> next(<iterator>) ...StopIterator\n",
    "  -> for loop    \n",
    "  |\n",
    "  -> typecast to list   -> list(<iterator>) # python3.x"
   ]
  },
  {
   "cell_type": "code",
   "execution_count": 17,
   "id": "9d0ba468",
   "metadata": {},
   "outputs": [
    {
     "name": "stdout",
     "output_type": "stream",
     "text": [
      "a\n",
      "b\n",
      "c\n",
      "a\n",
      "b\n"
     ]
    },
    {
     "ename": "StopIteration",
     "evalue": "",
     "output_type": "error",
     "traceback": [
      "\u001b[1;31m---------------------------------------------------------------------------\u001b[0m",
      "\u001b[1;31mStopIteration\u001b[0m                             Traceback (most recent call last)",
      "Cell \u001b[1;32mIn[17], line 7\u001b[0m\n\u001b[0;32m      5\u001b[0m \u001b[38;5;28mprint\u001b[39m(\u001b[38;5;28mnext\u001b[39m(sobj))\n\u001b[0;32m      6\u001b[0m \u001b[38;5;28mprint\u001b[39m(\u001b[38;5;28mnext\u001b[39m(sobj))\n\u001b[1;32m----> 7\u001b[0m \u001b[38;5;28mprint\u001b[39m(\u001b[38;5;28mnext\u001b[39m(sobj))\n",
      "\u001b[1;31mStopIteration\u001b[0m: "
     ]
    }
   ],
   "source": [
    "sobj = iter(s)\n",
    "print(next(sobj))\n",
    "print(next(sobj))\n",
    "print(next(sobj))\n",
    "print(next(sobj))\n",
    "print(next(sobj))\n",
    "print(next(sobj))"
   ]
  },
  {
   "cell_type": "code",
   "execution_count": 18,
   "id": "a966e210",
   "metadata": {},
   "outputs": [
    {
     "name": "stdout",
     "output_type": "stream",
     "text": [
      "a\n",
      "b\n",
      "c\n",
      "a\n",
      "b\n"
     ]
    }
   ],
   "source": [
    "sobj = iter(s)\n",
    "for var in sobj:\n",
    "    print(var)"
   ]
  },
  {
   "cell_type": "code",
   "execution_count": 19,
   "id": "d6c313a6",
   "metadata": {},
   "outputs": [
    {
     "data": {
      "text/plain": [
       "['a', 'b', 'c', 'a', 'b']"
      ]
     },
     "execution_count": 19,
     "metadata": {},
     "output_type": "execute_result"
    }
   ],
   "source": [
    "sobj = iter(s)\n",
    "list(sobj)"
   ]
  },
  {
   "cell_type": "code",
   "execution_count": 22,
   "id": "b611f2ba",
   "metadata": {},
   "outputs": [
    {
     "name": "stdout",
     "output_type": "stream",
     "text": [
      "eid,ename,edept,eplace,ecost\n",
      "101,raj,sales,pune,1000\n",
      "102,leo,prod,bglore,2000\n",
      "103,paul,HR,chennai,3000\n",
      "104,anu,hr,hyderabad,4000\n",
      "456,kumar,sales,bglore,3000\n",
      "105,zion,Hr,mumbai,5000\n",
      "106,bibu,sales,bglore,1450\n",
      "107,theeb,sales,noida,4590\n",
      "108,bibu,sales,bglore,5000\n",
      "113,kumar,prod,hyderabad,5423\n"
     ]
    }
   ],
   "source": [
    "fobj = open('E:\\\\emp.csv')\n",
    "for var in fobj:\n",
    "    print(var.strip())"
   ]
  },
  {
   "cell_type": "code",
   "execution_count": 23,
   "id": "eb65941d",
   "metadata": {},
   "outputs": [
    {
     "name": "stdout",
     "output_type": "stream",
     "text": [
      "eid,ename,edept,eplace,ecost\n",
      "101,raj,sales,pune,1000\n",
      "102,leo,prod,bglore,2000\n",
      "103,paul,HR,chennai,3000\n",
      "104,anu,hr,hyderabad,4000\n",
      "456,kumar,sales,bglore,3000\n",
      "105,zion,Hr,mumbai,5000\n",
      "106,bibu,sales,bglore,1450\n",
      "107,theeb,sales,noida,4590\n",
      "108,bibu,sales,bglore,5000\n",
      "113,kumar,prod,hyderabad,5423\n"
     ]
    }
   ],
   "source": [
    "for var in open('E:\\\\emp.csv'):\n",
    "    print(var.strip())"
   ]
  },
  {
   "cell_type": "code",
   "execution_count": 25,
   "id": "eb072046",
   "metadata": {},
   "outputs": [
    {
     "name": "stdout",
     "output_type": "stream",
     "text": [
      "eid,ename,edept,eplace,ecost\n",
      "\n",
      "101,raj,sales,pune,1000\n",
      "\n"
     ]
    }
   ],
   "source": [
    "fobj = open('E:\\\\emp.csv')\n",
    "print(next(fobj))\n",
    "print(next(fobj))"
   ]
  },
  {
   "cell_type": "code",
   "execution_count": null,
   "id": "9a2c7ec9",
   "metadata": {},
   "outputs": [],
   "source": [
    "Generator \n",
    "  |->is a function ->returns an iterator(address)\n",
    "                        ---> yield <value> \n",
    "                                Vs\n",
    "                        ---> return <value>"
   ]
  },
  {
   "cell_type": "code",
   "execution_count": 26,
   "id": "3e3b3806",
   "metadata": {},
   "outputs": [
    {
     "name": "stdout",
     "output_type": "stream",
     "text": [
      "<class 'function'> <class 'function'>\n",
      "<class 'int'> <class 'generator'>\n"
     ]
    }
   ],
   "source": [
    "def f1():\n",
    "    return 10\n",
    "\n",
    "def f2():\n",
    "    yield 10\n",
    "    \n",
    "print(type(f1),type(f2))\n",
    "print(type(f1()),type(f2()))"
   ]
  },
  {
   "cell_type": "code",
   "execution_count": 28,
   "id": "5d4383d9",
   "metadata": {},
   "outputs": [
    {
     "name": "stdout",
     "output_type": "stream",
     "text": [
      "10\n"
     ]
    },
    {
     "ename": "StopIteration",
     "evalue": "",
     "output_type": "error",
     "traceback": [
      "\u001b[1;31m---------------------------------------------------------------------------\u001b[0m",
      "\u001b[1;31mStopIteration\u001b[0m                             Traceback (most recent call last)",
      "Cell \u001b[1;32mIn[28], line 3\u001b[0m\n\u001b[0;32m      1\u001b[0m fobj \u001b[38;5;241m=\u001b[39m f2()\n\u001b[0;32m      2\u001b[0m \u001b[38;5;28mprint\u001b[39m(\u001b[38;5;28mnext\u001b[39m(fobj))\n\u001b[1;32m----> 3\u001b[0m \u001b[38;5;28mprint\u001b[39m(\u001b[38;5;28mnext\u001b[39m(fobj))\n",
      "\u001b[1;31mStopIteration\u001b[0m: "
     ]
    }
   ],
   "source": [
    "fobj = f2()\n",
    "print(next(fobj))\n",
    "print(next(fobj))"
   ]
  },
  {
   "cell_type": "code",
   "execution_count": 29,
   "id": "b4940265",
   "metadata": {},
   "outputs": [
    {
     "data": {
      "text/plain": [
       "10"
      ]
     },
     "execution_count": 29,
     "metadata": {},
     "output_type": "execute_result"
    }
   ],
   "source": [
    "def f1():\n",
    "    return 10\n",
    "    print(\"OK-1\")\n",
    "    print(\"OK-2\")\n",
    "    \n",
    "def f2():\n",
    "    yield 10\n",
    "    print(\"Hello-1\")\n",
    "    print(\"Hello-2\")\n",
    "    yield 20,30\n",
    "    yield \"D1\",[\"D2\",\"D3\"],[\"D4\",\"D5\"]\n",
    "    \n",
    "f1()"
   ]
  },
  {
   "cell_type": "code",
   "execution_count": 31,
   "id": "5f196c96",
   "metadata": {},
   "outputs": [],
   "source": [
    "fobj = f2()"
   ]
  },
  {
   "cell_type": "code",
   "execution_count": 32,
   "id": "132d7475",
   "metadata": {},
   "outputs": [
    {
     "name": "stdout",
     "output_type": "stream",
     "text": [
      "10\n",
      "Hello-1\n",
      "Hello-2\n",
      "(20, 30)\n",
      "('D1', ['D2', 'D3'], ['D4', 'D5'])\n"
     ]
    }
   ],
   "source": [
    "for var in fobj:\n",
    "    print(var)"
   ]
  },
  {
   "cell_type": "code",
   "execution_count": null,
   "id": "9ec22f95",
   "metadata": {},
   "outputs": [],
   "source": [
    "list comprehension - list append operation\n",
    "        |\n",
    "     [final_value for iterable]\n",
    "                    ---(1)->--\n",
    "      ---<--(2)------------"
   ]
  },
  {
   "cell_type": "code",
   "execution_count": 33,
   "id": "4490ce92",
   "metadata": {},
   "outputs": [
    {
     "name": "stdout",
     "output_type": "stream",
     "text": [
      "[110, 120, 130, 140]\n"
     ]
    }
   ],
   "source": [
    "L = []\n",
    "for var in [10,20,30,40]:\n",
    "    r = var+100\n",
    "    L.append(r)\n",
    "    \n",
    "print(L)"
   ]
  },
  {
   "cell_type": "code",
   "execution_count": 34,
   "id": "20359562",
   "metadata": {},
   "outputs": [
    {
     "data": {
      "text/plain": [
       "[110, 120, 130, 140]"
      ]
     },
     "execution_count": 34,
     "metadata": {},
     "output_type": "execute_result"
    }
   ],
   "source": [
    "[var+100 for var in [10,20,30,40]]"
   ]
  },
  {
   "cell_type": "code",
   "execution_count": 35,
   "id": "0175379c",
   "metadata": {},
   "outputs": [
    {
     "name": "stdout",
     "output_type": "stream",
     "text": [
      "[510, 520, 130, 140]\n"
     ]
    }
   ],
   "source": [
    "L = []\n",
    "for var in [10,20,30,40]:\n",
    "    if(var >20):\n",
    "        r = var+100\n",
    "        L.append(r)\n",
    "    else:\n",
    "        r = var+500\n",
    "        L.append(r)\n",
    "    \n",
    "print(L)"
   ]
  },
  {
   "cell_type": "code",
   "execution_count": 36,
   "id": "3f12e5e5",
   "metadata": {},
   "outputs": [
    {
     "data": {
      "text/plain": [
       "[510, 520, 130, 140]"
      ]
     },
     "execution_count": 36,
     "metadata": {},
     "output_type": "execute_result"
    }
   ],
   "source": [
    "[var+100 if var>20 else var +500 for var in [10,20,30,40]]"
   ]
  },
  {
   "cell_type": "code",
   "execution_count": null,
   "id": "79d98960",
   "metadata": {},
   "outputs": [],
   "source": [
    "# lambda - python keyword\n",
    "  |-> unnamed function \n",
    "  |--> function call with args and return some value (Note: its not a generator)\n",
    "  |--> lambda <list of args>:<basic operation>"
   ]
  },
  {
   "cell_type": "code",
   "execution_count": 37,
   "id": "bd5a29f3",
   "metadata": {},
   "outputs": [
    {
     "data": {
      "text/plain": [
       "30"
      ]
     },
     "execution_count": 37,
     "metadata": {},
     "output_type": "execute_result"
    }
   ],
   "source": [
    "def fx(a1,a2):\n",
    "    return a1+a2\n",
    "\n",
    "fx(10,20)"
   ]
  },
  {
   "cell_type": "code",
   "execution_count": 38,
   "id": "df9bdb5a",
   "metadata": {},
   "outputs": [
    {
     "data": {
      "text/plain": [
       "<function __main__.<lambda>(a1, a2)>"
      ]
     },
     "execution_count": 38,
     "metadata": {},
     "output_type": "execute_result"
    }
   ],
   "source": [
    "lambda a1,a2:a1+a2"
   ]
  },
  {
   "cell_type": "code",
   "execution_count": 39,
   "id": "d41caf4c",
   "metadata": {},
   "outputs": [
    {
     "data": {
      "text/plain": [
       "30"
      ]
     },
     "execution_count": 39,
     "metadata": {},
     "output_type": "execute_result"
    }
   ],
   "source": [
    "fy = lambda a1,a2:a1+a2\n",
    "fy(10,20)"
   ]
  },
  {
   "cell_type": "code",
   "execution_count": 42,
   "id": "96612aea",
   "metadata": {},
   "outputs": [
    {
     "data": {
      "text/plain": [
       "False"
      ]
     },
     "execution_count": 42,
     "metadata": {},
     "output_type": "execute_result"
    }
   ],
   "source": [
    "f1 = lambda a1:a1>100\n",
    "f1(120)\n",
    "f1(50)"
   ]
  },
  {
   "cell_type": "code",
   "execution_count": 43,
   "id": "185a3c4e",
   "metadata": {},
   "outputs": [],
   "source": [
    "def f2(n):\n",
    "    if(n >100):\n",
    "        return n+100\n",
    "    elif(n <100):\n",
    "        return n+500"
   ]
  },
  {
   "cell_type": "code",
   "execution_count": 44,
   "id": "27a69498",
   "metadata": {},
   "outputs": [
    {
     "data": {
      "text/plain": [
       "250"
      ]
     },
     "execution_count": 44,
     "metadata": {},
     "output_type": "execute_result"
    }
   ],
   "source": [
    "f3 = lambda a:f2(a)\n",
    "f3(150)"
   ]
  },
  {
   "cell_type": "code",
   "execution_count": null,
   "id": "e29ce2b5",
   "metadata": {},
   "outputs": [],
   "source": [
    "map(function,collection) -> <Generator>\n",
    "|   ^^^^^^^^ __________\n",
    "filter(function,collection) -><Generator>\n",
    "       ^^^^^^^^ __________"
   ]
  },
  {
   "cell_type": "code",
   "execution_count": 40,
   "id": "fa0fc210",
   "metadata": {},
   "outputs": [
    {
     "name": "stdout",
     "output_type": "stream",
     "text": [
      "[110, 120, 130, 140]\n"
     ]
    }
   ],
   "source": [
    "def f1(a):\n",
    "    return a+100\n",
    "\n",
    "L = []\n",
    "\n",
    "for var in [10,20,30,40]:\n",
    "    r = f1(var)\n",
    "    L.append(r)\n",
    "    \n",
    "print(L)"
   ]
  },
  {
   "cell_type": "code",
   "execution_count": 46,
   "id": "73193ec1",
   "metadata": {},
   "outputs": [
    {
     "name": "stdout",
     "output_type": "stream",
     "text": [
      "110\n",
      "120\n",
      "130\n",
      "140\n"
     ]
    }
   ],
   "source": [
    "obj = map(lambda a:a+100,[10,20,30,40])\n",
    "for var in obj:\n",
    "    print(var)"
   ]
  },
  {
   "cell_type": "code",
   "execution_count": 47,
   "id": "f0fdf103",
   "metadata": {},
   "outputs": [
    {
     "data": {
      "text/plain": [
       "[110, 120, 130, 140]"
      ]
     },
     "execution_count": 47,
     "metadata": {},
     "output_type": "execute_result"
    }
   ],
   "source": [
    "list(map(lambda a:a+100,[10,20,30,40]))"
   ]
  },
  {
   "cell_type": "code",
   "execution_count": 56,
   "id": "6817ecd4",
   "metadata": {},
   "outputs": [
    {
     "data": {
      "text/plain": [
       "'eid,ename,edept,eplace,ecost\\n101,raj,sales,pune,1000\\n102,leo,prod,bglore,2000\\n103,paul,HR,chennai,3000\\n104,anu,hr,hyderabad,4000\\n456,kumar,sales,bglore,3000\\n105,zion,Hr,mumbai,5000\\n106,bibu,sales,bglore,1450\\n107,theeb,sales,noida,4590\\n108,bibu,sales,bglore,5000\\n113,kumar,prod,hyderabad,5423'"
      ]
     },
     "execution_count": 56,
     "metadata": {},
     "output_type": "execute_result"
    }
   ],
   "source": [
    "fx = lambda a:a.read()\n",
    "fx(open('E:\\\\emp.csv'))\n"
   ]
  },
  {
   "cell_type": "code",
   "execution_count": null,
   "id": "e456005f",
   "metadata": {},
   "outputs": [],
   "source": [
    "def Fx(a):\n",
    "    return a.read()\n",
    "\n",
    "Fx(open('E:\\\\emp.csv'))\n",
    "\n",
    "for var in ['f1.csv','f2.csv','f3.csv']:\n",
    "    r = Fx(var)\n",
    "    L.append(r)"
   ]
  },
  {
   "cell_type": "code",
   "execution_count": 54,
   "id": "98aadfea",
   "metadata": {},
   "outputs": [
    {
     "data": {
      "text/plain": [
       "{'CSV': ['eid,ename,edept,eplace,ecost\\n',\n",
       "  '101,raj,sales,pune,1000\\n',\n",
       "  '102,leo,prod,bglore,2000\\n',\n",
       "  '103,paul,HR,chennai,3000\\n',\n",
       "  '104,anu,hr,hyderabad,4000\\n',\n",
       "  '456,kumar,sales,bglore,3000\\n',\n",
       "  '105,zion,Hr,mumbai,5000\\n',\n",
       "  '106,bibu,sales,bglore,1450\\n',\n",
       "  '107,theeb,sales,noida,4590\\n',\n",
       "  '108,bibu,sales,bglore,5000\\n',\n",
       "  '113,kumar,prod,hyderabad,5423']}"
      ]
     },
     "execution_count": 54,
     "metadata": {},
     "output_type": "execute_result"
    }
   ],
   "source": [
    "# map(function,<collection>) -><Generator>\n",
    "# --------------------------------------------\n",
    "d={} \n",
    "d['CSV'] = list(map(lambda a:a,open('E:\\\\emp.csv')))\n",
    "d"
   ]
  },
  {
   "cell_type": "code",
   "execution_count": 58,
   "id": "a532c586",
   "metadata": {},
   "outputs": [
    {
     "data": {
      "text/plain": [
       "[False, True, True, True]"
      ]
     },
     "execution_count": 58,
     "metadata": {},
     "output_type": "execute_result"
    }
   ],
   "source": [
    "list(map(lambda a:a>10,[10,20,30,40]))"
   ]
  },
  {
   "cell_type": "code",
   "execution_count": 59,
   "id": "27f3422e",
   "metadata": {},
   "outputs": [
    {
     "name": "stdout",
     "output_type": "stream",
     "text": [
      "[None, True, True, True]\n"
     ]
    }
   ],
   "source": [
    "L=[]\n",
    "def f1(a):\n",
    "    if(a >10):\n",
    "        return True\n",
    "    \n",
    "for var in [10,20,30,40]:\n",
    "    r = f1(var)\n",
    "    L.append(r)\n",
    "\n",
    "print(L)"
   ]
  },
  {
   "cell_type": "code",
   "execution_count": 60,
   "id": "d2df5657",
   "metadata": {},
   "outputs": [
    {
     "name": "stdout",
     "output_type": "stream",
     "text": [
      "[False, True, True, True]\n",
      "\n",
      "[20, 30, 40]\n"
     ]
    }
   ],
   "source": [
    "print(list(map(lambda a:a>10,[10,20,30,40])) ) # map(function,collection) -><generator>\n",
    "\n",
    "print('') # empty line\n",
    "\n",
    "print(list(filter(lambda a:a>10,[10,20,30,40])) ) # filter(function,collection) -><generator>"
   ]
  },
  {
   "cell_type": "code",
   "execution_count": 63,
   "id": "7566b75d",
   "metadata": {},
   "outputs": [
    {
     "name": "stdout",
     "output_type": "stream",
     "text": [
      "[110, 120, 130, 140]\n",
      "\n",
      "[10, 20, 30, 40]\n"
     ]
    }
   ],
   "source": [
    "print(list(map(lambda a:a+100,[10,20,30,40])) ) # map(function,collection) -><generator>\n",
    "\n",
    "print('') # empty line\n",
    "\n",
    "print(list(filter(lambda a:a+100,[10,20,30,40])) ) # filter(function,collection) -><generator>"
   ]
  },
  {
   "cell_type": "code",
   "execution_count": 66,
   "id": "e0a2114c",
   "metadata": {},
   "outputs": [
    {
     "name": "stdout",
     "output_type": "stream",
     "text": [
      "[10, 20, 30, 40]\n"
     ]
    }
   ],
   "source": [
    "print(list(filter(lambda a:a,[10,20,30,40,None,0])) ) # filter(function,collection) -><generator>"
   ]
  },
  {
   "cell_type": "code",
   "execution_count": 67,
   "id": "87dd0a9f",
   "metadata": {},
   "outputs": [
    {
     "name": "stdout",
     "output_type": "stream",
     "text": [
      "False False\n"
     ]
    }
   ],
   "source": [
    "print(bool(0),bool(None))"
   ]
  },
  {
   "cell_type": "code",
   "execution_count": 70,
   "id": "cb8ffa21",
   "metadata": {},
   "outputs": [
    {
     "name": "stdout",
     "output_type": "stream",
     "text": [
      "(0, 'a')\n",
      "(1, 'b')\n",
      "(2, 'c')\n"
     ]
    }
   ],
   "source": [
    "# help(enumerate)\n",
    "for var in enumerate('abc'):\n",
    "    print(var)"
   ]
  },
  {
   "cell_type": "code",
   "execution_count": 71,
   "id": "b5740c28",
   "metadata": {},
   "outputs": [
    {
     "name": "stdout",
     "output_type": "stream",
     "text": [
      "(5, 'a')\n",
      "(6, 'b')\n",
      "(7, 'c')\n"
     ]
    }
   ],
   "source": [
    "for var in enumerate('abc',5):\n",
    "    print(var)"
   ]
  },
  {
   "cell_type": "code",
   "execution_count": 72,
   "id": "e99841ab",
   "metadata": {},
   "outputs": [
    {
     "name": "stdout",
     "output_type": "stream",
     "text": [
      "(0, 'eid,ename,edept,eplace,ecost\\n')\n",
      "(1, '101,raj,sales,pune,1000\\n')\n",
      "(2, '102,leo,prod,bglore,2000\\n')\n",
      "(3, '103,paul,HR,chennai,3000\\n')\n",
      "(4, '104,anu,hr,hyderabad,4000\\n')\n",
      "(5, '456,kumar,sales,bglore,3000\\n')\n",
      "(6, '105,zion,Hr,mumbai,5000\\n')\n",
      "(7, '106,bibu,sales,bglore,1450\\n')\n",
      "(8, '107,theeb,sales,noida,4590\\n')\n",
      "(9, '108,bibu,sales,bglore,5000\\n')\n",
      "(10, '113,kumar,prod,hyderabad,5423')\n"
     ]
    }
   ],
   "source": [
    "for var in enumerate(open('E:\\\\emp.csv')):\n",
    "    print(var)"
   ]
  },
  {
   "cell_type": "code",
   "execution_count": 73,
   "id": "e474a2fd",
   "metadata": {},
   "outputs": [
    {
     "name": "stdout",
     "output_type": "stream",
     "text": [
      "(1, 'eid,ename,edept,eplace,ecost\\n')\n",
      "(2, '101,raj,sales,pune,1000\\n')\n",
      "(3, '102,leo,prod,bglore,2000\\n')\n",
      "(4, '103,paul,HR,chennai,3000\\n')\n",
      "(5, '104,anu,hr,hyderabad,4000\\n')\n",
      "(6, '456,kumar,sales,bglore,3000\\n')\n",
      "(7, '105,zion,Hr,mumbai,5000\\n')\n",
      "(8, '106,bibu,sales,bglore,1450\\n')\n",
      "(9, '107,theeb,sales,noida,4590\\n')\n",
      "(10, '108,bibu,sales,bglore,5000\\n')\n",
      "(11, '113,kumar,prod,hyderabad,5423')\n"
     ]
    }
   ],
   "source": [
    "for var in enumerate(open('E:\\\\emp.csv'),1):\n",
    "    print(var)"
   ]
  },
  {
   "cell_type": "code",
   "execution_count": 74,
   "id": "7239dfba",
   "metadata": {},
   "outputs": [
    {
     "name": "stdout",
     "output_type": "stream",
     "text": [
      "1 - eid,ename,edept,eplace,ecost\n",
      "2 - 101,raj,sales,pune,1000\n",
      "3 - 102,leo,prod,bglore,2000\n",
      "4 - 103,paul,HR,chennai,3000\n",
      "5 - 104,anu,hr,hyderabad,4000\n",
      "6 - 456,kumar,sales,bglore,3000\n",
      "7 - 105,zion,Hr,mumbai,5000\n",
      "8 - 106,bibu,sales,bglore,1450\n",
      "9 - 107,theeb,sales,noida,4590\n",
      "10 - 108,bibu,sales,bglore,5000\n",
      "11 - 113,kumar,prod,hyderabad,5423\n"
     ]
    }
   ],
   "source": [
    "for var in enumerate(open('E:\\\\emp.csv'),1):\n",
    "    print('{} - {}'.format(var[0],var[1].strip()))"
   ]
  },
  {
   "cell_type": "code",
   "execution_count": 75,
   "id": "a1bfd2bd",
   "metadata": {},
   "outputs": [
    {
     "name": "stdout",
     "output_type": "stream",
     "text": [
      "1 - eid,ename,edept,eplace,ecost\n",
      "2 - 101,raj,sales,pune,1000\n",
      "3 - 102,leo,prod,bglore,2000\n",
      "4 - 103,paul,HR,chennai,3000\n",
      "5 - 104,anu,hr,hyderabad,4000\n",
      "6 - 456,kumar,sales,bglore,3000\n",
      "7 - 105,zion,Hr,mumbai,5000\n",
      "8 - 106,bibu,sales,bglore,1450\n",
      "9 - 107,theeb,sales,noida,4590\n",
      "10 - 108,bibu,sales,bglore,5000\n",
      "11 - 113,kumar,prod,hyderabad,5423\n"
     ]
    }
   ],
   "source": [
    "for var in enumerate(open('E:\\\\emp.csv'),1):\n",
    "    line,data = var # multiple initialization\n",
    "    print('{} - {}'.format(line,data.strip()))"
   ]
  },
  {
   "cell_type": "code",
   "execution_count": null,
   "id": "cd4ac4ed",
   "metadata": {},
   "outputs": [],
   "source": [
    "map(function,collection) -><Generator>\n",
    "filter(function,collection) -><Generator>\n",
    "reduce(function,collection) -> <Single> <== python2.x Vs functools.reduce()\n",
    "                                                            python3.x"
   ]
  },
  {
   "cell_type": "code",
   "execution_count": 77,
   "id": "03ae1a77",
   "metadata": {},
   "outputs": [
    {
     "name": "stdout",
     "output_type": "stream",
     "text": [
      "150\n"
     ]
    }
   ],
   "source": [
    "L=[10,20,30,40,50]\n",
    "t=0\n",
    "for var in L:\n",
    "    t=t+var\n",
    "print(t)"
   ]
  },
  {
   "cell_type": "code",
   "execution_count": 78,
   "id": "9ea49624",
   "metadata": {},
   "outputs": [
    {
     "data": {
      "text/plain": [
       "150"
      ]
     },
     "execution_count": 78,
     "metadata": {},
     "output_type": "execute_result"
    }
   ],
   "source": [
    "import functools\n",
    "functools.reduce(lambda t,var:t+var,L)"
   ]
  },
  {
   "cell_type": "code",
   "execution_count": 83,
   "id": "c37b6c52",
   "metadata": {},
   "outputs": [
    {
     "data": {
      "text/plain": [
       "'1000'"
      ]
     },
     "execution_count": 83,
     "metadata": {},
     "output_type": "execute_result"
    }
   ],
   "source": [
    "s='101,raj,sales,pune,1000'\n",
    "s.split(',')[-1]"
   ]
  },
  {
   "cell_type": "code",
   "execution_count": 76,
   "id": "6cb92fc9",
   "metadata": {},
   "outputs": [
    {
     "name": "stdout",
     "output_type": "stream",
     "text": [
      "15040\n"
     ]
    }
   ],
   "source": [
    "fobj = open('E:\\\\emp.csv')         # map\n",
    "L = fobj.readlines()\n",
    "fobj.close()\n",
    "\n",
    "total = 0\n",
    "for var in L:\n",
    "    if('sales' in var):            # filter\n",
    "        cost = var.split(\",\")[-1]  # map\n",
    "        total = total + int(cost)  # reduce\n",
    "        \n",
    "print(total)"
   ]
  },
  {
   "cell_type": "code",
   "execution_count": 80,
   "id": "29c8a25b",
   "metadata": {},
   "outputs": [
    {
     "data": {
      "text/plain": [
       "15040"
      ]
     },
     "execution_count": 80,
     "metadata": {},
     "output_type": "execute_result"
    }
   ],
   "source": [
    "map(lambda a:a,open('E:\\\\emp.csv')) # (A)\n",
    "\n",
    "filter(lambda a:'sales' in a,map(lambda a:a,open('E:\\\\emp.csv'))) # (B)\n",
    "\n",
    "map(lambda a:a.split(\",\")[-1],filter(lambda a:'sales' in a,map(lambda a:a,open('E:\\\\emp.csv'))))\n",
    "\n"
   ]
  },
  {
   "cell_type": "code",
   "execution_count": 81,
   "id": "0e759f05",
   "metadata": {},
   "outputs": [
    {
     "data": {
      "text/plain": [
       "15040"
      ]
     },
     "execution_count": 81,
     "metadata": {},
     "output_type": "execute_result"
    }
   ],
   "source": [
    "functools.reduce(lambda a,b:int(a)+int(b),\n",
    "                 map(lambda a:a.split(\",\")[-1],\n",
    "                     filter(lambda a:'sales' in a,\n",
    "                            map(lambda a:a,open('E:\\\\emp.csv')))))"
   ]
  },
  {
   "cell_type": "code",
   "execution_count": 84,
   "id": "4cfcdf50",
   "metadata": {},
   "outputs": [
    {
     "name": "stdout",
     "output_type": "stream",
     "text": [
      "Enter salary amount: 4500\n"
     ]
    },
    {
     "ename": "SalaryNotInRangeError",
     "evalue": "Salary is not in (5000, 15000) range",
     "output_type": "error",
     "traceback": [
      "\u001b[1;31m---------------------------------------------------------------------------\u001b[0m",
      "\u001b[1;31mSalaryNotInRangeError\u001b[0m                     Traceback (most recent call last)",
      "Cell \u001b[1;32mIn[84], line 17\u001b[0m\n\u001b[0;32m     15\u001b[0m salary \u001b[38;5;241m=\u001b[39m \u001b[38;5;28mint\u001b[39m(\u001b[38;5;28minput\u001b[39m(\u001b[38;5;124m\"\u001b[39m\u001b[38;5;124mEnter salary amount: \u001b[39m\u001b[38;5;124m\"\u001b[39m))\n\u001b[0;32m     16\u001b[0m \u001b[38;5;28;01mif\u001b[39;00m \u001b[38;5;129;01mnot\u001b[39;00m \u001b[38;5;241m5000\u001b[39m \u001b[38;5;241m<\u001b[39m salary \u001b[38;5;241m<\u001b[39m \u001b[38;5;241m15000\u001b[39m:\n\u001b[1;32m---> 17\u001b[0m     \u001b[38;5;28;01mraise\u001b[39;00m SalaryNotInRangeError(salary)\n",
      "\u001b[1;31mSalaryNotInRangeError\u001b[0m: Salary is not in (5000, 15000) range"
     ]
    }
   ],
   "source": [
    "class SalaryNotInRangeError(Exception):\n",
    "    \"\"\"Exception raised for errors in the input salary.\n",
    "\n",
    "    Attributes:\n",
    "        salary -- input salary which caused the error\n",
    "        message -- explanation of the error\n",
    "    \"\"\"\n",
    "\n",
    "    def __init__(self, salary, message=\"Salary is not in (5000, 15000) range\"):\n",
    "        self.salary = salary\n",
    "        self.message = message\n",
    "        super().__init__(self.message)\n",
    "\n",
    "\n",
    "salary = int(input(\"Enter salary amount: \"))\n",
    "if not 5000 < salary < 15000:\n",
    "    raise SalaryNotInRangeError(salary)"
   ]
  },
  {
   "cell_type": "code",
   "execution_count": 85,
   "id": "96e0e63b",
   "metadata": {},
   "outputs": [
    {
     "name": "stdout",
     "output_type": "stream",
     "text": [
      "Display var value:\n"
     ]
    },
    {
     "ename": "NameError",
     "evalue": "name 'VAR' is not defined",
     "output_type": "error",
     "traceback": [
      "\u001b[1;31m---------------------------------------------------------------------------\u001b[0m",
      "\u001b[1;31mNameError\u001b[0m                                 Traceback (most recent call last)",
      "Cell \u001b[1;32mIn[85], line 3\u001b[0m\n\u001b[0;32m      1\u001b[0m var\u001b[38;5;241m=\u001b[39m\u001b[38;5;241m100\u001b[39m\n\u001b[0;32m      2\u001b[0m \u001b[38;5;28mprint\u001b[39m(\u001b[38;5;124m\"\u001b[39m\u001b[38;5;124mDisplay var value:\u001b[39m\u001b[38;5;124m\"\u001b[39m)\n\u001b[1;32m----> 3\u001b[0m \u001b[38;5;28mprint\u001b[39m(VAR)\n\u001b[0;32m      5\u001b[0m \u001b[38;5;28;01mfor\u001b[39;00m var \u001b[38;5;129;01min\u001b[39;00m [\u001b[38;5;241m1\u001b[39m,\u001b[38;5;241m2\u001b[39m,\u001b[38;5;241m3\u001b[39m,\u001b[38;5;241m4\u001b[39m,\u001b[38;5;241m5\u001b[39m]:\n\u001b[0;32m      6\u001b[0m     \u001b[38;5;28mprint\u001b[39m(\u001b[38;5;124m\"\u001b[39m\u001b[38;5;124mTest message:\u001b[39m\u001b[38;5;124m\"\u001b[39m\u001b[38;5;241m+\u001b[39m\u001b[38;5;28mstr\u001b[39m(var))\n",
      "\u001b[1;31mNameError\u001b[0m: name 'VAR' is not defined"
     ]
    }
   ],
   "source": [
    "var=100\n",
    "print(\"Display var value:\")\n",
    "print(VAR)\n",
    "\n",
    "for var in [1,2,3,4,5]:\n",
    "    print(\"Test message:\"+str(var))\n",
    "\n",
    "print(\"End of the line\")"
   ]
  },
  {
   "cell_type": "code",
   "execution_count": 86,
   "id": "7e957caf",
   "metadata": {},
   "outputs": [
    {
     "name": "stdout",
     "output_type": "stream",
     "text": [
      "Display var value:\n",
      "name 'VAR' is not defined\n",
      "Test message:1\n",
      "Test message:2\n",
      "Test message:3\n",
      "Test message:4\n",
      "Test message:5\n",
      "End of the line\n"
     ]
    }
   ],
   "source": [
    "try:\n",
    "    var=100\n",
    "    print(\"Display var value:\")\n",
    "    print(VAR)\n",
    "except Exception as eobj:\n",
    "    print(eobj)\n",
    "\n",
    "for var in [1,2,3,4,5]:\n",
    "    print(\"Test message:\"+str(var))\n",
    "\n",
    "print(\"End of the line\")"
   ]
  },
  {
   "cell_type": "code",
   "execution_count": 87,
   "id": "54ef78c3",
   "metadata": {},
   "outputs": [
    {
     "name": "stdout",
     "output_type": "stream",
     "text": [
      "Display var value:\n",
      "(<class 'NameError'>, NameError(\"name 'VAR' is not defined\"), <traceback object at 0x0000020E54DF1800>)\n",
      "Test message:1\n",
      "Test message:2\n",
      "Test message:3\n",
      "Test message:4\n",
      "Test message:5\n",
      "End of the line\n"
     ]
    }
   ],
   "source": [
    "import sys\n",
    "# exc_info() - \n",
    "try:\n",
    "    var=100\n",
    "    print(\"Display var value:\")\n",
    "    print(VAR)\n",
    "except Exception as eobj:\n",
    "    print(sys.exc_info())\n",
    "\n",
    "for var in [1,2,3,4,5]:\n",
    "    print(\"Test message:\"+str(var))\n",
    "\n",
    "print(\"End of the line\")"
   ]
  },
  {
   "cell_type": "code",
   "execution_count": 93,
   "id": "180f81d3",
   "metadata": {},
   "outputs": [
    {
     "name": "stdout",
     "output_type": "stream",
     "text": [
      "('a', 0, 10)\n",
      "('b', 1, 11)\n",
      "('c', 2, 12)\n"
     ]
    }
   ],
   "source": [
    "#help(zip)\n",
    "for var in zip('abc',[0,1,2],[10,11,12,13]):\n",
    "    print(var)"
   ]
  },
  {
   "cell_type": "code",
   "execution_count": 94,
   "id": "92c82fef",
   "metadata": {},
   "outputs": [
    {
     "data": {
      "text/plain": [
       "{'a': (0, 10), 'b': (1, 11), 'c': (2, 12)}"
      ]
     },
     "execution_count": 94,
     "metadata": {},
     "output_type": "execute_result"
    }
   ],
   "source": [
    "d={}\n",
    "for var in zip('abc',[0,1,2],[10,11,12]):\n",
    "    K1,V1,V2 = var\n",
    "    d[K1]=V1,V2 # dict of tuple\n",
    "    \n",
    "d"
   ]
  },
  {
   "cell_type": "code",
   "execution_count": 95,
   "id": "17c6dae8",
   "metadata": {},
   "outputs": [
    {
     "ename": "TypeError",
     "evalue": "can only concatenate list (not \"int\") to list",
     "output_type": "error",
     "traceback": [
      "\u001b[1;31m---------------------------------------------------------------------------\u001b[0m",
      "\u001b[1;31mTypeError\u001b[0m                                 Traceback (most recent call last)",
      "Cell \u001b[1;32mIn[95], line 2\u001b[0m\n\u001b[0;32m      1\u001b[0m L \u001b[38;5;241m=\u001b[39m [\u001b[38;5;241m10\u001b[39m,\u001b[38;5;241m20\u001b[39m,\u001b[38;5;241m30\u001b[39m,\u001b[38;5;241m40\u001b[39m]\n\u001b[1;32m----> 2\u001b[0m L\u001b[38;5;241m+\u001b[39m\u001b[38;5;241m100\u001b[39m\n",
      "\u001b[1;31mTypeError\u001b[0m: can only concatenate list (not \"int\") to list"
     ]
    }
   ],
   "source": [
    "L = [10,20,30,40]\n",
    "L+100"
   ]
  },
  {
   "cell_type": "code",
   "execution_count": 96,
   "id": "688aca3f",
   "metadata": {},
   "outputs": [
    {
     "data": {
      "text/plain": [
       "[10, 20, 30, 40, 'D1', True]"
      ]
     },
     "execution_count": 96,
     "metadata": {},
     "output_type": "execute_result"
    }
   ],
   "source": [
    "L.append('D1')\n",
    "L.append(True)\n",
    "L"
   ]
  },
  {
   "cell_type": "code",
   "execution_count": 98,
   "id": "01d3b082",
   "metadata": {},
   "outputs": [
    {
     "data": {
      "text/plain": [
       "array('i', [10, 20, 30, 40])"
      ]
     },
     "execution_count": 98,
     "metadata": {},
     "output_type": "execute_result"
    }
   ],
   "source": [
    "import array\n",
    "#help(array.array)\n",
    "arr = array.array('i',[10,20,30,40])\n",
    "arr"
   ]
  },
  {
   "cell_type": "code",
   "execution_count": 99,
   "id": "75a4c895",
   "metadata": {},
   "outputs": [
    {
     "data": {
      "text/plain": [
       "array('i', [10, 20, 30, 40, 50, 60])"
      ]
     },
     "execution_count": 99,
     "metadata": {},
     "output_type": "execute_result"
    }
   ],
   "source": [
    "arr.append(50)\n",
    "arr.append(60)\n",
    "arr"
   ]
  },
  {
   "cell_type": "code",
   "execution_count": 100,
   "id": "47b759ac",
   "metadata": {},
   "outputs": [
    {
     "ename": "TypeError",
     "evalue": "can only append array (not \"int\") to array",
     "output_type": "error",
     "traceback": [
      "\u001b[1;31m---------------------------------------------------------------------------\u001b[0m",
      "\u001b[1;31mTypeError\u001b[0m                                 Traceback (most recent call last)",
      "Cell \u001b[1;32mIn[100], line 1\u001b[0m\n\u001b[1;32m----> 1\u001b[0m arr\u001b[38;5;241m+\u001b[39m\u001b[38;5;241m100\u001b[39m\n",
      "\u001b[1;31mTypeError\u001b[0m: can only append array (not \"int\") to array"
     ]
    }
   ],
   "source": [
    "arr+100"
   ]
  },
  {
   "cell_type": "code",
   "execution_count": 101,
   "id": "3cb7657a",
   "metadata": {},
   "outputs": [
    {
     "ename": "TypeError",
     "evalue": "'float' object cannot be interpreted as an integer",
     "output_type": "error",
     "traceback": [
      "\u001b[1;31m---------------------------------------------------------------------------\u001b[0m",
      "\u001b[1;31mTypeError\u001b[0m                                 Traceback (most recent call last)",
      "Cell \u001b[1;32mIn[101], line 1\u001b[0m\n\u001b[1;32m----> 1\u001b[0m arr\u001b[38;5;241m.\u001b[39mappend(\u001b[38;5;241m70.0\u001b[39m)\n",
      "\u001b[1;31mTypeError\u001b[0m: 'float' object cannot be interpreted as an integer"
     ]
    }
   ],
   "source": [
    "arr.append(70.0) # Vs L.append(7.0) ->OK L.append(True) ->OK"
   ]
  },
  {
   "cell_type": "code",
   "execution_count": 102,
   "id": "b3c5ef0e",
   "metadata": {},
   "outputs": [
    {
     "data": {
      "text/plain": [
       "'1.24.3'"
      ]
     },
     "execution_count": 102,
     "metadata": {},
     "output_type": "execute_result"
    }
   ],
   "source": [
    "import numpy\n",
    "numpy.__version__"
   ]
  },
  {
   "cell_type": "code",
   "execution_count": 113,
   "id": "dd082b0e",
   "metadata": {},
   "outputs": [
    {
     "name": "stdout",
     "output_type": "stream",
     "text": [
      "C:\\ProgramData\\anaconda3\\Lib\\os.py\n",
      "C:\\ProgramData\\anaconda3\\Lib\\re\\__init__.py\n",
      "C:\\ProgramData\\anaconda3\\Lib\\site-packages\\numpy\\__init__.py\n"
     ]
    }
   ],
   "source": [
    "import os\n",
    "import re\n",
    "print(os.__file__)\n",
    "print(re.__file__)\n",
    "print(numpy.__file__)"
   ]
  },
  {
   "cell_type": "code",
   "execution_count": 104,
   "id": "c21b33b4",
   "metadata": {},
   "outputs": [
    {
     "data": {
      "text/plain": [
       "array([110, 120, 130, 140, 150])"
      ]
     },
     "execution_count": 104,
     "metadata": {},
     "output_type": "execute_result"
    }
   ],
   "source": [
    "np_arr = numpy.array([10,20,30,40,50])\n",
    "np_arr+100   Vs arr+100 ->TypeError <-- L+100"
   ]
  },
  {
   "cell_type": "code",
   "execution_count": null,
   "id": "e14fb50e",
   "metadata": {},
   "outputs": [],
   "source": [
    "numpy ->array ->collection\n",
    "\n",
    "10 <= Scalar Vs [10,20] <= Vector(1D)\n",
    "\n",
    "  [[10,20],[30,40]] <== Matrix (2D) ->row x cols\n",
    " \n",
    "  [[[10,20],[30,40],[50,60]]] <== 3D tensor \n",
    "    \n",
    "    slice row cols \n",
    "    "
   ]
  },
  {
   "cell_type": "code",
   "execution_count": 105,
   "id": "f28c40ef",
   "metadata": {},
   "outputs": [
    {
     "data": {
      "text/plain": [
       "array([10, 20, 30, 40, 50])"
      ]
     },
     "execution_count": 105,
     "metadata": {},
     "output_type": "execute_result"
    }
   ],
   "source": [
    "import numpy as np\n",
    "a1 = np.array([10,20,30,40,50])\n",
    "a1"
   ]
  },
  {
   "cell_type": "code",
   "execution_count": 109,
   "id": "d3c1aca3",
   "metadata": {},
   "outputs": [
    {
     "name": "stdout",
     "output_type": "stream",
     "text": [
      "10\n",
      "1\n",
      "int32\n",
      "(5,)\n"
     ]
    }
   ],
   "source": [
    "print(a1[0])\n",
    "print(a1.ndim) \n",
    "print(a1.dtype)\n",
    "print(a1.shape)"
   ]
  },
  {
   "cell_type": "code",
   "execution_count": 117,
   "id": "b6dd4ee4",
   "metadata": {
    "scrolled": true
   },
   "outputs": [
    {
     "name": "stdout",
     "output_type": "stream",
     "text": [
      "2\n",
      "int32\n",
      "(1, 5)\n",
      "[10 20 30 40 50]\n",
      "10\n",
      "20\n",
      "10\n",
      "20\n"
     ]
    }
   ],
   "source": [
    "a2 = np.array([[10,20,30,40,50]])\n",
    "print(a2.ndim)\n",
    "print(a2.dtype)\n",
    "print(a2.shape) # row,cols  -> (1,5) -> 1row 5cols\n",
    "print(a2[0])\n",
    "print(a2[0][0])\n",
    "print(a2[0][1])\n",
    "print(a2[0,0]) # same as a2[0][0]\n",
    "print(a2[0,1]) # same as a2[0][1]"
   ]
  },
  {
   "cell_type": "code",
   "execution_count": 122,
   "id": "1176ea6c",
   "metadata": {},
   "outputs": [
    {
     "name": "stdout",
     "output_type": "stream",
     "text": [
      "2 (2, 3)\n",
      "[1 2 3]\n",
      "[4 5 6]\n",
      "1\n",
      "2\n"
     ]
    }
   ],
   "source": [
    "a2 =np.array([[1,2,3],[4,5,6]])\n",
    "\n",
    "print(a2.ndim,a2.shape)\n",
    "\n",
    "#   0  1   2\n",
    "#  C1 C2  C3\n",
    "#-----------\n",
    "# 1 | 2 | 3   <== record1  0\n",
    "# ----------\n",
    "# 4 | 5 | 6   <== record2  1\n",
    "# ---------\n",
    "print(a2[0])\n",
    "print(a2[1])\n",
    "print(a2[0][0])\n",
    "print(a2[0,1])"
   ]
  },
  {
   "cell_type": "code",
   "execution_count": 126,
   "id": "2b7da941",
   "metadata": {},
   "outputs": [
    {
     "data": {
      "text/plain": [
       "array([[ 1.,  2.,  3.],\n",
       "       [ 4.,  5.,  6.],\n",
       "       [ 7.,  8.,  9.],\n",
       "       [nan, nan, nan]])"
      ]
     },
     "execution_count": 126,
     "metadata": {},
     "output_type": "execute_result"
    }
   ],
   "source": [
    "np.array([[1,2,3],[4,5,6],[7,8,9],[np.nan,np.nan,np.nan]])"
   ]
  },
  {
   "cell_type": "code",
   "execution_count": 128,
   "id": "fc2e874a",
   "metadata": {},
   "outputs": [
    {
     "data": {
      "text/plain": [
       "array([[1, 2, 3],\n",
       "       [4, 5, 6],\n",
       "       [7, 8, 9]])"
      ]
     },
     "execution_count": 128,
     "metadata": {},
     "output_type": "execute_result"
    }
   ],
   "source": [
    "np.array([[1,2,3],[4,5,6],[7,8,9]])"
   ]
  },
  {
   "cell_type": "code",
   "execution_count": 131,
   "id": "92d9d402",
   "metadata": {},
   "outputs": [
    {
     "data": {
      "text/plain": [
       "dtype('float64')"
      ]
     },
     "execution_count": 131,
     "metadata": {},
     "output_type": "execute_result"
    }
   ],
   "source": [
    "np.array([1,2,3]) ->int32/64\n",
    "np.array([1,2,3.0]) ->float32/64\n",
    "\n",
    "np.array([1,np.nan]) ->float 32/64\n",
    "\n",
    "np.array([1,2.0,np.nan,'data']) ->object"
   ]
  },
  {
   "cell_type": "code",
   "execution_count": 132,
   "id": "88b21f7a",
   "metadata": {},
   "outputs": [
    {
     "data": {
      "text/plain": [
       "dtype('<U32')"
      ]
     },
     "execution_count": 132,
     "metadata": {},
     "output_type": "execute_result"
    }
   ],
   "source": [
    "np.array([1,2.0,np.nan,'data']).dtype"
   ]
  },
  {
   "cell_type": "code",
   "execution_count": 133,
   "id": "afc22930",
   "metadata": {},
   "outputs": [
    {
     "data": {
      "text/plain": [
       "dtype('<U1')"
      ]
     },
     "execution_count": 133,
     "metadata": {},
     "output_type": "execute_result"
    }
   ],
   "source": [
    "np.array(['a','b']).dtype"
   ]
  },
  {
   "cell_type": "code",
   "execution_count": null,
   "id": "a6dffdfa",
   "metadata": {},
   "outputs": [],
   "source": [
    "range(5) ->type <== python3.x Vs  range(5) ->[] <== python 2.x\n",
    "\n",
    "np.arange(5)"
   ]
  },
  {
   "cell_type": "code",
   "execution_count": 138,
   "id": "30c24f97",
   "metadata": {},
   "outputs": [
    {
     "name": "stdout",
     "output_type": "stream",
     "text": [
      "<class 'range'>\n",
      "0\n",
      "1\n",
      "2\n",
      "3\n",
      "4\n"
     ]
    }
   ],
   "source": [
    "print(type(range(5))) \n",
    "\n",
    "for var in range(5): \n",
    "    print(var)"
   ]
  },
  {
   "cell_type": "code",
   "execution_count": 140,
   "id": "de4c90f3",
   "metadata": {},
   "outputs": [
    {
     "name": "stdout",
     "output_type": "stream",
     "text": [
      "3 4 5 6 7 8 9 10 11 12 13 14 "
     ]
    }
   ],
   "source": [
    "for var in range(3,15): # start=3 stop=14(15-1) step=1\n",
    "    print(var,end=\" \")"
   ]
  },
  {
   "cell_type": "code",
   "execution_count": 141,
   "id": "da997a31",
   "metadata": {},
   "outputs": [
    {
     "name": "stdout",
     "output_type": "stream",
     "text": [
      "3 5 7 9 11 13 "
     ]
    }
   ],
   "source": [
    "for var in range(3,15,2): # start=3 stop=14 step=2\n",
    "    print(var,end=\" \")"
   ]
  },
  {
   "cell_type": "code",
   "execution_count": 134,
   "id": "ca158926",
   "metadata": {},
   "outputs": [
    {
     "data": {
      "text/plain": [
       "array([0, 1, 2, 3, 4, 5, 6, 7, 8, 9])"
      ]
     },
     "execution_count": 134,
     "metadata": {},
     "output_type": "execute_result"
    }
   ],
   "source": [
    "np.arange(10)"
   ]
  },
  {
   "cell_type": "code",
   "execution_count": 142,
   "id": "7f57b62d",
   "metadata": {},
   "outputs": [
    {
     "data": {
      "text/plain": [
       "array([ 3,  4,  5,  6,  7,  8,  9, 10, 11, 12, 13, 14])"
      ]
     },
     "execution_count": 142,
     "metadata": {},
     "output_type": "execute_result"
    }
   ],
   "source": [
    "np.arange(3,15)"
   ]
  },
  {
   "cell_type": "code",
   "execution_count": 143,
   "id": "95a21e0d",
   "metadata": {},
   "outputs": [
    {
     "data": {
      "text/plain": [
       "array([ 3,  7, 11])"
      ]
     },
     "execution_count": 143,
     "metadata": {},
     "output_type": "execute_result"
    }
   ],
   "source": [
    "np.arange(3,15,4)"
   ]
  },
  {
   "cell_type": "code",
   "execution_count": 144,
   "id": "171785e9",
   "metadata": {},
   "outputs": [
    {
     "data": {
      "text/plain": [
       "array([0.60896652, 0.50949269, 0.61877785, 0.35017075, 0.55546644])"
      ]
     },
     "execution_count": 144,
     "metadata": {},
     "output_type": "execute_result"
    }
   ],
   "source": [
    "np.random.rand(5)"
   ]
  },
  {
   "cell_type": "code",
   "execution_count": 179,
   "id": "0b4e1d46",
   "metadata": {},
   "outputs": [
    {
     "name": "stdout",
     "output_type": "stream",
     "text": [
      "0.40579749079004057\n"
     ]
    }
   ],
   "source": [
    "arr = np.random.rand()\n",
    "print(arr)"
   ]
  },
  {
   "cell_type": "code",
   "execution_count": 182,
   "id": "a2467bf7",
   "metadata": {},
   "outputs": [
    {
     "name": "stdout",
     "output_type": "stream",
     "text": [
      "1\n",
      "2\n",
      "(1, 3)\n",
      "3\n",
      "(1, 1, 3)\n"
     ]
    }
   ],
   "source": [
    "print(np.array([1,2,3]).ndim)\n",
    "print(np.array([[1,2,3]]).ndim)\n",
    "print(np.array([[1,2,3]]).shape) # 2D ->(row,col)\n",
    "print(np.array([[[1,2,3]]]).ndim)\n",
    "\n",
    "print(np.array([[[1,2,3]]]).shape) # 3D ->(slice,row,Col)"
   ]
  },
  {
   "cell_type": "code",
   "execution_count": 183,
   "id": "d4a589ed",
   "metadata": {},
   "outputs": [
    {
     "data": {
      "text/plain": [
       "array([110, 120, 130, 140])"
      ]
     },
     "execution_count": 183,
     "metadata": {},
     "output_type": "execute_result"
    }
   ],
   "source": [
    "arr = np.array([10,20,30,40])\n",
    "arr+100"
   ]
  },
  {
   "cell_type": "code",
   "execution_count": 184,
   "id": "3bed556c",
   "metadata": {},
   "outputs": [
    {
     "data": {
      "text/plain": [
       "array([1.2, 2.4, 3.6, 4.8])"
      ]
     },
     "execution_count": 184,
     "metadata": {},
     "output_type": "execute_result"
    }
   ],
   "source": [
    "arr*0.12"
   ]
  },
  {
   "cell_type": "code",
   "execution_count": 190,
   "id": "82f5038c",
   "metadata": {},
   "outputs": [
    {
     "name": "stdout",
     "output_type": "stream",
     "text": [
      "[2 3 4 5 6 7]\n",
      "[0 1 2 3 4 5 6 7]\n",
      "[ 4  5  6  7  8  9 10 11 12 13 14]\n"
     ]
    }
   ],
   "source": [
    "arr=np.arange(15)\n",
    "print(arr[2:8] )\n",
    "print(arr[:8])\n",
    "print(arr[4:]) # 4th index to list of all"
   ]
  },
  {
   "cell_type": "code",
   "execution_count": 191,
   "id": "07c46624",
   "metadata": {},
   "outputs": [
    {
     "data": {
      "text/plain": [
       "105"
      ]
     },
     "execution_count": 191,
     "metadata": {},
     "output_type": "execute_result"
    }
   ],
   "source": [
    "np.sum(arr)"
   ]
  },
  {
   "cell_type": "code",
   "execution_count": 192,
   "id": "91e03a2b",
   "metadata": {},
   "outputs": [
    {
     "name": "stdout",
     "output_type": "stream",
     "text": [
      "2\n",
      "(2, 5)\n",
      "[7 8]\n"
     ]
    }
   ],
   "source": [
    "arr = np.array([[1, 2, 3, 4, 5], [6, 7, 8, 9, 10]]) \n",
    "print(arr.ndim)\n",
    "print(arr.shape)\n",
    "print(arr[1, 1:3]) "
   ]
  },
  {
   "cell_type": "code",
   "execution_count": 193,
   "id": "45507985",
   "metadata": {},
   "outputs": [
    {
     "data": {
      "text/plain": [
       "(3, 4)"
      ]
     },
     "execution_count": 193,
     "metadata": {},
     "output_type": "execute_result"
    }
   ],
   "source": [
    "arr = np.array([[1, 2, 3, 4], [5, 6, 7, 8], [9, 10, 11, 12]])\n",
    "arr.shape"
   ]
  },
  {
   "cell_type": "code",
   "execution_count": 195,
   "id": "0fc169c0",
   "metadata": {},
   "outputs": [
    {
     "data": {
      "text/plain": [
       "array([[ 1,  2],\n",
       "       [ 3,  4],\n",
       "       [ 5,  6],\n",
       "       [ 7,  8],\n",
       "       [ 9, 10],\n",
       "       [11, 12]])"
      ]
     },
     "execution_count": 195,
     "metadata": {},
     "output_type": "execute_result"
    }
   ],
   "source": [
    "np.reshape(arr,(6,2))"
   ]
  },
  {
   "cell_type": "code",
   "execution_count": 196,
   "id": "5c09c78e",
   "metadata": {},
   "outputs": [
    {
     "data": {
      "text/plain": [
       "array([[ 1,  2,  3,  4,  5,  6],\n",
       "       [ 7,  8,  9, 10, 11, 12]])"
      ]
     },
     "execution_count": 196,
     "metadata": {},
     "output_type": "execute_result"
    }
   ],
   "source": [
    "np.reshape(arr,(2,6))"
   ]
  },
  {
   "cell_type": "code",
   "execution_count": 198,
   "id": "aabc3cba",
   "metadata": {},
   "outputs": [
    {
     "data": {
      "text/plain": [
       "array([12, 14, 16, 18, 20, 22, 24, 26, 28])"
      ]
     },
     "execution_count": 198,
     "metadata": {},
     "output_type": "execute_result"
    }
   ],
   "source": [
    "a1 = np.arange(1,10)\n",
    "a2 = np.arange(11,20)\n",
    "a1+a2"
   ]
  },
  {
   "cell_type": "code",
   "execution_count": 199,
   "id": "ff59bb52",
   "metadata": {},
   "outputs": [
    {
     "data": {
      "text/plain": [
       "array([0.09090909, 0.16666667, 0.23076923, 0.28571429, 0.33333333,\n",
       "       0.375     , 0.41176471, 0.44444444, 0.47368421])"
      ]
     },
     "execution_count": 199,
     "metadata": {},
     "output_type": "execute_result"
    }
   ],
   "source": [
    "a1/a2"
   ]
  },
  {
   "cell_type": "code",
   "execution_count": 200,
   "id": "1afeb350",
   "metadata": {},
   "outputs": [
    {
     "data": {
      "text/plain": [
       "array([0.09090909, 0.16666667, 0.23076923, 0.28571429, 0.33333333,\n",
       "       0.375     , 0.41176471, 0.44444444, 0.47368421])"
      ]
     },
     "execution_count": 200,
     "metadata": {},
     "output_type": "execute_result"
    }
   ],
   "source": [
    "np.divide(a1,a2)"
   ]
  },
  {
   "cell_type": "code",
   "execution_count": 205,
   "id": "d9f1cdc1",
   "metadata": {},
   "outputs": [
    {
     "name": "stdout",
     "output_type": "stream",
     "text": [
      "[False False False False False  True  True  True  True]\n",
      "\n",
      "[ True  True  True  True  True  True  True  True  True]\n",
      "\n",
      "[ True  True  True  True  True  True  True  True  True]\n"
     ]
    }
   ],
   "source": [
    "print(a1 >5 )\n",
    "print('')\n",
    "print(a1 <a2)\n",
    "print('')\n",
    "print(np.less(a1,a2)) # same as a1 < a2 "
   ]
  },
  {
   "cell_type": "code",
   "execution_count": 206,
   "id": "e3419a06",
   "metadata": {},
   "outputs": [
    {
     "data": {
      "text/plain": [
       "-0.9880316240928618"
      ]
     },
     "execution_count": 206,
     "metadata": {},
     "output_type": "execute_result"
    }
   ],
   "source": [
    "np.sin(30)"
   ]
  },
  {
   "cell_type": "code",
   "execution_count": 207,
   "id": "ef1225ad",
   "metadata": {},
   "outputs": [
    {
     "data": {
      "text/plain": [
       "'2.0.3'"
      ]
     },
     "execution_count": 207,
     "metadata": {},
     "output_type": "execute_result"
    }
   ],
   "source": [
    "import pandas\n",
    "pandas.__version__"
   ]
  },
  {
   "cell_type": "code",
   "execution_count": 208,
   "id": "1ac87fe6",
   "metadata": {},
   "outputs": [
    {
     "data": {
      "text/plain": [
       "'C:\\\\ProgramData\\\\anaconda3\\\\Lib\\\\site-packages\\\\pandas\\\\__init__.py'"
      ]
     },
     "execution_count": 208,
     "metadata": {},
     "output_type": "execute_result"
    }
   ],
   "source": [
    "pandas.__file__"
   ]
  },
  {
   "cell_type": "code",
   "execution_count": 210,
   "id": "f2975720",
   "metadata": {},
   "outputs": [
    {
     "name": "stdout",
     "output_type": "stream",
     "text": [
      "<class 'pandas.core.series.Series'>\n",
      "<class 'pandas.core.frame.DataFrame'>\n"
     ]
    }
   ],
   "source": [
    "print(pandas.Series)\n",
    "print(pandas.DataFrame)"
   ]
  },
  {
   "cell_type": "code",
   "execution_count": 211,
   "id": "15d73c77",
   "metadata": {},
   "outputs": [
    {
     "data": {
      "text/plain": [
       "K1    [10, 20, 30]\n",
       "dtype: object"
      ]
     },
     "execution_count": 211,
     "metadata": {},
     "output_type": "execute_result"
    }
   ],
   "source": [
    "pandas.Series({'K1':[10,20,30]})"
   ]
  },
  {
   "cell_type": "code",
   "execution_count": 212,
   "id": "91f13bd6",
   "metadata": {},
   "outputs": [
    {
     "data": {
      "text/html": [
       "<div>\n",
       "<style scoped>\n",
       "    .dataframe tbody tr th:only-of-type {\n",
       "        vertical-align: middle;\n",
       "    }\n",
       "\n",
       "    .dataframe tbody tr th {\n",
       "        vertical-align: top;\n",
       "    }\n",
       "\n",
       "    .dataframe thead th {\n",
       "        text-align: right;\n",
       "    }\n",
       "</style>\n",
       "<table border=\"1\" class=\"dataframe\">\n",
       "  <thead>\n",
       "    <tr style=\"text-align: right;\">\n",
       "      <th></th>\n",
       "      <th>K1</th>\n",
       "    </tr>\n",
       "  </thead>\n",
       "  <tbody>\n",
       "    <tr>\n",
       "      <th>0</th>\n",
       "      <td>10</td>\n",
       "    </tr>\n",
       "    <tr>\n",
       "      <th>1</th>\n",
       "      <td>20</td>\n",
       "    </tr>\n",
       "    <tr>\n",
       "      <th>2</th>\n",
       "      <td>30</td>\n",
       "    </tr>\n",
       "  </tbody>\n",
       "</table>\n",
       "</div>"
      ],
      "text/plain": [
       "   K1\n",
       "0  10\n",
       "1  20\n",
       "2  30"
      ]
     },
     "execution_count": 212,
     "metadata": {},
     "output_type": "execute_result"
    }
   ],
   "source": [
    "pandas.DataFrame({'K1':[10,20,30]})"
   ]
  },
  {
   "cell_type": "code",
   "execution_count": 213,
   "id": "6f9d238b",
   "metadata": {},
   "outputs": [
    {
     "data": {
      "text/html": [
       "<div>\n",
       "<style scoped>\n",
       "    .dataframe tbody tr th:only-of-type {\n",
       "        vertical-align: middle;\n",
       "    }\n",
       "\n",
       "    .dataframe tbody tr th {\n",
       "        vertical-align: top;\n",
       "    }\n",
       "\n",
       "    .dataframe thead th {\n",
       "        text-align: right;\n",
       "    }\n",
       "</style>\n",
       "<table border=\"1\" class=\"dataframe\">\n",
       "  <thead>\n",
       "    <tr style=\"text-align: right;\">\n",
       "      <th></th>\n",
       "      <th>K1</th>\n",
       "      <th>K2</th>\n",
       "    </tr>\n",
       "  </thead>\n",
       "  <tbody>\n",
       "    <tr>\n",
       "      <th>0</th>\n",
       "      <td>10</td>\n",
       "      <td>100</td>\n",
       "    </tr>\n",
       "    <tr>\n",
       "      <th>1</th>\n",
       "      <td>20</td>\n",
       "      <td>200</td>\n",
       "    </tr>\n",
       "    <tr>\n",
       "      <th>2</th>\n",
       "      <td>30</td>\n",
       "      <td>300</td>\n",
       "    </tr>\n",
       "    <tr>\n",
       "      <th>3</th>\n",
       "      <td>40</td>\n",
       "      <td>400</td>\n",
       "    </tr>\n",
       "  </tbody>\n",
       "</table>\n",
       "</div>"
      ],
      "text/plain": [
       "   K1   K2\n",
       "0  10  100\n",
       "1  20  200\n",
       "2  30  300\n",
       "3  40  400"
      ]
     },
     "execution_count": 213,
     "metadata": {},
     "output_type": "execute_result"
    }
   ],
   "source": [
    "import pandas as pd\n",
    "pd.DataFrame({'K1':[10,20,30,40],'K2':[100,200,300,400]})"
   ]
  },
  {
   "cell_type": "code",
   "execution_count": 214,
   "id": "ee059bb6",
   "metadata": {},
   "outputs": [
    {
     "data": {
      "text/plain": [
       "0    10\n",
       "1    20\n",
       "2    30\n",
       "3    40\n",
       "Name: K1, dtype: int64"
      ]
     },
     "execution_count": 214,
     "metadata": {},
     "output_type": "execute_result"
    }
   ],
   "source": [
    "df = pd.DataFrame({'K1':[10,20,30,40],'K2':[100,200,300,400]})\n",
    "df['K1'] # like dict -> dictname['Key'] ->Value"
   ]
  },
  {
   "cell_type": "code",
   "execution_count": 215,
   "id": "8171c266",
   "metadata": {},
   "outputs": [
    {
     "data": {
      "text/plain": [
       "K1     40\n",
       "K2    400\n",
       "Name: 3, dtype: int64"
      ]
     },
     "execution_count": 215,
     "metadata": {},
     "output_type": "execute_result"
    }
   ],
   "source": [
    "df.loc[3] # index based (or) record based"
   ]
  },
  {
   "cell_type": "code",
   "execution_count": 216,
   "id": "2b5c08ce",
   "metadata": {},
   "outputs": [
    {
     "data": {
      "text/plain": [
       "40"
      ]
     },
     "execution_count": 216,
     "metadata": {},
     "output_type": "execute_result"
    }
   ],
   "source": [
    "df.loc[3]['K1'] # 3rd row K1 cols"
   ]
  },
  {
   "cell_type": "code",
   "execution_count": 217,
   "id": "595e287a",
   "metadata": {},
   "outputs": [
    {
     "name": "stdout",
     "output_type": "stream",
     "text": [
      "<class 'pandas.core.frame.DataFrame'>\n",
      "RangeIndex: 4 entries, 0 to 3\n",
      "Data columns (total 2 columns):\n",
      " #   Column  Non-Null Count  Dtype\n",
      "---  ------  --------------  -----\n",
      " 0   K1      4 non-null      int64\n",
      " 1   K2      4 non-null      int64\n",
      "dtypes: int64(2)\n",
      "memory usage: 196.0 bytes\n"
     ]
    }
   ],
   "source": [
    "df.info()"
   ]
  },
  {
   "cell_type": "code",
   "execution_count": 219,
   "id": "0645d704",
   "metadata": {},
   "outputs": [
    {
     "data": {
      "text/plain": [
       "400"
      ]
     },
     "execution_count": 219,
     "metadata": {},
     "output_type": "execute_result"
    }
   ],
   "source": [
    "df.iloc[3]['K2']"
   ]
  },
  {
   "cell_type": "code",
   "execution_count": 220,
   "id": "71dd3963",
   "metadata": {},
   "outputs": [
    {
     "data": {
      "text/plain": [
       "(4, 2)"
      ]
     },
     "execution_count": 220,
     "metadata": {},
     "output_type": "execute_result"
    }
   ],
   "source": [
    "df.shape # like numpy shape"
   ]
  },
  {
   "cell_type": "code",
   "execution_count": 228,
   "id": "06806a6e",
   "metadata": {},
   "outputs": [
    {
     "name": "stdout",
     "output_type": "stream",
     "text": [
      "RangeIndex(start=0, stop=4, step=1)\n",
      "Index(['K1', 'K2'], dtype='object')\n"
     ]
    },
    {
     "data": {
      "text/plain": [
       "K1     20\n",
       "K2    200\n",
       "Name: 1, dtype: int64"
      ]
     },
     "execution_count": 228,
     "metadata": {},
     "output_type": "execute_result"
    }
   ],
   "source": [
    "df = pd.DataFrame({'K1':[10,20,30,40],'K2':[100,200,300,400]})\n",
    "print(df.index)\n",
    "print(df.columns)\n",
    "df.loc[1]"
   ]
  },
  {
   "cell_type": "code",
   "execution_count": 224,
   "id": "b5cadcbb",
   "metadata": {},
   "outputs": [
    {
     "data": {
      "text/plain": [
       "200"
      ]
     },
     "execution_count": 224,
     "metadata": {},
     "output_type": "execute_result"
    }
   ],
   "source": [
    "df.loc[1]['K2']"
   ]
  },
  {
   "cell_type": "code",
   "execution_count": 227,
   "id": "67810947",
   "metadata": {},
   "outputs": [
    {
     "name": "stdout",
     "output_type": "stream",
     "text": [
      "100\n",
      "200\n",
      "300\n",
      "400\n"
     ]
    }
   ],
   "source": [
    "for var in df.index:\n",
    "    print(df.loc[var]['K2'])"
   ]
  },
  {
   "cell_type": "code",
   "execution_count": 230,
   "id": "430322d8",
   "metadata": {},
   "outputs": [
    {
     "data": {
      "text/html": [
       "<div>\n",
       "<style scoped>\n",
       "    .dataframe tbody tr th:only-of-type {\n",
       "        vertical-align: middle;\n",
       "    }\n",
       "\n",
       "    .dataframe tbody tr th {\n",
       "        vertical-align: top;\n",
       "    }\n",
       "\n",
       "    .dataframe thead th {\n",
       "        text-align: right;\n",
       "    }\n",
       "</style>\n",
       "<table border=\"1\" class=\"dataframe\">\n",
       "  <thead>\n",
       "    <tr style=\"text-align: right;\">\n",
       "      <th></th>\n",
       "      <th>eid</th>\n",
       "      <th>ename</th>\n",
       "      <th>edept</th>\n",
       "      <th>eplace</th>\n",
       "      <th>ecost</th>\n",
       "    </tr>\n",
       "  </thead>\n",
       "  <tbody>\n",
       "    <tr>\n",
       "      <th>0</th>\n",
       "      <td>101</td>\n",
       "      <td>raj</td>\n",
       "      <td>sales</td>\n",
       "      <td>pune</td>\n",
       "      <td>1000</td>\n",
       "    </tr>\n",
       "    <tr>\n",
       "      <th>1</th>\n",
       "      <td>102</td>\n",
       "      <td>leo</td>\n",
       "      <td>prod</td>\n",
       "      <td>bglore</td>\n",
       "      <td>2000</td>\n",
       "    </tr>\n",
       "    <tr>\n",
       "      <th>2</th>\n",
       "      <td>103</td>\n",
       "      <td>paul</td>\n",
       "      <td>HR</td>\n",
       "      <td>chennai</td>\n",
       "      <td>3000</td>\n",
       "    </tr>\n",
       "    <tr>\n",
       "      <th>3</th>\n",
       "      <td>104</td>\n",
       "      <td>anu</td>\n",
       "      <td>hr</td>\n",
       "      <td>hyderabad</td>\n",
       "      <td>4000</td>\n",
       "    </tr>\n",
       "    <tr>\n",
       "      <th>4</th>\n",
       "      <td>456</td>\n",
       "      <td>kumar</td>\n",
       "      <td>sales</td>\n",
       "      <td>bglore</td>\n",
       "      <td>3000</td>\n",
       "    </tr>\n",
       "    <tr>\n",
       "      <th>5</th>\n",
       "      <td>105</td>\n",
       "      <td>zion</td>\n",
       "      <td>Hr</td>\n",
       "      <td>mumbai</td>\n",
       "      <td>5000</td>\n",
       "    </tr>\n",
       "    <tr>\n",
       "      <th>6</th>\n",
       "      <td>106</td>\n",
       "      <td>bibu</td>\n",
       "      <td>sales</td>\n",
       "      <td>bglore</td>\n",
       "      <td>1450</td>\n",
       "    </tr>\n",
       "    <tr>\n",
       "      <th>7</th>\n",
       "      <td>107</td>\n",
       "      <td>theeb</td>\n",
       "      <td>sales</td>\n",
       "      <td>noida</td>\n",
       "      <td>4590</td>\n",
       "    </tr>\n",
       "    <tr>\n",
       "      <th>8</th>\n",
       "      <td>108</td>\n",
       "      <td>bibu</td>\n",
       "      <td>sales</td>\n",
       "      <td>bglore</td>\n",
       "      <td>5000</td>\n",
       "    </tr>\n",
       "    <tr>\n",
       "      <th>9</th>\n",
       "      <td>113</td>\n",
       "      <td>kumar</td>\n",
       "      <td>prod</td>\n",
       "      <td>hyderabad</td>\n",
       "      <td>5423</td>\n",
       "    </tr>\n",
       "  </tbody>\n",
       "</table>\n",
       "</div>"
      ],
      "text/plain": [
       "   eid  ename  edept     eplace  ecost\n",
       "0  101    raj  sales       pune   1000\n",
       "1  102    leo   prod     bglore   2000\n",
       "2  103   paul     HR    chennai   3000\n",
       "3  104    anu     hr  hyderabad   4000\n",
       "4  456  kumar  sales     bglore   3000\n",
       "5  105   zion     Hr     mumbai   5000\n",
       "6  106   bibu  sales     bglore   1450\n",
       "7  107  theeb  sales      noida   4590\n",
       "8  108   bibu  sales     bglore   5000\n",
       "9  113  kumar   prod  hyderabad   5423"
      ]
     },
     "execution_count": 230,
     "metadata": {},
     "output_type": "execute_result"
    }
   ],
   "source": [
    "pd.read_csv('E:\\\\emp.csv')"
   ]
  },
  {
   "cell_type": "code",
   "execution_count": 231,
   "id": "2db9b917",
   "metadata": {},
   "outputs": [
    {
     "name": "stdout",
     "output_type": "stream",
     "text": [
      "<class 'pandas.core.frame.DataFrame'>\n",
      "RangeIndex: 10 entries, 0 to 9\n",
      "Data columns (total 5 columns):\n",
      " #   Column  Non-Null Count  Dtype \n",
      "---  ------  --------------  ----- \n",
      " 0   eid     10 non-null     int64 \n",
      " 1   ename   10 non-null     object\n",
      " 2   edept   10 non-null     object\n",
      " 3   eplace  10 non-null     object\n",
      " 4   ecost   10 non-null     int64 \n",
      "dtypes: int64(2), object(3)\n",
      "memory usage: 532.0+ bytes\n"
     ]
    }
   ],
   "source": [
    "df = pd.read_csv('E:\\\\emp.csv')\n",
    "df.info()"
   ]
  },
  {
   "cell_type": "code",
   "execution_count": 232,
   "id": "333dbf2f",
   "metadata": {},
   "outputs": [
    {
     "data": {
      "text/plain": [
       "(10, 5)"
      ]
     },
     "execution_count": 232,
     "metadata": {},
     "output_type": "execute_result"
    }
   ],
   "source": [
    "df.shape"
   ]
  },
  {
   "cell_type": "code",
   "execution_count": 233,
   "id": "2e0b922c",
   "metadata": {},
   "outputs": [
    {
     "data": {
      "text/plain": [
       "RangeIndex(start=0, stop=10, step=1)"
      ]
     },
     "execution_count": 233,
     "metadata": {},
     "output_type": "execute_result"
    }
   ],
   "source": [
    "df.index"
   ]
  },
  {
   "cell_type": "code",
   "execution_count": 234,
   "id": "37cebcc2",
   "metadata": {},
   "outputs": [
    {
     "data": {
      "text/plain": [
       "Index(['eid', 'ename', 'edept', 'eplace', 'ecost'], dtype='object')"
      ]
     },
     "execution_count": 234,
     "metadata": {},
     "output_type": "execute_result"
    }
   ],
   "source": [
    "df.columns"
   ]
  },
  {
   "cell_type": "code",
   "execution_count": 235,
   "id": "0dd7969d",
   "metadata": {},
   "outputs": [
    {
     "data": {
      "text/plain": [
       "eid             104\n",
       "ename           anu\n",
       "edept            hr\n",
       "eplace    hyderabad\n",
       "ecost          4000\n",
       "Name: 3, dtype: object"
      ]
     },
     "execution_count": 235,
     "metadata": {},
     "output_type": "execute_result"
    }
   ],
   "source": [
    "df.loc[3]"
   ]
  },
  {
   "cell_type": "code",
   "execution_count": 236,
   "id": "d24bbd54",
   "metadata": {},
   "outputs": [
    {
     "data": {
      "text/html": [
       "<div>\n",
       "<style scoped>\n",
       "    .dataframe tbody tr th:only-of-type {\n",
       "        vertical-align: middle;\n",
       "    }\n",
       "\n",
       "    .dataframe tbody tr th {\n",
       "        vertical-align: top;\n",
       "    }\n",
       "\n",
       "    .dataframe thead th {\n",
       "        text-align: right;\n",
       "    }\n",
       "</style>\n",
       "<table border=\"1\" class=\"dataframe\">\n",
       "  <thead>\n",
       "    <tr style=\"text-align: right;\">\n",
       "      <th></th>\n",
       "      <th>eid</th>\n",
       "      <th>ename</th>\n",
       "      <th>edept</th>\n",
       "      <th>eplace</th>\n",
       "      <th>ecost</th>\n",
       "    </tr>\n",
       "  </thead>\n",
       "  <tbody>\n",
       "    <tr>\n",
       "      <th>1</th>\n",
       "      <td>102</td>\n",
       "      <td>leo</td>\n",
       "      <td>prod</td>\n",
       "      <td>bglore</td>\n",
       "      <td>2000</td>\n",
       "    </tr>\n",
       "    <tr>\n",
       "      <th>2</th>\n",
       "      <td>103</td>\n",
       "      <td>paul</td>\n",
       "      <td>HR</td>\n",
       "      <td>chennai</td>\n",
       "      <td>3000</td>\n",
       "    </tr>\n",
       "    <tr>\n",
       "      <th>3</th>\n",
       "      <td>104</td>\n",
       "      <td>anu</td>\n",
       "      <td>hr</td>\n",
       "      <td>hyderabad</td>\n",
       "      <td>4000</td>\n",
       "    </tr>\n",
       "    <tr>\n",
       "      <th>4</th>\n",
       "      <td>456</td>\n",
       "      <td>kumar</td>\n",
       "      <td>sales</td>\n",
       "      <td>bglore</td>\n",
       "      <td>3000</td>\n",
       "    </tr>\n",
       "    <tr>\n",
       "      <th>5</th>\n",
       "      <td>105</td>\n",
       "      <td>zion</td>\n",
       "      <td>Hr</td>\n",
       "      <td>mumbai</td>\n",
       "      <td>5000</td>\n",
       "    </tr>\n",
       "  </tbody>\n",
       "</table>\n",
       "</div>"
      ],
      "text/plain": [
       "   eid  ename  edept     eplace  ecost\n",
       "1  102    leo   prod     bglore   2000\n",
       "2  103   paul     HR    chennai   3000\n",
       "3  104    anu     hr  hyderabad   4000\n",
       "4  456  kumar  sales     bglore   3000\n",
       "5  105   zion     Hr     mumbai   5000"
      ]
     },
     "execution_count": 236,
     "metadata": {},
     "output_type": "execute_result"
    }
   ],
   "source": [
    "df.loc[1:5] # from 1st index to 5th index "
   ]
  },
  {
   "cell_type": "code",
   "execution_count": 237,
   "id": "f1c6da28",
   "metadata": {},
   "outputs": [
    {
     "data": {
      "text/plain": [
       "1      leo\n",
       "2     paul\n",
       "3      anu\n",
       "4    kumar\n",
       "5     zion\n",
       "Name: ename, dtype: object"
      ]
     },
     "execution_count": 237,
     "metadata": {},
     "output_type": "execute_result"
    }
   ],
   "source": [
    "df.loc[1:5]['ename']"
   ]
  },
  {
   "cell_type": "code",
   "execution_count": 245,
   "id": "0f32110b",
   "metadata": {},
   "outputs": [
    {
     "data": {
      "text/html": [
       "<div>\n",
       "<style scoped>\n",
       "    .dataframe tbody tr th:only-of-type {\n",
       "        vertical-align: middle;\n",
       "    }\n",
       "\n",
       "    .dataframe tbody tr th {\n",
       "        vertical-align: top;\n",
       "    }\n",
       "\n",
       "    .dataframe thead th {\n",
       "        text-align: right;\n",
       "    }\n",
       "</style>\n",
       "<table border=\"1\" class=\"dataframe\">\n",
       "  <thead>\n",
       "    <tr style=\"text-align: right;\">\n",
       "      <th></th>\n",
       "      <th>ename</th>\n",
       "      <th>edept</th>\n",
       "    </tr>\n",
       "  </thead>\n",
       "  <tbody>\n",
       "    <tr>\n",
       "      <th>1</th>\n",
       "      <td>leo</td>\n",
       "      <td>prod</td>\n",
       "    </tr>\n",
       "    <tr>\n",
       "      <th>2</th>\n",
       "      <td>paul</td>\n",
       "      <td>HR</td>\n",
       "    </tr>\n",
       "    <tr>\n",
       "      <th>3</th>\n",
       "      <td>anu</td>\n",
       "      <td>hr</td>\n",
       "    </tr>\n",
       "    <tr>\n",
       "      <th>4</th>\n",
       "      <td>kumar</td>\n",
       "      <td>sales</td>\n",
       "    </tr>\n",
       "    <tr>\n",
       "      <th>5</th>\n",
       "      <td>zion</td>\n",
       "      <td>Hr</td>\n",
       "    </tr>\n",
       "  </tbody>\n",
       "</table>\n",
       "</div>"
      ],
      "text/plain": [
       "   ename  edept\n",
       "1    leo   prod\n",
       "2   paul     HR\n",
       "3    anu     hr\n",
       "4  kumar  sales\n",
       "5   zion     Hr"
      ]
     },
     "execution_count": 245,
     "metadata": {},
     "output_type": "execute_result"
    }
   ],
   "source": [
    "df.loc[1:5][['ename','edept']]"
   ]
  },
  {
   "cell_type": "code",
   "execution_count": 244,
   "id": "1f6cfe2b",
   "metadata": {},
   "outputs": [],
   "source": [
    "L=[]\n",
    "L.append(\"D1\")\n",
    "L.append([\"D2\",\"D3\"])"
   ]
  },
  {
   "cell_type": "code",
   "execution_count": 246,
   "id": "6d263b8a",
   "metadata": {},
   "outputs": [
    {
     "data": {
      "text/html": [
       "<div>\n",
       "<style scoped>\n",
       "    .dataframe tbody tr th:only-of-type {\n",
       "        vertical-align: middle;\n",
       "    }\n",
       "\n",
       "    .dataframe tbody tr th {\n",
       "        vertical-align: top;\n",
       "    }\n",
       "\n",
       "    .dataframe thead th {\n",
       "        text-align: right;\n",
       "    }\n",
       "</style>\n",
       "<table border=\"1\" class=\"dataframe\">\n",
       "  <thead>\n",
       "    <tr style=\"text-align: right;\">\n",
       "      <th></th>\n",
       "      <th>K1</th>\n",
       "      <th>K2</th>\n",
       "    </tr>\n",
       "  </thead>\n",
       "  <tbody>\n",
       "    <tr>\n",
       "      <th>A</th>\n",
       "      <td>10</td>\n",
       "      <td>100</td>\n",
       "    </tr>\n",
       "    <tr>\n",
       "      <th>B</th>\n",
       "      <td>20</td>\n",
       "      <td>200</td>\n",
       "    </tr>\n",
       "    <tr>\n",
       "      <th>C</th>\n",
       "      <td>30</td>\n",
       "      <td>300</td>\n",
       "    </tr>\n",
       "  </tbody>\n",
       "</table>\n",
       "</div>"
      ],
      "text/plain": [
       "   K1   K2\n",
       "A  10  100\n",
       "B  20  200\n",
       "C  30  300"
      ]
     },
     "execution_count": 246,
     "metadata": {},
     "output_type": "execute_result"
    }
   ],
   "source": [
    "df1 = pd.DataFrame({'K1':[10,20,30],'K2':[100,200,300]},index=['A','B','C'])\n",
    "df1"
   ]
  },
  {
   "cell_type": "code",
   "execution_count": 247,
   "id": "f0446582",
   "metadata": {},
   "outputs": [
    {
     "data": {
      "text/html": [
       "<div>\n",
       "<style scoped>\n",
       "    .dataframe tbody tr th:only-of-type {\n",
       "        vertical-align: middle;\n",
       "    }\n",
       "\n",
       "    .dataframe tbody tr th {\n",
       "        vertical-align: top;\n",
       "    }\n",
       "\n",
       "    .dataframe thead th {\n",
       "        text-align: right;\n",
       "    }\n",
       "</style>\n",
       "<table border=\"1\" class=\"dataframe\">\n",
       "  <thead>\n",
       "    <tr style=\"text-align: right;\">\n",
       "      <th></th>\n",
       "      <th>eid</th>\n",
       "      <th>ename</th>\n",
       "      <th>edept</th>\n",
       "      <th>eplace</th>\n",
       "      <th>ecost</th>\n",
       "    </tr>\n",
       "  </thead>\n",
       "  <tbody>\n",
       "    <tr>\n",
       "      <th>0</th>\n",
       "      <td>101</td>\n",
       "      <td>raj</td>\n",
       "      <td>sales</td>\n",
       "      <td>pune</td>\n",
       "      <td>1000</td>\n",
       "    </tr>\n",
       "    <tr>\n",
       "      <th>1</th>\n",
       "      <td>102</td>\n",
       "      <td>leo</td>\n",
       "      <td>prod</td>\n",
       "      <td>bglore</td>\n",
       "      <td>2000</td>\n",
       "    </tr>\n",
       "    <tr>\n",
       "      <th>2</th>\n",
       "      <td>103</td>\n",
       "      <td>paul</td>\n",
       "      <td>HR</td>\n",
       "      <td>chennai</td>\n",
       "      <td>3000</td>\n",
       "    </tr>\n",
       "    <tr>\n",
       "      <th>3</th>\n",
       "      <td>104</td>\n",
       "      <td>anu</td>\n",
       "      <td>hr</td>\n",
       "      <td>hyderabad</td>\n",
       "      <td>4000</td>\n",
       "    </tr>\n",
       "    <tr>\n",
       "      <th>4</th>\n",
       "      <td>456</td>\n",
       "      <td>kumar</td>\n",
       "      <td>sales</td>\n",
       "      <td>bglore</td>\n",
       "      <td>3000</td>\n",
       "    </tr>\n",
       "    <tr>\n",
       "      <th>5</th>\n",
       "      <td>105</td>\n",
       "      <td>zion</td>\n",
       "      <td>Hr</td>\n",
       "      <td>mumbai</td>\n",
       "      <td>5000</td>\n",
       "    </tr>\n",
       "    <tr>\n",
       "      <th>6</th>\n",
       "      <td>106</td>\n",
       "      <td>bibu</td>\n",
       "      <td>sales</td>\n",
       "      <td>bglore</td>\n",
       "      <td>1450</td>\n",
       "    </tr>\n",
       "    <tr>\n",
       "      <th>7</th>\n",
       "      <td>107</td>\n",
       "      <td>theeb</td>\n",
       "      <td>sales</td>\n",
       "      <td>noida</td>\n",
       "      <td>4590</td>\n",
       "    </tr>\n",
       "    <tr>\n",
       "      <th>8</th>\n",
       "      <td>108</td>\n",
       "      <td>bibu</td>\n",
       "      <td>sales</td>\n",
       "      <td>bglore</td>\n",
       "      <td>5000</td>\n",
       "    </tr>\n",
       "    <tr>\n",
       "      <th>9</th>\n",
       "      <td>113</td>\n",
       "      <td>kumar</td>\n",
       "      <td>prod</td>\n",
       "      <td>hyderabad</td>\n",
       "      <td>5423</td>\n",
       "    </tr>\n",
       "  </tbody>\n",
       "</table>\n",
       "</div>"
      ],
      "text/plain": [
       "   eid  ename  edept     eplace  ecost\n",
       "0  101    raj  sales       pune   1000\n",
       "1  102    leo   prod     bglore   2000\n",
       "2  103   paul     HR    chennai   3000\n",
       "3  104    anu     hr  hyderabad   4000\n",
       "4  456  kumar  sales     bglore   3000\n",
       "5  105   zion     Hr     mumbai   5000\n",
       "6  106   bibu  sales     bglore   1450\n",
       "7  107  theeb  sales      noida   4590\n",
       "8  108   bibu  sales     bglore   5000\n",
       "9  113  kumar   prod  hyderabad   5423"
      ]
     },
     "execution_count": 247,
     "metadata": {},
     "output_type": "execute_result"
    }
   ],
   "source": [
    "df"
   ]
  },
  {
   "cell_type": "code",
   "execution_count": 249,
   "id": "85be76ac",
   "metadata": {},
   "outputs": [
    {
     "data": {
      "text/html": [
       "<div>\n",
       "<style scoped>\n",
       "    .dataframe tbody tr th:only-of-type {\n",
       "        vertical-align: middle;\n",
       "    }\n",
       "\n",
       "    .dataframe tbody tr th {\n",
       "        vertical-align: top;\n",
       "    }\n",
       "\n",
       "    .dataframe thead th {\n",
       "        text-align: right;\n",
       "    }\n",
       "</style>\n",
       "<table border=\"1\" class=\"dataframe\">\n",
       "  <thead>\n",
       "    <tr style=\"text-align: right;\">\n",
       "      <th></th>\n",
       "      <th>eid</th>\n",
       "      <th>ename</th>\n",
       "      <th>eplace</th>\n",
       "      <th>ecost</th>\n",
       "    </tr>\n",
       "    <tr>\n",
       "      <th>edept</th>\n",
       "      <th></th>\n",
       "      <th></th>\n",
       "      <th></th>\n",
       "      <th></th>\n",
       "    </tr>\n",
       "  </thead>\n",
       "  <tbody>\n",
       "    <tr>\n",
       "      <th>sales</th>\n",
       "      <td>101</td>\n",
       "      <td>raj</td>\n",
       "      <td>pune</td>\n",
       "      <td>1000</td>\n",
       "    </tr>\n",
       "    <tr>\n",
       "      <th>prod</th>\n",
       "      <td>102</td>\n",
       "      <td>leo</td>\n",
       "      <td>bglore</td>\n",
       "      <td>2000</td>\n",
       "    </tr>\n",
       "    <tr>\n",
       "      <th>HR</th>\n",
       "      <td>103</td>\n",
       "      <td>paul</td>\n",
       "      <td>chennai</td>\n",
       "      <td>3000</td>\n",
       "    </tr>\n",
       "    <tr>\n",
       "      <th>hr</th>\n",
       "      <td>104</td>\n",
       "      <td>anu</td>\n",
       "      <td>hyderabad</td>\n",
       "      <td>4000</td>\n",
       "    </tr>\n",
       "    <tr>\n",
       "      <th>sales</th>\n",
       "      <td>456</td>\n",
       "      <td>kumar</td>\n",
       "      <td>bglore</td>\n",
       "      <td>3000</td>\n",
       "    </tr>\n",
       "    <tr>\n",
       "      <th>Hr</th>\n",
       "      <td>105</td>\n",
       "      <td>zion</td>\n",
       "      <td>mumbai</td>\n",
       "      <td>5000</td>\n",
       "    </tr>\n",
       "    <tr>\n",
       "      <th>sales</th>\n",
       "      <td>106</td>\n",
       "      <td>bibu</td>\n",
       "      <td>bglore</td>\n",
       "      <td>1450</td>\n",
       "    </tr>\n",
       "    <tr>\n",
       "      <th>sales</th>\n",
       "      <td>107</td>\n",
       "      <td>theeb</td>\n",
       "      <td>noida</td>\n",
       "      <td>4590</td>\n",
       "    </tr>\n",
       "    <tr>\n",
       "      <th>sales</th>\n",
       "      <td>108</td>\n",
       "      <td>bibu</td>\n",
       "      <td>bglore</td>\n",
       "      <td>5000</td>\n",
       "    </tr>\n",
       "    <tr>\n",
       "      <th>prod</th>\n",
       "      <td>113</td>\n",
       "      <td>kumar</td>\n",
       "      <td>hyderabad</td>\n",
       "      <td>5423</td>\n",
       "    </tr>\n",
       "  </tbody>\n",
       "</table>\n",
       "</div>"
      ],
      "text/plain": [
       "       eid  ename     eplace  ecost\n",
       "edept                              \n",
       "sales  101    raj       pune   1000\n",
       "prod   102    leo     bglore   2000\n",
       "HR     103   paul    chennai   3000\n",
       "hr     104    anu  hyderabad   4000\n",
       "sales  456  kumar     bglore   3000\n",
       "Hr     105   zion     mumbai   5000\n",
       "sales  106   bibu     bglore   1450\n",
       "sales  107  theeb      noida   4590\n",
       "sales  108   bibu     bglore   5000\n",
       "prod   113  kumar  hyderabad   5423"
      ]
     },
     "execution_count": 249,
     "metadata": {},
     "output_type": "execute_result"
    }
   ],
   "source": [
    "pd.read_csv('E:\\\\emp.csv',index_col=2)"
   ]
  },
  {
   "cell_type": "code",
   "execution_count": 250,
   "id": "6ee276fc",
   "metadata": {},
   "outputs": [
    {
     "data": {
      "text/plain": [
       "Index(['sales', 'prod', 'HR', 'hr', 'sales', 'Hr', 'sales', 'sales', 'sales',\n",
       "       'prod'],\n",
       "      dtype='object', name='edept')"
      ]
     },
     "execution_count": 250,
     "metadata": {},
     "output_type": "execute_result"
    }
   ],
   "source": [
    "df2 = pd.read_csv('E:\\\\emp.csv',index_col=2)\n",
    "df2.index"
   ]
  },
  {
   "cell_type": "code",
   "execution_count": 252,
   "id": "893ffaf9",
   "metadata": {},
   "outputs": [
    {
     "data": {
      "text/html": [
       "<div>\n",
       "<style scoped>\n",
       "    .dataframe tbody tr th:only-of-type {\n",
       "        vertical-align: middle;\n",
       "    }\n",
       "\n",
       "    .dataframe tbody tr th {\n",
       "        vertical-align: top;\n",
       "    }\n",
       "\n",
       "    .dataframe thead th {\n",
       "        text-align: right;\n",
       "    }\n",
       "</style>\n",
       "<table border=\"1\" class=\"dataframe\">\n",
       "  <thead>\n",
       "    <tr style=\"text-align: right;\">\n",
       "      <th></th>\n",
       "      <th>eid</th>\n",
       "      <th>ename</th>\n",
       "      <th>eplace</th>\n",
       "      <th>ecost</th>\n",
       "    </tr>\n",
       "    <tr>\n",
       "      <th>edept</th>\n",
       "      <th></th>\n",
       "      <th></th>\n",
       "      <th></th>\n",
       "      <th></th>\n",
       "    </tr>\n",
       "  </thead>\n",
       "  <tbody>\n",
       "    <tr>\n",
       "      <th>sales</th>\n",
       "      <td>101</td>\n",
       "      <td>raj</td>\n",
       "      <td>pune</td>\n",
       "      <td>1000</td>\n",
       "    </tr>\n",
       "    <tr>\n",
       "      <th>sales</th>\n",
       "      <td>456</td>\n",
       "      <td>kumar</td>\n",
       "      <td>bglore</td>\n",
       "      <td>3000</td>\n",
       "    </tr>\n",
       "    <tr>\n",
       "      <th>sales</th>\n",
       "      <td>106</td>\n",
       "      <td>bibu</td>\n",
       "      <td>bglore</td>\n",
       "      <td>1450</td>\n",
       "    </tr>\n",
       "    <tr>\n",
       "      <th>sales</th>\n",
       "      <td>107</td>\n",
       "      <td>theeb</td>\n",
       "      <td>noida</td>\n",
       "      <td>4590</td>\n",
       "    </tr>\n",
       "    <tr>\n",
       "      <th>sales</th>\n",
       "      <td>108</td>\n",
       "      <td>bibu</td>\n",
       "      <td>bglore</td>\n",
       "      <td>5000</td>\n",
       "    </tr>\n",
       "  </tbody>\n",
       "</table>\n",
       "</div>"
      ],
      "text/plain": [
       "       eid  ename  eplace  ecost\n",
       "edept                           \n",
       "sales  101    raj    pune   1000\n",
       "sales  456  kumar  bglore   3000\n",
       "sales  106   bibu  bglore   1450\n",
       "sales  107  theeb   noida   4590\n",
       "sales  108   bibu  bglore   5000"
      ]
     },
     "execution_count": 252,
     "metadata": {},
     "output_type": "execute_result"
    }
   ],
   "source": [
    "df2.loc['sales']"
   ]
  },
  {
   "cell_type": "code",
   "execution_count": 254,
   "id": "770dc355",
   "metadata": {},
   "outputs": [
    {
     "data": {
      "text/html": [
       "<div>\n",
       "<style scoped>\n",
       "    .dataframe tbody tr th:only-of-type {\n",
       "        vertical-align: middle;\n",
       "    }\n",
       "\n",
       "    .dataframe tbody tr th {\n",
       "        vertical-align: top;\n",
       "    }\n",
       "\n",
       "    .dataframe thead th {\n",
       "        text-align: right;\n",
       "    }\n",
       "</style>\n",
       "<table border=\"1\" class=\"dataframe\">\n",
       "  <thead>\n",
       "    <tr style=\"text-align: right;\">\n",
       "      <th></th>\n",
       "      <th>eid</th>\n",
       "      <th>ename</th>\n",
       "      <th>eplace</th>\n",
       "      <th>ecost</th>\n",
       "    </tr>\n",
       "    <tr>\n",
       "      <th>edept</th>\n",
       "      <th></th>\n",
       "      <th></th>\n",
       "      <th></th>\n",
       "      <th></th>\n",
       "    </tr>\n",
       "  </thead>\n",
       "  <tbody>\n",
       "    <tr>\n",
       "      <th>HR</th>\n",
       "      <td>103</td>\n",
       "      <td>paul</td>\n",
       "      <td>chennai</td>\n",
       "      <td>3000</td>\n",
       "    </tr>\n",
       "    <tr>\n",
       "      <th>hr</th>\n",
       "      <td>104</td>\n",
       "      <td>anu</td>\n",
       "      <td>hyderabad</td>\n",
       "      <td>4000</td>\n",
       "    </tr>\n",
       "    <tr>\n",
       "      <th>sales</th>\n",
       "      <td>456</td>\n",
       "      <td>kumar</td>\n",
       "      <td>bglore</td>\n",
       "      <td>3000</td>\n",
       "    </tr>\n",
       "  </tbody>\n",
       "</table>\n",
       "</div>"
      ],
      "text/plain": [
       "       eid  ename     eplace  ecost\n",
       "edept                              \n",
       "HR     103   paul    chennai   3000\n",
       "hr     104    anu  hyderabad   4000\n",
       "sales  456  kumar     bglore   3000"
      ]
     },
     "execution_count": 254,
     "metadata": {},
     "output_type": "execute_result"
    }
   ],
   "source": [
    "df2.iloc[2:5]"
   ]
  },
  {
   "cell_type": "code",
   "execution_count": 255,
   "id": "3d18e937",
   "metadata": {},
   "outputs": [
    {
     "data": {
      "text/html": [
       "<div>\n",
       "<style scoped>\n",
       "    .dataframe tbody tr th:only-of-type {\n",
       "        vertical-align: middle;\n",
       "    }\n",
       "\n",
       "    .dataframe tbody tr th {\n",
       "        vertical-align: top;\n",
       "    }\n",
       "\n",
       "    .dataframe thead th {\n",
       "        text-align: right;\n",
       "    }\n",
       "</style>\n",
       "<table border=\"1\" class=\"dataframe\">\n",
       "  <thead>\n",
       "    <tr style=\"text-align: right;\">\n",
       "      <th></th>\n",
       "      <th>eid</th>\n",
       "      <th>ename</th>\n",
       "      <th>eplace</th>\n",
       "    </tr>\n",
       "    <tr>\n",
       "      <th>edept</th>\n",
       "      <th></th>\n",
       "      <th></th>\n",
       "      <th></th>\n",
       "    </tr>\n",
       "  </thead>\n",
       "  <tbody>\n",
       "    <tr>\n",
       "      <th>HR</th>\n",
       "      <td>103</td>\n",
       "      <td>paul</td>\n",
       "      <td>chennai</td>\n",
       "    </tr>\n",
       "    <tr>\n",
       "      <th>hr</th>\n",
       "      <td>104</td>\n",
       "      <td>anu</td>\n",
       "      <td>hyderabad</td>\n",
       "    </tr>\n",
       "    <tr>\n",
       "      <th>sales</th>\n",
       "      <td>456</td>\n",
       "      <td>kumar</td>\n",
       "      <td>bglore</td>\n",
       "    </tr>\n",
       "  </tbody>\n",
       "</table>\n",
       "</div>"
      ],
      "text/plain": [
       "       eid  ename     eplace\n",
       "edept                       \n",
       "HR     103   paul    chennai\n",
       "hr     104    anu  hyderabad\n",
       "sales  456  kumar     bglore"
      ]
     },
     "execution_count": 255,
     "metadata": {},
     "output_type": "execute_result"
    }
   ],
   "source": [
    "df2.iloc[2:5][['eid','ename','eplace']]"
   ]
  },
  {
   "cell_type": "code",
   "execution_count": 276,
   "id": "8fa154d1",
   "metadata": {},
   "outputs": [
    {
     "data": {
      "text/plain": [
       "edept\n",
       "sales    False\n",
       "prod     False\n",
       "HR       False\n",
       "hr        True\n",
       "sales    False\n",
       "Hr        True\n",
       "sales    False\n",
       "sales     True\n",
       "sales     True\n",
       "prod      True\n",
       "Name: ecost, dtype: bool"
      ]
     },
     "execution_count": 276,
     "metadata": {},
     "output_type": "execute_result"
    }
   ],
   "source": [
    "df2['ecost'] >3000"
   ]
  },
  {
   "cell_type": "code",
   "execution_count": 285,
   "id": "5f3dd0f7",
   "metadata": {},
   "outputs": [
    {
     "data": {
      "text/plain": [
       "edept\n",
       "sales    1000\n",
       "prod     2000\n",
       "HR       3000\n",
       "hr       4000\n",
       "sales    3000\n",
       "Hr       5000\n",
       "sales    1450\n",
       "sales    4590\n",
       "sales    5000\n",
       "prod     5423\n",
       "Name: ecost, dtype: int64"
      ]
     },
     "execution_count": 285,
     "metadata": {},
     "output_type": "execute_result"
    }
   ],
   "source": [
    "df2['ecost']"
   ]
  },
  {
   "cell_type": "code",
   "execution_count": 258,
   "id": "a1efb03b",
   "metadata": {},
   "outputs": [
    {
     "data": {
      "text/html": [
       "<div>\n",
       "<style scoped>\n",
       "    .dataframe tbody tr th:only-of-type {\n",
       "        vertical-align: middle;\n",
       "    }\n",
       "\n",
       "    .dataframe tbody tr th {\n",
       "        vertical-align: top;\n",
       "    }\n",
       "\n",
       "    .dataframe thead th {\n",
       "        text-align: right;\n",
       "    }\n",
       "</style>\n",
       "<table border=\"1\" class=\"dataframe\">\n",
       "  <thead>\n",
       "    <tr style=\"text-align: right;\">\n",
       "      <th></th>\n",
       "      <th>eid</th>\n",
       "      <th>ename</th>\n",
       "      <th>eplace</th>\n",
       "      <th>ecost</th>\n",
       "    </tr>\n",
       "    <tr>\n",
       "      <th>edept</th>\n",
       "      <th></th>\n",
       "      <th></th>\n",
       "      <th></th>\n",
       "      <th></th>\n",
       "    </tr>\n",
       "  </thead>\n",
       "  <tbody>\n",
       "    <tr>\n",
       "      <th>hr</th>\n",
       "      <td>104</td>\n",
       "      <td>anu</td>\n",
       "      <td>hyderabad</td>\n",
       "      <td>4000</td>\n",
       "    </tr>\n",
       "    <tr>\n",
       "      <th>Hr</th>\n",
       "      <td>105</td>\n",
       "      <td>zion</td>\n",
       "      <td>mumbai</td>\n",
       "      <td>5000</td>\n",
       "    </tr>\n",
       "    <tr>\n",
       "      <th>sales</th>\n",
       "      <td>107</td>\n",
       "      <td>theeb</td>\n",
       "      <td>noida</td>\n",
       "      <td>4590</td>\n",
       "    </tr>\n",
       "    <tr>\n",
       "      <th>sales</th>\n",
       "      <td>108</td>\n",
       "      <td>bibu</td>\n",
       "      <td>bglore</td>\n",
       "      <td>5000</td>\n",
       "    </tr>\n",
       "    <tr>\n",
       "      <th>prod</th>\n",
       "      <td>113</td>\n",
       "      <td>kumar</td>\n",
       "      <td>hyderabad</td>\n",
       "      <td>5423</td>\n",
       "    </tr>\n",
       "  </tbody>\n",
       "</table>\n",
       "</div>"
      ],
      "text/plain": [
       "       eid  ename     eplace  ecost\n",
       "edept                              \n",
       "hr     104    anu  hyderabad   4000\n",
       "Hr     105   zion     mumbai   5000\n",
       "sales  107  theeb      noida   4590\n",
       "sales  108   bibu     bglore   5000\n",
       "prod   113  kumar  hyderabad   5423"
      ]
     },
     "execution_count": 258,
     "metadata": {},
     "output_type": "execute_result"
    }
   ],
   "source": [
    "df2[df2['ecost'] >3000]"
   ]
  },
  {
   "cell_type": "code",
   "execution_count": 286,
   "id": "45af6ffa",
   "metadata": {},
   "outputs": [
    {
     "data": {
      "text/html": [
       "<div>\n",
       "<style scoped>\n",
       "    .dataframe tbody tr th:only-of-type {\n",
       "        vertical-align: middle;\n",
       "    }\n",
       "\n",
       "    .dataframe tbody tr th {\n",
       "        vertical-align: top;\n",
       "    }\n",
       "\n",
       "    .dataframe thead th {\n",
       "        text-align: right;\n",
       "    }\n",
       "</style>\n",
       "<table border=\"1\" class=\"dataframe\">\n",
       "  <thead>\n",
       "    <tr style=\"text-align: right;\">\n",
       "      <th></th>\n",
       "      <th>ename</th>\n",
       "      <th>eplace</th>\n",
       "    </tr>\n",
       "    <tr>\n",
       "      <th>edept</th>\n",
       "      <th></th>\n",
       "      <th></th>\n",
       "    </tr>\n",
       "  </thead>\n",
       "  <tbody>\n",
       "    <tr>\n",
       "      <th>hr</th>\n",
       "      <td>anu</td>\n",
       "      <td>hyderabad</td>\n",
       "    </tr>\n",
       "    <tr>\n",
       "      <th>Hr</th>\n",
       "      <td>zion</td>\n",
       "      <td>mumbai</td>\n",
       "    </tr>\n",
       "    <tr>\n",
       "      <th>sales</th>\n",
       "      <td>theeb</td>\n",
       "      <td>noida</td>\n",
       "    </tr>\n",
       "    <tr>\n",
       "      <th>sales</th>\n",
       "      <td>bibu</td>\n",
       "      <td>bglore</td>\n",
       "    </tr>\n",
       "    <tr>\n",
       "      <th>prod</th>\n",
       "      <td>kumar</td>\n",
       "      <td>hyderabad</td>\n",
       "    </tr>\n",
       "  </tbody>\n",
       "</table>\n",
       "</div>"
      ],
      "text/plain": [
       "       ename     eplace\n",
       "edept                  \n",
       "hr       anu  hyderabad\n",
       "Hr      zion     mumbai\n",
       "sales  theeb      noida\n",
       "sales   bibu     bglore\n",
       "prod   kumar  hyderabad"
      ]
     },
     "execution_count": 286,
     "metadata": {},
     "output_type": "execute_result"
    }
   ],
   "source": [
    "df2[df2['ecost'] >3000][['ename','eplace']]"
   ]
  },
  {
   "cell_type": "code",
   "execution_count": 282,
   "id": "21f4a2b0",
   "metadata": {},
   "outputs": [
    {
     "data": {
      "text/plain": [
       "edept\n",
       "sales     True\n",
       "prod      True\n",
       "HR        True\n",
       "hr        True\n",
       "sales     True\n",
       "Hr       False\n",
       "sales     True\n",
       "sales     True\n",
       "sales    False\n",
       "prod     False\n",
       "Name: ecost, dtype: bool"
      ]
     },
     "execution_count": 282,
     "metadata": {},
     "output_type": "execute_result"
    }
   ],
   "source": [
    "df2['ecost'] >3000 \n",
    "df2['ecost'] <5000"
   ]
  },
  {
   "cell_type": "code",
   "execution_count": 263,
   "id": "2ebcab50",
   "metadata": {},
   "outputs": [
    {
     "data": {
      "text/plain": [
       "edept\n",
       "sales     True\n",
       "sales    False\n",
       "sales    False\n",
       "sales    False\n",
       "sales    False\n",
       "Name: ename, dtype: bool"
      ]
     },
     "execution_count": 263,
     "metadata": {},
     "output_type": "execute_result"
    }
   ],
   "source": [
    "df2.loc['sales']\n",
    "df2.loc['sales']['ename'] == 'raj'"
   ]
  },
  {
   "cell_type": "code",
   "execution_count": 283,
   "id": "3de68f5b",
   "metadata": {},
   "outputs": [
    {
     "data": {
      "text/plain": [
       "edept\n",
       "sales     True\n",
       "sales    False\n",
       "sales    False\n",
       "sales    False\n",
       "sales    False\n",
       "Name: ename, dtype: bool"
      ]
     },
     "execution_count": 283,
     "metadata": {},
     "output_type": "execute_result"
    }
   ],
   "source": [
    "df2.loc['sales']['ename'] == 'raj'"
   ]
  },
  {
   "cell_type": "code",
   "execution_count": 284,
   "id": "244d71e5",
   "metadata": {},
   "outputs": [
    {
     "data": {
      "text/html": [
       "<div>\n",
       "<style scoped>\n",
       "    .dataframe tbody tr th:only-of-type {\n",
       "        vertical-align: middle;\n",
       "    }\n",
       "\n",
       "    .dataframe tbody tr th {\n",
       "        vertical-align: top;\n",
       "    }\n",
       "\n",
       "    .dataframe thead th {\n",
       "        text-align: right;\n",
       "    }\n",
       "</style>\n",
       "<table border=\"1\" class=\"dataframe\">\n",
       "  <thead>\n",
       "    <tr style=\"text-align: right;\">\n",
       "      <th></th>\n",
       "      <th>eid</th>\n",
       "      <th>ename</th>\n",
       "      <th>eplace</th>\n",
       "      <th>ecost</th>\n",
       "    </tr>\n",
       "    <tr>\n",
       "      <th>edept</th>\n",
       "      <th></th>\n",
       "      <th></th>\n",
       "      <th></th>\n",
       "      <th></th>\n",
       "    </tr>\n",
       "  </thead>\n",
       "  <tbody>\n",
       "    <tr>\n",
       "      <th>sales</th>\n",
       "      <td>101</td>\n",
       "      <td>raj</td>\n",
       "      <td>pune</td>\n",
       "      <td>1000</td>\n",
       "    </tr>\n",
       "  </tbody>\n",
       "</table>\n",
       "</div>"
      ],
      "text/plain": [
       "       eid ename eplace  ecost\n",
       "edept                         \n",
       "sales  101   raj   pune   1000"
      ]
     },
     "execution_count": 284,
     "metadata": {},
     "output_type": "execute_result"
    }
   ],
   "source": [
    "df2.loc['sales'][df2.loc['sales']['ename'] == 'raj']"
   ]
  },
  {
   "cell_type": "code",
   "execution_count": 287,
   "id": "5639060d",
   "metadata": {},
   "outputs": [
    {
     "data": {
      "text/plain": [
       "edept\n",
       "sales    False\n",
       "prod     False\n",
       "HR       False\n",
       "hr       False\n",
       "sales    False\n",
       "Hr       False\n",
       "sales    False\n",
       "sales    False\n",
       "sales    False\n",
       "prod     False\n",
       "dtype: bool"
      ]
     },
     "execution_count": 287,
     "metadata": {},
     "output_type": "execute_result"
    }
   ],
   "source": [
    "df2.duplicated()"
   ]
  },
  {
   "cell_type": "code",
   "execution_count": 288,
   "id": "52bf3c85",
   "metadata": {},
   "outputs": [
    {
     "name": "stdout",
     "output_type": "stream",
     "text": [
      "<class 'pandas.core.frame.DataFrame'>\n",
      "Index: 10 entries, sales to prod\n",
      "Data columns (total 4 columns):\n",
      " #   Column  Non-Null Count  Dtype \n",
      "---  ------  --------------  ----- \n",
      " 0   eid     10 non-null     int64 \n",
      " 1   ename   10 non-null     object\n",
      " 2   eplace  10 non-null     object\n",
      " 3   ecost   10 non-null     int64 \n",
      "dtypes: int64(2), object(2)\n",
      "memory usage: 700.0+ bytes\n"
     ]
    }
   ],
   "source": [
    "df2.info()"
   ]
  },
  {
   "cell_type": "code",
   "execution_count": 289,
   "id": "47e9a132",
   "metadata": {},
   "outputs": [
    {
     "data": {
      "text/html": [
       "<div>\n",
       "<style scoped>\n",
       "    .dataframe tbody tr th:only-of-type {\n",
       "        vertical-align: middle;\n",
       "    }\n",
       "\n",
       "    .dataframe tbody tr th {\n",
       "        vertical-align: top;\n",
       "    }\n",
       "\n",
       "    .dataframe thead th {\n",
       "        text-align: right;\n",
       "    }\n",
       "</style>\n",
       "<table border=\"1\" class=\"dataframe\">\n",
       "  <thead>\n",
       "    <tr style=\"text-align: right;\">\n",
       "      <th></th>\n",
       "      <th>eid</th>\n",
       "      <th>ename</th>\n",
       "      <th>eplace</th>\n",
       "      <th>ecost</th>\n",
       "    </tr>\n",
       "    <tr>\n",
       "      <th>edept</th>\n",
       "      <th></th>\n",
       "      <th></th>\n",
       "      <th></th>\n",
       "      <th></th>\n",
       "    </tr>\n",
       "  </thead>\n",
       "  <tbody>\n",
       "    <tr>\n",
       "      <th>sales</th>\n",
       "      <td>101</td>\n",
       "      <td>raj</td>\n",
       "      <td>pune</td>\n",
       "      <td>1000</td>\n",
       "    </tr>\n",
       "    <tr>\n",
       "      <th>prod</th>\n",
       "      <td>102</td>\n",
       "      <td>leo</td>\n",
       "      <td>bglore</td>\n",
       "      <td>2000</td>\n",
       "    </tr>\n",
       "    <tr>\n",
       "      <th>HR</th>\n",
       "      <td>103</td>\n",
       "      <td>paul</td>\n",
       "      <td>chennai</td>\n",
       "      <td>3000</td>\n",
       "    </tr>\n",
       "    <tr>\n",
       "      <th>hr</th>\n",
       "      <td>104</td>\n",
       "      <td>anu</td>\n",
       "      <td>hyderabad</td>\n",
       "      <td>4000</td>\n",
       "    </tr>\n",
       "    <tr>\n",
       "      <th>sales</th>\n",
       "      <td>456</td>\n",
       "      <td>kumar</td>\n",
       "      <td>bglore</td>\n",
       "      <td>3000</td>\n",
       "    </tr>\n",
       "    <tr>\n",
       "      <th>Hr</th>\n",
       "      <td>105</td>\n",
       "      <td>zion</td>\n",
       "      <td>mumbai</td>\n",
       "      <td>5000</td>\n",
       "    </tr>\n",
       "    <tr>\n",
       "      <th>sales</th>\n",
       "      <td>106</td>\n",
       "      <td>bibu</td>\n",
       "      <td>bglore</td>\n",
       "      <td>1450</td>\n",
       "    </tr>\n",
       "    <tr>\n",
       "      <th>sales</th>\n",
       "      <td>107</td>\n",
       "      <td>theeb</td>\n",
       "      <td>noida</td>\n",
       "      <td>4590</td>\n",
       "    </tr>\n",
       "    <tr>\n",
       "      <th>sales</th>\n",
       "      <td>108</td>\n",
       "      <td>bibu</td>\n",
       "      <td>bglore</td>\n",
       "      <td>5000</td>\n",
       "    </tr>\n",
       "    <tr>\n",
       "      <th>prod</th>\n",
       "      <td>113</td>\n",
       "      <td>kumar</td>\n",
       "      <td>hyderabad</td>\n",
       "      <td>5423</td>\n",
       "    </tr>\n",
       "  </tbody>\n",
       "</table>\n",
       "</div>"
      ],
      "text/plain": [
       "       eid  ename     eplace  ecost\n",
       "edept                              \n",
       "sales  101    raj       pune   1000\n",
       "prod   102    leo     bglore   2000\n",
       "HR     103   paul    chennai   3000\n",
       "hr     104    anu  hyderabad   4000\n",
       "sales  456  kumar     bglore   3000\n",
       "Hr     105   zion     mumbai   5000\n",
       "sales  106   bibu     bglore   1450\n",
       "sales  107  theeb      noida   4590\n",
       "sales  108   bibu     bglore   5000\n",
       "prod   113  kumar  hyderabad   5423"
      ]
     },
     "execution_count": 289,
     "metadata": {},
     "output_type": "execute_result"
    }
   ],
   "source": [
    "df2.drop_duplicates()"
   ]
  },
  {
   "cell_type": "code",
   "execution_count": 293,
   "id": "d7b8d62b",
   "metadata": {},
   "outputs": [
    {
     "data": {
      "text/plain": [
       "{'K1': [nan, nan, nan], 'K2': [10, None, nan]}"
      ]
     },
     "execution_count": 293,
     "metadata": {},
     "output_type": "execute_result"
    }
   ],
   "source": [
    "d={'K1':[np.nan,np.nan,np.nan],'K2':[10,None,np.nan]}\n",
    "d"
   ]
  },
  {
   "cell_type": "code",
   "execution_count": 294,
   "id": "bc82991f",
   "metadata": {},
   "outputs": [
    {
     "name": "stdout",
     "output_type": "stream",
     "text": [
      "   K1    K2\n",
      "0 NaN  10.0\n",
      "1 NaN   NaN\n",
      "2 NaN   NaN\n"
     ]
    }
   ],
   "source": [
    "df3 = pd.DataFrame(d)\n",
    "print(df3)"
   ]
  },
  {
   "cell_type": "code",
   "execution_count": 295,
   "id": "d95832fe",
   "metadata": {},
   "outputs": [
    {
     "data": {
      "text/html": [
       "<div>\n",
       "<style scoped>\n",
       "    .dataframe tbody tr th:only-of-type {\n",
       "        vertical-align: middle;\n",
       "    }\n",
       "\n",
       "    .dataframe tbody tr th {\n",
       "        vertical-align: top;\n",
       "    }\n",
       "\n",
       "    .dataframe thead th {\n",
       "        text-align: right;\n",
       "    }\n",
       "</style>\n",
       "<table border=\"1\" class=\"dataframe\">\n",
       "  <thead>\n",
       "    <tr style=\"text-align: right;\">\n",
       "      <th></th>\n",
       "      <th>K1</th>\n",
       "      <th>K2</th>\n",
       "    </tr>\n",
       "  </thead>\n",
       "  <tbody>\n",
       "    <tr>\n",
       "      <th>0</th>\n",
       "      <td>True</td>\n",
       "      <td>False</td>\n",
       "    </tr>\n",
       "    <tr>\n",
       "      <th>1</th>\n",
       "      <td>True</td>\n",
       "      <td>True</td>\n",
       "    </tr>\n",
       "    <tr>\n",
       "      <th>2</th>\n",
       "      <td>True</td>\n",
       "      <td>True</td>\n",
       "    </tr>\n",
       "  </tbody>\n",
       "</table>\n",
       "</div>"
      ],
      "text/plain": [
       "     K1     K2\n",
       "0  True  False\n",
       "1  True   True\n",
       "2  True   True"
      ]
     },
     "execution_count": 295,
     "metadata": {},
     "output_type": "execute_result"
    }
   ],
   "source": [
    "df3.isnull()"
   ]
  },
  {
   "cell_type": "code",
   "execution_count": 296,
   "id": "0a31cb3a",
   "metadata": {},
   "outputs": [
    {
     "data": {
      "text/plain": [
       "K1    3\n",
       "K2    2\n",
       "dtype: int64"
      ]
     },
     "execution_count": 296,
     "metadata": {},
     "output_type": "execute_result"
    }
   ],
   "source": [
    "df3.isnull().sum()"
   ]
  },
  {
   "cell_type": "code",
   "execution_count": 297,
   "id": "56efb26b",
   "metadata": {},
   "outputs": [
    {
     "data": {
      "text/plain": [
       "eid       0\n",
       "ename     0\n",
       "eplace    0\n",
       "ecost     0\n",
       "dtype: int64"
      ]
     },
     "execution_count": 297,
     "metadata": {},
     "output_type": "execute_result"
    }
   ],
   "source": [
    "df2.isnull().sum() "
   ]
  },
  {
   "cell_type": "code",
   "execution_count": 298,
   "id": "ea869bd0",
   "metadata": {},
   "outputs": [
    {
     "data": {
      "text/html": [
       "<div>\n",
       "<style scoped>\n",
       "    .dataframe tbody tr th:only-of-type {\n",
       "        vertical-align: middle;\n",
       "    }\n",
       "\n",
       "    .dataframe tbody tr th {\n",
       "        vertical-align: top;\n",
       "    }\n",
       "\n",
       "    .dataframe thead th {\n",
       "        text-align: right;\n",
       "    }\n",
       "</style>\n",
       "<table border=\"1\" class=\"dataframe\">\n",
       "  <thead>\n",
       "    <tr style=\"text-align: right;\">\n",
       "      <th></th>\n",
       "      <th>K1</th>\n",
       "      <th>K2</th>\n",
       "    </tr>\n",
       "  </thead>\n",
       "  <tbody>\n",
       "    <tr>\n",
       "      <th>0</th>\n",
       "      <td>50.0</td>\n",
       "      <td>10.0</td>\n",
       "    </tr>\n",
       "    <tr>\n",
       "      <th>1</th>\n",
       "      <td>50.0</td>\n",
       "      <td>50.0</td>\n",
       "    </tr>\n",
       "    <tr>\n",
       "      <th>2</th>\n",
       "      <td>50.0</td>\n",
       "      <td>50.0</td>\n",
       "    </tr>\n",
       "  </tbody>\n",
       "</table>\n",
       "</div>"
      ],
      "text/plain": [
       "     K1    K2\n",
       "0  50.0  10.0\n",
       "1  50.0  50.0\n",
       "2  50.0  50.0"
      ]
     },
     "execution_count": 298,
     "metadata": {},
     "output_type": "execute_result"
    }
   ],
   "source": [
    "df3.fillna(value=50) # replace NaN value"
   ]
  },
  {
   "cell_type": "code",
   "execution_count": 299,
   "id": "c3ca81c2",
   "metadata": {},
   "outputs": [
    {
     "data": {
      "text/html": [
       "<div>\n",
       "<style scoped>\n",
       "    .dataframe tbody tr th:only-of-type {\n",
       "        vertical-align: middle;\n",
       "    }\n",
       "\n",
       "    .dataframe tbody tr th {\n",
       "        vertical-align: top;\n",
       "    }\n",
       "\n",
       "    .dataframe thead th {\n",
       "        text-align: right;\n",
       "    }\n",
       "</style>\n",
       "<table border=\"1\" class=\"dataframe\">\n",
       "  <thead>\n",
       "    <tr style=\"text-align: right;\">\n",
       "      <th></th>\n",
       "      <th>K1</th>\n",
       "      <th>K2</th>\n",
       "    </tr>\n",
       "  </thead>\n",
       "  <tbody>\n",
       "    <tr>\n",
       "      <th>0</th>\n",
       "      <td>NaN</td>\n",
       "      <td>10.0</td>\n",
       "    </tr>\n",
       "    <tr>\n",
       "      <th>1</th>\n",
       "      <td>NaN</td>\n",
       "      <td>NaN</td>\n",
       "    </tr>\n",
       "    <tr>\n",
       "      <th>2</th>\n",
       "      <td>NaN</td>\n",
       "      <td>NaN</td>\n",
       "    </tr>\n",
       "  </tbody>\n",
       "</table>\n",
       "</div>"
      ],
      "text/plain": [
       "   K1    K2\n",
       "0 NaN  10.0\n",
       "1 NaN   NaN\n",
       "2 NaN   NaN"
      ]
     },
     "execution_count": 299,
     "metadata": {},
     "output_type": "execute_result"
    }
   ],
   "source": [
    "df3"
   ]
  },
  {
   "cell_type": "code",
   "execution_count": 300,
   "id": "a42e9d96",
   "metadata": {},
   "outputs": [],
   "source": [
    "df3.fillna(value=50,inplace=True)"
   ]
  },
  {
   "cell_type": "code",
   "execution_count": 301,
   "id": "6962ce84",
   "metadata": {},
   "outputs": [
    {
     "data": {
      "text/html": [
       "<div>\n",
       "<style scoped>\n",
       "    .dataframe tbody tr th:only-of-type {\n",
       "        vertical-align: middle;\n",
       "    }\n",
       "\n",
       "    .dataframe tbody tr th {\n",
       "        vertical-align: top;\n",
       "    }\n",
       "\n",
       "    .dataframe thead th {\n",
       "        text-align: right;\n",
       "    }\n",
       "</style>\n",
       "<table border=\"1\" class=\"dataframe\">\n",
       "  <thead>\n",
       "    <tr style=\"text-align: right;\">\n",
       "      <th></th>\n",
       "      <th>K1</th>\n",
       "      <th>K2</th>\n",
       "    </tr>\n",
       "  </thead>\n",
       "  <tbody>\n",
       "    <tr>\n",
       "      <th>0</th>\n",
       "      <td>50.0</td>\n",
       "      <td>10.0</td>\n",
       "    </tr>\n",
       "    <tr>\n",
       "      <th>1</th>\n",
       "      <td>50.0</td>\n",
       "      <td>50.0</td>\n",
       "    </tr>\n",
       "    <tr>\n",
       "      <th>2</th>\n",
       "      <td>50.0</td>\n",
       "      <td>50.0</td>\n",
       "    </tr>\n",
       "  </tbody>\n",
       "</table>\n",
       "</div>"
      ],
      "text/plain": [
       "     K1    K2\n",
       "0  50.0  10.0\n",
       "1  50.0  50.0\n",
       "2  50.0  50.0"
      ]
     },
     "execution_count": 301,
     "metadata": {},
     "output_type": "execute_result"
    }
   ],
   "source": [
    "df3"
   ]
  },
  {
   "cell_type": "code",
   "execution_count": 302,
   "id": "25c6a1f6",
   "metadata": {},
   "outputs": [
    {
     "data": {
      "text/plain": [
       "K1    3\n",
       "K2    2\n",
       "dtype: int64"
      ]
     },
     "execution_count": 302,
     "metadata": {},
     "output_type": "execute_result"
    }
   ],
   "source": [
    "d={'K1':[np.nan,np.nan,np.nan],'K2':[10,None,np.nan]}\n",
    "df4 = pd.DataFrame(d)\n",
    "df4.isnull().sum()"
   ]
  },
  {
   "cell_type": "code",
   "execution_count": 303,
   "id": "bed05753",
   "metadata": {},
   "outputs": [
    {
     "data": {
      "text/html": [
       "<div>\n",
       "<style scoped>\n",
       "    .dataframe tbody tr th:only-of-type {\n",
       "        vertical-align: middle;\n",
       "    }\n",
       "\n",
       "    .dataframe tbody tr th {\n",
       "        vertical-align: top;\n",
       "    }\n",
       "\n",
       "    .dataframe thead th {\n",
       "        text-align: right;\n",
       "    }\n",
       "</style>\n",
       "<table border=\"1\" class=\"dataframe\">\n",
       "  <thead>\n",
       "    <tr style=\"text-align: right;\">\n",
       "      <th></th>\n",
       "      <th>K1</th>\n",
       "      <th>K2</th>\n",
       "    </tr>\n",
       "  </thead>\n",
       "  <tbody>\n",
       "    <tr>\n",
       "      <th>0</th>\n",
       "      <td>NaN</td>\n",
       "      <td>10.0</td>\n",
       "    </tr>\n",
       "    <tr>\n",
       "      <th>1</th>\n",
       "      <td>NaN</td>\n",
       "      <td>NaN</td>\n",
       "    </tr>\n",
       "    <tr>\n",
       "      <th>2</th>\n",
       "      <td>NaN</td>\n",
       "      <td>NaN</td>\n",
       "    </tr>\n",
       "  </tbody>\n",
       "</table>\n",
       "</div>"
      ],
      "text/plain": [
       "   K1    K2\n",
       "0 NaN  10.0\n",
       "1 NaN   NaN\n",
       "2 NaN   NaN"
      ]
     },
     "execution_count": 303,
     "metadata": {},
     "output_type": "execute_result"
    }
   ],
   "source": [
    "df4"
   ]
  },
  {
   "cell_type": "code",
   "execution_count": 308,
   "id": "fbe24a66",
   "metadata": {},
   "outputs": [
    {
     "data": {
      "text/plain": [
       "0    50.0\n",
       "1    50.0\n",
       "2    50.0\n",
       "Name: K1, dtype: float64"
      ]
     },
     "execution_count": 308,
     "metadata": {},
     "output_type": "execute_result"
    }
   ],
   "source": [
    "df4['K1'].fillna(value=50)  # Vs df4.fillna(value=50)"
   ]
  },
  {
   "cell_type": "code",
   "execution_count": 309,
   "id": "f7f930de",
   "metadata": {},
   "outputs": [
    {
     "data": {
      "text/html": [
       "<div>\n",
       "<style scoped>\n",
       "    .dataframe tbody tr th:only-of-type {\n",
       "        vertical-align: middle;\n",
       "    }\n",
       "\n",
       "    .dataframe tbody tr th {\n",
       "        vertical-align: top;\n",
       "    }\n",
       "\n",
       "    .dataframe thead th {\n",
       "        text-align: right;\n",
       "    }\n",
       "</style>\n",
       "<table border=\"1\" class=\"dataframe\">\n",
       "  <thead>\n",
       "    <tr style=\"text-align: right;\">\n",
       "      <th></th>\n",
       "      <th>K1</th>\n",
       "      <th>K2</th>\n",
       "    </tr>\n",
       "  </thead>\n",
       "  <tbody>\n",
       "    <tr>\n",
       "      <th>0</th>\n",
       "      <td>NaN</td>\n",
       "      <td>10.0</td>\n",
       "    </tr>\n",
       "    <tr>\n",
       "      <th>1</th>\n",
       "      <td>NaN</td>\n",
       "      <td>NaN</td>\n",
       "    </tr>\n",
       "    <tr>\n",
       "      <th>2</th>\n",
       "      <td>NaN</td>\n",
       "      <td>NaN</td>\n",
       "    </tr>\n",
       "  </tbody>\n",
       "</table>\n",
       "</div>"
      ],
      "text/plain": [
       "   K1    K2\n",
       "0 NaN  10.0\n",
       "1 NaN   NaN\n",
       "2 NaN   NaN"
      ]
     },
     "execution_count": 309,
     "metadata": {},
     "output_type": "execute_result"
    }
   ],
   "source": [
    "df4"
   ]
  },
  {
   "cell_type": "code",
   "execution_count": 310,
   "id": "8cfe9d56",
   "metadata": {},
   "outputs": [],
   "source": [
    "df4['K1'].fillna(value=50,inplace=True)"
   ]
  },
  {
   "cell_type": "code",
   "execution_count": 311,
   "id": "b6e9d1e9",
   "metadata": {},
   "outputs": [
    {
     "data": {
      "text/html": [
       "<div>\n",
       "<style scoped>\n",
       "    .dataframe tbody tr th:only-of-type {\n",
       "        vertical-align: middle;\n",
       "    }\n",
       "\n",
       "    .dataframe tbody tr th {\n",
       "        vertical-align: top;\n",
       "    }\n",
       "\n",
       "    .dataframe thead th {\n",
       "        text-align: right;\n",
       "    }\n",
       "</style>\n",
       "<table border=\"1\" class=\"dataframe\">\n",
       "  <thead>\n",
       "    <tr style=\"text-align: right;\">\n",
       "      <th></th>\n",
       "      <th>K1</th>\n",
       "      <th>K2</th>\n",
       "    </tr>\n",
       "  </thead>\n",
       "  <tbody>\n",
       "    <tr>\n",
       "      <th>0</th>\n",
       "      <td>50.0</td>\n",
       "      <td>10.0</td>\n",
       "    </tr>\n",
       "    <tr>\n",
       "      <th>1</th>\n",
       "      <td>50.0</td>\n",
       "      <td>NaN</td>\n",
       "    </tr>\n",
       "    <tr>\n",
       "      <th>2</th>\n",
       "      <td>50.0</td>\n",
       "      <td>NaN</td>\n",
       "    </tr>\n",
       "  </tbody>\n",
       "</table>\n",
       "</div>"
      ],
      "text/plain": [
       "     K1    K2\n",
       "0  50.0  10.0\n",
       "1  50.0   NaN\n",
       "2  50.0   NaN"
      ]
     },
     "execution_count": 311,
     "metadata": {},
     "output_type": "execute_result"
    }
   ],
   "source": [
    "df4"
   ]
  },
  {
   "cell_type": "code",
   "execution_count": 312,
   "id": "d8a33c31",
   "metadata": {},
   "outputs": [
    {
     "data": {
      "text/plain": [
       "K1    0\n",
       "K2    2\n",
       "dtype: int64"
      ]
     },
     "execution_count": 312,
     "metadata": {},
     "output_type": "execute_result"
    }
   ],
   "source": [
    "df4.isnull().sum()"
   ]
  }
 ],
 "metadata": {
  "kernelspec": {
   "display_name": "Python 3 (ipykernel)",
   "language": "python",
   "name": "python3"
  },
  "language_info": {
   "codemirror_mode": {
    "name": "ipython",
    "version": 3
   },
   "file_extension": ".py",
   "mimetype": "text/x-python",
   "name": "python",
   "nbconvert_exporter": "python",
   "pygments_lexer": "ipython3",
   "version": "3.11.5"
  }
 },
 "nbformat": 4,
 "nbformat_minor": 5
}
